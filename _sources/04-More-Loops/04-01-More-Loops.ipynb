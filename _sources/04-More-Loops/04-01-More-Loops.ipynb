{
 "cells": [
  {
   "cell_type": "markdown",
   "id": "930ba17f",
   "metadata": {},
   "source": [
    "# Loops and more loops\n",
    "\n",
    "Loops again?  And again and again.  Because looping is all about \n",
    "repetition. Every interesting thing a computer can do involves loops.\n",
    "The basic operations a computer can carry out are _extremely_ simple.\n",
    "Complex operations are always performed by performing a lot of simple \n",
    "operations in some kind of loop.  \n",
    "\n",
    "## [Parallel Lists](04-02-Parallel-Lists.md)\n",
    "\n",
    "Before jumping into indefinite loops, we will take a look at a data \n",
    "structure called _parallel lists_ or _parallel arrays_.  This is not \n",
    "a new data type in Python, but rather a way of organizing data using \n",
    "the `list` type you already know.  It is a structure used in this \n",
    "week's project. \n",
    "\n",
    "## [Indefinite Loops](04-03-Indefinite-Loops.md)\n",
    "\n",
    "In [Chapter 3](../03-Collections-Loops/03-01-Collections.md) \n",
    "we considered loops through collections, especially \n",
    "lists.  Most of our loops took the form of doing something with each \n",
    "item, one by one, such as counting or summing the items.  We also \n",
    "looked at creating a summary (such as a count) for each value found \n",
    "in a collection (e.g., a count of the number of students in each \n",
    "major).  In this section we'll look at some loops that are not so \n",
    "easy to fit into the \"for each x do p\" form.  \n",
    "\n",
    "## [Successive Approximation](04-04-Successive-Approximation.md)\n",
    "\n",
    "Indefinite loops are often used in an algorithmic technique called \n",
    "_successive approximation_.  The basic logic of successive \n",
    "approximation is \n",
    "\n",
    "```\n",
    "make an initial guess\n",
    "while it's not good enough: \n",
    "      improve it\n",
    "Voila!  Good enough answer! \n",
    "```\n",
    "\n",
    "Of course the \"make a guess\", \"not good enough\",  and \"improve it\" \n",
    "steps \n",
    "may require a \n",
    "little more refinement. [Our wildfire clustering project](\n",
    "https://github.com/UO-CS210/wildfire\n",
    ") instantiates \"make an initial guess\" as \"randomly assign fires to \n",
    "clusters\", \"improve it\" as \"reassign based on proximity\", and \n",
    "\"not good enough\" as \"assignments are still changing, so maybe we \n",
    "can do better.\""
   ]
  }
 ],
 "metadata": {
  "jupytext": {
   "formats": "md:myst",
   "text_representation": {
    "extension": ".myst",
    "format_name": "myst",
    "format_version": 1.1,
    "jupytext_version": "1.10.3"
   }
  },
  "kernelspec": {
   "display_name": "Python 3",
   "language": "python",
   "name": "python3"
  },
  "language_info": {
   "codemirror_mode": {
    "name": "ipython",
    "version": 3
   },
   "file_extension": ".py",
   "mimetype": "text/x-python",
   "name": "python",
   "nbconvert_exporter": "python",
   "pygments_lexer": "ipython3",
   "version": "3.11.3"
  },
  "source_map": [
   13
  ]
 },
 "nbformat": 4,
 "nbformat_minor": 5
}