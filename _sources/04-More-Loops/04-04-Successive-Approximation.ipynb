{
 "cells": [
  {
   "cell_type": "markdown",
   "id": "4ac95301",
   "metadata": {},
   "source": [
    "# Successive Approximation\n",
    "\n",
    "Suppose you had a machine that was not very smart, but could compute \n",
    "things and check certain simple conditions very quickly.  You might \n",
    "call such a machine a \"computer\".  If you directed it carefully, \n",
    "with something you might call a \"program\", you might even make it \n",
    "appear smart, although really it would just be doing a lot of simple \n",
    "operations.  For example, you could direct it to guess an answer \n",
    "(very badly!) and then make minor adjustments to improve its guess, \n",
    "until the refined guess looked like a smart answer.  If it could do \n",
    "this quickly enough, it might even appear to be making smart choices. \n",
    "\n",
    "Making a guess and then improving it is a basic optimization \n",
    "technique for many simulations of physical systems.  The initial \n",
    "guess does not have to be good, provided we have some way of \n",
    "improving it, and improving it again, and so on until we have \n",
    "reached a good solution.  Systems for setting the timing of traffic \n",
    "lights to optimize traffic work this way ... it is likely that \n",
    "the timing of traffic lights in your current city was selected by the\n",
    "[Transyt](https://en.wikipedia.org/wiki/TRANSYT-7F) system, whose \n",
    "core method is exactly this.   \n",
    "\n",
    "Simulations of physical systems are complex, but we can illustrate \n",
    "the approach more simply with a \"system\" that is simply a math \n",
    "formula.  Suppose we wanted to find the square root of a number \n",
    "greater than 1.0.   Suppose all we knew is that \n",
    "\n",
    "$$ \\sqrt{n} * \\sqrt{n} = n $$\n",
    "\n",
    "and that, for numbers greater than 1, $m > n \\implies m^2 > n^2$.  \n",
    "This is enough to get very close to a correct answer by \n",
    "making a guess and refining it.  (Exactly how close we can get is \n",
    "complicated, because the computer uses a floating-point \n",
    "approximation to real numbers.)"
   ]
  },
  {
   "cell_type": "code",
   "execution_count": 1,
   "id": "354bd8af",
   "metadata": {},
   "outputs": [
    {
     "name": "stdout",
     "output_type": "stream",
     "text": [
      "Guessed sqrt(2.0) ≅ 1.5\n",
      "\t off by 0.25\n",
      "Guessed sqrt(2.0) ≅ 1.25\n",
      "\t off by 0.4375\n",
      "Guessed sqrt(2.0) ≅ 1.375\n",
      "\t off by 0.109375\n",
      "Guessed sqrt(2.0) ≅ 1.4375\n",
      "\t off by 0.06640625\n",
      "Guessed sqrt(2.0) ≅ 1.40625\n",
      "\t off by 0.0224609375\n",
      "Guessed sqrt(2.0) ≅ 1.421875\n",
      "\t off by 0.021728515625\n",
      "Guessed sqrt(2.0) ≅ 1.4140625\n",
      "\t off by 0.00042724609375\n",
      "Guessed sqrt(2.0) ≅ 1.41796875\n",
      "\t off by 0.0106353759765625\n",
      "Guessed sqrt(2.0) ≅ 1.416015625\n",
      "\t off by 0.005100250244140625\n",
      "Guessed sqrt(2.0) ≅ 1.4150390625\n",
      "\t off by 0.0023355484008789062\n",
      "Guessed sqrt(2.0) ≅ 1.41455078125\n",
      "\t off by 0.0009539127349853516\n",
      "Guessed sqrt(2.0) ≅ 1.414306640625\n",
      "\t off by 0.0002632737159729004\n",
      "Guessed sqrt(2.0) ≅ 1.4141845703125\n",
      "\t off by 8.200109004974365e-05\n",
      "1.4141845703125\n"
     ]
    }
   ],
   "source": [
    "def guess_sqrt(n: float, error_bound: float) -> float: \n",
    "    \"\"\"n must be between 1.0 and 100,000. \n",
    "    error_bound must be greater than  0.00001\n",
    "    Returns a number q such that \n",
    "    q^2 - error_bound <= n <= q^2 + error_bound.\n",
    "    \"\"\"\n",
    "    # q must be between 1 and n\n",
    "    q_max = n\n",
    "    q_min = 1.0\n",
    "    # Execute the loop at least once\n",
    "    error = 2 * error_bound\n",
    "    while error > error_bound: \n",
    "        # Make a guess within bounds\n",
    "        q = (q_min + q_max) / 2.0\n",
    "        # How bad is it? \n",
    "        error = abs(q*q - n)\n",
    "        print(f\"Guessed sqrt({n}) ≅ {q}\")\n",
    "        print(f\"\\t off by {error}\")\n",
    "        # Improve the guess by squeezing the bounds\n",
    "        if q*q > n:\n",
    "            # Too big! \n",
    "            q_max = q\n",
    "        else: \n",
    "            # Too small! \n",
    "            q_min = q \n",
    "    return  q\n",
    "    \n",
    "s = guess_sqrt(2.0, .0001)\n",
    "print(s)"
   ]
  },
  {
   "cell_type": "markdown",
   "id": "1b8e283f",
   "metadata": {},
   "source": [
    "In math courses you may encounter the Newton-Raphson method for \n",
    "estimating roots of a polynomial, using a better refinement to the \n",
    "guess in each iteration than I have used above, and other series \n",
    "that are essentially variations of this \"guess and refine\" approach. \n",
    "\n",
    "If we don't have a direct way of checking the error bound as we did \n",
    "by squaring `q`, but we have upper and lower bounds on the answer\n",
    "(like `q_max` and `q_min` above), then we can infer that the error \n",
    "is at most `q_max - q_min`. \n",
    "\n",
    "If we cannot even set some kinds of bounds around a solution \n",
    "(perhaps because the solution is not a number, but something more \n",
    "complex), we can at least determine whether we are getting the same \n",
    "guess or something different from iteration to iteration.  If our \n",
    "guess is not changing, there is no point in continuing.  \n",
    "\n",
    "In our \n",
    "[clustering project](https://github.com/UO-CS210/wildfire), we stop \n",
    "the loop when the assignment of locations to clusters stops changing. \n",
    "Usually this will be a pretty good solution, but it is not \n",
    "guaranteed. When the k-means clustering algorithm is used in \n",
    "practice, it is often run more than once with different initial \n",
    "guesses to increase the chance that it produces at least one very \n",
    "good solution."
   ]
  }
 ],
 "metadata": {
  "jupytext": {
   "formats": "md:myst",
   "text_representation": {
    "extension": ".myst",
    "format_name": "myst",
    "format_version": 1.1,
    "jupytext_version": "1.10.3"
   }
  },
  "kernelspec": {
   "display_name": "Python 3",
   "language": "python",
   "name": "python3"
  },
  "language_info": {
   "codemirror_mode": {
    "name": "ipython",
    "version": 3
   },
   "file_extension": ".py",
   "mimetype": "text/x-python",
   "name": "python",
   "nbconvert_exporter": "python",
   "pygments_lexer": "ipython3",
   "version": "3.10.2"
  },
  "source_map": [
   13,
   50,
   80
  ]
 },
 "nbformat": 4,
 "nbformat_minor": 5
}