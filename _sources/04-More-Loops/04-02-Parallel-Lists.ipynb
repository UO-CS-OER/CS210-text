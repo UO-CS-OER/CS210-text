{
 "cells": [
  {
   "cell_type": "markdown",
   "id": "64737086",
   "metadata": {},
   "source": [
    "# Parallel Lists\n",
    "\n",
    "Here are two ways we could represent the ten largest cities in \n",
    "Oregon, along with their populations.  We can think of the data as a \n",
    "table with a row for each city, one column for city names, and one \n",
    "column for populations. \n",
    "\n",
    "We could make a single list of tuples, like this:"
   ]
  },
  {
   "cell_type": "code",
   "execution_count": 1,
   "id": "e2255661",
   "metadata": {},
   "outputs": [],
   "source": [
    "or_cities_pops = [\n",
    "    ('Portland', 641_162), \n",
    "    ('Salem', 177_723),\n",
    "    ('Eugene', 175_096),\n",
    "    ('Gresham', 113_103),\n",
    "    ('Hillsboro', 106_633),\n",
    "    ('Bend', 102_059),\n",
    "    ('Beaverton', 98_216),\n",
    "    ('Medford', 86_367),\n",
    "    ('Springfield', 62_256),\n",
    "    ('Corvallis', 59_864)\n",
    "]"
   ]
  },
  {
   "cell_type": "markdown",
   "id": "0036c7b3",
   "metadata": {},
   "source": [
    "This seems fine, but suppose I notice that the populations are \n",
    "somewhat out of date.  I might want to add 10% to each population.\n",
    "I might even already have a function that adds 10% to each element \n",
    "of a list of numbers, but I can't apply that function to this list \n",
    "of tuples.  Any function that works on this data has to \"know about\" \n",
    "the (name, population), extracting the population component and \n",
    "building a new tuple with the updated population.  Alternatively, I \n",
    "could change from a list of tuples to a list of lists to enable \n",
    "direct update of the populations, but the function would still need \n",
    "to know about the structure of each row. \n",
    "\n",
    "Instead of putting all the information in one list, I could separate \n",
    "it into two lists.  If we think of the data as being a table with\n",
    "a row for each city and columns for names and populations,\n",
    "the individual lists could represent columns of data:"
   ]
  },
  {
   "cell_type": "code",
   "execution_count": 2,
   "id": "8f8cd8b8",
   "metadata": {},
   "outputs": [],
   "source": [
    "or_cities_names = [ \n",
    "   'Portland', 'Salem', 'Eugene', 'Gresham', 'Hillsboro', \n",
    "   'Bend', 'Beaverton', 'Medford', 'Springfield', 'Corvallis' ]\n",
    "   \n",
    "or_cities_pops = [\n",
    "    641_162, 177_723, 175_096, 113_103, 106_633, \n",
    "    102_059, 98_216, 86_367, 62_256, 59_864 ]"
   ]
  },
  {
   "cell_type": "markdown",
   "id": "879098c8",
   "metadata": {},
   "source": [
    "Now the first element of `or_cities_names` corresponds to the first \n",
    "element of `or_cities_pops`, the second elements correspond, and so \n",
    "on.  We call these _parallel arrays_ or, in Python, _parallel lists_,\n",
    "because they \"line up\".\n",
    "\n",
    "\n",
    "The advantage of parallel lists is that it is easier to do \n",
    "something to all the elements of one column, as long as I don't\n",
    "change the order of elements in a column.\n",
    "Scientific computing packages like scipy and statistical computing \n",
    "packages like Python's Pandas typically keep numerical data in parallel \n",
    "arrays for this reason. \n",
    "The disadvantage of parallel lists is that if I want to do \n",
    "something to a whole row, I need an element from each of the column \n",
    "lists.  \n",
    "\n",
    "Let's give these cities some \n",
    "population growth.  We will be altering only the population column, \n",
    "so we can write a function that takes a list of numbers and returns \n",
    "a corresponding list of numbers, in the same order:"
   ]
  },
  {
   "cell_type": "code",
   "execution_count": 3,
   "id": "f06d1ad0",
   "metadata": {},
   "outputs": [
    {
     "name": "stdout",
     "output_type": "stream",
     "text": [
      "Portland 705278\n",
      "Salem 195495\n",
      "Eugene 192605\n",
      "Gresham 124413\n",
      "Hillsboro 117296\n",
      "Bend 112264\n",
      "Beaverton 108037\n",
      "Medford 95003\n",
      "Springfield 68481\n",
      "Corvallis 65850\n"
     ]
    }
   ],
   "source": [
    "def nth_increase(n: int, col: list[int]) -> list[int]:\n",
    "    \"\"\"Return list with integers 1/n higher than col\"\"\"\n",
    "    result = []\n",
    "    for el in col: \n",
    "        result.append(el + el//n)\n",
    "    return result\n",
    "    \n",
    "# 10% is 1/10\n",
    "or_cities_pops = nth_increase(10, or_cities_pops)\n",
    "\n",
    "for i in range(len(or_cities_names)):\n",
    "    print(or_cities_names[i], or_cities_pops[i])"
   ]
  },
  {
   "cell_type": "markdown",
   "id": "931e57fd",
   "metadata": {},
   "source": [
    "With a parallel arrays structure, the `nth_increase` function can \n",
    "apply to _any_ list of integers.  It doesn't have to be specific to \n",
    "city populations.  In the project associated with this chapter, we will use parallel \n",
    "lists so that we can replace a whole column of a table with a \n",
    "function that handles just that column. \n",
    "\n",
    "## Zip: From columns to rows \n",
    "\n",
    "While printing each row is a little more tedious with organization \n",
    "by columns, \n",
    "there is a simple workaround:  Python \n",
    "provides a function `zip` for combining parallel lists into a single \n",
    "sequence of tuples."
   ]
  },
  {
   "cell_type": "code",
   "execution_count": 4,
   "id": "33f44774",
   "metadata": {},
   "outputs": [
    {
     "name": "stdout",
     "output_type": "stream",
     "text": [
      "('Portland', 705278)\n",
      "('Salem', 195495)\n",
      "('Eugene', 192605)\n",
      "('Gresham', 124413)\n",
      "('Hillsboro', 117296)\n",
      "('Bend', 112264)\n",
      "('Beaverton', 108037)\n",
      "('Medford', 95003)\n",
      "('Springfield', 68481)\n",
      "('Corvallis', 65850)\n"
     ]
    }
   ],
   "source": [
    "for row in zip(or_cities_names, or_cities_pops):\n",
    "    print(row)"
   ]
  },
  {
   "cell_type": "markdown",
   "id": "4e78fe19",
   "metadata": {},
   "source": [
    "The `zip` function will come in handy if we want to change the \n",
    "order of rows in the table.  For example, suppose we wanted to print \n",
    "the table of populations in alphabetical order, rather than in order \n",
    "of population.  We need to sort them, but we can't sort the \n",
    "individual columns.  A list of `(name, population)` pairs will be \n",
    "sorted first by name, using population only as a tie-breaker."
   ]
  },
  {
   "cell_type": "code",
   "execution_count": 5,
   "id": "49710477",
   "metadata": {},
   "outputs": [
    {
     "name": "stdout",
     "output_type": "stream",
     "text": [
      "('Beaverton', 108037)\n",
      "('Bend', 112264)\n",
      "('Corvallis', 65850)\n",
      "('Eugene', 192605)\n",
      "('Gresham', 124413)\n",
      "('Hillsboro', 117296)\n",
      "('Medford', 95003)\n",
      "('Portland', 705278)\n",
      "('Salem', 195495)\n",
      "('Springfield', 68481)\n"
     ]
    }
   ],
   "source": [
    "rows = zip(or_cities_names, or_cities_pops)\n",
    "by_name = sorted(rows)\n",
    "for row in by_name: \n",
    "  print(row)"
   ]
  },
  {
   "cell_type": "markdown",
   "id": "a67bd95e",
   "metadata": {},
   "source": [
    "```{Note}\n",
    "If you print `rows` in the example above, you will find that it \n",
    "is not actually a list, but rather a _zip object_.  Python does\n",
    "not produce the list of tuples all at once, but \n",
    "rather one row at a time as needed.  This is called _laziness_.\n",
    "We can mostly ignore laziness when \n",
    "we use access all the rows in order, as the `sorted` function \n",
    "does.  It will cause a problem if we try to access row _n_ out of \n",
    "order, e.g., `by_row[5]`.   Later (but not in this course) you may \n",
    "want to zip together extremely long or even _infinite_ sequences, using \n",
    "another cool Python feature called _generators_.  Producing an \n",
    "infinite list would be slower if it were not done lazily.\n",
    "```\n",
    "\n",
    "## Indexes as references\n",
    "\n",
    "When we organize our data in parallel lists, we often use the index \n",
    "of an item as a reference to the whole row.  For example, suppose \n",
    "the table were in order by city name, like `by_name` above, and \n",
    "suppose we wanted to print the name of the city with the highest \n",
    "population.  We could write a function to find the largest population, \n",
    "but instead of returning that population, we would return the _index \n",
    "of_ that item."
   ]
  },
  {
   "cell_type": "code",
   "execution_count": 6,
   "id": "2afb696b",
   "metadata": {},
   "outputs": [],
   "source": [
    "def max_index(nums: list[int]):\n",
    "    \"\"\"Returns the index of the maximum value in nums\"\"\"\n",
    "    i_max = 0\n",
    "    v_max = nums[0]\n",
    "    for i in range(1, len(nums)):\n",
    "        if nums[i] > v_max: \n",
    "            v_max = nums[i]\n",
    "            i_max = i\n",
    "    return i_max"
   ]
  },
  {
   "cell_type": "markdown",
   "id": "d27f37aa",
   "metadata": {},
   "source": [
    "Then we can use this _index_ to print any column in the selected row."
   ]
  },
  {
   "cell_type": "code",
   "execution_count": 7,
   "id": "cd92fdf3",
   "metadata": {},
   "outputs": [
    {
     "name": "stdout",
     "output_type": "stream",
     "text": [
      "Springfield 68481\n"
     ]
    }
   ],
   "source": [
    "city_names = [\n",
    "  'Beaverton', 'Bend', 'Corvallis', 'Eugene', \n",
    "  'Gresham', 'Hillsboro', 'Medford', 'Portland',\n",
    "  'Salem', 'Springfield']\n",
    "city_pops = [\n",
    "    108037, 112264, 65850, 192605,\n",
    "    124413, 117296, 95003, 705278, \n",
    "    195495, 68481]\n",
    "    \n",
    "big_city = max_index(city_pops)\n",
    "\n",
    "print(city_names[i], city_pops[i])"
   ]
  },
  {
   "cell_type": "markdown",
   "id": "a62f882d",
   "metadata": {},
   "source": [
    "We will use this technique in our[clustering project](\n",
    "https://github.com/UO-CS210/wildfire\n",
    ").   We will search one list for the _index of_ the cluster to which \n",
    "a fire record should belong, then use that index to add the fire to \n",
    "the cluster."
   ]
  }
 ],
 "metadata": {
  "jupytext": {
   "formats": "md:myst",
   "text_representation": {
    "extension": ".myst",
    "format_name": "myst",
    "format_version": 1.1,
    "jupytext_version": "1.10.3"
   }
  },
  "kernelspec": {
   "display_name": "Python 3",
   "language": "python",
   "name": "python3"
  },
  "language_info": {
   "codemirror_mode": {
    "name": "ipython",
    "version": 3
   },
   "file_extension": ".py",
   "mimetype": "text/x-python",
   "name": "python",
   "nbconvert_exporter": "python",
   "pygments_lexer": "ipython3",
   "version": "3.13.1"
  },
  "source_map": [
   13,
   24,
   37,
   55,
   63,
   86,
   99,
   115,
   118,
   127,
   132,
   158,
   168,
   172,
   185
  ]
 },
 "nbformat": 4,
 "nbformat_minor": 5
}