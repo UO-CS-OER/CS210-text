{
 "cells": [
  {
   "cell_type": "markdown",
   "id": "5cb8d232",
   "metadata": {},
   "source": [
    "# Project\n",
    "\n",
    "![Oregon wildfire clusters](img/screenshot.jpg)\n",
    "\n",
    "The [wildfire clustering project](\n",
    "https://github.com/UO-CS210/wildfire)\n",
    "uses _k-means clustering_ to group wildfire records geographically.  \n",
    "K-means clustering is an example of the _successive approximation_\n",
    "computational technique for finding or optimizing a solution to a \n",
    "problem. \n",
    "\n",
    "In addition to successive approximation, the wildfire clustering \n",
    "project uses _parallel arrays_ to represent the evolving set of \n",
    "clusters, and values in one array (`list` in Python) as indexes to \n",
    "other arrays."
   ]
  }
 ],
 "metadata": {
  "jupytext": {
   "formats": "md:myst",
   "text_representation": {
    "extension": ".myst",
    "format_name": "myst",
    "format_version": 1.1,
    "jupytext_version": "1.10.3"
   }
  },
  "kernelspec": {
   "display_name": "Python 3",
   "language": "python",
   "name": "python3"
  },
  "language_info": {
   "codemirror_mode": {
    "name": "ipython",
    "version": 3
   },
   "file_extension": ".py",
   "mimetype": "text/x-python",
   "name": "python",
   "nbconvert_exporter": "python",
   "pygments_lexer": "ipython3",
   "version": "3.11.3"
  },
  "source_map": [
   13
  ]
 },
 "nbformat": 4,
 "nbformat_minor": 5
}