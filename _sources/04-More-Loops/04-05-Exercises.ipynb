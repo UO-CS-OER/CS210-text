{
 "cells": [
  {
   "cell_type": "markdown",
   "id": "47f58c7a",
   "metadata": {},
   "source": [
    "# Exercises\n",
    "\n",
    "1.  Complete function `lookup`, first (1a) as a linear search and \n",
    "    then (1b) as a binary search.  \n",
    "\n",
    "```python\n",
    "def lookup(item_key: str, keys: list[str], values: list[int]) -> int:\n",
    "    \"\"\"With keys and items as parallel arrays, ordered\n",
    "    by key, return values[i] such that keys[i] == item_key, \n",
    "    or return -1 if there is no such i. \n",
    "    \"\"\"\n",
    "    return -1  # FIXME\n",
    "\n",
    "print(lookup(\"tiger\", [\"bear\", \"lion\", \"tiger\"], [13, 47, 17]))\n",
    "# Expect 17\n",
    "\n",
    "print(lookup(\"tiger\", [\"bear\", \"lion\", \"tiger\", \"zebra\"],\n",
    "             [13, 47, 17, 24]))\n",
    "# Expect 17\n",
    "\n",
    "print(lookup(\"bear\", [\"bear\", \"lion\", \"tiger\", \"zebra\"],\n",
    "             [13, 47, 17, 24]))\n",
    "# Expect 13\n",
    "\n",
    "print(lookup(\"zebra\", [\"bear\", \"lion\", \"tiger\", \"zebra\"],\n",
    "             [13, 47, 17, 24]))\n",
    "# Expect 24\n",
    "\n",
    "print(lookup(\"wolf\", [\"bear\", \"lion\", \"tiger\"], [13, 47, 17]))\n",
    "# Expect -1\n",
    "```\n",
    "\n",
    "2. Complete function `matches`.\n",
    "\n",
    "```python\n",
    "def matches(x_l: list[str], y_l: list[str]) -> list[bool]:\n",
    "    \"\"\"Returns list m in which each m[i] is\n",
    "    True if and only if x_l[i] is same as y_l[i].\n",
    "    x_l and y_l are parallel lists.\n",
    "    \"\"\"\n",
    "    assert len(x_l) == len(y_l), \"x_l and y_l must be parallel lists\"\n",
    "    return [False]  # FIXME\n",
    "\n",
    "\n",
    "print(matches([\"a\", \"b\", \"c\"], [\"a\", \"x\", \"c\"]))\n",
    "# Expect [True, False, True]\n",
    "```\n",
    "\n",
    "3.  At Oregano University of Culinary Arts, (OU), \n",
    "each student must complete courses in\n",
    "each of 3 areas:  Athletics and Leisure (AL), \n",
    "Spices and Condiments (SC), and Soft Skills (SS).\n",
    "\n",
    "An OU transcript represented by parallel lists\n",
    "giving courses and areas, e.g., \n",
    "\n",
    "```python\n",
    "courses = [\"CS 210 - Intro to Cooking and Serving\", \n",
    "           \"WR 123 - Wrangling Customers\", \n",
    "           \"PS 222 - Poisonous Substances\"]\n",
    "areas =  [\"SC\", \"SS\", \"SC\"]\n",
    "```\n",
    "\n",
    "To help student gauge their progress toward satisfying the\n",
    "area requirements, you will write a function already_taken\n",
    "that takes a transcript (two lists) and an area code\n",
    "(usually \"SC\", \"SS\", or \"SC\") and returns a list of the\n",
    "transcripted courses that count toward that area. \n",
    "\n",
    "\n",
    "```python\n",
    "def already_taken(courses: list[str],\n",
    "                  areas: list[str], \n",
    "                  selection: str) -> list[str]:\n",
    "    \"\"\"Result summarizes the transcripted courses in each area\"\"\"\n",
    "    return []  # FIXME\n",
    "    \n",
    "# Course titles shortened to keep test cases short\n",
    "courses = [\"CS 210\", \"WR 123\", \"PS 222\"]\n",
    "areas = [\"SC\", \"SS\", \"SC\"]\n",
    "print(already_taken(courses, areas, \"SC\"))\n",
    " # Expect   ['CS 210', 'PS 222']\n",
    "\n",
    "print(already_taken(courses, areas, \"SS\"))\n",
    " # Expect    ['WR 123']\n",
    "\n",
    "print(already_taken(courses, areas, \"AL\"))\n",
    "# Expect   []\n",
    "```\n",
    "\n",
    "4. Given a price table represented as a dict, with product names as keys\n",
    "and unit price as value, \n",
    "and given a list of purchases as (units, product) pairs,\n",
    "write a function total_cost that\n",
    "gives the total cost for the list of purchases.  \n",
    "Units will always be positive integers.\n",
    "\n",
    "Prices and total cost are given in cybercoins,\n",
    "a currency which will be created by an Oregon CS graduate in 2032.\n",
    "All items purchased will\n",
    "have a corresponding price in the price list.\n",
    "\n",
    "```python\n",
    "def total_cost(purchases: list[tuple[str, int]], prices: dict[str, int]) -> int:\n",
    "    \"\"\"Sum of costs of purchases, where\n",
    "    (\"item\", n) in purchases means n units of item,\n",
    "    \"item\": k  in prices means each unit of item costs k cybercoins\n",
    "    \"\"\"\n",
    "    return 0  # FIXME\n",
    "\n",
    "print(total_cost([(\"apple\", 2), (\"banana\", 3)],\n",
    "                 { \"pizza\": 12,  \"apple\": 2, \"banana\": 1 }))\n",
    "#Expect    7\n",
    "\n",
    "print(total_cost([], {\"yacht\": 99_000_000, \"apple\": 2}))\n",
    "# Expect   0 \n",
    "```\n",
    "\n",
    "\n",
    "5. Complete function `score_word`, consistent with its docstring.\n",
    "   (Use the global variable VALUES, which is constructed by the\n",
    "   `point_values` function.)\n",
    "\n",
    "```python\n",
    "def point_values() -> dict[str, int]:\n",
    "    \"\"\"Returns per-letter point values as dict\"\"\"\n",
    "    points = {1: \"AEILNORSTU\", 2: \"DG\", 3: \"BCMP\",\n",
    "              4: \"FHVWY\", 5: \"K\", 8: \"JX\", 10: \"QZ\"}\n",
    "    letter_values = {}\n",
    "    for value in points:\n",
    "        for letter in points[value]:\n",
    "            letter_values[letter] = value\n",
    "    return letter_values\n",
    "\n",
    "VALUES = point_values()\n",
    "\n",
    "def score_word(word: str) -> int:\n",
    "    \"\"\"Returns the sum of point values\n",
    "     (from global variable VALUES) of letters in word,\n",
    "    according to points table.\n",
    "    Word contains only upper case English letters.\n",
    "    \"\"\"\n",
    "    return 0  # FIXME\n",
    "\n",
    "\n",
    "print(score_word(\"QUACK\"))\n",
    "# Expect   20\n",
    "\n",
    "print(score_word(\"DUCK\"))\n",
    "# Expect 11\n",
    "```\n",
    "\n",
    "\n",
    "## Solutions to exercises\n",
    "\n",
    "1a.  Linear search solution to `lookup`."
   ]
  },
  {
   "cell_type": "code",
   "execution_count": 1,
   "id": "81a0bafc",
   "metadata": {},
   "outputs": [
    {
     "name": "stdout",
     "output_type": "stream",
     "text": [
      "17\n",
      "17\n",
      "13\n",
      "24\n",
      "-1\n"
     ]
    }
   ],
   "source": [
    "def lookup(item_key: str, keys: list[str], values: list[int]) -> int:\n",
    "    \"\"\"With keys and items as parallel arrays, ordered\n",
    "    by key, return values[i] such that keys[i] == item_key, \n",
    "    or return -1 if there is no such i. \n",
    "    \"\"\"\n",
    "    for probe in range(len(keys)):\n",
    "        if keys[probe] == item_key: \n",
    "            return values[probe]\n",
    "    return -1\n",
    "\n",
    "print(lookup(\"tiger\", [\"bear\", \"lion\", \"tiger\"], [13, 47, 17]))\n",
    "# Expect 17\n",
    "\n",
    "print(lookup(\"tiger\", [\"bear\", \"lion\", \"tiger\", \"zebra\"],\n",
    "             [13, 47, 17, 24]))\n",
    "# Expect 17\n",
    "\n",
    "print(lookup(\"bear\", [\"bear\", \"lion\", \"tiger\", \"zebra\"],\n",
    "             [13, 47, 17, 24]))\n",
    "# Expect 13\n",
    "\n",
    "print(lookup(\"zebra\", [\"bear\", \"lion\", \"tiger\", \"zebra\"],\n",
    "             [13, 47, 17, 24]))\n",
    "# Expect 24\n",
    "\n",
    "print(lookup(\"wolf\", [\"bear\", \"lion\", \"tiger\"], [13, 47, 17]))\n",
    "# Expect -1"
   ]
  },
  {
   "cell_type": "markdown",
   "id": "620b7392",
   "metadata": {},
   "source": [
    "1b. Binary search solution to `lookup`."
   ]
  },
  {
   "cell_type": "code",
   "execution_count": 2,
   "id": "33050904",
   "metadata": {},
   "outputs": [
    {
     "name": "stdout",
     "output_type": "stream",
     "text": [
      "17\n",
      "17\n",
      "13\n",
      "24\n",
      "-1\n"
     ]
    }
   ],
   "source": [
    "def lookup(item_key: str, keys: list[str], values: list[int]) -> int:\n",
    "    \"\"\"With keys and items as parallel arrays, ordered\n",
    "    by key, return values[i] such that keys[i] == item_key, \n",
    "    or return -1 if there is no such i. \n",
    "    \"\"\"\n",
    "    low = 0\n",
    "    high = len(keys) - 1\n",
    "    while high >= low: \n",
    "        probe = (high + low) // 2\n",
    "        if keys[probe] == item_key:\n",
    "            return values[probe]\n",
    "        if keys[probe] < item_key: \n",
    "            low = probe + 1\n",
    "        else: \n",
    "            high = probe - 1\n",
    "    return -1 \n",
    "\n",
    "print(lookup(\"tiger\", [\"bear\", \"lion\", \"tiger\"], [13, 47, 17]))\n",
    "# Expect 17\n",
    "\n",
    "print(lookup(\"tiger\", [\"bear\", \"lion\", \"tiger\", \"zebra\"],\n",
    "             [13, 47, 17, 24]))\n",
    "# Expect 17\n",
    "\n",
    "print(lookup(\"bear\", [\"bear\", \"lion\", \"tiger\", \"zebra\"],\n",
    "             [13, 47, 17, 24]))\n",
    "# Expect 13\n",
    "\n",
    "print(lookup(\"zebra\", [\"bear\", \"lion\", \"tiger\", \"zebra\"],\n",
    "             [13, 47, 17, 24]))\n",
    "# Expect 24\n",
    "\n",
    "print(lookup(\"wolf\", [\"bear\", \"lion\", \"tiger\"], [13, 47, 17]))\n",
    "# Expect -1"
   ]
  },
  {
   "cell_type": "markdown",
   "id": "19c309f5",
   "metadata": {},
   "source": [
    "2. `matches` requires you to apply the _accumulator pattern_ to \n",
    "   parallel arrays, building a new array of boolean values.\n",
    "   Notice that we can obtain the boolean values _without_ an if \n",
    "   statement."
   ]
  },
  {
   "cell_type": "code",
   "execution_count": 3,
   "id": "a5ec9de1",
   "metadata": {},
   "outputs": [
    {
     "name": "stdout",
     "output_type": "stream",
     "text": [
      "[True, False, True]\n"
     ]
    }
   ],
   "source": [
    "def matches(x_l: list[str], y_l: list[str]) -> list[bool]:\n",
    "    \"\"\"Returns list m in which each m[i] is\n",
    "    True if and only if x_l[i] is same as y_l[i].\n",
    "    x_l and y_l are parallel lists.\n",
    "    \"\"\"\n",
    "    assert len(x_l) == len(y_l), \"x_l and y_l must be parallel lists\"\n",
    "    result = []   \n",
    "    for i in range(len(x_l)):\n",
    "        result.append(x_l[i] == y_l[i])\n",
    "    return result\n",
    "\n",
    "print(matches([\"a\", \"b\", \"c\"], [\"a\", \"x\", \"c\"]))\n",
    "# Expect [True, False, True]"
   ]
  },
  {
   "cell_type": "markdown",
   "id": "5da73cb8",
   "metadata": {},
   "source": [
    "3. Graduation progress at Oregano University."
   ]
  },
  {
   "cell_type": "code",
   "execution_count": 4,
   "id": "51ede5db",
   "metadata": {},
   "outputs": [
    {
     "name": "stdout",
     "output_type": "stream",
     "text": [
      "['CS 210', 'PS 222']\n",
      "['WR 123']\n",
      "[]\n"
     ]
    }
   ],
   "source": [
    "def already_taken(courses: list[str],\n",
    "                  areas: list[str], \n",
    "                  selection: str) -> list[str]:\n",
    "    \"\"\"Result summarizes the transcripted courses in each area\"\"\"\n",
    "    taken = []\n",
    "    for i in range(len(courses)):\n",
    "        if areas[i] == selection:\n",
    "            taken.append(courses[i])\n",
    "    return taken\n",
    "    \n",
    "# Course titles shortened to keep test cases short\n",
    "courses = [\"CS 210\", \"WR 123\", \"PS 222\"]\n",
    "areas = [\"SC\", \"SS\", \"SC\"]\n",
    "print(already_taken(courses, areas, \"SC\"))\n",
    " # Expect   ['CS 210', 'PS 222']\n",
    "\n",
    "print(already_taken(courses, areas, \"SS\"))\n",
    " # Expect    ['WR 123']\n",
    "\n",
    "print(already_taken(courses, areas, \"AL\"))\n",
    "# Expect   []"
   ]
  },
  {
   "cell_type": "markdown",
   "id": "f79e4ae3",
   "metadata": {},
   "source": [
    "4. Total cost from list of items and table of prices."
   ]
  },
  {
   "cell_type": "code",
   "execution_count": 5,
   "id": "dcd58ca7",
   "metadata": {},
   "outputs": [
    {
     "name": "stdout",
     "output_type": "stream",
     "text": [
      "7\n",
      "0\n"
     ]
    }
   ],
   "source": [
    "def total_cost(purchases: list[tuple[str, int]], prices: dict[str, int]) -> int:\n",
    "    \"\"\"Sum of costs of purchases, where\n",
    "    (\"item\", n) in purchases means n units of item,\n",
    "    \"item\": k  in prices means each unit of item costs k cybercoins\n",
    "    \"\"\"\n",
    "    total = 0\n",
    "    for product, units in purchases:\n",
    "        total += prices[product] * units\n",
    "    return total\n",
    "\n",
    "\n",
    "print(total_cost([(\"apple\", 2), (\"banana\", 3)],\n",
    "                 { \"pizza\": 12,  \"apple\": 2, \"banana\": 1 }))\n",
    "# Expect  7\n",
    "\n",
    "print(total_cost([], {\"yacht\": 99_000_000, \"apple\": 2}))\n",
    "# Expect   0 "
   ]
  },
  {
   "cell_type": "markdown",
   "id": "175b75ea",
   "metadata": {},
   "source": [
    "5. Function `score_word`."
   ]
  },
  {
   "cell_type": "code",
   "execution_count": 6,
   "id": "e70a2c90",
   "metadata": {},
   "outputs": [
    {
     "name": "stdout",
     "output_type": "stream",
     "text": [
      "20\n",
      "11\n"
     ]
    }
   ],
   "source": [
    "def point_values() -> dict[str, int]:\n",
    "    \"\"\"Returns per-letter point values as dict\"\"\"\n",
    "    points = {1: \"AEILNORSTU\", 2: \"DG\", 3: \"BCMP\",\n",
    "              4: \"FHVWY\", 5: \"K\", 8: \"JX\", 10: \"QZ\"}\n",
    "    letter_values = {}\n",
    "    for value in points:\n",
    "        for letter in points[value]:\n",
    "            letter_values[letter] = value\n",
    "    return letter_values\n",
    "\n",
    "VALUES = point_values()\n",
    "\n",
    "def score_word(word: str) -> int:\n",
    "    \"\"\"Returns the sum of point values\n",
    "     (from global variable VALUES) of letters in word,\n",
    "    according to points table.\n",
    "    Word contains only upper case English letters.\n",
    "    \"\"\"\n",
    "    score = 0\n",
    "    for letter in word: \n",
    "        score += VALUES[letter]\n",
    "    return score\n",
    "\n",
    "\n",
    "print(score_word(\"QUACK\"))\n",
    "# Expect   20\n",
    "\n",
    "print(score_word(\"DUCK\"))\n",
    "# Expect 11"
   ]
  }
 ],
 "metadata": {
  "jupytext": {
   "formats": "md:myst",
   "text_representation": {
    "extension": ".myst",
    "format_name": "myst",
    "format_version": 1.1,
    "jupytext_version": "1.10.3"
   }
  },
  "kernelspec": {
   "display_name": "Python 3",
   "language": "python",
   "name": "python3"
  },
  "language_info": {
   "codemirror_mode": {
    "name": "ipython",
    "version": 3
   },
   "file_extension": ".py",
   "mimetype": "text/x-python",
   "name": "python",
   "nbconvert_exporter": "python",
   "pygments_lexer": "ipython3",
   "version": "3.11.3"
  },
  "source_map": [
   13,
   172,
   200,
   204,
   239,
   246,
   260,
   264,
   286,
   290,
   308,
   312
  ]
 },
 "nbformat": 4,
 "nbformat_minor": 5
}