{
 "cells": [
  {
   "cell_type": "markdown",
   "id": "7908d069",
   "metadata": {},
   "source": [
    "# Indefinite loops\n",
    "\n",
    "Loops that iterate through the elements of a \n",
    "collection are most common, but a loop can also be written to \n",
    "iterate as long as some condition holds.  Sometimes such a loop is \n",
    "useful even when we are iterating through collections, but not \n",
    "stepping through them at a pace of one item per iteration.  \n",
    "\n",
    "## Example: Merging sorted lists\n",
    "\n",
    "Suppose we want to _merge_ two lists that are already in \n",
    "sorted order.   While we could just concatenate and then sort short \n",
    "lists, that approach would not be good if the lists had \n",
    "millions of elements, or if instead of lists in memory we were \n",
    "reading two streams of network data and producing a merged output \n",
    "stream.  In that case we would need a loop that advances through \n",
    "just one or the other list on each iteration.  I'll illustrate with \n",
    "short lists:"
   ]
  },
  {
   "cell_type": "code",
   "execution_count": 1,
   "id": "95a27f3f",
   "metadata": {},
   "outputs": [
    {
     "name": "stdout",
     "output_type": "stream",
     "text": [
      "['amber', 'amethyst', 'basalt', 'diamond', 'granite', 'pumice', 'ruby', 'shale']\n"
     ]
    }
   ],
   "source": [
    "# My lists of precious and cheap rocks are each sorted\n",
    "precious = [\"amber\", \"amethyst\", \"diamond\", \"ruby\"]\n",
    "cheap = [\"basalt\", \"granite\", \"pumice\", \"shale\"]\n",
    "\n",
    "# I want to combine them into one sorted list\n",
    "# Start at the beginning of each list\n",
    "i_precious = 0\n",
    "i_cheap = 0\n",
    "\n",
    "rocks = []\n",
    "while i_precious < len(precious) and i_cheap < len(cheap):\n",
    "    # We'll add one element to rocks on each iteration, \n",
    "    # but it could come from either the precious or the cheap list.\n",
    "    if precious[i_precious] < cheap[i_cheap]:\n",
    "        rocks.append(precious[i_precious])\n",
    "        i_precious += 1\n",
    "    else: \n",
    "        rocks.append(cheap[i_cheap])\n",
    "        i_cheap += 1\n",
    "        \n",
    "# One of the lists, cheap or precious, has not been used up.\n",
    "# One of these two loops will execute zero times, and one will \n",
    "# execute at least once. \n",
    "while i_precious < len(precious):\n",
    "    rocks.append(precious[i_precious])\n",
    "    i_precious += 1\n",
    "while i_cheap < len(cheap):\n",
    "    rocks.append(cheap[i_cheap])\n",
    "    i_cheap += 1 \n",
    "\n",
    "print(rocks)"
   ]
  },
  {
   "cell_type": "markdown",
   "id": "7648dde5",
   "metadata": {},
   "source": [
    "## Breaking out\n",
    "\n",
    "The condition for finishing and exiting a loop is not always in the \n",
    "`while` condition.  Sometimes it is more convenient to place the \n",
    "test somewhere in the body of the loop.  In that case we may write \n",
    "what appears to be an infinite loop with `while true:`, and use the \n",
    "`break` statement for the actual exit.  The code for combining lists \n",
    "of rocks could also be written with a single loop:"
   ]
  },
  {
   "cell_type": "code",
   "execution_count": 2,
   "id": "7fa44f55",
   "metadata": {},
   "outputs": [
    {
     "name": "stdout",
     "output_type": "stream",
     "text": [
      "['amber', 'amethyst', 'basalt', 'diamond', 'granite', 'pumice', 'ruby', 'shale']\n"
     ]
    }
   ],
   "source": [
    "i_precious = 0\n",
    "i_cheap = 0\n",
    "\n",
    "rocks = []\n",
    "while True: \n",
    "    if i_precious < len(precious) and i_cheap < len(cheap):\n",
    "        # Both lists have more items.  Take the smallest.\n",
    "        if precious[i_precious] < cheap[i_cheap]:\n",
    "            rocks.append(precious[i_precious])\n",
    "            i_precious += 1\n",
    "        else: \n",
    "            rocks.append(cheap[i_cheap])\n",
    "            i_cheap += 1\n",
    "    elif i_precious < len(precious): \n",
    "        # Only precious rocks remain.  Take the next. \n",
    "        rocks.append(precious[i_precious])\n",
    "        i_precious += 1\n",
    "    elif i_cheap < len(cheap):\n",
    "        # Only cheap rocks remain.  Take the next. \n",
    "        rocks.append(cheap[i_cheap])\n",
    "        i_cheap += 1\n",
    "    else: \n",
    "        # Both lists are exhausted; we're done! \n",
    "        break\n",
    "\n",
    "print(rocks)"
   ]
  },
  {
   "cell_type": "markdown",
   "id": "bd439544",
   "metadata": {},
   "source": [
    "Usually we want to be sure that the `break` statement will be \n",
    "executed after a predictable number of iterations.  In the loop \n",
    "above, we can argue that each iteration adds one to either `i_cheap` \n",
    "or `i_precious`, and that the total number of loop iterations will \n",
    "be exactly `len(precious) + len(cheap)`. \n",
    "\n",
    "In some other situations it may be much harder to determine how many \n",
    "times an indefinite loop could execute.  For example, we may be \n",
    "simulating a physical system until some condition holds, or trying \n",
    "different solutions to a puzzle. \n",
    "If we cannot be sure of eventually executing the `break` \n",
    "statement, we could replace the `while` with a `for` to set an \n",
    "upper limit on the number of iterations.  That is the approach we \n",
    "will take  in this week's project, in which the main loop is an \n",
    "attempt to improve an assignment of events to geographic clusters."
   ]
  }
 ],
 "metadata": {
  "jupytext": {
   "formats": "md:myst",
   "text_representation": {
    "extension": ".myst",
    "format_name": "myst",
    "format_version": 1.1,
    "jupytext_version": "1.10.3"
   }
  },
  "kernelspec": {
   "display_name": "Python 3",
   "language": "python",
   "name": "python3"
  },
  "language_info": {
   "codemirror_mode": {
    "name": "ipython",
    "version": 3
   },
   "file_extension": ".py",
   "mimetype": "text/x-python",
   "name": "python",
   "nbconvert_exporter": "python",
   "pygments_lexer": "ipython3",
   "version": "3.10.2"
  },
  "source_map": [
   13,
   34,
   66,
   77,
   104
  ]
 },
 "nbformat": 4,
 "nbformat_minor": 5
}