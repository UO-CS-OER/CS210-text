{
 "cells": [
  {
   "cell_type": "markdown",
   "id": "cf219c01",
   "metadata": {},
   "source": [
    "# Accessibility Statement\n",
    "\n",
    "We are committed to making this text and accompanying materials free,\n",
    "open, and accessible to everyone, including students with \n",
    "disabilities. If you encounter accessibility issues with this text \n",
    "or the accompanying materials, including projects, please \n",
    "[contact us](\n",
    "mailto:michal@uoregon.edu?subject=Textbook%20accessibility%20issues).\n",
    "\n",
    "## Accessibility features\n",
    "\n",
    "### Screen-reader compatibility \n",
    "\n",
    "We are attempting to make the web version of this text accessible to \n",
    "those who use \n",
    "screen-reader technology. \n",
    "-  The content can be navigated using a keyboard\n",
    "- links, headings, and tables are formatted to work with screen readers\n",
    "- images have alternative text\n",
    "- information is not conveyed by color alone\n",
    "\n",
    "This is work in progress, and we appreciate your notes regarding \n",
    "parts of this text or accompanying materials that are not accessible \n",
    "via screen reader. \n",
    "\n",
    "### Known issues for readers with visual impairments\n",
    "\n",
    "While these are issues we are aware of, we still welcome notes on \n",
    "your experience regarding them, and especially ideas regarding how \n",
    "we can overcome or ameliorate them.  \n",
    "\n",
    "- Some math content is not being read by some screen readers, \n",
    "  notably JAWS.  We are investigating this issue.\n",
    "- Numerous projects have visual (graphic) components and complex \n",
    "  graphic illustrations in instructions.   In some cases these are \n",
    "  incidental to the project, and in other cases the graphics are \n",
    "  more central to project functionality. \n",
    "  - \"Alt text\" is not displaying as intended in instructions (HOWTO \n",
    "    files) for screen readers. We \n",
    "    believe this is because Github-flavored Markdown processing is \n",
    "    making all illustrations links, effectively hiding alternative \n",
    "    text except when graphics are not loaded at all.  As \n",
    "    a workaround, we are project by project in Fall 2023 adding \n",
    "    descriptive text inline after diagrams.\n",
    "  - Some static graphics in project instructions are too complex to \n",
    "    render well as tactile graphics.  We will produce reduced \n",
    "    resolution versions of some for tactile production, and in other \n",
    "    cases provide longer text descriptions. \n",
    "  - We are working to devise audio alternatives (or augmentation) \n",
    "    for program graphics where possible.  If necessary we will produce \n",
    "    alternative projects where program graphics are essential to a \n",
    "    project and we cannot devise an adequate audio alternative. \n",
    "\n",
    "### Alternative formats for screen readers\n",
    "\n",
    "In addition to the web version, this text may be accessed in PDF and \n",
    "Markdown formats. However, the format over which we have the most \n",
    "control is HTML, and our initial experience is that PDF produced \n",
    "from our source material is less rather than more accessible to \n",
    "users of screen readers.   While we are happy to attempt to produce \n",
    "the text in other formats, in most cases we think it will be more \n",
    "practical to enhance or augment the HTML version.  \n",
    "\n",
    "## Other accessibility issues (besides vision)\n",
    "\n",
    "Are there other accessibility issues that we should be aware of, \n",
    "besides compatibility with screen readers?  Please \n",
    "[let us know](\n",
    "mailto:michal@uoregon.edu?subject=Textbook%20accessibility%20issues)."
   ]
  }
 ],
 "metadata": {
  "jupytext": {
   "formats": "md:myst",
   "text_representation": {
    "extension": ".myst",
    "format_name": "myst",
    "format_version": 1.1,
    "jupytext_version": "1.10.3"
   }
  },
  "kernelspec": {
   "display_name": "Python 3",
   "language": "python",
   "name": "python3"
  },
  "language_info": {
   "codemirror_mode": {
    "name": "ipython",
    "version": 3
   },
   "file_extension": ".py",
   "mimetype": "text/x-python",
   "name": "python",
   "nbconvert_exporter": "python",
   "pygments_lexer": "ipython3",
   "version": "3.10.0"
  },
  "source_map": [
   13
  ]
 },
 "nbformat": 4,
 "nbformat_minor": 5
}