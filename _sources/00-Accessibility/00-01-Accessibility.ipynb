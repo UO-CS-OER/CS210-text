{
 "cells": [
  {
   "cell_type": "markdown",
   "id": "f189611b",
   "metadata": {},
   "source": [
    "# Accessibility Statement\n",
    "\n",
    "We are committed to making this text and accompanying materials free,\n",
    "open, and accessible to everyone, including students with \n",
    "disabilities. If you encounter accessibility issues with this text \n",
    "or the accompanying materials, including projects, please [contact \n",
    "us](mailto:michal@uoregon.edu?subject=Textbook accessibility issues).\n",
    "\n",
    "## Accessibility features\n",
    "\n",
    "### Screen-reader compatibility \n",
    "\n",
    "We are attempting to make the web version of this text accessible to \n",
    "those who use \n",
    "screen-reader technology. \n",
    "-  The content can be navigated using a keyboard\n",
    "- links, headings, and tables are formatted to work with screen readers\n",
    "- images have alternative text\n",
    "- information is not conveyed by color alone\n",
    "\n",
    "This is work in progress, and we appreciate your notes regarding \n",
    "parts of this text or accompanying materials that are not accessible \n",
    "via screen reader. \n",
    "\n",
    "## Alternative formats\n",
    "\n",
    "In addition to the web version, this text may be accessed in PDF and \n",
    "Markdown formats."
   ]
  }
 ],
 "metadata": {
  "jupytext": {
   "formats": "md:myst",
   "text_representation": {
    "extension": ".myst",
    "format_name": "myst",
    "format_version": 1.1,
    "jupytext_version": "1.10.3"
   }
  },
  "kernelspec": {
   "display_name": "Python 3",
   "language": "python",
   "name": "python3"
  },
  "language_info": {
   "codemirror_mode": {
    "name": "ipython",
    "version": 3
   },
   "file_extension": ".py",
   "mimetype": "text/x-python",
   "name": "python",
   "nbconvert_exporter": "python",
   "pygments_lexer": "ipython3",
   "version": "3.10.2"
  },
  "source_map": [
   13
  ]
 },
 "nbformat": 4,
 "nbformat_minor": 5
}