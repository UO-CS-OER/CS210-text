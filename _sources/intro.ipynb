{
 "cells": [
  {
   "cell_type": "markdown",
   "id": "9b71aabc",
   "metadata": {},
   "source": [
    "# Introduction to Computer Science, part 1\n",
    "\n",
    "This open text is designed for use in CS 210 at \n",
    "University of Oregon and in CS 161 at other Oregon colleges and \n",
    "universities.\n",
    "[Part 2](https://uo-cs-oer.github.io/CS211-text/intro.html) is designed for CS 211 at U.O., CS 162 at other Oregon \n",
    "colleges and universities. \n",
    "\n",
    "Instructors and authors: You are welcome to use, borrow from, or \n",
    "fork this text for your own customizations, under a permissive\n",
    "open source license.  Instructions are in\n",
    "[the github repository](https://github.com/UO-CS-OER/CS210-text).\n",
    "You are also invited to open an issue through the github repository \n",
    "with corrections, critique, or suggestions for improvement.\n",
    "\n",
    "\n",
    "\n",
    "```{tableofcontents}\n",
    "```"
   ]
  }
 ],
 "metadata": {
  "jupytext": {
   "formats": "md:myst",
   "text_representation": {
    "extension": ".myst",
    "format_name": "myst",
    "format_version": 1.1,
    "jupytext_version": "1.10.3"
   }
  },
  "kernelspec": {
   "display_name": "Python 3",
   "language": "python",
   "name": "python3"
  },
  "language_info": {
   "codemirror_mode": {
    "name": "ipython",
    "version": 3
   },
   "file_extension": ".py",
   "mimetype": "text/x-python",
   "name": "python",
   "nbconvert_exporter": "python",
   "pygments_lexer": "ipython3",
   "version": "3.11.3"
  },
  "source_map": [
   13
  ]
 },
 "nbformat": 4,
 "nbformat_minor": 5
}