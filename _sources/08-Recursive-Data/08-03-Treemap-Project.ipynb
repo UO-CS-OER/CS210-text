{
 "cells": [
  {
   "cell_type": "markdown",
   "id": "b75545cf",
   "metadata": {},
   "source": [
    "# Treemap visualization of recursive data\n",
    "\n",
    "The [project](https://github.com/UO-CS210/Treemap)\n",
    "accompanying this chapter asks you to create a visual representation \n",
    "of recursive data.  \n",
    "\n",
    "- Initially you will recursively divide a _flat_ \n",
    "(that is, not nested) list of integers into groups \n",
    "  represented by rectangular areas.  \n",
    "- Next you will recursively divide a _nested list_ of integers into \n",
    "  groups represented by rectangular areas, preserving the grouping\n",
    "  in each nested list.\n",
    "- Finally, you will process a structure of nested dictionaries to \n",
    "  visualize grouping of elements of different sizes.\n",
    "\n",
    "In the final version, you will be able to process a JSON structure like \n",
    "this summary of files used to build this chapter: \n",
    "\n",
    "```json\n",
    "{\n",
    "    \"08-01-Recursive-Data.md\": 9503,\n",
    "    \"08-02-Nested-Dicts.md\": 5310,\n",
    "    \"08-03-Treemap-Project.md\": 971,\n",
    "    \"Chap08.json\": 0,\n",
    "    \"Samples\": {\n",
    "        \"dir_tree.py\": 2042,\n",
    "        \"dir_tree_printer.py\": 1217\n",
    "    },\n",
    "    \"img\": {\n",
    "        \"chap08.svg\": 2763,\n",
    "        \"directory-tree-horizontal.png\": 43381,\n",
    "        \"directory-tree-vertical.png\": 30142\n",
    "    }\n",
    "}\n",
    "```\n",
    "\n",
    "This JSON file was produced by\n",
    "[Samples/dir_tree.py](Samples/dir_tree.py).\n",
    "When processed by a sample solution to our treemap project, we can \n",
    "obtain a visualization showing the relative sizes of files: \n",
    "\n",
    "![Treemap of chapter file sizes](img/chap08.svg)\n",
    "\n",
    "Treemaps are not effective visualizations for all kinds of \n",
    "quantitative data (e.g., it is not easy to determine the relative \n",
    "sizes of the two .png files), but they can provide a good \n",
    "at-a-glance comparison, especially for hierarchically structured data.  \n",
    "For example, we can quickly see that the \n",
    "bitmap graphics files (.png) are much larger than the source text \n",
    "files (.md), but the scalable vector graphic (.svg) image is \n",
    "relatively compact. Management of file space was among the original \n",
    "applications of the treemap visualization format, and has been used \n",
    "in commercial and open source applications like\n",
    "[Disk Inventory X](https://www.derlien.com/)\n",
    "for MacOS,\n",
    "[WinDirStat](https://windirstat.net/)\n",
    "for Windows, and \n",
    "[QDirStat](https://github.com/shundhammer/qdirstat)\n",
    "for Linux. \n",
    "\n",
    "## Project repository\n",
    "\n",
    "[https://github.com/UO-CS210/Treemap](\n",
    "https://github.com/UO-CS210/Treemap)"
   ]
  }
 ],
 "metadata": {
  "jupytext": {
   "formats": "md:myst",
   "text_representation": {
    "extension": ".myst",
    "format_name": "myst",
    "format_version": 1.1,
    "jupytext_version": "1.10.3"
   }
  },
  "kernelspec": {
   "display_name": "Python 3",
   "language": "python",
   "name": "python3"
  },
  "language_info": {
   "codemirror_mode": {
    "name": "ipython",
    "version": 3
   },
   "file_extension": ".py",
   "mimetype": "text/x-python",
   "name": "python",
   "nbconvert_exporter": "python",
   "pygments_lexer": "ipython3",
   "version": "3.11.3"
  },
  "source_map": [
   13
  ]
 },
 "nbformat": 4,
 "nbformat_minor": 5
}