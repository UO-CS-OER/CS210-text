{
 "cells": [
  {
   "cell_type": "markdown",
   "id": "e9ad4583",
   "metadata": {},
   "source": [
    "# Project\n",
    "\n",
    "The [Treemap project](https://github.com/UO-CS210/Treemap)\n",
    "recursively decomposes hierarchically structured data\n",
    "while constructing a hierarchical diagram following the same structure.\n",
    "Treemaps are as a space-efficient display for hierarchical\n",
    "(tree-structured) data. \n",
    "\n",
    "The treemap project also introduces some new Python goodies,\n",
    "including disjunctive and recursive type annotations. Like many of \n",
    "our projects, it also stresses disciplined incremental development \n",
    "of software."
   ]
  }
 ],
 "metadata": {
  "jupytext": {
   "formats": "md:myst",
   "text_representation": {
    "extension": ".myst",
    "format_name": "myst",
    "format_version": 1.1,
    "jupytext_version": "1.10.3"
   }
  },
  "kernelspec": {
   "display_name": "Python 3",
   "language": "python",
   "name": "python3"
  },
  "language_info": {
   "codemirror_mode": {
    "name": "ipython",
    "version": 3
   },
   "file_extension": ".py",
   "mimetype": "text/x-python",
   "name": "python",
   "nbconvert_exporter": "python",
   "pygments_lexer": "ipython3",
   "version": "3.11.3"
  },
  "source_map": [
   13
  ]
 },
 "nbformat": 4,
 "nbformat_minor": 5
}