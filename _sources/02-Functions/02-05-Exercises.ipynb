{
 "cells": [
  {
   "cell_type": "markdown",
   "id": "ecfa1763",
   "metadata": {},
   "source": [
    "# Exercises\n",
    "\n",
    "These exercises are taken from old exams.  Check your \n",
    "understanding by working them\n",
    "individually before peeking forward to answers or discussing\n",
    "them with classmates. \n",
    "\n",
    "1. What does this program print? \n",
    "\n",
    "```python\n",
    "def f(x: int) -> int:\n",
    "    x = x + 1\n",
    "    return x\n",
    "\n",
    "x = 5\n",
    "y = 7\n",
    "z = f(y)\n",
    "print(f\"x={x}, y={y}, z={z}\")\n",
    "```\n",
    "\n",
    "2. What will go wrong with this program? How should you fix it? \n",
    "\n",
    "```python\n",
    "def sign(n: int):\n",
    "    \"\"\"Return -1, 0, or 1 depending on n being negative, zero, or \n",
    "    positive\n",
    "    \"\"\"\n",
    "    if n > 0: \n",
    "        result = 1\n",
    "    elif n < 0:\n",
    "        result = -1\n",
    "    else: \n",
    "        result = 0\n",
    "\n",
    "sign(-12)\n",
    "print(result)\n",
    "```\n",
    "\n",
    "3.  What is wrong with this function? \n",
    "\n",
    "```python\n",
    "def double(x: int) -> int: \n",
    "    \"\"\"Returns double the original value of x.\"\"\"\n",
    "    z = x + x\n",
    "    print(z)\n",
    "```\n",
    "\n",
    "\n",
    "## Answers to exercises\n",
    "\n",
    "1. What does this program print? \n",
    "\n",
    "```python\n",
    "def f(x: int) -> int:\n",
    "    x = x + 1\n",
    "    return x\n",
    "\n",
    "x = 5\n",
    "y = 7\n",
    "z = f(y)\n",
    "print(f\"x={x}, y={y}, z={z}\")\n",
    "```\n",
    "\n",
    "Answer:  `x=5, y=7, z=8`\n",
    "\n",
    " This is a question about variable scope and argument passing.  The\n",
    "    `x` in an activation of function `f` is distinct from\n",
    "    the globabl `x`.  The _actual argument_ `y` is\n",
    "    copied to the _formal argument_ `x` when `f` is\n",
    "    called, so incrementing `x` in `f` affects neither the\n",
    "    global n`x` nor the global `y`.\n",
    "\n",
    " Don't be confused by f-strings like `f\"x={x}, y={y}, z={z}\"`.\n",
    "This `f` is not the same as the function `f`.  \n",
    " f-strings are used in Python to format output by _interpolating_ \n",
    " values into template strings.  For example, within the f-string, `\n",
    " {x}` is replaced by the value of variable `x`. \n",
    " \n",
    "2. What will go wrong with this program? How should you fix it? \n",
    "\n",
    "```python\n",
    "def sign(n: int):\n",
    "    \"\"\"Return -1, 0, or 1 depending on n being negative, zero, or \n",
    "    positive\n",
    "    \"\"\"\n",
    "    if n > 0: \n",
    "        result = 1\n",
    "    elif n < 0:\n",
    "        result = -1\n",
    "    else: \n",
    "        result = 0\n",
    "\n",
    "sign(-12)\n",
    "print(result)\n",
    "```\n",
    "\n",
    "Function `sign` is not returning the `result` variable.  The \n",
    "`result` variable exists only while the function is executing. When \n",
    "we try to print `result` from outside the `sign` function, we will \n",
    "encounter an error: \n",
    "\n",
    "```\n",
    "    print(result)\n",
    "          ^^^^^^\n",
    "NameError: name 'result' is not defined\n",
    "```\n",
    "\n",
    "We can fix it this way:"
   ]
  },
  {
   "cell_type": "code",
   "execution_count": 1,
   "id": "914005e9",
   "metadata": {},
   "outputs": [
    {
     "name": "stdout",
     "output_type": "stream",
     "text": [
      "-1\n"
     ]
    }
   ],
   "source": [
    "def sign(n: int) -> int:\n",
    "    \"\"\"Return -1, 0, or 1 depending on n being negative, zero, or \n",
    "    positive\n",
    "    \"\"\"\n",
    "    if n > 0: \n",
    "        result = 1\n",
    "    elif n < 0:\n",
    "        result = -1\n",
    "    else: \n",
    "        result = 0\n",
    "    return result\n",
    "\n",
    "s = sign(-12)\n",
    "print(s)"
   ]
  },
  {
   "cell_type": "markdown",
   "id": "ceb28a53",
   "metadata": {},
   "source": [
    "Since the function stops running as soon as it returns a value, we \n",
    "could also shorten it up like this:"
   ]
  },
  {
   "cell_type": "code",
   "execution_count": 2,
   "id": "e5b6946d",
   "metadata": {},
   "outputs": [
    {
     "name": "stdout",
     "output_type": "stream",
     "text": [
      "-1\n"
     ]
    }
   ],
   "source": [
    "def sign(n: int) -> int:\n",
    "    \"\"\"Return -1, 0, or 1 depending on n being negative, zero, or \n",
    "    positive\n",
    "    \"\"\"\n",
    "    if n > 0: \n",
    "        return 1\n",
    "    elif n < 0:\n",
    "        return -1\n",
    "    return 0\n",
    "\n",
    "s = sign(-12)\n",
    "print(s)"
   ]
  },
  {
   "cell_type": "markdown",
   "id": "23ae037d",
   "metadata": {},
   "source": [
    "3.  What is wrong with this function? \n",
    "\n",
    "```python\n",
    "def double(x: int) -> int: \n",
    "    \"\"\"Returns double the original value of x.\"\"\"\n",
    "    z = x + x\n",
    "    print(z)\n",
    "```\n",
    "\n",
    "The signature of this function (given in its header,\n",
    "`def double(x: int) -> int:` and its docstring is a kind of contract \n",
    "with code that uses it.  The header says it has a\n",
    "_result_, which is an \n",
    "integer, and the docstring says that result will be twice the \n",
    "original value of x.  That's a lie.  It does not have a _result_.\n",
    "It has an _effect_, which is printing double the value x.  It should \n",
    "return the value instead, like this: \n",
    "\n",
    "```python\n",
    "def double(x: int) -> int: \n",
    "    \"\"\"Returns double the original value of x.\"\"\"\n",
    "    z = x + x\n",
    "    return z\n",
    "```"
   ]
  }
 ],
 "metadata": {
  "jupytext": {
   "formats": "md:myst",
   "text_representation": {
    "extension": ".myst",
    "format_name": "myst",
    "format_version": 1.1,
    "jupytext_version": "1.10.3"
   }
  },
  "kernelspec": {
   "display_name": "Python 3",
   "language": "python",
   "name": "python3"
  },
  "language_info": {
   "codemirror_mode": {
    "name": "ipython",
    "version": 3
   },
   "file_extension": ".py",
   "mimetype": "text/x-python",
   "name": "python",
   "nbconvert_exporter": "python",
   "pygments_lexer": "ipython3",
   "version": "3.13.1"
  },
  "source_map": [
   13,
   123,
   138,
   143,
   156
  ]
 },
 "nbformat": 4,
 "nbformat_minor": 5
}