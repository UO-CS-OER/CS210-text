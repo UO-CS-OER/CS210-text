{
 "cells": [
  {
   "cell_type": "markdown",
   "id": "f3aa0178",
   "metadata": {},
   "source": [
    "# Designing and Building Functions in Python\n",
    "\n",
    "As we discussed in the\n",
    "[prior chapter](../01-Intro/01-03-Kickstart.md),\n",
    "_controlling complexity_ is the main challenge in programming,\n",
    "and _functions_ are one of the primary ways\n",
    "we can decompose complex programs into\n",
    "_brain-size chunks_.  \n",
    "\n",
    "In this chapter we will take a deeper dive into functions in Python: \n",
    "How they work, how to write and test them, and how to design them.\n",
    "The last part, learning to design _good_ functions that are useful, \n",
    "readable, testable, and maintainable, is most challenging.  We will \n",
    "not master it in a week or in ten weeks, not even in ten years.\n",
    "Like learning to play a musical instrument or cooking or playing a \n",
    "sport, one can spend a lifetime improving, expanding, and refining \n",
    "technique.  Our shorter term objective is to establish a basic level \n",
    "of competence to begin. \n",
    "\n",
    "We begin with a brief look at the _mechanics_ of functions.  This \n",
    "includes the syntax for writing a function header, and a few basic \n",
    "rules that they should conform to.  Most importantly, you must \n",
    "understand how _formal arguments_ and other variables that are \n",
    "_local_ to a function relate to variables outside the function. This \n",
    "is called _scope_. \n",
    "\n",
    "* [Scope in Python](02-02-Scope.md)\n",
    "\n",
    "With those mechanics in hand, we can make our first (and certainly \n",
    "not our last) foray into function design.  We will look at some \n",
    "basic guidelines that (almost) all functions should follow.  We will \n",
    "also look at testing functions, and writing documentation that is \n",
    "useful for users and maintainers of functions.  We might refer to \n",
    "these as guidelines for _function hygiene_. \n",
    "\n",
    "* [Function Hygiene in Python](02-03-Hygiene.md)\n",
    "\n",
    "Basic hygiene helps us avoid some harmful practices.  We would \n",
    "like to go farther and learn to design really well-chosen, useful, even \n",
    "elegant functions.  How do we choose functions?  Of all the ways we \n",
    "could decompose a complex problem into smaller, simpler sub-problems,\n",
    "what makes some better than others?  Our first steps toward grasping \n",
    "these deeper issues are best taken in the context of a project.  \n",
    "\n",
    "* [Project: Estimating Pi](https://github.com/UO-CS210/pi)\n",
    "\n",
    "The project illustrates Monte Carlo simulation, an important \n",
    "computational technique that is applied in fields from games to \n",
    "biology, ecology, and economics.  The project documentation also\n",
    "walks you through the thought process of decomposing a project into\n",
    "smaller parts and choosing an order in which to build and test\n",
    "those parts.  Decomposing problems and composing solutions is a core \n",
    "_computational thinking_ skill that you will use and refine as long \n",
    "as you are solving problems with computational techniques.  It can \n",
    "also be useful to you in other problem-solving domains."
   ]
  }
 ],
 "metadata": {
  "jupytext": {
   "formats": "md:myst",
   "text_representation": {
    "extension": ".myst",
    "format_name": "myst",
    "format_version": 1.1,
    "jupytext_version": "1.10.3"
   }
  },
  "kernelspec": {
   "display_name": "Python 3",
   "language": "python",
   "name": "python3"
  },
  "language_info": {
   "codemirror_mode": {
    "name": "ipython",
    "version": 3
   },
   "file_extension": ".py",
   "mimetype": "text/x-python",
   "name": "python",
   "nbconvert_exporter": "python",
   "pygments_lexer": "ipython3",
   "version": "3.11.3"
  },
  "source_map": [
   13
  ]
 },
 "nbformat": 4,
 "nbformat_minor": 5
}