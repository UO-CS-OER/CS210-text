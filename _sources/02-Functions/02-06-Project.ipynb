{
 "cells": [
  {
   "cell_type": "markdown",
   "id": "5cf226e8",
   "metadata": {},
   "source": [
    "# Projects\n",
    "\n",
    "The project associated with this chapter is estimating the value of \n",
    "the mathematical constant π (pi) using\n",
    "[_Monte Carlo Simulation_](\n",
    "https://en.wikipedia.org/wiki/Monte_Carlo_method),\n",
    "an application of random sampling to estimate a value. \n",
    "\n",
    "- [Estimating Pi](https://github.com/UO-CS210/pi)\n",
    "\n",
    "An optional second project builds a _codec_ (functions for encoding \n",
    "and decoding) for compressing a word list using prefix encoding. \n",
    "The primary purpose of this project is to practice good _function \n",
    "hygiene_.  You may also be interested in \n",
    "the introduction to some basic concepts of compression. \n",
    "\n",
    "- [Compression by prefix coding](https://github.com/UO-CS210/prefix-compress)"
   ]
  }
 ],
 "metadata": {
  "jupytext": {
   "formats": "md:myst",
   "text_representation": {
    "extension": ".myst",
    "format_name": "myst",
    "format_version": 1.1,
    "jupytext_version": "1.10.3"
   }
  },
  "kernelspec": {
   "display_name": "Python 3",
   "language": "python",
   "name": "python3"
  },
  "language_info": {
   "codemirror_mode": {
    "name": "ipython",
    "version": 3
   },
   "file_extension": ".py",
   "mimetype": "text/x-python",
   "name": "python",
   "nbconvert_exporter": "python",
   "pygments_lexer": "ipython3",
   "version": "3.11.3"
  },
  "source_map": [
   13
  ]
 },
 "nbformat": 4,
 "nbformat_minor": 5
}