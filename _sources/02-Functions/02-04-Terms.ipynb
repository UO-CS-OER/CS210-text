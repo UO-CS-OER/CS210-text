{
 "cells": [
  {
   "cell_type": "markdown",
   "id": "4634c9a1",
   "metadata": {},
   "source": [
    "# Review of terms\n",
    "\n",
    "Terminology of functions and scopes can be confusing, because there \n",
    "are many different terms commonly used for the same or almost the \n",
    "same concept ... even in the Python documentation.\n",
    "\n",
    "## Scope, namespace, frame, symbol table\n",
    "\n",
    "A _namespace_ may also be called a _symbol table_ or a _frame_.  \n",
    "These terms are not quite identical (a _frame_ is really a \n",
    "structure inside the Python interpreter used to implement a \n",
    "_namespace_), but they are so closely related that you can treat \n",
    "them as synonyms.  \n",
    "\n",
    "The term _scope_ is also almost \n",
    "interchangeable with _namespace_, except \"local scope\" means \n",
    "\"the namespace of the currently executing function.\"  There is \n",
    "always exactly one \"local\" scope and one \"global\" scope, while there \n",
    "may be many namespaces that are temporarily inaccessible.\n",
    "\n",
    "Every frame implements a namespace, which may be the local scope or \n",
    "global scope.  Outside of any function, the local scope and the \n",
    "global scope may be the same namespace.  \n",
    "\n",
    "The technical distinctions may matter \n",
    "to you someday if you build your own programming language interpreter.  \n",
    "For now you can treat _namespace_, _scope_, and _frame_\n",
    "as synonyms. \n",
    "\n",
    "## Local and global variables \n",
    "\n",
    "A _local variable_ is a variable in the namespace (scope) of a \n",
    "function, accessible only when that function is executing.  A \n",
    "_global variable_ is a variable defined in the global namespace, \n",
    "which may also be accessible from within functions. \n",
    "\n",
    "## Formal and actual arguments (parameters)\n",
    "\n",
    "The terms _parameter_ (_formal parameter_ or _actual parameter_) \n",
    "and _argument_ (_formal argument_ or _actual argument_) are \n",
    "synonymous.  The author of \n",
    "this chapter looked to the Python documentation to see which term \n",
    "was standard in Python.  The disappointing answer was \"both\".\n",
    "\n",
    "It could be\n",
    "confusing to pair \"formal parameter\" with \"actual argument\", so we will \n",
    "try to be consistent in preferring \"argument\" in both contexts. \n",
    "Occasionally we will use both terms, since you will often encounter \n",
    "\"formal parameter\" in other documentation.  \n",
    "Sometimes we will mess up ... let us know so we can fix \n",
    "inconsistencies in this text.\n",
    "\n",
    "When we use the term _argument_ in the context of defining a \n",
    "function, we mean _formal argument_, that is, the name that will be \n",
    "used within the function body.  When we use \n",
    "the term _argument_ in the context of calling a function, we mean \n",
    "_actual argument_, that is, the value transmitted to the function.  \n",
    "\n",
    "```python\n",
    "def f(a):  # a is a formal argument\n",
    "    \"\"\"Does nothing\"\"\"\n",
    "    pass\n",
    "\n",
    "f(x)      # x is an actual argument\n",
    "```"
   ]
  }
 ],
 "metadata": {
  "jupytext": {
   "formats": "md:myst",
   "text_representation": {
    "extension": ".myst",
    "format_name": "myst",
    "format_version": 1.1,
    "jupytext_version": "1.10.3"
   }
  },
  "kernelspec": {
   "display_name": "Python 3",
   "language": "python",
   "name": "python3"
  },
  "language_info": {
   "codemirror_mode": {
    "name": "ipython",
    "version": 3
   },
   "file_extension": ".py",
   "mimetype": "text/x-python",
   "name": "python",
   "nbconvert_exporter": "python",
   "pygments_lexer": "ipython3",
   "version": "3.11.3"
  },
  "source_map": [
   13
  ]
 },
 "nbformat": 4,
 "nbformat_minor": 5
}