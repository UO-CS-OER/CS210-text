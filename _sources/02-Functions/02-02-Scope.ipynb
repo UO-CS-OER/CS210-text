{
 "cells": [
  {
   "cell_type": "markdown",
   "id": "1e2ea5f6",
   "metadata": {},
   "source": [
    "# Binding:  Functions and Scope\n",
    "\n",
    "In the prior chapter and accompanying project we both used functions \n",
    "that come built-in to Python (like `max` and `sorted`) and functions \n",
    "that you can create yourself.  In this chapter we will look further \n",
    "at both, but especially at functions that you write. \n",
    "\n",
    "```{figure} img/kitchen-tools.jpg\n",
    ":height: 250px\n",
    ":name: Tools\n",
    "\n",
    "Tools alone will not make you a good cook, or a good programmer,\n",
    "but good cooks and programmers know their tools.\n",
    "```\n",
    "\n",
    "## Built-in and imported functions\n",
    "\n",
    "A collection of reusable software written by others and ready for us \n",
    "to incorporate in our own programs is called a _library_.  Python \n",
    "has a rich set of libraries.  In this course we will focus on \n",
    "libraries that come pre-packaged with a standard Python 3 \n",
    "installation.   We will omit consideration of additional libraries \n",
    "that you can install, although you might use those in other \n",
    "courses or for side projects. \n",
    "\n",
    "### Always available\n",
    "\n",
    "Some functions are always present and available. \n",
    "They are documented at \n",
    "[https://docs.python.org/3/library/functions.html](\n",
    "https://docs.python.org/3/library/functions.html).\n",
    "The always available functions\n",
    "include some we have already seen, like `len` and `sorted`.\n",
    "They also include some more esoteric functions that you may never \n",
    "use.  You do not need to memorize them all! \n",
    "\n",
    "Recall that methods are very much like functions, but instead of a \n",
    "function call like `len(s)`, we make a method call like `s.strip()`.\n",
    "The methods of the built-in types are not listed in the table above,\n",
    "but they are documented with the types of data they operate on.\n",
    "For example, `strip` is described in\n",
    "[documentation for type `str`](\n",
    "https://docs.python.org/3/library/stdtypes.html#string-methods).\n",
    "Again, it is not necessary (or perhaps even possible) to memorize \n",
    "all the built-in methods for all the built-in types.  Bookmark the\n",
    "[Python standard library documentation page](\n",
    "https://docs.python.org/3/library/index.html) and refer to it\n",
    "whenever you need to use them.  You will soon enough remember the \n",
    "functions and methods you use most often.\n",
    "\n",
    "### Importing other modules\n",
    "\n",
    "In addition to the functions that are always available and the \n",
    "types that are always available with their methods, the Python \n",
    "standard library includes a large number of optional modules.  These \n",
    "are installed on your computer when you install Python 3, but they \n",
    "are not automatically available in your program until you indicate \n",
    "your intent to use them.  \n",
    "\n",
    "To gain access to functions and types from a part of the standard \n",
    "library that is not already available, you _import_ it, like this:"
   ]
  },
  {
   "cell_type": "code",
   "execution_count": 1,
   "id": "a7507b8f",
   "metadata": {},
   "outputs": [],
   "source": [
    "import random"
   ]
  },
  {
   "cell_type": "markdown",
   "id": "c6444b1d",
   "metadata": {},
   "source": [
    "`random` is a _module_ that contains several functions we might want \n",
    "to use.  For example, to generate a random integer between\n",
    "25 and 100, inclusive, we could write"
   ]
  },
  {
   "cell_type": "code",
   "execution_count": 2,
   "id": "890cbaab",
   "metadata": {},
   "outputs": [
    {
     "name": "stdout",
     "output_type": "stream",
     "text": [
      "54\n"
     ]
    }
   ],
   "source": [
    "r_int = random.randint(25, 100)\n",
    "print(r_int)"
   ]
  },
  {
   "cell_type": "markdown",
   "id": "0fcc3678",
   "metadata": {},
   "source": [
    "Notice that we cannot call `randint` without specifying that it \n",
    "belongs to module `random`.  That is because the module is a \n",
    "_namespace_ with a distinct set of names for functions and variables.   \n",
    "It is possible for the same name to appear in more than one \n",
    "namespace, referring to distinct values or objects.\n",
    "That's the point of namespaces:  Because each \n",
    "module or other \n",
    "namespace has its own set of names, we don't have to worry about \n",
    "accidental conflicts between names in different namespaces.  \n",
    "\n",
    "The global namespace (or _scope_) of your program is distinct from \n",
    "the namespace of modules you import.  When you import `random`, the \n",
    "name \"random\" refers to the whole module, and is distinct from any \n",
    "names \n",
    "that occur _within_ that module, like `random.randint`.  It is even \n",
    "possible for the module `random` to contain within it a function \n",
    "that is also called `random`.  It does:"
   ]
  },
  {
   "cell_type": "code",
   "execution_count": 3,
   "id": "2e9d9753",
   "metadata": {},
   "outputs": [
    {
     "name": "stdout",
     "output_type": "stream",
     "text": [
      "0.5004553219178074\n"
     ]
    }
   ],
   "source": [
    "r_float = random.random()   # Returns v such that 0.0 <= v < 1.0\n",
    "print(r_float)"
   ]
  },
  {
   "cell_type": "markdown",
   "id": "e632deee",
   "metadata": {},
   "source": [
    "There is no confusion in interpreting the name `random.random`.  The \n",
    "part before the `.` is in the namespace of your program, so it \n",
    "refers to the module.  The part after the `.` is in the namespace of \n",
    "the module, so it refers to function `random` found in module \n",
    "`random`. \n",
    "\n",
    ":::{note}\n",
    "This section introduces many closely related terms like _scope_, \n",
    "_namespace_, and _frame_, as well as some terms like _argument_ that \n",
    "are often used interchangeably with other terms like _parameter_ in \n",
    "Python documentation.  It can be confusing!  We have provided\n",
    "a short [discussion of terminology](02-04-Terms.md) to help you\n",
    "keep them straight.\n",
    ":::\n",
    "\n",
    "\n",
    "### Finding useful modules\n",
    "\n",
    "It is not practical to memorize the names of all the modules in the \n",
    "Python standard library, let alone all the functions in all those \n",
    "modules.  Just bookmark the \n",
    "[standard library documentation](\n",
    "https://docs.python.org/3/library/index.html)\n",
    "and search.  The modules are mostly well-named and \n",
    "have clear, concise descriptions that will help you find what you \n",
    "need.   Once again, the modules you use often will stick in memory \n",
    "without conscious attempts at memorization.\n",
    "\n",
    "\n",
    "## Defining and calling a function \n",
    "\n",
    "Recall that a Python function can be created by writing a function \n",
    "_header_ (starting with `def`) to define how it is called, and a \n",
    "function _body_ that describes how it works.  Here is a simple \n",
    "function that returns the absolute difference between two integer \n",
    "values: \n",
    "\n",
    "```{code-block} python3\n",
    "def abs_diff(x: int, y: int) -> int:\n",
    "    \"\"\"Absolute value of the difference between x and y.\"\"\"\n",
    "    if x > y: \n",
    "        return x - y\n",
    "    else: \n",
    "        return y - x\n",
    "```\n",
    "\n",
    "The name of the new function will be `abs_diff`.  Following\n",
    "[Python naming conventions](https://peps.python.org/pep-0008/), it \n",
    "is made of lower case letters (no capital letters), with parts \n",
    "separated by underscore (\"`_`\").  The following\n",
    "[chapter on pragmatics](02-03-Hygiene.md)\n",
    "discusses the choice of name in more depth. \n",
    "\n",
    "Function `abs_diff` has two _arguments_, also called _formal \n",
    "parameters_, `x` and `y`.   The _actual arguments_ passed to \n",
    "`abs_diff` must be `int` objects representing integers.  The \n",
    "function header also indicates that `abs_diff` will return a single \n",
    "`int` value.  This information comprises the _signature_ of\n",
    "function `abs_diff`, which is _(int, int) -> int_.  This is enough \n",
    "to tell us that `x = abs_diff(5, 7)` is a legal assignment that\n",
    "assigns an `int` value to `x`, but `abs_diff(\"cats\", \"dogs\")` is\n",
    "an error, as is `abs_diff(3, 2) + \"turtles\"`.\n",
    "\n",
    "Less obviously, `abs_diff(3.2, 5.4)` is a programming error, even \n",
    "though it will return 2.2.  This is because the header of a function \n",
    "is a sort of contract between the author of the function and anyone \n",
    "who calls that function (even if they are the same person).  Passing \n",
    "a floating point number like 3.2 to `abs_diff` breaks that contract.\n",
    "As [the next chapter](02-03-Hygiene.md) discusses in more depth,\n",
    "it is essential that a programmer who wants to make use of\n",
    "`abs_diff` be able to depend entirely on the contract given by\n",
    "the function header and docstring, without referring to the body of \n",
    "the function. \n",
    "\n",
    "\n",
    "## Scope\n",
    "\n",
    "We saw earlier that when we call a function, the values we \"pass\" to \n",
    "the function are assigned to the formal arguments, which might have \n",
    "different names than the variables that we pass:"
   ]
  },
  {
   "cell_type": "code",
   "execution_count": 4,
   "id": "cd2e3b3c",
   "metadata": {
    "tags": [
     "raises-exception"
    ]
   },
   "outputs": [
    {
     "name": "stdout",
     "output_type": "stream",
     "text": [
      "3\n"
     ]
    },
    {
     "ename": "NameError",
     "evalue": "name 'a' is not defined",
     "output_type": "error",
     "traceback": [
      "\u001b[0;31m---------------------------------------------------------------------------\u001b[0m",
      "\u001b[0;31mNameError\u001b[0m                                 Traceback (most recent call last)",
      "Input \u001b[0;32mIn [4]\u001b[0m, in \u001b[0;36m<cell line: 9>\u001b[0;34m()\u001b[0m\n\u001b[1;32m      7\u001b[0m z \u001b[38;5;241m=\u001b[39m diff(x, y)\n\u001b[1;32m      8\u001b[0m \u001b[38;5;28mprint\u001b[39m(z)\n\u001b[0;32m----> 9\u001b[0m \u001b[38;5;28mprint\u001b[39m(\u001b[43ma\u001b[49m)\n",
      "\u001b[0;31mNameError\u001b[0m: name 'a' is not defined"
     ]
    }
   ],
   "source": [
    "def diff(a: int, b: int) -> int:\n",
    "    \"\"\"Returns a - b.\"\"\"\n",
    "    return a - b\n",
    "\n",
    "x = 17\n",
    "y = 14\n",
    "z = diff(x, y)\n",
    "print(z)\n",
    "print(a)     # Error!  Variable a doesn't exist here. "
   ]
  },
  {
   "cell_type": "markdown",
   "id": "76bf2d68",
   "metadata": {},
   "source": [
    "It may help to see this example step-by-step in PythonTutor.  If you \n",
    "are viewing this chapter in a web browser, use the \n",
    "\"next\" button in the frame below to step through it. \n",
    "\n",
    "<iframe width=\"800\" height=\"500\" frameborder=\"0\" src=\"https://pythontutor.com/iframe-embed.html#code=def%20diff%28a%3A%20int,%20b%3A%20int%29%20-%3E%20int%3A%0A%20%20%20%20%22%22%22Returns%20a%20-%20b.%22%22%22%0A%20%20%20%20return%20a%20-%20b%0A%0Ax%20%3D%2017%0Ay%20%3D%2014%0Az%20%3D%20diff%28x,%20y%29%0Aprint%28z%29%0Aprint%28a%29%20%20%20%20%20%23%20Error!%20%20Variable%20a%20doesn't%20exist%20here.&codeDivHeight=400&codeDivWidth=350&cumulative=false&curInstr=0&heapPrimitives=nevernest&origin=opt-frontend.js&py=3&rawInputLstJSON=%5B%5D&textReferences=false\"> </iframe>\n",
    "\n",
    "In the example above, function `diff`, the value of `x` is assigned \n",
    "to the formal argument `a` and the value of `y` is assigned to the \n",
    "formal argument `b`, so we get `17 - 14` which is 3.  Also, the \n",
    "variables `a` and `b` exist only while `diff` is executing, so the \n",
    "final statement will cause an error (\"NameError\", which \n",
    "basically means there is no variable `a` at that point in the program.)\n",
    "\n",
    "If you assign to a variable within a function, that variable will \n",
    "likewise exist only as long as the function is executing."
   ]
  },
  {
   "cell_type": "code",
   "execution_count": 5,
   "id": "8f99e2f3",
   "metadata": {
    "tags": [
     "raises-exception"
    ]
   },
   "outputs": [
    {
     "name": "stdout",
     "output_type": "stream",
     "text": [
      "42\n"
     ]
    },
    {
     "ename": "NameError",
     "evalue": "name 'thing' is not defined",
     "output_type": "error",
     "traceback": [
      "\u001b[0;31m---------------------------------------------------------------------------\u001b[0m",
      "\u001b[0;31mNameError\u001b[0m                                 Traceback (most recent call last)",
      "Input \u001b[0;32mIn [5]\u001b[0m, in \u001b[0;36m<cell line: 8>\u001b[0;34m()\u001b[0m\n\u001b[1;32m      6\u001b[0m x \u001b[38;5;241m=\u001b[39m example(\u001b[38;5;241m41\u001b[39m)\n\u001b[1;32m      7\u001b[0m \u001b[38;5;28mprint\u001b[39m(x)\n\u001b[0;32m----> 8\u001b[0m \u001b[38;5;28mprint\u001b[39m(\u001b[43mthing\u001b[49m)\n",
      "\u001b[0;31mNameError\u001b[0m: name 'thing' is not defined"
     ]
    }
   ],
   "source": [
    "def example(a: int) -> int:\n",
    "    \"\"\"Example return a + 1.\"\"\"\n",
    "    thing = a\n",
    "    return thing + 1\n",
    "    \n",
    "x = example(41)\n",
    "print(x)\n",
    "print(thing)    # No thing here! "
   ]
  },
  {
   "cell_type": "markdown",
   "id": "d54eec6c",
   "metadata": {},
   "source": [
    "You can also \n",
    "[step through this example in PythonTutor.](\n",
    "https://pythontutor.com/render.html#code=def%20example%28a%3A%20int%29%20-%3E%20int%3A%0A%20%20%20%20%22%22%22Example%20return%20a%20%2B%201.%22%22%22%0A%20%20%20%20thing%20%3D%20a%0A%20%20%20%20return%20thing%20%2B%201%0A%20%20%20%20%0Ax%20%3D%20example%2841%29%0Aprint%28x%29%0Aprint%28thing%29%20%20%20%20%23%20No%20thing%20here!&cumulative=false&curInstr=0&heapPrimitives=nevernest&mode=display&origin=opt-frontend.js&py=3&rawInputLstJSON=%5B%5D&textReferences=false\n",
    ")\n",
    "\n",
    "We say that both `a` and `thing` exist in the _local scope_ of \n",
    "function `example`.   It is even possible for two or more variables \n",
    "with the same name to exist in different scopes."
   ]
  },
  {
   "cell_type": "code",
   "execution_count": 6,
   "id": "67f9daa9",
   "metadata": {},
   "outputs": [
    {
     "name": "stdout",
     "output_type": "stream",
     "text": [
      "x is bound to 23 within example\n",
      "y is bound to 77 within example\n",
      "m is bound to 23 within example\n",
      "After example, x is bound to 23\n",
      "After example, y is bound to 42\n",
      "After example, m is bound to 19\n"
     ]
    }
   ],
   "source": [
    "# Global scope (global frame or namespace)\n",
    "x = 23\n",
    "y = 42\n",
    "m = 19\n",
    "\n",
    "def example(m: int):\n",
    "    \"\"\"Example to illustrate scope\"\"\"\n",
    "    y = 77\n",
    "    print(f\"x is bound to {x} within example\")\n",
    "    print(f\"y is bound to {y} within example\")\n",
    "    print(f\"m is bound to {m} within example\")\n",
    "\n",
    "# Executing \"example\" creates the new local scope\n",
    "example(x)\n",
    "# When \"example\" finishes, the new scope is deleted\n",
    "\n",
    "print(f\"After example, x is bound to {x}\")\n",
    "print(f\"After example, y is bound to {y}\")\n",
    "print(f\"After example, m is bound to {m}\")"
   ]
  },
  {
   "cell_type": "markdown",
   "id": "4e64722d",
   "metadata": {},
   "source": [
    "You can\n",
    "[step through this example in PythonTutor](\n",
    "https://pythontutor.com/render.html#code=%23%20Global%20scope%0Ax%20%3D%2023%0Ay%20%3D%2042%0Am%20%3D%2019%0A%0Adef%20example%28m%3A%20int%29%3A%0A%20%20%20%20%22%22%22Example%20to%20illustrate%20scope%22%22%22%0A%20%20%20%20y%20%3D%2077%0A%20%20%20%20print%28f%22x%20is%20bound%20to%20%7Bx%7D%20within%20example%22%29%0A%20%20%20%20print%28f%22y%20is%20bound%20to%20%7By%7D%20within%20example%22%29%0A%20%20%20%20print%28f%22m%20is%20bound%20to%20%7Bm%7D%20within%20example%22%29%0A%0A%23%20Executing%20%22example%22%20creates%20the%20new%20scope%0Aexample%28x%29%0A%23%20When%20%22example%22%20finishes,%20the%20new%20scope%20is%20deleted%0A%0Aprint%28f%22After%20example,%20x%20is%20bound%20to%20%7Bx%7D%22%29%0Aprint%28f%22After%20example,%20y%20is%20bound%20to%20%7By%7D%22%29%0Aprint%28f%22After%20example,%20m%20is%20bound%20to%20%7Bm%7D%22%29&cumulative=false&curInstr=0&heapPrimitives=nevernest&mode=display&origin=opt-frontend.js&py=3&rawInputLstJSON=%5B%5D&textReferences=false\n",
    ")\n",
    "\n",
    "During execution of `example(x)`, the scopes created by the example \n",
    "above look like this: \n",
    "\n",
    "![Scopes during execution of `example(x)`](img/bind_stack.png)\n",
    "\n",
    "There are several things to notice: \n",
    "\n",
    "- Although there are two name spaces (scopes or frames) in the example, \n",
    "  there\n",
    "  is only one object space.  PythonTutor shows the `int` values\n",
    "  directly in frames as a simplification, but they are actually\n",
    "  objects in object space.  \n",
    "- When we call `example(x)`, the value\n",
    "  bound to `x` in the global scope is bound to `m` in the scope of\n",
    "  `example(x)`.  We say that the \"actual argument\" `x` is bound to \n",
    "  the \"formal argument\" `m` in `example(m: int)`.  This is always\n",
    "  how values are passed to functions in Python.\n",
    "- The same value, an `int` object containing the integer 23, is\n",
    "  bound to more than one name.  This is called _aliasing_.  \n",
    "  It will become important when we consider objects like \n",
    "  lists that can be modified, with intentional effects\n",
    "  or unintentional [side effects](Functions:Hygiene:side-effects).\n",
    "\n",
    "\n",
    "Aliasing of the same int object to the name `m` in the \n",
    "execution of `example`, and to `x` in the global namespace, is \n",
    "hardly noticeable.  We might compute some new value by adding the \n",
    "values of 23 and 42, but that would be an entirely new `int` object. \n",
    "We would not be changing the int object `23` mean something else \n",
    "(thank goodness).  We call `int` objects _immutable_ because they \n",
    "can never change value. \n",
    "\n",
    "You can watch the example in action with\n",
    "[Python Tutor](https://pythontutor.com/render.html#code=%23%20Global%20scope%0Ax%20%3D%2023%0Ay%20%3D%2042%0Am%20%3D%2019%0A%0Adef%20example%28m%3A%20int%29%3A%0A%20%20%20%20y%20%3D%2077%0A%20%20%20%20print%28f%22x%20is%20bound%20to%20%7Bx%7D%20within%20example%22%29%0A%20%20%20%20print%28f%22y%20is%20bound%20to%20%7By%7D%20within%20example%22%29%0A%20%20%20%20print%28f%22m%20is%20bound%20to%20%7Bm%7D%20within%20example%22%29%0A%0A%23%20Executing%20%22example%22%20creates%20the%20new%20scope%0Aexample%28x%29%0A%23%20When%20%22example%22%20finishes,%20the%20new%20scope%20is%20deleted%0A%0Aprint%28f%22After%20example,%20x%20is%20bound%20to%20%7Bx%7D%22%29%0Aprint%28f%22After%20example,%20y%20is%20bound%20to%20%7By%7D%22%29%0Aprint%28f%22After%20example,%20m%20is%20bound%20to%20%7Bm%7D%22%29&cumulative=false&curInstr=7&heapPrimitives=nevernest&mode=display&origin=opt-frontend.js&py=3&rawInputLstJSON=%5B%5D&textReferences=false).\n",
    "It should look very similar to our illustration above, except Python \n",
    "Tutor will not draw the `int` objects in the object space.  They \n",
    "really are objects, but Python Tutor draws the integer values \n",
    "without the objects that hold them to reduce clutter. \n",
    "\n",
    "## Global variables\n",
    "\n",
    "Generally we want to keep the local variables in one function \n",
    "execution completely separate not only from the local variables of \n",
    "other functions, but also from the global namespace of our program. \n",
    "We do _not_ want to write code like this:"
   ]
  },
  {
   "cell_type": "code",
   "execution_count": 7,
   "id": "dd708c54",
   "metadata": {},
   "outputs": [
    {
     "name": "stdout",
     "output_type": "stream",
     "text": [
      "[1, 2, 3]\n"
     ]
    }
   ],
   "source": [
    "def bad_bad_bad(x: int):\n",
    "    \"\"\"Don't do this!\"\"\"\n",
    "    s.append(x)   # s is not local to bad_bad_bad. \n",
    "    \n",
    "s = [1, 2]\n",
    "bad_bad_bad(3)    # Not obvious that we are changing s! \n",
    "print(s)"
   ]
  },
  {
   "cell_type": "markdown",
   "id": "1e6d53a5",
   "metadata": {},
   "source": [
    "In this example, `bad_bad_bad` is a function that accesses and \n",
    "even changes the variable called `s`, not in its own namespace (the \n",
    "local scope of the function) but in the global scope of the program.\n",
    "The function is at least appropriately named.  This is almost always \n",
    "a bad idea.  Python nonetheless permits it because there are a few, \n",
    "rare cases in which accessing a global variable is needed.  \n",
    "\n",
    "If you are reading the online version of this text, you can\n",
    "[step through `bad_bad_bad` in PythonTutor](\n",
    "https://pythontutor.com/render.html#code=def%20bad_bad_bad%28x%3A%20int%29%3A%0A%20%20%20%20%22%22%22Don't%20do%20this!%22%22%22%0A%20%20%20%20s.append%28x%29%20%20%20%23%20s%20is%20not%20local%20to%20bad_bad_bad.%20%0A%20%20%20%20%0As%20%3D%20%5B1,%202%5D%0Abad_bad_bad%283%29%20%20%20%20%23%20Not%20obvious%20that%20we%20are%20changing%20s!%20%0Aprint%28s%29&cumulative=false&curInstr=0&heapPrimitives=nevernest&mode=display&origin=opt-frontend.js&py=3&rawInputLstJSON=%5B%5D&textReferences=false). \n",
    "\n",
    "One case in which we might need to access a global variable from \n",
    "within a function is when the global variable is some kind of fixed \n",
    "constant or configuration.  For example, an anagram finder might \n",
    "depend on a file that holds a list of dictionary words.  We do not \n",
    "want to bury the name of that file inside some function.  We might \n",
    "instead define it near the beginning of the program as a _global \n",
    "constant_, like the variable `DICT` in the Jumbler project: \n",
    "\n",
    "```python\n",
    "DICT = \"shortdict.txt\"    # Short version for testing & debugging\n",
    "# DICT = \"dict.txt\"       # Full dictionary word list\n",
    "\n",
    "# ... other code ... \n",
    "\n",
    "def find(anagram: str):\n",
    "    \"\"\"Print words in DICT that match anagram.\n",
    "    ... test cases here ... \n",
    "    \"\"\"\n",
    "    dict_file = open(DICT, \"r\") \n",
    "    #  Reference to DICT is better than burying\n",
    "    #  the configuration setting here in the function.\n",
    "    for line in dict_file:\n",
    "          word = line.strip()\n",
    "          if word == anagram:\n",
    "              print(word)\n",
    "```\n",
    "\n",
    "Note the Python convention of using all upper case letters to make it \n",
    "clear to readers of this code that `DICT` is a global variable.  \n",
    "\n",
    "Very rarely we might need to update a global variable from within a \n",
    "function.  This is quite unusual, and never something to be done \n",
    "without first considering alternatives.  One of those rare cases is \n",
    "when for some reason we need to keep a count of how many times a \n",
    "function has been called.  We cannot keep the count in a variable \n",
    "that is local to the function, because then the local variable would \n",
    "disappear after each call.  A new variable would be created each \n",
    "time the function is called.   This code will not even work:"
   ]
  },
  {
   "cell_type": "code",
   "execution_count": 8,
   "id": "d06e0194",
   "metadata": {
    "tags": [
     "raises-exception"
    ]
   },
   "outputs": [
    {
     "ename": "UnboundLocalError",
     "evalue": "local variable 'count_foo' referenced before assignment",
     "output_type": "error",
     "traceback": [
      "\u001b[0;31m---------------------------------------------------------------------------\u001b[0m",
      "\u001b[0;31mUnboundLocalError\u001b[0m                         Traceback (most recent call last)",
      "Input \u001b[0;32mIn [8]\u001b[0m, in \u001b[0;36m<cell line: 8>\u001b[0;34m()\u001b[0m\n\u001b[1;32m      5\u001b[0m   count_foo \u001b[38;5;241m=\u001b[39m count_foo \u001b[38;5;241m+\u001b[39m \u001b[38;5;241m1\u001b[39m\n\u001b[1;32m      6\u001b[0m   \u001b[38;5;28;01mreturn\u001b[39;00m count_foo\n\u001b[0;32m----> 8\u001b[0m \u001b[38;5;28mprint\u001b[39m(\u001b[43mfoo\u001b[49m\u001b[43m(\u001b[49m\u001b[43m)\u001b[49m)\n\u001b[1;32m      9\u001b[0m \u001b[38;5;28mprint\u001b[39m(foo())\n\u001b[1;32m     10\u001b[0m \u001b[38;5;28mprint\u001b[39m(foo())\n",
      "Input \u001b[0;32mIn [8]\u001b[0m, in \u001b[0;36mfoo\u001b[0;34m()\u001b[0m\n\u001b[1;32m      3\u001b[0m \u001b[38;5;28;01mdef\u001b[39;00m \u001b[38;5;21mfoo\u001b[39m() \u001b[38;5;241m-\u001b[39m\u001b[38;5;241m>\u001b[39m \u001b[38;5;28mint\u001b[39m: \n\u001b[1;32m      4\u001b[0m   \u001b[38;5;124;03m\"\"\"This will not work!\"\"\"\u001b[39;00m\n\u001b[0;32m----> 5\u001b[0m   count_foo \u001b[38;5;241m=\u001b[39m \u001b[43mcount_foo\u001b[49m \u001b[38;5;241m+\u001b[39m \u001b[38;5;241m1\u001b[39m\n\u001b[1;32m      6\u001b[0m   \u001b[38;5;28;01mreturn\u001b[39;00m count_foo\n",
      "\u001b[0;31mUnboundLocalError\u001b[0m: local variable 'count_foo' referenced before assignment"
     ]
    }
   ],
   "source": [
    "count_foo = 0\n",
    "\n",
    "def foo() -> int: \n",
    "  \"\"\"This will not work!\"\"\"\n",
    "  count_foo = count_foo + 1\n",
    "  return count_foo\n",
    "  \n",
    "print(foo())\n",
    "print(foo())\n",
    "print(foo())"
   ]
  },
  {
   "cell_type": "markdown",
   "id": "b773521e",
   "metadata": {},
   "source": [
    "What happened here?  While we may have intended to access the global \n",
    "variable `count_foo` from within `foo`, we did not. Because there is \n",
    "an assignment to `count_foo`, Python has created a local variable \n",
    "`count_foo`.  It has the same name, but it is not the same variable, \n",
    "because it is in the namespace (scope) of the execution of function \n",
    "`foo`.  When Python attempts to evaluate `count_foo + 1`, it \n",
    "references  the local variable `count_foo` and finds that it does not \n",
    "yet have a value. Hence the \"UnboundLocalError\". \n",
    "\n",
    "If we really, really wanted to reference and change a global \n",
    "variable, Python will allow us to _explicitly_ declare that it is \n",
    "the global variable `count_foo` we want to refer to, and not a new \n",
    "local variable with the same name."
   ]
  },
  {
   "cell_type": "code",
   "execution_count": 9,
   "id": "f3813c4e",
   "metadata": {},
   "outputs": [
    {
     "name": "stdout",
     "output_type": "stream",
     "text": [
      "1\n",
      "2\n",
      "3\n"
     ]
    }
   ],
   "source": [
    "count_foo = 0\n",
    "\n",
    "def foo() -> int: \n",
    "    \"\"\"This will work.  That doesn't make it a good idea.\"\"\"\n",
    "    global count_foo\n",
    "    count_foo = count_foo + 1\n",
    "    return count_foo\n",
    "  \n",
    "print(foo())\n",
    "print(foo())\n",
    "print(foo())"
   ]
  },
  {
   "cell_type": "markdown",
   "id": "8ba3acc2",
   "metadata": {},
   "source": [
    "If you are reading online, you can\n",
    "[trace it in PythonTutor](\n",
    "https://pythontutor.com/render.html#code=count_foo%20%3D%200%0A%0Adef%20foo%28%29%20-%3E%20int%3A%20%0A%20%20%20%20%22%22%22This%20will%20work.%20%20That%20doesn't%20make%20it%20a%20good%20idea.%22%22%22%0A%20%20%20%20global%20count_foo%0A%20%20%20%20count_foo%20%3D%20count_foo%20%2B%201%0A%20%20%20%20return%20count_foo%0A%20%20%0Aprint%28foo%28%29%29%0Aprint%28foo%28%29%29%0Aprint%28foo%28%29%29&cumulative=false&curInstr=0&heapPrimitives=nevernest&mode=display&origin=opt-frontend.js&py=3&rawInputLstJSON=%5B%5D&textReferences=false\n",
    ").\n",
    "\n",
    "## Hygiene and pragmatics\n",
    "\n",
    "Even in this section devoted to the basic mechanics of defining and \n",
    "calling functions, it has been difficult to completely avoid talking \n",
    "about _good_ and _bad_ approaches.  The\n",
    "[next section](02-03-Hygiene.md)\n",
    "takes up hygiene of function design in more depth.  \n",
    "Instructions for [our project](https://github.com/UO-CS210/pi)\n",
    "discusses pragmatics of choosing parts of the code to decompose into \n",
    "functions. \n",
    "\n",
    "## Terminology\n",
    "\n",
    "The many terms like _scope_ and _frame_ can be confusing, especially \n",
    "since you will encounter different names for the same or closely \n",
    "related concepts in documentation.  We have provided a brief\n",
    "[terminology review](02-04-Terms.md) to help you sort them out."
   ]
  }
 ],
 "metadata": {
  "jupytext": {
   "formats": "md:myst",
   "text_representation": {
    "extension": ".myst",
    "format_name": "myst",
    "format_version": 1.1,
    "jupytext_version": "1.10.3"
   }
  },
  "kernelspec": {
   "display_name": "Python 3",
   "language": "python",
   "name": "python3"
  },
  "language_info": {
   "codemirror_mode": {
    "name": "ipython",
    "version": 3
   },
   "file_extension": ".py",
   "mimetype": "text/x-python",
   "name": "python",
   "nbconvert_exporter": "python",
   "pygments_lexer": "ipython3",
   "version": "3.10.2"
  },
  "source_map": [
   13,
   77,
   79,
   85,
   88,
   107,
   110,
   192,
   204,
   222,
   233,
   244,
   264,
   317,
   325,
   377,
   390,
   406,
   418
  ]
 },
 "nbformat": 4,
 "nbformat_minor": 5
}