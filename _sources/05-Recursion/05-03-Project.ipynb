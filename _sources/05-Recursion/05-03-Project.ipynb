{
 "cells": [
  {
   "cell_type": "markdown",
   "id": "e1650183",
   "metadata": {},
   "source": [
    "# Project\n",
    "\n",
    "[Flooding the Cave](https://github.com/UO-CS210/flood-fill,Links)\n",
    "is an introduction to recursion (functions that call themselves). It is\n",
    "a short project, with a minimum of distraction from the one key problem,\n",
    "a flood-fill function that spreads water in all directions within a\n",
    "chamber of a cave."
   ]
  }
 ],
 "metadata": {
  "jupytext": {
   "formats": "md:myst",
   "text_representation": {
    "extension": ".myst",
    "format_name": "myst",
    "format_version": 1.1,
    "jupytext_version": "1.10.3"
   }
  },
  "kernelspec": {
   "display_name": "Python 3",
   "language": "python",
   "name": "python3"
  },
  "language_info": {
   "codemirror_mode": {
    "name": "ipython",
    "version": 3
   },
   "file_extension": ".py",
   "mimetype": "text/x-python",
   "name": "python",
   "nbconvert_exporter": "python",
   "pygments_lexer": "ipython3",
   "version": "3.11.3"
  },
  "source_map": [
   13
  ]
 },
 "nbformat": 4,
 "nbformat_minor": 5
}