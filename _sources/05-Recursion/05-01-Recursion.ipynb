{
 "cells": [
  {
   "cell_type": "markdown",
   "id": "ec3d859d",
   "metadata": {},
   "source": [
    "# Recursive Functions\n",
    "\n",
    "We have written many functions that call other functions.  Could we \n",
    "write a function that calls itself?  A function that calls itself \n",
    "directly or indirectly is called a _recursive_ functon.\n",
    "We would have to be careful, of \n",
    "course.  The following will not work: \n",
    "\n",
    "```python3\n",
    "def mult_v1(a: int, b: int) -> int: \n",
    "        \"\"\"Use commutative law to multiply, a*b = b*a\"\"\"\n",
    "        return mult_v1(b, a)\n",
    "        \n",
    "print(mult_v1(5,3))\n",
    "```\n",
    "\n",
    "This circular definition of multiplication in terms of \n",
    "multiplication fails, as we expect.  It's a kind an _infinite \n",
    "recursive loop_.  Python will eventually report a `RecursionError` \n",
    "exception: \n",
    "\n",
    "```\n",
    "RecursionError: maximum recursion depth exceeded\n",
    "```\n",
    "\n",
    "And yet we can write a recursive function for multiplication. The \n",
    "following is a slow way to multiply integers, \n",
    "but it works:"
   ]
  },
  {
   "cell_type": "code",
   "execution_count": 1,
   "id": "3b9f2119",
   "metadata": {},
   "outputs": [
    {
     "name": "stdout",
     "output_type": "stream",
     "text": [
      "15\n"
     ]
    }
   ],
   "source": [
    "def mult_v2(a: int, b: int) -> int: \n",
    "    \"\"\"Multiplication by repeated addition.\n",
    "    a and b must be non-negative integers.\n",
    "    \"\"\"\n",
    "    if a == 0: \n",
    "        return 0\n",
    "    else: \n",
    "        return b + mult_v2(a - 1, b)\n",
    "    \n",
    "print(mult_v2(3, 5))"
   ]
  },
  {
   "cell_type": "markdown",
   "id": "505f3bc7",
   "metadata": {},
   "source": [
    "Why does `mult_v2` work, without causing an infinite \n",
    "recursive loop?   The key is that while `mult_v2` \n",
    "makes a recursive call on `mult_v2`, the same function, it does not \n",
    "call `mult_v2` on the same argument values.  The recursive call is made \n",
    "with a smaller value for `a`, until eventually `a` must be 0.  We \n",
    "can think of it as transforming `mult_v2(3, 5)` first into\n",
    "`5 + mult_v2(2, 5)`, then `5 + 5 + mult_v2(1, 5)`, then\n",
    "`5 + 5 + 5 + mult_v2(1, 5)`, and finally `5 + 5 + 5 + 0`.\n",
    "\n",
    "You can [visualize this progression in PythonTutor](\n",
    "https://pythontutor.com/render.html#code=def%20mult%28a%3A%20int,%20b%3A%20int%29%20-%3E%20int%3A%20%0A%20%20%20%20%22%22%22Multiplication%20by%20repeated%20addition.%0A%20%20%20%20a%20and%20b%20must%20be%20non-negative%20integers.%0A%20%20%20%20%22%22%22%0A%20%20%20%20if%20a%20%3D%3D%200%3A%20%0A%20%20%20%20%20%20%20%20return%200%0A%20%20%20%20else%3A%20%0A%20%20%20%20%20%20%20%20return%20b%20%2B%20mult%28a%20-%201,%20b%29%0A%20%20%20%20%0Aprint%28mult%283,%205%29%29&cumulative=false&curInstr=0&heapPrimitives=nevernest&mode=display&origin=opt-frontend.js&py=3&rawInputLstJSON=%5B%5D&textReferences=false). \n",
    "\n",
    "\n",
    "In `mult_v2`, the code is divided into a _base \n",
    "case_ (`a == 0`) and a _recursive case_ (`a > 0`, which we have \n",
    "simplified to `else`).  Our recursive functions will always have \n",
    "this structure.  The base case is a case that can be handled \n",
    "directly, without a recursive call.  The recursive case must make \n",
    "the recursive call on data values that are \"smaller\" in the sense \n",
    "that with repeated application the function must eventually reach \n",
    "the base case.  When we write recursive functions involving numbers, \n",
    "\"smaller\" is usually our familiar notion of \"smaller numbers\".  When \n",
    "we write other kinds of recursive functions, we may have to think \n",
    "harder about what \"smaller\" could mean, to guarantee that we always \n",
    "reach the base case. \n",
    "\n",
    "Recursion in computing is closely related to induction in \n",
    "mathematics.    Not surprisingly, then, many inductive definitions can \n",
    "be straightforwardly translated into recursive functions.  For \n",
    "example, the factorial function can be inductively defined as:\n",
    "$\n",
    "n! = \\left\\{ \\begin{array}{ll}\n",
    "            1 & \\textrm{if } n < 2\\\\\n",
    "            n \\times (n-1)! & \n",
    "              \\textrm{otherwise }\n",
    "            \\end{array}\n",
    "      \\right.\n",
    "$\n",
    "\n",
    "Again we see a _base case_ (n < 2) and a recursive (or inductive)\n",
    "case. Mathematicians might define the base case before or after the\n",
    "inductive case, but in programming we will almost always check the base \n",
    "case first.  We can translate the mathematical definition above to \n",
    "Python very simply:"
   ]
  },
  {
   "cell_type": "code",
   "execution_count": 2,
   "id": "915051dd",
   "metadata": {},
   "outputs": [
    {
     "data": {
      "text/plain": [
       "120"
      ]
     },
     "execution_count": 2,
     "metadata": {},
     "output_type": "execute_result"
    }
   ],
   "source": [
    "def factorial(n: int) -> int: \n",
    "    \"\"\"The inductive definition of factorial\"\"\"\n",
    "    if n < 2: \n",
    "        return 1\n",
    "    return n * factorial(n - 1)\n",
    "    \n",
    "factorial(5)"
   ]
  },
  {
   "cell_type": "markdown",
   "id": "b222d014",
   "metadata": {},
   "source": [
    "While math is full of inductive definitions that can become \n",
    "recursive functions, recursion is not limited to \n",
    "mathematical or numerical problems.   Often in computing, recursion \n",
    "is applied to collections (lists, dicts, etc).  Sometimes the \n",
    "recursive call is on a _smaller piece_ of a collection.  Other times \n",
    "the data itself is hierarchical, and the recursive calls follow the \n",
    "hierarchical structure of the data. \n",
    "\n",
    "## Shrinking pieces of a collection \n",
    "\n",
    "A palindrome is a word or phrase that is the same written forwards \n",
    "or backwards.  For example, \"kayak\" is a palindrome, as are \n",
    "\"rotator\" and \"wow\".  We can define palindromes inductively as \n",
    "follows: \n",
    "\n",
    "- A single letter word is always a palindrome (even if it's a very \n",
    "  boring palindrome).\n",
    "- The empty string is also a palindrome.\n",
    "- If some sequence of letters _w_ is a palindrome, and _x_ is a \n",
    "  letter, then _xwx_ is a palindrome. \n",
    "\n",
    "The first two parts of the definition may seem a little strange.  If \n",
    "you were asked for examples of palindromes, you probably would not \n",
    "answer with \"a\" or \"I\".  You almost certainly wouldn't answer with \n",
    "the empty string.  But strange as they seem, we need these as \n",
    "_base cases_!  (I will return to this below and write a \"helper \n",
    "function\" that can prevent us from accepting these trivial palindromes.)\n",
    "\n",
    "The third rule, which says that _xwx_ is a palindrome if _x_ is a \n",
    "letter and _w_ is a palindrome, is the recursive case.  The \n",
    "definition looks like it is adding a letter _x_ to both ends of a \n",
    "word, but we will use it backwards:  Given a word _xwy_, we will \n",
    "check whether _x_ and _y_ are the same letter, and then make the \n",
    "recursive call on a shorter word _w_.   \n",
    "\n",
    "This will be simpler with a list of letters than with a string.  \n",
    "Python makes it easy to get such a list of letters:"
   ]
  },
  {
   "cell_type": "code",
   "execution_count": 3,
   "id": "15616980",
   "metadata": {},
   "outputs": [
    {
     "data": {
      "text/plain": [
       "['h', 'o', 't', 'd', 'o', 'g']"
      ]
     },
     "execution_count": 3,
     "metadata": {},
     "output_type": "execute_result"
    }
   ],
   "source": [
    "list(\"hotdog\")"
   ]
  },
  {
   "cell_type": "markdown",
   "id": "89162587",
   "metadata": {},
   "source": [
    "Now I want to write a recursive function that returns `True` if its\n",
    "argument is a palindrome, and `False` otherwise.  In the first \n",
    "version, I'll use Python list operations to extract the first, last, \n",
    "and middle letters."
   ]
  },
  {
   "cell_type": "code",
   "execution_count": 4,
   "id": "a64160fe",
   "metadata": {},
   "outputs": [
    {
     "name": "stdout",
     "output_type": "stream",
     "text": [
      "'racecar' is a palindrome\n",
      "'noon' is a palindrome\n",
      "'faff' is NOT a palindrome\n",
      "'a' is a palindrome\n"
     ]
    }
   ],
   "source": [
    "def palindrome_v1(word: list[str]) -> bool: \n",
    "    \"\"\"True if word is a palindrome\"\"\"\n",
    "    # Base cases\n",
    "    if len(word) < 2:\n",
    "        return True\n",
    "    # Recursive case\n",
    "    x = word[0]     # First letter\n",
    "    w = word[1:-1]  # Middle letters, could be empty\n",
    "    y = word[-1]    # Last letter\n",
    "    return x == y and palindrome_v1(w)\n",
    "    \n",
    "def is_it_palindrome(word: str) -> bool:\n",
    "    \"\"\"Print palindrome judgment for a string\"\"\"\n",
    "    letters = list(word)\n",
    "    if palindrome_v1(letters):\n",
    "        print(f\"'{word}' is a palindrome\")\n",
    "    else:\n",
    "        print(f\"'{word}' is NOT a palindrome\")\n",
    "\n",
    "is_it_palindrome(\"racecar\")\n",
    "is_it_palindrome(\"noon\")\n",
    "is_it_palindrome(\"faff\")\n",
    "is_it_palindrome(\"a\")"
   ]
  },
  {
   "cell_type": "markdown",
   "id": "be80f1c6",
   "metadata": {},
   "source": [
    "You can [visualize the execution of `palindrome_v2` with Python Tutor]( \n",
    "https://pythontutor.com/render.html#code=from%20typing%20import%20List%20%20%23%20Required%20for%20Python%20v%203.6%0A%0Adef%20palindrome_v1%28word%3A%20List%5Bstr%5D%29%20-%3E%20bool%3A%20%0A%20%20%20%20%22%22%22True%20if%20word%20is%20a%20palindrome%22%22%22%0A%20%20%20%20%23%20Base%20cases%0A%20%20%20%20if%20len%28word%29%20%3C%202%3A%0A%20%20%20%20%20%20%20%20return%20True%0A%20%20%20%20%23%20Recursive%20case%0A%20%20%20%20x%20%3D%20word%5B0%5D%20%20%20%20%20%23%20First%20letter%0A%20%20%20%20w%20%3D%20word%5B1%3A-1%5D%20%20%23%20Middle%20letters,%20could%20be%20empty%0A%20%20%20%20y%20%3D%20word%5B-1%5D%20%20%20%20%23%20Last%20letter%0A%20%20%20%20return%20x%20%3D%3D%20y%20and%20palindrome_v1%28w%29%0A%20%20%20%20%0Adef%20is_it_palindrome%28word%3A%20str%29%20-%3E%20bool%3A%0A%20%20%20%20%22%22%22Print%20palindrome%20judgment%20for%20a%20string%22%22%22%0A%20%20%20%20letters%20%3D%20list%28word%29%0A%20%20%20%20if%20palindrome_v1%28letters%29%3A%0A%20%20%20%20%20%20%20%20print%28f%22'%7Bword%7D'%20is%20a%20palindrome%22%29%0A%20%20%20%20else%3A%0A%20%20%20%20%20%20%20%20print%28f%22'%7Bword%7D'%20is%20NOT%20a%20palindrome%22%29%0A%0Ais_it_palindrome%28%22racecar%22%29&cumulative=false&curInstr=34&heapPrimitives=nevernest&mode=display&origin=opt-frontend.js&py=3&rawInputLstJSON=%5B%5D&textReferences=false\n",
    "). \n",
    "\n",
    "## Logical values\n",
    "\n",
    "Sometimes the value that becomes \"smaller\" with each recursive call \n",
    "is not the value of an individual variable, but some conceptual \n",
    "value that can derived from one or several variables.  I will call \n",
    "these \"logical values\" (as versus \"physical values\" in an individual \n",
    "variable); another term \n",
    "you might encounter is \"ghost variables\".  \n",
    "\n",
    "Instead of \n",
    "decomposing the list of letters in `word` as in `palindrome_v1`, we \n",
    "might pass indexes of the first and last letters considered.  Then \n",
    "we can pass the same list in a recursive call, but make the _logical_ \n",
    "value smaller by passing different indexes of the first and last \n",
    "letter under consideration, stopping when they cross (indicating an \n",
    "empty word) or meet (indicating a word of one character). \n",
    "\n",
    "![Recursive calls passing index of first and last letter in \n",
    "\"logical\" word value](img/racecar-palindrome.png)\n",
    "\n",
    "Instead of checking whether `len(word) < 2`, we will check whether \n",
    "`last - first < 1`."
   ]
  },
  {
   "cell_type": "code",
   "execution_count": 5,
   "id": "4e16ea15",
   "metadata": {},
   "outputs": [
    {
     "name": "stdout",
     "output_type": "stream",
     "text": [
      "'racecar' is a palindrome\n",
      "'noon' is a palindrome\n",
      "'faff' is NOT a palindrome\n",
      "'a' is a palindrome\n"
     ]
    }
   ],
   "source": [
    "def palindrome_v2(word: list[str], first: int, last: int) -> bool: \n",
    "    \"\"\"True if word[first:last] is a palindrome.\n",
    "    first and last must be non-negative integers.\n",
    "    \"\"\"\n",
    "    # Base cases\n",
    "    if last - first < 1:\n",
    "        return True\n",
    "    # Recursive case\n",
    "    x = word[first]\n",
    "    y = word[last]\n",
    "    return x == y and palindrome_v2(word, first+1, last-1)\n",
    "    \n",
    "def is_it_palindrome(word: str) -> bool:\n",
    "    \"\"\"Print palindrome judgment for a string\"\"\"\n",
    "    letters = list(word)\n",
    "    if palindrome_v2(letters, 0, len(letters)-1):\n",
    "        print(f\"'{word}' is a palindrome\")\n",
    "    else:\n",
    "        print(f\"'{word}' is NOT a palindrome\")\n",
    "\n",
    "is_it_palindrome(\"racecar\")\n",
    "is_it_palindrome(\"noon\")\n",
    "is_it_palindrome(\"faff\")\n",
    "is_it_palindrome(\"a\")"
   ]
  },
  {
   "cell_type": "markdown",
   "id": "16f1fbe6",
   "metadata": {},
   "source": [
    "(final-palindrome)=\n",
    "## A wrapper function\n",
    "\n",
    "We noted above that we might not like to consider \"a\" or \"I\" \n",
    "palindromes, and we might especially not like considering the empty \n",
    "string \"\" a palindrome.  Also `palindrome_v2` takes a list and two \n",
    "integers as arguments.  We'd rather have a function that takes a \n",
    "string and returns `True` only if that string is a palindrome of at \n",
    "least two letters.  A typical way of \"fixing up\" a function is by \n",
    "writing another function to \"wrap\" it.  \n",
    "\n",
    "By convention in Python,  a name that begins with an underscore \n",
    "character (`\"_\"`) is \"hidden\" or \"internal\" to a module.  For \n",
    "palindrome \n",
    "checking, we can give the _wrapper_ function a \"public\" name \n",
    "`palindrome`, and use `_palindrome` for its internal partner that \n",
    "does the main work.   The wrapper function `palindrome` will just \n",
    "check the special cases (rejecting empty and one-letter candidates) \n",
    "and call the internal function `_palindrome` with the arguments it \n",
    "requires."
   ]
  },
  {
   "cell_type": "code",
   "execution_count": 6,
   "id": "6ac48f80",
   "metadata": {},
   "outputs": [
    {
     "name": "stdout",
     "output_type": "stream",
     "text": [
      "'racecar' is a palindrome\n",
      "'noon' is a palindrome\n",
      "'faff' is NOT a palindrome\n",
      "'a' is NOT a palindrome\n"
     ]
    }
   ],
   "source": [
    "def palindrome(word: str) -> bool: \n",
    "    \"\"\"Is word a palindrome of at least 2 letters?\"\"\"\n",
    "    if len(word) < 2: \n",
    "        return False\n",
    "    letters = list(word)\n",
    "    return _palindrome(letters, 0, len(letters)-1)\n",
    "    \n",
    "    \n",
    "def _palindrome(word: list[str], first: int, last: int) -> bool: \n",
    "    \"\"\"True if word[first:last] is a palindrome.\n",
    "    first and last must be non-negative integers.\n",
    "    \"\"\"\n",
    "    # Base cases\n",
    "    if last - first < 1:\n",
    "        return True\n",
    "    # Recursive case\n",
    "    x = word[first]\n",
    "    y = word[last]\n",
    "    return x == y and _palindrome(word, first+1, last-1)\n",
    "    \n",
    "    \n",
    "def is_it_palindrome(word: str) -> bool:\n",
    "    \"\"\"Print palindrome judgment for a string\"\"\"\n",
    "    if palindrome(word):\n",
    "        print(f\"'{word}' is a palindrome\")\n",
    "    else:\n",
    "        print(f\"'{word}' is NOT a palindrome\")\n",
    "\n",
    "\n",
    "is_it_palindrome(\"racecar\")\n",
    "is_it_palindrome(\"noon\")\n",
    "is_it_palindrome(\"faff\")\n",
    "is_it_palindrome(\"a\")"
   ]
  },
  {
   "cell_type": "markdown",
   "id": "f2a972b3",
   "metadata": {},
   "source": [
    "Note that the wrapper function rejected \"a\". \n",
    "\n",
    "[Our project for this week](\n",
    "https://github.com/UO-CS210/flood-fill\n",
    ") makes recursive calls to fill cells in a grid.  The grid is always \n",
    "the same size in the recursive calls, but the \"logical value\" that \n",
    "gets smaller is the number of cells that can be filled.  This \n",
    "logical value must be smaller with each level of recursive call, and \n",
    "when it is zero the base case must apply, ending the recursion. \n",
    "\n",
    "We will see other projects in which recursive calls are made with \n",
    "the same collection (usually a list) but with smaller and smaller \n",
    "logical portions of that collection. \n",
    "\n",
    "## Recursion for hierarchical data structures\n",
    "\n",
    "We have seen that lists can be nested within lists.  So far we have \n",
    "used lists within lists mainly to represent grids or matrices.\n",
    "We might also encounter more \n",
    "irregular nested structures.  We might not know in advance how \n",
    "deeply the lists will be nested or how long they will be.  \n",
    "\n",
    "How could we sum the integers in a nest of lists like this?\n",
    "\n",
    "```python\n",
    "[[1, 2, [3, 4], 5, [6, 7], 8], 9]\n",
    "```\n",
    "\n",
    "Python provides an `isinstance` function that we can use to \n",
    "determine whether a value is a `list`, an `int`, or something else:"
   ]
  },
  {
   "cell_type": "code",
   "execution_count": 7,
   "id": "f3ac3e9f",
   "metadata": {},
   "outputs": [
    {
     "name": "stdout",
     "output_type": "stream",
     "text": [
      "[[1, 2, [3, 4], 5, [6, 7], 8], 9] is a list!\n",
      "4 is an integer!\n"
     ]
    }
   ],
   "source": [
    "def what_is_that(v):\n",
    "    \"\"\"Print a description of v\"\"\"\n",
    "    if isinstance(v, list): \n",
    "        print(f\"{v} is a list!\")\n",
    "    elif isinstance(v, int):\n",
    "        print(f\"{v} is an integer!\")\n",
    "    else:  \n",
    "        print(f\"{v} is neither a list nor an integer\")\n",
    "        \n",
    "what_is_that([[1, 2, [3, 4], 5, [6, 7], 8], 9])\n",
    "what_is_that(4)"
   ]
  },
  {
   "cell_type": "markdown",
   "id": "2deb3fd1",
   "metadata": {},
   "source": [
    "We can use `isinstance` to distinguish between the base case and \n",
    "recursive case in a function to sum the integers in nested lists \n",
    "like the example above."
   ]
  },
  {
   "cell_type": "code",
   "execution_count": 8,
   "id": "4e520b6e",
   "metadata": {},
   "outputs": [
    {
     "name": "stdout",
     "output_type": "stream",
     "text": [
      "10\n",
      "45\n"
     ]
    }
   ],
   "source": [
    "def sum_atoms(m: object) -> int: \n",
    "    \"\"\"Sum the integer elements of nested lists\"\"\"\n",
    "    if isinstance(m, int):\n",
    "        return m\n",
    "    if isinstance(m, list):\n",
    "        sum = 0\n",
    "        for el in m: \n",
    "            sum += sum_atoms(el)\n",
    "        return sum\n",
    "    # Neither an int nor a list?  Ignore it. \n",
    "    return 0\n",
    "    \n",
    "s = sum_atoms([1, [2, 3], 4])\n",
    "print(s)\n",
    "t = sum_atoms([[1, 2, [3, 4], 5, [6, 7], 8], 9])\n",
    "print(t)"
   ]
  },
  {
   "cell_type": "markdown",
   "id": "218512c9",
   "metadata": {},
   "source": [
    "Hierarchical data structures are very common:  For example, the \n",
    "Document Object Model (DOM) tree representation of a web\n",
    "page.  A web server transmits HTML web content to a browser as text \n",
    "with  \"tags\" like `<p>` and `<div>` describing its hieararchical \n",
    "structure. The browser \n",
    "transforms that text into a DOM tree that manifests the\n",
    "hierarchical structure (e.g., a paragraph (`<p>`) in the text might be \n",
    "nested within a division (`<div>`), which might be nested within \n",
    "another division.  If interaction is controlled by JavaScript \n",
    "functions, those functions act on the DOM tree, not the text.\n",
    "We will see many more examples of recursion with hierarchical data \n",
    "structures in later courses, when we have more techniques for \n",
    "building those data structures."
   ]
  }
 ],
 "metadata": {
  "jupytext": {
   "formats": "md:myst",
   "text_representation": {
    "extension": ".myst",
    "format_name": "myst",
    "format_version": 1.1,
    "jupytext_version": "1.10.3"
   }
  },
  "kernelspec": {
   "display_name": "Python 3",
   "language": "python",
   "name": "python3"
  },
  "language_info": {
   "codemirror_mode": {
    "name": "ipython",
    "version": 3
   },
   "file_extension": ".py",
   "mimetype": "text/x-python",
   "name": "python",
   "nbconvert_exporter": "python",
   "pygments_lexer": "ipython3",
   "version": "3.10.2"
  },
  "source_map": [
   13,
   44,
   55,
   102,
   110,
   150,
   152,
   159,
   183,
   212,
   237,
   260,
   294,
   327,
   339,
   345,
   362
  ]
 },
 "nbformat": 4,
 "nbformat_minor": 5
}