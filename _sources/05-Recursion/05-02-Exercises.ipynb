{
 "cells": [
  {
   "cell_type": "markdown",
   "id": "14b98527",
   "metadata": {},
   "source": [
    "#   Exercises\n",
    "\n",
    "1.   Complete the recursive function `subset_sums`.\n",
    "Students in Fall 2023 struggled with a version of this problem.\n",
    "See if you can \n",
    "solve it by making use of each of the facts in your recursive \n",
    "solution.   \n",
    "  \n",
    "  Note that `subset_sums(10, [1, 3, 5, 7])` returns `True`\n",
    "  because $3+7=10$, and `subset_sums(16, [1, 3, 5, 7])` returns\n",
    "  `True` because $1+3+5+7=16$, but\n",
    "  `subset_sums(12, [2, 3, 5, 8])` returns `False`\n",
    "  because no subset of the terms 2, 3, 5, and 8 (each used at most\n",
    "  once)  sum to 12.   \n",
    "\n",
    "Useful facts:\n",
    "\n",
    "- The sum of zero integers is zero.  Thus, `subset_sums(0, t)`\n",
    "  is always true, but `subset_sums(k, [])` is false if `k > 0`. \n",
    "- It is impossible to obtain a negative number by summing any \n",
    "  set of non-negative integers. \n",
    "- If  `k` is positive, then there are two ways\n",
    "the sum `k` could be produced:\n",
    "  - If `terms[0]` is included in the subset that sums to `k`, then it \n",
    "    must be possible to sum the remaining terms `terms[1:]`  to\n",
    "    `k - terms[0]`.   \n",
    "  - If `terms[0]` is not included in the subset that sums to `k`, then\n",
    "      it must be possible to sum the remaining terms to `k`.\n",
    "\n",
    "```python\n",
    "def subset_sums(k: int, terms: list[int]) -> bool:\n",
    "    \"\"\"Return True if it is possible to produce k by adding up\n",
    "    some subset of terms (using each term no more than once).\n",
    "    k is a positive integer or zero, and each element of terms is a\n",
    "    positive integer or zero.\n",
    "    \"\"\"\n",
    "    return False # FIXME\n",
    "\n",
    "print(subset_sums(10, [1, 3, 5, 7]))\n",
    "# Expect True\n",
    "\n",
    "print(subset_sums(12, [2, 3, 5, 8]))\n",
    "# Expect False\n",
    "```\n",
    "\n",
    "## Solutions to Exercises\n",
    "\n",
    "1. A solution to `subset_sums`.  We use the following facts: \n",
    "\n",
    "- The sum of zero integers is zero.  Thus, `subset_sums(0, t)`\n",
    "  is always true (Fact _ENOUGH_), \n",
    "  but `subset_sums(k, [])` is false if `k != 0`\n",
    "  (Fact _RAN OUT_).\n",
    "- It is impossible to obtain a negative number by summing any \n",
    "  set of non-negative integers.  (Fact _NEGATIVE_)\n",
    "- If  `k` is positive, then there are two ways\n",
    "the sum `k` could be produced:\n",
    "  - If `terms[0]` is included in the subset that sums to `k`, then it \n",
    "    must be possible to sum the remaining terms `terms[1:]`  to\n",
    "    `k - terms[0]`.   (Fact _INCLUDE_)\n",
    "  - If `terms[0]` is not included in the subset that sums to `k`, then\n",
    "      it must be possible to sum the remaining terms to `k`.\n",
    "    (Fact _EXCLUDE_)"
   ]
  },
  {
   "cell_type": "code",
   "execution_count": 1,
   "id": "0884a5b2",
   "metadata": {},
   "outputs": [
    {
     "name": "stdout",
     "output_type": "stream",
     "text": [
      "True\n",
      "False\n"
     ]
    }
   ],
   "source": [
    "def subset_sums(k: int, terms: list[int]) -> bool:\n",
    "    \"\"\"Return True if it is possible to produce k by adding up\n",
    "    some subset of terms (using each term no more than once).\n",
    "    k is a positive integer or zero, and each element of terms is a\n",
    "    positive integer or zero.\n",
    "    \"\"\"\n",
    "    # Case ENOUGH\n",
    "    if k == 0: \n",
    "        return True\n",
    "    # Case RAN OUT\n",
    "    if len(terms) == 0: \n",
    "        return False\n",
    "    # Case NEGATIVE\n",
    "    if k < 0: \n",
    "        return False\n",
    "    # We must have positive k and non-empty terms, \n",
    "    # so INCLUDE and EXCLUDE are the only remaining cases\n",
    "    return (subset_sums(k - terms[0], terms[1:])  # INCLUDE \n",
    "            or  subset_sums(k, terms[1:]))        # EXCLUDE\n",
    "\n",
    "\n",
    "print(subset_sums(10, [1, 3, 5, 7]))\n",
    "# Expect True\n",
    "\n",
    "print(subset_sums(12, [2, 3, 5, 8]))\n",
    "# Expect False"
   ]
  }
 ],
 "metadata": {
  "jupytext": {
   "formats": "md:myst",
   "text_representation": {
    "extension": ".myst",
    "format_name": "myst",
    "format_version": 1.1,
    "jupytext_version": "1.10.3"
   }
  },
  "kernelspec": {
   "display_name": "Python 3",
   "language": "python",
   "name": "python3"
  },
  "language_info": {
   "codemirror_mode": {
    "name": "ipython",
    "version": 3
   },
   "file_extension": ".py",
   "mimetype": "text/x-python",
   "name": "python",
   "nbconvert_exporter": "python",
   "pygments_lexer": "ipython3",
   "version": "3.11.3"
  },
  "source_map": [
   13,
   79
  ]
 },
 "nbformat": 4,
 "nbformat_minor": 5
}