{
 "cells": [
  {
   "cell_type": "markdown",
   "id": "0aec3940",
   "metadata": {},
   "source": [
    "# Binary Search\n",
    "\n",
    "Suppose we wish to determine whether `schnoggle` appears in a list \n",
    "of 40,000 valid English words.  If the list of words is in a \n",
    "sequential data file as text, it seems the best we can do is linear \n",
    "time relative to the length of the word list, because at minimum we \n",
    "must read each entry from the file.  \n",
    "\n",
    "But suppose that instead of checking just 'schnoggle', we wish to \n",
    "check thousands of combinations of letters as we search for a legal \n",
    "word in word game like Scrabble or Boggle. It \n",
    "will be worthwhile to read the file just once and store it in a list.\n",
    "If we sort the list (just once!), we can thereafter search for each \n",
    "candidate word very quickly --- much more quickly than a linear search. \n",
    "\n",
    "## A running example\n",
    "\n",
    "While binary search is important mainly for large lists, we will use \n",
    "a short list of foods to illustrate it."
   ]
  },
  {
   "cell_type": "code",
   "execution_count": 1,
   "id": "9c2d5daa",
   "metadata": {},
   "outputs": [],
   "source": [
    "FOODS = [\"apple\", \"bean\", \"corn\", \"date\", \n",
    "  \"egg\", \"falafel\", \"ginger\", \"hummus\", \"ice cream\", \n",
    "  \"jelly\", \"kale\", \"lasagna\", \"milk\", \"noodle\", \"olive\", \n",
    "  \"pizza\", \"quiche\", \"ramen\", \"spinach\", \"tiramisu\", \n",
    "  \"udon\", \"vindaloo\", \"watermelon\", \"xôi\", \"yogurt\", \"ziti\" ]"
   ]
  },
  {
   "cell_type": "markdown",
   "id": "4273805f",
   "metadata": {},
   "source": [
    "The list is sorted, which for these words corresponds to \n",
    "alphabetical order.  (Alphabetical order and sorted order differ \n",
    "when we mix upper and lower case and characters outside the\n",
    "English alphabet.)"
   ]
  },
  {
   "cell_type": "code",
   "execution_count": 2,
   "id": "4b39d16f",
   "metadata": {},
   "outputs": [
    {
     "data": {
      "text/plain": [
       "True"
      ]
     },
     "execution_count": 2,
     "metadata": {},
     "output_type": "execute_result"
    }
   ],
   "source": [
    "def is_ordered(l: list[str]) -> bool: \n",
    "  \"\"\"True if the list is in sorted order\"\"\"\n",
    "  prior = l[0]\n",
    "  for word in l[1:]: \n",
    "      if prior < word: \n",
    "          prior = word\n",
    "      else:\n",
    "          return False\n",
    "  # Checked every pair, they were all in order\n",
    "  return True\n",
    "  \n",
    "is_ordered(FOODS)"
   ]
  },
  {
   "cell_type": "markdown",
   "id": "92b0d9bb",
   "metadata": {},
   "source": [
    "The simplest way to determine whether a string is an element of \n",
    "FOODS is with a linear search:"
   ]
  },
  {
   "cell_type": "code",
   "execution_count": 3,
   "id": "b92a6602",
   "metadata": {},
   "outputs": [
    {
     "name": "stdout",
     "output_type": "stream",
     "text": [
      "Expecting False: False\n",
      "Expecting True: True\n"
     ]
    }
   ],
   "source": [
    "def  linear_search(s, lst: list[str]) -> bool: \n",
    "    \"\"\"Returns True iff there is an element of lst equal to s.\"\"\"\n",
    "    for el in lst: \n",
    "        if s == el:\n",
    "            return True\n",
    "    return False\n",
    "    \n",
    "print(f\"Expecting False: {linear_search('kabob', FOODS)}\")\n",
    "print(f\"Expecting True: {linear_search('kale', FOODS)}\")"
   ]
  },
  {
   "cell_type": "markdown",
   "id": "e8bacae8",
   "metadata": {},
   "source": [
    "We can do much better. \n",
    "\n",
    "## Divide and conquer\n",
    "\n",
    "Suppose we are looking for `'kale'` in the ordered list of foods. \n",
    "Suppose we begin by checking roughly in the middle of the list, at \n",
    "position 12. \n",
    "\n",
    "![Searching from apple to ziti](img/bsearch-kale-apple-ziti.png)\n",
    "\n",
    "We would find 'milk'.  We would note `'milk' > 'kale'`,\n",
    "and since the list is in order, we know that all of the items from \n",
    "position 12 to the end of the list are also greater than 'kale'.  We \n",
    "can eliminate all of them, and continue searching only elements 0..11.\n",
    "\n",
    "![Searching from apple to lasagnna](img/bsearch-kale-apple-lasagna.png)\n",
    "\n",
    "Checking again around the middle, we would find 'falafel'.  Since \n",
    "'falafel' < 'kale', we can eliminate all the elements from 'apple' \n",
    "to 'falafel'. \n",
    "\n",
    "![Searching from ginger to lasagna](img/bsearch-kale-ginger-lasagna.png)\n",
    "\n",
    "Next we probe 'ice cream', and since 'i' < 'k' we eliminate the \n",
    "range from 'ginger' through 'ice cream'. \n",
    "\n",
    "![Searching from jelly to lasagna](img/bsearch-kale-jelly-lasagna.png)\n",
    "\n",
    "Probing between 'jelly' and 'lasagna', we finally find 'kale'.  \n",
    "\n",
    "Had we been searching instead for 'kabobs', we would have eliminated \n",
    "'kale' and 'lasagna' and checked 'jelly'. \n",
    "\n",
    "![Searching from jelly to jelly](img/bsearch-kabobs-jelly-jelly.png)\n",
    "\n",
    "Since 'jelly' < 'kabobs', \n",
    "we would conclude that 'kabobs' must appear after 'jelly', i.e., in \n",
    "the range of positions from 10 to 9.  That is an empty range, so\n",
    "we would conclude there are \n",
    "no kabobs in our list of foods. \n",
    "\n",
    "![Searching from kale to jelly](img/bsearch-kabob-jelly-kale.png)\n",
    "\n",
    "That is the tactic that binary search uses.  Initially we \n",
    "search the whole list, but at each step we either find the value we \n",
    "are searching for, or we eliminate half of the remaining range. If \n",
    "the whole range is eliminated (e.g., a range from 10..9),\n",
    "then we conclude that value is not in the list."
   ]
  },
  {
   "cell_type": "code",
   "execution_count": 4,
   "id": "f8d2a82b",
   "metadata": {},
   "outputs": [
    {
     "name": "stdout",
     "output_type": "stream",
     "text": [
      "Checking for kale\n",
      "Searching in range 0..25\n",
      "Probing 'milk' at position 12\n",
      "Searching in range 0..11\n",
      "Probing 'falafel' at position 5\n",
      "Searching in range 6..11\n",
      "Probing 'ice cream' at position 8\n",
      "Searching in range 9..11\n",
      "Probing 'kale' at position 10\n",
      "Expecting True: True\n",
      "\n",
      "\n",
      "Checking for kabobs\n",
      "Searching in range 0..25\n",
      "Probing 'milk' at position 12\n",
      "Searching in range 0..11\n",
      "Probing 'falafel' at position 5\n",
      "Searching in range 6..11\n",
      "Probing 'ice cream' at position 8\n",
      "Searching in range 9..11\n",
      "Probing 'kale' at position 10\n",
      "Searching in range 9..9\n",
      "Probing 'jelly' at position 9\n",
      "Expecting False: False\n",
      "\n",
      "\n",
      "Checking for almond\n",
      "Searching in range 0..25\n",
      "Probing 'milk' at position 12\n",
      "Searching in range 0..11\n",
      "Probing 'falafel' at position 5\n",
      "Searching in range 0..4\n",
      "Probing 'corn' at position 2\n",
      "Searching in range 0..1\n",
      "Probing 'apple' at position 0\n",
      "Expecting False: False\n"
     ]
    }
   ],
   "source": [
    "def binary_search(s, lst: list[str]) -> bool: \n",
    "    \"\"\"Returns True iff there is an element of lst equal to s,\n",
    "    provided lst is ordered.\n",
    "    \"\"\"\n",
    "    # Initially we search the whole list\n",
    "    low = 0\n",
    "    high = len(lst) - 1\n",
    "    while low <= high: \n",
    "        print(f\"Searching in range {low}..{high}\")\n",
    "        mid = (low + high) // 2\n",
    "        probe = lst[mid]\n",
    "        print(f\"Probing '{probe}' at position {mid}\")\n",
    "        \n",
    "        if s == probe: \n",
    "            return True\n",
    "        if probe < s:\n",
    "            # Eliminate lower half of range\n",
    "            low = mid + 1\n",
    "        else: \n",
    "            # Eliminate higher half of range\n",
    "            high = mid - 1\n",
    "            \n",
    "    # When low > high, we have eliminated the whole range \n",
    "    return False\n",
    "  \n",
    "print(\"Checking for kale\")\n",
    "print(f\"Expecting True: {binary_search('kale', FOODS)}\")\n",
    "\n",
    "\n",
    "print(\"\\n\\nChecking for kabobs\")\n",
    "print(f\"Expecting False: {binary_search('kabobs', FOODS)}\")\n",
    "\n",
    "print(\"\\n\\nChecking for almond\")\n",
    "print(f\"Expecting False: {binary_search('almond', FOODS)}\")"
   ]
  },
  {
   "cell_type": "markdown",
   "id": "1f63abcd",
   "metadata": {},
   "source": [
    "## How fast is it? \n",
    "\n",
    "Since binary search eliminates half of the search range on each \n",
    "iteration of the loop, the total time it requires for a search of \n",
    "$n$ items is proportional to $\\lg n$, the logarithm base 2 of $n$.  \n",
    "Here are some example values of $\\lg n$: \n",
    "\n",
    "| $n$ | $\\lg n$ |\n",
    "|-----|---|\n",
    "| 256 | 8 |\n",
    "| 1024| 10 |\n",
    "| 4096 | 12 |\n",
    "| 16,777,216 | 20|\n",
    " | 4,294,967,296 | 32 |\n",
    "|18,446,744,073,709,551,616 | 64 |\n",
    "\n",
    "The attraction of binary search over linear search\n",
    "for very large lists should be apparent. \n",
    "\n",
    "The main limitation of binary search is that the list must already be \n",
    "ordered (sorted).  If you are going to search a list just once, it \n",
    "does not make sense to sort it (which takes somewhat longer than a \n",
    "linear search) just to prepare it for a binary search.  It can make \n",
    "sense if you can sort the data once in preparation for searching it \n",
    "many times.  \n",
    "\n",
    "## Variations \n",
    "\n",
    "Binary search is a fundamental technique that appears in many \n",
    "applications, with several variations.  We might search a list of \n",
    "(key, value) pairs to find keys, returning values, or keys and \n",
    "values might be stored in parallel arrays.\n",
    "\n",
    "If you continue with \n",
    "computer science courses through \n",
    "intermediate data structures (e.g., CS 313 at U. Oregon), you will learn to \n",
    "construct self-balancing binary search trees, which are closely\n",
    "related to binary search.  Database systems, which are ubiquitous in \n",
    "data processing,  also use self-balancing \n",
    "trees.\n",
    "\n",
    "In our \n",
    "[Boggle project](https://github.com/UO-CS210/06-Boggle), \n",
    "we use a variation that can return a third value, in addition to \n",
    "\"found\" or \"not found\"."
   ]
  }
 ],
 "metadata": {
  "jupytext": {
   "formats": "md:myst",
   "text_representation": {
    "extension": ".myst",
    "format_name": "myst",
    "format_version": 1.1,
    "jupytext_version": "1.10.3"
   }
  },
  "kernelspec": {
   "display_name": "Python 3",
   "language": "python",
   "name": "python3"
  },
  "language_info": {
   "codemirror_mode": {
    "name": "ipython",
    "version": 3
   },
   "file_extension": ".py",
   "mimetype": "text/x-python",
   "name": "python",
   "nbconvert_exporter": "python",
   "pygments_lexer": "ipython3",
   "version": "3.11.3"
  },
  "source_map": [
   13,
   35,
   41,
   48,
   61,
   66,
   76,
   127,
   162
  ]
 },
 "nbformat": 4,
 "nbformat_minor": 5
}