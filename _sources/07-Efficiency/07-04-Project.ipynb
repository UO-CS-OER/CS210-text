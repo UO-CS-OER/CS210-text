{
 "cells": [
  {
   "cell_type": "markdown",
   "id": "00e79148",
   "metadata": {},
   "source": [
    "# Project\n",
    "\n",
    "![A physical Boggle board](img/sample-board.jpeg)\n",
    "\n",
    "The [Boggler project](https://github.com/UO-CS210/06-Boggle)\n",
    "uses a recursive depth-first search to find words in a\n",
    "[Boggle](https://en.wikipedia.org/wiki/Boggle) board.  This part of \n",
    "the project is similar to our earlier _Flooding the Cave_ project, \n",
    "but a little more complex in the information it maintains during the \n",
    "search.  In addition, this project introduces _binary search_, which \n",
    "it uses to search a word list at each possible move."
   ]
  }
 ],
 "metadata": {
  "jupytext": {
   "formats": "md:myst",
   "text_representation": {
    "extension": ".myst",
    "format_name": "myst",
    "format_version": 1.1,
    "jupytext_version": "1.10.3"
   }
  },
  "kernelspec": {
   "display_name": "Python 3",
   "language": "python",
   "name": "python3"
  },
  "language_info": {
   "codemirror_mode": {
    "name": "ipython",
    "version": 3
   },
   "file_extension": ".py",
   "mimetype": "text/x-python",
   "name": "python",
   "nbconvert_exporter": "python",
   "pygments_lexer": "ipython3",
   "version": "3.11.3"
  },
  "source_map": [
   13
  ]
 },
 "nbformat": 4,
 "nbformat_minor": 5
}