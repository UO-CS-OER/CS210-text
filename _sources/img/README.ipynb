{
 "cells": [
  {
   "cell_type": "markdown",
   "id": "2b4b541c",
   "metadata": {},
   "source": [
    "```{eval-rst}\n",
    ":orphan:\n",
    "```\n",
    "\n",
    "\n",
    "# README:  Book-wide 'img' directory\n",
    "\n",
    "This directory is for images that are \"global\" to the book, \n",
    "like the logo that appears in the left-hand gutter.\n",
    "\n",
    "Other images should be kept in the 'img' directory in each\n",
    "chapter directory. \n",
    "\n",
    "Note that img directories contain source (typically OmniGraffle) as \n",
    "well as viewable forms (.png, .pdf, .svg, etc)."
   ]
  }
 ],
 "metadata": {
  "jupytext": {
   "formats": "md:myst",
   "text_representation": {
    "extension": ".myst",
    "format_name": "myst",
    "format_version": 1.1,
    "jupytext_version": "1.10.3"
   }
  },
  "kernelspec": {
   "display_name": "Python 3",
   "language": "python",
   "name": "python3"
  },
  "language_info": {
   "codemirror_mode": {
    "name": "ipython",
    "version": 3
   },
   "file_extension": ".py",
   "mimetype": "text/x-python",
   "name": "python",
   "nbconvert_exporter": "python",
   "pygments_lexer": "ipython3",
   "version": "3.10.2"
  },
  "source_map": [
   13
  ]
 },
 "nbformat": 4,
 "nbformat_minor": 5
}