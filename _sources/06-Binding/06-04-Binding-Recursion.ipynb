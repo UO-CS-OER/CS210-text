{
 "cells": [
  {
   "cell_type": "markdown",
   "id": "ba3b983c",
   "metadata": {},
   "source": [
    "#  Binding in Recursive Functions\n",
    "\n",
    "We have seen that Python searches in LEGM order (local, enclosing, \n",
    "global, and finally built-in scopes), and we know that calling a \n",
    "function creates a _stack frame_ for its namespace.  The _local_ \n",
    "scope is the namespace in the top stack frame.  \n",
    "\n",
    "While we have seen each of these facts before, it may be worthwhile \n",
    "to revisit [our `palindrome` function](final-palindrome) to see how \n",
    "scopes work in a recursive function.  Recall that we created a \n",
    "wrapper function called `palindrome` to get started and delegate the \n",
    "main work to `_palindrome` (with a leading underscore `_` to \n",
    "indicate that it is not the public interface).  We'll focus on the \n",
    "actual recursive function `_palindrome`."
   ]
  },
  {
   "cell_type": "code",
   "execution_count": 1,
   "id": "3e772bf4",
   "metadata": {},
   "outputs": [
    {
     "data": {
      "text/plain": [
       "True"
      ]
     },
     "execution_count": 1,
     "metadata": {},
     "output_type": "execute_result"
    }
   ],
   "source": [
    "def _palindrome(word: list[str], first: int, last: int) -> bool: \n",
    "    \"\"\"True if word[first:last] is a palindrome.\n",
    "    first and last must be non-negative integers.\n",
    "    \"\"\"\n",
    "    # Base cases\n",
    "    if last - first < 1:\n",
    "        return True\n",
    "    # Recursive case\n",
    "    x = word[first]\n",
    "    y = word[last]\n",
    "    return x == y and _palindrome(word, first+1, last-1)\n",
    "\n",
    "word = ['n', 'o', 'o', 'n']\n",
    "_palindrome(word, 0, len(word) - 1)"
   ]
  },
  {
   "cell_type": "markdown",
   "id": "568236f6",
   "metadata": {},
   "source": [
    "`_palindrome` will be called three times: `_palindrome(word, 0, 3)`, \n",
    "`_palindrome(word, 1, 2)`, and then `_palindrome(word, 2, 1)`.  The \n",
    "third call reaches the base case, ending the recursion.  Let's \n",
    "consider the stack and scopes at the third call: \n",
    "\n",
    "![Memory of `_palindrome` with three levels of recursion](\n",
    "img/palindrome-binding.png\n",
    ")\n",
    "\n",
    "Each execution of `_palindrome` has its own namespace in a _stack \n",
    "frame_.  The _top_ stack frame holds the namespace for the _local \n",
    "scope_.  In this namespace,  \n",
    "`first` has value 2 and `last` has value 1, which makes the \n",
    "condition `last - first < 1` true (the base case of the recursion).  \n",
    "As the same value `word` is passed as arguments through the \n",
    "recursive calls, the `word` value in each activation of \n",
    "`_palindrome` is a reference to the same list.  In other words, \n",
    "although each activation of `_palindrome` has a local variable \n",
    "`word`, they are all aliases."
   ]
  }
 ],
 "metadata": {
  "jupytext": {
   "formats": "md:myst",
   "text_representation": {
    "extension": ".myst",
    "format_name": "myst",
    "format_version": 1.1,
    "jupytext_version": "1.10.3"
   }
  },
  "kernelspec": {
   "display_name": "Python 3",
   "language": "python",
   "name": "python3"
  },
  "language_info": {
   "codemirror_mode": {
    "name": "ipython",
    "version": 3
   },
   "file_extension": ".py",
   "mimetype": "text/x-python",
   "name": "python",
   "nbconvert_exporter": "python",
   "pygments_lexer": "ipython3",
   "version": "3.10.2"
  },
  "source_map": [
   13,
   30,
   45
  ]
 },
 "nbformat": 4,
 "nbformat_minor": 5
}