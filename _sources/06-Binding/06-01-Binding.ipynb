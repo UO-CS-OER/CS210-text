{
 "cells": [
  {
   "cell_type": "markdown",
   "id": "b270caed",
   "metadata": {},
   "source": [
    "#  Binding and scope\n",
    "\n",
    "We touched on variable bindings in local and global scopes in \n",
    "[Chapter 2](../02-Functions/02-01-Functions.md).  It is time to both \n",
    "review that material and take a deeper dive. \n",
    "\n",
    "## [Aliasing](06-02-Alias.md)\n",
    "\n",
    "We begin with a review of how _variables_ are bound to _objects_ \n",
    "containing _values_ in _name spaces_.  This time, we focus especially \n",
    "on the consequences \n",
    "of _aliasing_, when two variables are bound to the same object.\n",
    "This leads us to make an important distinction between _mutable_ and \n",
    "_immutable_ objects.\n",
    "\n",
    "## [Scopes](06-03-Scopes.md)\n",
    "\n",
    "In Python (as in most programming \n",
    "languages), _activation records_ reside as _frames_ on a _stack_. \n",
    "Objects containing values, on the other hand, reside in the _heap_. \n",
    "Understanding _stack allocation_ and _heap allocation_ is \n",
    "fundamental to understanding functions in Python.\n",
    "\n",
    "With this understanding of binding, frames in the stack, and objects \n",
    "in the heap containing values, we can describe more precisely what \n",
    "Python does when it encounters a variable name, including \"qualified \n",
    "names\" from other modules.\n",
    "\n",
    "## TBD\n",
    "  - qualified names (imported modules)\n",
    "  - stack and heap (review)\n",
    "\n",
    "## [Binding and recursion](06-04-Binding-Recursion.md)\n",
    "\n",
    "Recursive functions follow the same scope rules as any other \n",
    "functions.  We revisit the palindrome example from the previous \n",
    "chapter to illustrate how binding rules and stack allocation of \n",
    "activation \n",
    "records work together. \n",
    "\n",
    "\n",
    "\n",
    "## Project\n",
    "\n",
    "TBD"
   ]
  }
 ],
 "metadata": {
  "jupytext": {
   "formats": "md:myst",
   "text_representation": {
    "extension": ".myst",
    "format_name": "myst",
    "format_version": 1.1,
    "jupytext_version": "1.10.3"
   }
  },
  "kernelspec": {
   "display_name": "Python 3",
   "language": "python",
   "name": "python3"
  },
  "language_info": {
   "codemirror_mode": {
    "name": "ipython",
    "version": 3
   },
   "file_extension": ".py",
   "mimetype": "text/x-python",
   "name": "python",
   "nbconvert_exporter": "python",
   "pygments_lexer": "ipython3",
   "version": "3.10.2"
  },
  "source_map": [
   13
  ]
 },
 "nbformat": 4,
 "nbformat_minor": 5
}