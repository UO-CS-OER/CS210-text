{
 "cells": [
  {
   "cell_type": "markdown",
   "id": "b2473ef4",
   "metadata": {},
   "source": [
    "#  Binding and aliasing\n",
    "\n",
    "In an earlier chapter we briefly touched the notion of _binding_ a \n",
    "variable name to a value.  A _namespace_ in Python is an association \n",
    "of names with references to objects.  The _values_ of variables are \n",
    "actually in the objects.  When we assign a value to a variable, e.g.,\n",
    "`x = 5`, we are actually creating an association between the name \n",
    "`x` and an object that contains the value `5`. \n",
    "\n",
    "![x is bound to an object containing value 5](\n",
    "img/binding-aliasing-x.png)\n",
    "\n",
    "When we assign the value of `x` to variable `y` by writing `y = x`, we \n",
    "make a copy of \n",
    "the reference, not a new copy of the object containing the value. \n",
    "\n",
    "![y is bound to the same value object](\n",
    "img/binding-aliasing-xy.png)\n",
    "\n",
    "If we bind a new value to `x`, for example by writing `x = x + 1`, it \n",
    "will be bound to a reference to \n",
    "an object containing that new value. \n",
    "\n",
    "![x gets a new value, y is still 5](\n",
    "img/binding-aliasing-xincr.png)\n",
    "\n",
    "## Aliasing mutable values\n",
    "\n",
    "When `x` and `y` referred to the same object containing `5`, we say \n",
    "they were _aliased_.  Does aliasing matter?   For `int` values, it \n",
    "almost never matters.  When we \n",
    "assigned a new value to `x`, we did not change the value in the \n",
    "`int` object.  We created a new `int` object to contain the new \n",
    "value. We say that type `int` is _immutable_, because we never \n",
    "change (mutate) the values in objects.   For immutable types, it \n",
    "almost doesn't matter that variables are bound to references that \n",
    "could be aliases. \n",
    "\n",
    "Aliasing becomes important when we consider _mutable_ types.  For \n",
    "example, type `list` is mutable:  We can actually change the value \n",
    "in a `list` object.   Consider:"
   ]
  },
  {
   "cell_type": "code",
   "execution_count": 1,
   "id": "04ade8bc",
   "metadata": {},
   "outputs": [],
   "source": [
    "m = [1, 3, 5]"
   ]
  },
  {
   "cell_type": "markdown",
   "id": "146fbd37",
   "metadata": {},
   "source": [
    "Now `m` contains a reference to a list containing `int` objects, \n",
    "which contain values 1, 3, and 5. \n",
    "\n",
    "![m refers to list, which refer to int objects](\n",
    "img/binding-aliasing-m-before.png\n",
    ")\n",
    "\n",
    "Now suppose we change the value of `m[1]`, the second element in the \n",
    "list."
   ]
  },
  {
   "cell_type": "code",
   "execution_count": 2,
   "id": "e13d5ec7",
   "metadata": {},
   "outputs": [],
   "source": [
    "m[1] = 7"
   ]
  },
  {
   "cell_type": "markdown",
   "id": "56ce3d73",
   "metadata": {},
   "source": [
    "This will actually modify the `list` object, without changing \n",
    "the binding of `m` to that list object. \n",
    "\n",
    "![assignment to m[1] modifies the list](\n",
    "img/binding-aliasing-m-after.png\n",
    ")\n",
    "\n",
    "Consider what happens if another variable `k` refers to the same \n",
    "list, becoming an _alias_ of `m`:"
   ]
  },
  {
   "cell_type": "code",
   "execution_count": 3,
   "id": "91740cad",
   "metadata": {},
   "outputs": [],
   "source": [
    "m = [1, 3, 5]\n",
    "k = m"
   ]
  },
  {
   "cell_type": "markdown",
   "id": "df050d13",
   "metadata": {},
   "source": [
    "![assignment to k creates an alias](\n",
    "img/binding-aliasing-km-aliased.png\n",
    ")\n",
    "\n",
    "Now if we modify of an element of `m`..."
   ]
  },
  {
   "cell_type": "code",
   "execution_count": 4,
   "id": "1267a4f4",
   "metadata": {},
   "outputs": [
    {
     "name": "stdout",
     "output_type": "stream",
     "text": [
      "[1, 7, 5]\n"
     ]
    }
   ],
   "source": [
    "m[1] = 7\n",
    "print(k)"
   ]
  },
  {
   "cell_type": "markdown",
   "id": "eee5611a",
   "metadata": {},
   "source": [
    "... we have also modified the value of any _alias_ of `m`.\n",
    "\n",
    "Sometimes this is just what we want. If we mutate an aliased \n",
    "variable accidentally, though, it can lead to confusing bugs. \n",
    "\n",
    "## Aliasing for functions that mutate values\n",
    "\n",
    "Sometimes we use aliasing to write functions that modify the values \n",
    "passed to them."
   ]
  }
 ],
 "metadata": {
  "jupytext": {
   "formats": "md:myst",
   "text_representation": {
    "extension": ".myst",
    "format_name": "myst",
    "format_version": 1.1,
    "jupytext_version": "1.10.3"
   }
  },
  "kernelspec": {
   "display_name": "Python 3",
   "language": "python",
   "name": "python3"
  },
  "language_info": {
   "codemirror_mode": {
    "name": "ipython",
    "version": 3
   },
   "file_extension": ".py",
   "mimetype": "text/x-python",
   "name": "python",
   "nbconvert_exporter": "python",
   "pygments_lexer": "ipython3",
   "version": "3.10.2"
  },
  "source_map": [
   13,
   56,
   58,
   69,
   71,
   83,
   86,
   94,
   97
  ]
 },
 "nbformat": 4,
 "nbformat_minor": 5
}