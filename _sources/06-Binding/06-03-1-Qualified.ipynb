{
 "cells": [
  {
   "cell_type": "markdown",
   "id": "193333c1",
   "metadata": {},
   "source": [
    "# Imported and Qualified Names\n",
    "\n",
    "The LEGB rule for finding something by name applies to imported \n",
    "modules as well.  A module, whether from a built-in Python library \n",
    "or a new source file we construct, is a kind of object with a name.  \n",
    "An `import` statement is like an assignment that gives it a binding \n",
    "in the current module."
   ]
  },
  {
   "cell_type": "code",
   "execution_count": 1,
   "id": "2b8468c7",
   "metadata": {},
   "outputs": [
    {
     "name": "stdout",
     "output_type": "stream",
     "text": [
      "<module 'csv' from '/Library/Frameworks/Python.framework/Versions/3.13/lib/python3.13/csv.py'>\n"
     ]
    }
   ],
   "source": [
    "import csv            # Now \"csv\" is the name of a module object\n",
    "\n",
    "another_name = csv    # Legal, but not the best approach\n",
    "print(another_name)"
   ]
  },
  {
   "cell_type": "markdown",
   "id": "27166dd3",
   "metadata": {},
   "source": [
    "We don't usually assign modules to variables, but the code above \n",
    "demonstrates that Python treats the name of an imported module just \n",
    "like any other name.   If we did want to use another name for a \n",
    "module, Python provides an `import ... as ...` syntax:"
   ]
  },
  {
   "cell_type": "code",
   "execution_count": 2,
   "id": "1c85448b",
   "metadata": {},
   "outputs": [
    {
     "name": "stdout",
     "output_type": "stream",
     "text": [
      "<module 'doctest' from '/Library/Frameworks/Python.framework/Versions/3.13/lib/python3.13/doctest.py'>\n"
     ]
    }
   ],
   "source": [
    "import doctest as dt\n",
    "\n",
    "print(dt)"
   ]
  },
  {
   "cell_type": "markdown",
   "id": "4c4720e3",
   "metadata": {},
   "source": [
    "A module you write yourself is treated just like library module that \n",
    "Python provides.\n",
    "\n",
    "## Qualified names\n",
    "\n",
    " A module is an object that can contain other objects, including \n",
    " functions and variables.   When we write `m.v`, we are asking \n",
    " Python to find `m`, and then to look inside `m` to find `v`.  \n",
    "\n",
    "Suppose, for example, we have this source file `exporter.py`:\n",
    "\n",
    "```python\n",
    "\"\"\"exporter.py.  This module is designed to be imported by importer.py.\n",
    "Its \"symbols\"  (names of functions and variables) will be\n",
    "visible as attributes of the module.\n",
    "\"\"\"\n",
    "\n",
    "STEP_SIZE = 5\n",
    "\n",
    "def step(i: int) -> int:\n",
    "    return i + STEP_SIZE\n",
    "```\n",
    "\n",
    "We might _import_ it as a module in another source file, `exporter.py`:\n",
    "\n",
    "```python\n",
    "\"\"\"importer.py.  Demonstration of referencing qualified names\n",
    "from another module.\n",
    "\"\"\"\n",
    "\n",
    "import exporter\n",
    "\n",
    "print(exporter.step(10))\n",
    "exporter.STEP_SIZE = 20\n",
    "print(exporter.step(10))\n",
    "```\n",
    "\n",
    "After the `import` statement in `importer.py`, `exporter` is the \n",
    "name of a _module object_ that contains variables and functions.  \n",
    "When we write `exporter.step(10)` in `importer.py`, Python first \n",
    "looks for the name `exporter` (following the LEGB search order) and \n",
    "finds it in the global scope.  It looks within the module object for \n",
    "`step`, and finds a function object that it can call.  The `step` \n",
    "function in `exporter.py` uses the LEGB search order to find \n",
    "`STEP_SIZE`, but \"global\" in this case means \"global to the same \n",
    "module that `step` is in\".  It finds the variable `STEP_SIZE` \n",
    "variable bound to integer value 5. \n",
    "\n",
    "Similarly the statement `exporter.STEP_SIZE = 20` asks Python to\n",
    "look within the module object `exporter` to find `STEP_SIZE`. \n",
    "It finds a variable that can be bound to the new value 20.\n",
    "When we call \n",
    "`exporter.step` the second time, the `step` function again uses the \n",
    "`LEGB` order, and again finds `STEP_SIZE` in its own module (the \n",
    "\"global\" scope for that module), now bound to integer value 20. \n",
    "\n",
    "```shell\n",
    ">>> python3 06-binding/samples/importer.py\n",
    "15\n",
    "30\n",
    "```"
   ]
  }
 ],
 "metadata": {
  "jupytext": {
   "formats": "md:myst",
   "text_representation": {
    "extension": ".myst",
    "format_name": "myst",
    "format_version": 1.1,
    "jupytext_version": "1.10.3"
   }
  },
  "kernelspec": {
   "display_name": "Python 3",
   "language": "python",
   "name": "python3"
  },
  "language_info": {
   "codemirror_mode": {
    "name": "ipython",
    "version": 3
   },
   "file_extension": ".py",
   "mimetype": "text/x-python",
   "name": "python",
   "nbconvert_exporter": "python",
   "pygments_lexer": "ipython3",
   "version": "3.13.1"
  },
  "source_map": [
   13,
   22,
   27,
   33,
   37
  ]
 },
 "nbformat": 4,
 "nbformat_minor": 5
}