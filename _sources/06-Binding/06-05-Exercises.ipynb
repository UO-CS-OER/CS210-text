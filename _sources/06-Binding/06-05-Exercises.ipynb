{
 "cells": [
  {
   "cell_type": "markdown",
   "id": "92e2ccbd",
   "metadata": {},
   "source": [
    "# Exercises\n",
    "\n",
    "1.  Predict the output of this program without executing it. It is a \n",
    "    good idea to draw diagrams and/or tables rather than trying to \n",
    "    do this in your head. \n",
    "\n",
    "```python\n",
    "globals = [\"Jupiter\", \"Mars\"]\n",
    "galactics = [\"Andromeda\", \"Milky Way\"]\n",
    "locals = [\"Portland\", \"Medford\"]\n",
    "\n",
    "def mess(x: list[str], y: list[str]) -> list[str]:\n",
    "    \"\"\"Gonna mess with your data!\"\"\"\n",
    "    x[1] = \"Venus\"\n",
    "    galactics = [\"Triangulum\", \"Pinwheel\" ]\n",
    "    z = y\n",
    "    y = [\"Corvallis\", \"Salem\"]\n",
    "    return z\n",
    "\n",
    "towns = mess(globals, locals)\n",
    "print(f\"Globals is {globals}\")\n",
    "print(f\"Galactics is {galactics}\")\n",
    "print(f\"Locals is {locals}\")\n",
    "print(f\"Returned {towns}\")\n",
    "```\n",
    "\n",
    "2. Predict what this program prints without executing it. \n",
    "```python\n",
    "countdown = []\n",
    "\n",
    "def launch(n: int):\n",
    "    countdown.append(n)\n",
    "    if n > 0:\n",
    "        launch(n-1)\n",
    "    else:\n",
    "        print(countdown)\n",
    "        print(\"Blast off!\")\n",
    "\n",
    "launch(5)\n",
    "```\n",
    "\n",
    "3. This program will _not_ work.  What error do you expect? \n",
    "```python\n",
    "countdown = []\n",
    "n = 10\n",
    "\n",
    "def launch():\n",
    "    countdown.append(n)\n",
    "    if n > 0:\n",
    "        n = n - 1\n",
    "        launch()\n",
    "    else:\n",
    "        print(countdown)\n",
    "        print(\"Blast off!\")\n",
    "\n",
    "launch()\n",
    "```\n",
    "## Solutions to exercises\n",
    "\n",
    "1. Predict the outcome of this program without executing it."
   ]
  },
  {
   "cell_type": "code",
   "execution_count": 1,
   "id": "7f9e07ef",
   "metadata": {},
   "outputs": [
    {
     "name": "stdout",
     "output_type": "stream",
     "text": [
      "Globals is ['Jupiter', 'Venus']\n",
      "Galactics is ['Andromeda', 'Milky Way']\n",
      "Locals is ['Portland', 'Medford']\n",
      "Returned ['Portland', 'Medford']\n"
     ]
    }
   ],
   "source": [
    "globals = [\"Jupiter\", \"Mars\"]\n",
    "galactics = [\"Andromeda\", \"Milky Way\"]\n",
    "locals = [\"Portland\", \"Medford\"]\n",
    "\n",
    "def mess(x: list[str], y: list[str]) -> list[str]:\n",
    "    \"\"\"Gonna mess with your data!\"\"\"\n",
    "    x[1] = \"Venus\"\n",
    "    galactics = [\"Triangulum\", \"Pinwheel\" ]\n",
    "    z = y\n",
    "    y = [\"Corvallis\", \"Salem\"]\n",
    "    return z\n",
    "\n",
    "towns = mess(globals, locals)\n",
    "print(f\"Globals is {globals}\")\n",
    "print(f\"Galactics is {galactics}\")\n",
    "print(f\"Locals is {locals}\")\n",
    "print(f\"Returned {towns}\")"
   ]
  },
  {
   "cell_type": "markdown",
   "id": "5c3cdc1c",
   "metadata": {},
   "source": [
    "Do any of those surprise you? \n",
    "\n",
    "- Passing `globals` as argument `x` causes `x` to become an alias of \n",
    "  `globals`, i.e., another reference to the same list. Setting `x[1]\n",
    "  ` to `\"Venus\"` modifies the second element of that list, which is \n",
    "  still the list that `globals` is bound to.\n",
    "- The assignment to `galactics` within the function creates a new \n",
    "  local variable called `galactics`, distinct from the global \n",
    "  variable called `galactics`.  It therefore has no effect outside \n",
    "  the function. \n",
    "- We passed `locals` as argument `y`, so `y` is initially an alias \n",
    "  to `locals` within the function.  When we assign `z` the value of \n",
    "  `y`, we have three names (`locals`, `y`, and `z`) for the same \n",
    "  list. But then we change the local (within `mess`) binding of `y` \n",
    "  to a new list `[\"Corvallis\", \"Salem\"]`.  This has no effect on the \n",
    "  bindings of `locals` or `z`.  \n",
    "- We return `z`, which is bound to the same list as `locals`. \n",
    "  `towns` then becomes an alias for `locals`. \n",
    "\n",
    "When `mess` begins execution, bindings look like this:\n",
    "\n",
    "![Bindings at entry to `mess`; x and y are aliases to globals and locals\n",
    "](img/ex1-binding-entry.svg)\n",
    "\n",
    "The local variables `x` and `y` are references that have been copied \n",
    "from `globals` and `locals`, respectively.  When `mess` is just \n",
    "about to return, bindings look like this: \n",
    "\n",
    "![Bindings at exit from `mess`;  `y` and `galactics` are local variables\n",
    "](img/ex1-binding-exit.svg)\n",
    "\n",
    "Only `globals` has been changed in the global namespace.  \n",
    "`galactics` is unchanged in the global namespace because the new \n",
    "assignment to `galactics` was to a local variable in the scope of \n",
    "function `mess`.\n",
    "\n",
    "2. Predict what this program prints without executing it."
   ]
  },
  {
   "cell_type": "code",
   "execution_count": 2,
   "id": "fc8f370f",
   "metadata": {},
   "outputs": [
    {
     "name": "stdout",
     "output_type": "stream",
     "text": [
      "[5, 4, 3, 2, 1, 0]\n",
      "Blast off!\n"
     ]
    }
   ],
   "source": [
    "countdown = []\n",
    "\n",
    "def launch(n: int):\n",
    "    countdown.append(n)\n",
    "    if n > 0:\n",
    "        launch(n-1)\n",
    "    else:\n",
    "        print(countdown)\n",
    "        print(\"Blast off!\")\n",
    "\n",
    "launch(5)"
   ]
  },
  {
   "cell_type": "markdown",
   "id": "5da4f7a8",
   "metadata": {},
   "source": [
    "3. This program will _not_ work.  What error do you expect?"
   ]
  },
  {
   "cell_type": "code",
   "execution_count": 3,
   "id": "fe4b3922",
   "metadata": {
    "tags": [
     "raises-exception"
    ]
   },
   "outputs": [
    {
     "ename": "UnboundLocalError",
     "evalue": "cannot access local variable 'n' where it is not associated with a value",
     "output_type": "error",
     "traceback": [
      "\u001b[31m---------------------------------------------------------------------------\u001b[39m",
      "\u001b[31mUnboundLocalError\u001b[39m                         Traceback (most recent call last)",
      "\u001b[36mCell\u001b[39m\u001b[36m \u001b[39m\u001b[32mIn[3]\u001b[39m\u001b[32m, line 13\u001b[39m\n\u001b[32m     10\u001b[39m         \u001b[38;5;28mprint\u001b[39m(countdown)\n\u001b[32m     11\u001b[39m         \u001b[38;5;28mprint\u001b[39m(\u001b[33m\"\u001b[39m\u001b[33mBlast off!\u001b[39m\u001b[33m\"\u001b[39m)\n\u001b[32m---> \u001b[39m\u001b[32m13\u001b[39m \u001b[43mlaunch\u001b[49m\u001b[43m(\u001b[49m\u001b[43m)\u001b[49m\n",
      "\u001b[36mCell\u001b[39m\u001b[36m \u001b[39m\u001b[32mIn[3]\u001b[39m\u001b[32m, line 5\u001b[39m, in \u001b[36mlaunch\u001b[39m\u001b[34m()\u001b[39m\n\u001b[32m      4\u001b[39m \u001b[38;5;28;01mdef\u001b[39;00m\u001b[38;5;250m \u001b[39m\u001b[34mlaunch\u001b[39m():\n\u001b[32m----> \u001b[39m\u001b[32m5\u001b[39m     countdown.append(\u001b[43mn\u001b[49m)\n\u001b[32m      6\u001b[39m     \u001b[38;5;28;01mif\u001b[39;00m n > \u001b[32m0\u001b[39m:\n\u001b[32m      7\u001b[39m         n = n - \u001b[32m1\u001b[39m\n",
      "\u001b[31mUnboundLocalError\u001b[39m: cannot access local variable 'n' where it is not associated with a value"
     ]
    }
   ],
   "source": [
    "countdown = []\n",
    "n = 10\n",
    "\n",
    "def launch():\n",
    "    countdown.append(n)\n",
    "    if n > 0:\n",
    "        n = n - 1\n",
    "        launch()\n",
    "    else:\n",
    "        print(countdown)\n",
    "        print(\"Blast off!\")\n",
    "\n",
    "launch()"
   ]
  },
  {
   "cell_type": "markdown",
   "id": "fe5cb61a",
   "metadata": {},
   "source": [
    "Because of the assignment `n = n - 1`, `n` will be a local variable \n",
    "in the scope of `launch`.  But `n` is referenced in the call to \n",
    "`append` and also in the `if` statement, before it has been given a \n",
    "value.  These references will break (exception `UnboundLocalError`)\n",
    "even though there is another variable `n` in the global scope."
   ]
  }
 ],
 "metadata": {
  "jupytext": {
   "formats": "md:myst",
   "text_representation": {
    "extension": ".myst",
    "format_name": "myst",
    "format_version": 1.1,
    "jupytext_version": "1.10.3"
   }
  },
  "kernelspec": {
   "display_name": "Python 3",
   "language": "python",
   "name": "python3"
  },
  "language_info": {
   "codemirror_mode": {
    "name": "ipython",
    "version": 3
   },
   "file_extension": ".py",
   "mimetype": "text/x-python",
   "name": "python",
   "nbconvert_exporter": "python",
   "pygments_lexer": "ipython3",
   "version": "3.13.1"
  },
  "source_map": [
   13,
   76,
   94,
   133,
   145,
   148,
   163
  ]
 },
 "nbformat": 4,
 "nbformat_minor": 5
}