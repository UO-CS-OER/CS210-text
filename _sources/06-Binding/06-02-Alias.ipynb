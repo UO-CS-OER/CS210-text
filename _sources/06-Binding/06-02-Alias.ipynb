{
 "cells": [
  {
   "cell_type": "markdown",
   "id": "16148a8e",
   "metadata": {},
   "source": [
    "#  Aliasing\n",
    "\n",
    "## Binding can create aliases\n",
    "\n",
    "In an earlier chapter we briefly touched on the notion of _binding_ a \n",
    "variable name to a value.  A _namespace_ in Python is an association \n",
    "of names with references to objects.  The _values_ of variables are \n",
    "actually in the objects.  When we assign a value to a variable, e.g.,\n",
    "`x = 5`, we are actually creating an association between the name \n",
    "`x` and an object that contains the value `5`."
   ]
  },
  {
   "cell_type": "code",
   "execution_count": 1,
   "id": "047c42bc",
   "metadata": {},
   "outputs": [],
   "source": [
    "x = 5"
   ]
  },
  {
   "cell_type": "markdown",
   "id": "e52a795e",
   "metadata": {},
   "source": [
    "![x is bound to an object containing value 5](\n",
    "img/binding-aliasing-x.png)\n",
    "\n",
    "When we assign the value of `x` to variable `y` by writing `y = x`, we \n",
    "make a copy of \n",
    "the reference, not a new copy of the object containing the value."
   ]
  },
  {
   "cell_type": "code",
   "execution_count": 2,
   "id": "afc1f069",
   "metadata": {},
   "outputs": [],
   "source": [
    "y = x"
   ]
  },
  {
   "cell_type": "markdown",
   "id": "6fc9b124",
   "metadata": {},
   "source": [
    "![y is bound to the same value object](\n",
    "img/binding-aliasing-xy.png)\n",
    "\n",
    "If we bind a new value to `x`, for example by writing `x = x + 1`, it \n",
    "will be bound to a reference to \n",
    "an object containing that new value."
   ]
  },
  {
   "cell_type": "code",
   "execution_count": 3,
   "id": "b09afb7f",
   "metadata": {},
   "outputs": [],
   "source": [
    "x = 6"
   ]
  },
  {
   "cell_type": "markdown",
   "id": "eb1783e4",
   "metadata": {},
   "source": [
    "![x gets a new value, y is still 5](\n",
    "img/binding-aliasing-xincr.png)\n",
    "\n",
    "## Aliasing mutable values\n",
    "\n",
    "When `x` and `y` referred to the same object containing `5`, we say \n",
    "they were _aliased_.  Does aliasing matter?   For `int` values, it \n",
    "almost never matters.  When we \n",
    "assigned a new value to `x`, we did not change the value in the \n",
    "`int` object.  We created a new `int` object to contain the new \n",
    "value. We say that type `int` is _immutable_, because we never \n",
    "change (mutate) the values in objects.   For immutable types, it \n",
    "almost doesn't matter that variables are bound to references that \n",
    "could be aliases. \n",
    "\n",
    "Aliasing becomes important when we consider _mutable_ types.  For \n",
    "example, type `list` is mutable:  We can actually change the value \n",
    "in a `list` object.   Consider:"
   ]
  },
  {
   "cell_type": "code",
   "execution_count": 4,
   "id": "99cb00ef",
   "metadata": {},
   "outputs": [],
   "source": [
    "m = [1, 3, 5]"
   ]
  },
  {
   "cell_type": "markdown",
   "id": "9d716e70",
   "metadata": {},
   "source": [
    "Now `m` contains a reference to a list containing `int` objects, \n",
    "which contain values 1, 3, and 5. \n",
    "\n",
    "![m refers to list, which refer to int objects](\n",
    "img/binding-aliasing-m-before.png\n",
    ")\n",
    "\n",
    "Now suppose we change the value of `m[1]`, the second element in the \n",
    "list."
   ]
  },
  {
   "cell_type": "code",
   "execution_count": 5,
   "id": "fbe0244e",
   "metadata": {},
   "outputs": [],
   "source": [
    "m[1] = 7"
   ]
  },
  {
   "cell_type": "markdown",
   "id": "119a7175",
   "metadata": {},
   "source": [
    "This will actually modify the `list` object, without changing \n",
    "the binding of `m` to that list object. \n",
    "\n",
    "![assignment to m[1] modifies the list](\n",
    "img/binding-aliasing-m-after.png\n",
    ")\n",
    "\n",
    "Consider what happens if another variable `k` refers to the same \n",
    "list, becoming an _alias_ of `m`:"
   ]
  },
  {
   "cell_type": "code",
   "execution_count": 6,
   "id": "3a0bc029",
   "metadata": {},
   "outputs": [],
   "source": [
    "m = [1, 3, 5]\n",
    "k = m"
   ]
  },
  {
   "cell_type": "markdown",
   "id": "d489e9c5",
   "metadata": {},
   "source": [
    "![assignment to k creates an alias](\n",
    "img/binding-aliasing-km-aliased.png\n",
    ")\n",
    "\n",
    "Now if we modify of an element of `m`..."
   ]
  },
  {
   "cell_type": "code",
   "execution_count": 7,
   "id": "2261ee18",
   "metadata": {},
   "outputs": [
    {
     "name": "stdout",
     "output_type": "stream",
     "text": [
      "[1, 7, 5]\n"
     ]
    }
   ],
   "source": [
    "m[1] = 7\n",
    "print(k)"
   ]
  },
  {
   "cell_type": "markdown",
   "id": "37355d9c",
   "metadata": {},
   "source": [
    "... we have also modified the value of any _alias_ of `m`.\n",
    "\n",
    "![Mutating `m` also mutated aliases of `m`](\n",
    "img/binding-aliasing-km-modified.png\n",
    ")\n",
    "\n",
    "Sometimes this is just what we want. If we mutate an aliased \n",
    "variable accidentally, though, it can lead to confusing bugs.\n",
    "We need to distinguish between references to _equal_ values and \n",
    "references to _the same_ object.   Test your understanding by \n",
    "explaining the values printed by the following code:"
   ]
  },
  {
   "cell_type": "code",
   "execution_count": 8,
   "id": "4257c5d2",
   "metadata": {},
   "outputs": [
    {
     "name": "stdout",
     "output_type": "stream",
     "text": [
      "m = [17, 1]\n",
      "n = [17, 25]\n",
      "k = [17, 1]\n"
     ]
    }
   ],
   "source": [
    "m = [17, 25]\n",
    "n = [17, 25]\n",
    "k = m\n",
    "m[1] = 1\n",
    "print(f\"m = {m}\")\n",
    "print(f\"n = {n}\")\n",
    "print(f\"k = {k}\")"
   ]
  },
  {
   "cell_type": "markdown",
   "id": "dec3d6ef",
   "metadata": {},
   "source": [
    "## Aliasing for functions that mutate values\n",
    "\n",
    "Sometimes we use aliasing to write functions that modify the values \n",
    "passed to them.  Consider, for example, a function that swaps \n",
    "two elements of a list."
   ]
  },
  {
   "cell_type": "code",
   "execution_count": 9,
   "id": "3f628f52",
   "metadata": {},
   "outputs": [
    {
     "name": "stdout",
     "output_type": "stream",
     "text": [
      "[1, 3, 2, 4]\n"
     ]
    }
   ],
   "source": [
    "def swap_elements(m: list, i: int, k: int):\n",
    "    \"\"\"Swap m[i] with m[k].\"\"\"\n",
    "    tmp = m[i]\n",
    "    m[i] = m[k]\n",
    "    m[k] = tmp\n",
    "    \n",
    "march = [1, 2, 3, 4]\n",
    "swap_elements(march, 1, 2)\n",
    "print(march)"
   ]
  },
  {
   "cell_type": "markdown",
   "id": "90cb55ea",
   "metadata": {},
   "source": [
    "Function `swap_elements` does not return a value (to be precise, \n",
    "it always returns the value `None`).  Instead of a\n",
    "useful _return value_, \n",
    "it has an _effect_.  Aliasing of the _formal argument_ `m` to the \n",
    "_actual argument_ `example_list` allows function `swap_elements` to \n",
    "have an effect on the actual argument.  \n",
    "\n",
    "![Binding makes formal arguments aliases of actual arguments](\n",
    "img/actual-arg-effect.png\n",
    ")\n",
    "\n",
    "A function can have an _effect_ on actual arguments only if those \n",
    "argument values are _mutable_.   We can write a function to exchange \n",
    "elements of a list because type `list` is mutable.  It is not \n",
    "possible in Python to write a function that exchanges\n",
    "the values of two `int` \n",
    "values, because the Python `int` type is immutable.  Consider:"
   ]
  },
  {
   "cell_type": "code",
   "execution_count": 10,
   "id": "21251190",
   "metadata": {},
   "outputs": [
    {
     "name": "stdout",
     "output_type": "stream",
     "text": [
      "Before swap, a=10, b=99\n",
      "After swap, a=10, b=99\n"
     ]
    }
   ],
   "source": [
    "# The following swap function DOES NOT WORK\n",
    "def swap(m: int, k: int):\n",
    "    \"\"\"Exchange values of m and k\n",
    "    (BROKEN AND UNFIXABLE)\n",
    "    \"\"\"\n",
    "    tmp = m\n",
    "    m = k\n",
    "    k = m\n",
    "    \n",
    "a = 10\n",
    "b = 99\n",
    "print(f\"Before swap, a={a}, b={b}\")\n",
    "swap(a, b)\n",
    "print(f\"After swap, a={a}, b={b}\")"
   ]
  },
  {
   "cell_type": "markdown",
   "id": "80acf030",
   "metadata": {},
   "source": [
    "When `swap` is called, `m` and `k` become aliases of `a` and `b`. \n",
    "\n",
    "![`m` and `k` become aliases of `a` and `b`](\n",
    "img/broken-swap-before.png\n",
    ")\n",
    "\n",
    "However, changing `m` and `k` just changes the bindings of those \n",
    "variables within the function.  It does not alter the values that \n",
    "`a` and `b` refer to.  The values of `a` and \n",
    "`b` are unchanged. \n",
    "\n",
    "![Swapping `m` and `k` has no effect on `a` and `b`](\n",
    "img/broken-swap-after.png\n",
    ")"
   ]
  }
 ],
 "metadata": {
  "jupytext": {
   "formats": "md:myst",
   "text_representation": {
    "extension": ".myst",
    "format_name": "myst",
    "format_version": 1.1,
    "jupytext_version": "1.10.3"
   }
  },
  "kernelspec": {
   "display_name": "Python 3",
   "language": "python",
   "name": "python3"
  },
  "language_info": {
   "codemirror_mode": {
    "name": "ipython",
    "version": 3
   },
   "file_extension": ".py",
   "mimetype": "text/x-python",
   "name": "python",
   "nbconvert_exporter": "python",
   "pygments_lexer": "ipython3",
   "version": "3.11.3"
  },
  "source_map": [
   13,
   26,
   28,
   37,
   39,
   48,
   50,
   71,
   73,
   85,
   87,
   99,
   102,
   110,
   113,
   127,
   135,
   143,
   153,
   173,
   188
  ]
 },
 "nbformat": 4,
 "nbformat_minor": 5
}