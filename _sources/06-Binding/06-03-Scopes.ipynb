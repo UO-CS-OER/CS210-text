{
 "cells": [
  {
   "cell_type": "markdown",
   "id": "6e8de219",
   "metadata": {},
   "source": [
    "#  Scopes\n",
    "\n",
    "If we have a variable `x`, that variable may \n",
    "exist in more than one namespace.  Some of these namespaces are\n",
    "in _stack frames_, created when a function is called.  Python \n",
    "searches namespaces in a \n",
    "particular order, which determines which `x` it finds.\n",
    "\n",
    "Python always searches in this order: \n",
    "\n",
    "- The _local_ scope.  This is the namespace in the top stack frame, \n",
    "  which generally corresponds to the function that is currently \n",
    "  executing.  If a function is not executing (e.g., you are \n",
    "  executing code within a source file that is not part of any \n",
    "  function), then the local scope will be the namespace of the \n",
    "  module (see below).\n",
    "- The _enclosing_ scope.  Later you may find it useful to define \n",
    "  functions within other functions.  For now the enclosing scope \n",
    "  will be the same as the global scope. \n",
    "- The _global_ scope.  This is a namespace of the module (source \n",
    "  file) of the code that is currently executing.  It is where our \n",
    "  functions and global variables live.\n",
    "- The _builtin_ scope.  This is a namespace for the builtin \n",
    "  functions (and some other things) that are always available in \n",
    "  Python.  For example, when you type `len(\"abc\")`, Python usually \n",
    "  finds `len` in the _builtin_ scope. \n",
    "\n",
    "This is called _LEGB resolution order_.  To remember it, imagine \n",
    "that a football player's dominant leg is\n",
    "\"leg A\", and their other leg is \"leg B\".  A skilled football (soccer)\n",
    "player must practice kicking with leg B.  \n",
    "\n",
    "When a name exists in more than one of these scopes, Python\n",
    "uses the name it \n",
    "finds first. We say the other occurrences of the name are _shadowed_,\n",
    "i.e., covered up and hidden.  For example:"
   ]
  },
  {
   "cell_type": "code",
   "execution_count": 1,
   "id": "08a48f1c",
   "metadata": {},
   "outputs": [
    {
     "name": "stdout",
     "output_type": "stream",
     "text": [
      "42\n"
     ]
    }
   ],
   "source": [
    "# Shadow the built-in len function\n",
    "def len(s: str) -> int: \n",
    "    \"\"\"Don't do this.  Avoid shadowing built-ins!\"\"\"\n",
    "    return 21\n",
    "   \n",
    "def f(s: str) -> int: \n",
    "    return 2 * len(s)\n",
    "\n",
    "print(f(\"Short string\"))"
   ]
  },
  {
   "cell_type": "markdown",
   "id": "4b3ddcaa",
   "metadata": {},
   "source": [
    "Python looks first in the _local_ namespace, but does not find `len`.  \n",
    "There is no enclosing namespace, so it next looks in the _global_ \n",
    "namespace, and finds function `len` defined in this module.  It does \n",
    "not look farther, so it uses the `len` function defined in this \n",
    "module instead of the built-in `len` function. \n",
    "\n",
    "![Shadowing a built-in function](img/shadow-len.png)\n",
    "\n",
    "It can be hard to remember and avoid all the built-in names. Try as \n",
    "I may to avoid it, I often accidentally shadow a \n",
    "built-in function with a variable.  This can lead to confusing error \n",
    "messages."
   ]
  },
  {
   "cell_type": "code",
   "execution_count": 2,
   "id": "d5506217",
   "metadata": {
    "tags": [
     "raises-exception"
    ]
   },
   "outputs": [
    {
     "ename": "TypeError",
     "evalue": "'int' object is not callable",
     "output_type": "error",
     "traceback": [
      "\u001b[31m---------------------------------------------------------------------------\u001b[39m",
      "\u001b[31mTypeError\u001b[39m                                 Traceback (most recent call last)",
      "\u001b[36mCell\u001b[39m\u001b[36m \u001b[39m\u001b[32mIn[2]\u001b[39m\u001b[32m, line 10\u001b[39m\n\u001b[32m      7\u001b[39m         tot += \u001b[38;5;28mlen\u001b[39m(s) \n\u001b[32m      8\u001b[39m     \u001b[38;5;28;01mreturn\u001b[39;00m tot\n\u001b[32m---> \u001b[39m\u001b[32m10\u001b[39m \u001b[38;5;28mprint\u001b[39m(\u001b[43mtotal_length\u001b[49m\u001b[43m(\u001b[49m\u001b[43m[\u001b[49m\u001b[33;43m\"\u001b[39;49m\u001b[33;43mthis\u001b[39;49m\u001b[33;43m\"\u001b[39;49m\u001b[43m,\u001b[49m\u001b[43m \u001b[49m\u001b[33;43m\"\u001b[39;49m\u001b[33;43mthat\u001b[39;49m\u001b[33;43m\"\u001b[39;49m\u001b[43m,\u001b[49m\u001b[43m \u001b[49m\u001b[33;43m\"\u001b[39;49m\u001b[33;43mthe other\u001b[39;49m\u001b[33;43m\"\u001b[39;49m\u001b[43m]\u001b[49m\u001b[43m)\u001b[49m)\n",
      "\u001b[36mCell\u001b[39m\u001b[36m \u001b[39m\u001b[32mIn[2]\u001b[39m\u001b[32m, line 7\u001b[39m, in \u001b[36mtotal_length\u001b[39m\u001b[34m(l)\u001b[39m\n\u001b[32m      5\u001b[39m tot = \u001b[32m0\u001b[39m\n\u001b[32m      6\u001b[39m \u001b[38;5;28;01mfor\u001b[39;00m s \u001b[38;5;129;01min\u001b[39;00m l: \n\u001b[32m----> \u001b[39m\u001b[32m7\u001b[39m     tot += \u001b[38;5;28;43mlen\u001b[39;49m\u001b[43m(\u001b[49m\u001b[43ms\u001b[49m\u001b[43m)\u001b[49m \n\u001b[32m      8\u001b[39m \u001b[38;5;28;01mreturn\u001b[39;00m tot\n",
      "\u001b[31mTypeError\u001b[39m: 'int' object is not callable"
     ]
    }
   ],
   "source": [
    "len = 0  # Oops\n",
    "\n",
    "def total_length(l: list[str]) -> int: \n",
    "    \"\"\"Total length of all the strings in l\"\"\"\n",
    "    tot = 0\n",
    "    for s in l: \n",
    "        tot += len(s) \n",
    "    return tot\n",
    "    \n",
    "print(total_length([\"this\", \"that\", \"the other\"]))"
   ]
  },
  {
   "cell_type": "markdown",
   "id": "a3ae0c89",
   "metadata": {},
   "source": [
    "![An integer shadowing a built-in function](img/int-shadow-func.png)\n",
    "\n",
    "When Python complains that some type is \"not callable\", it is a \n",
    "strong clue that we have accidentally shadowed a function with a \n",
    "variable. \n",
    "\n",
    "## Which variables are local?\n",
    "\n",
    "Since a function can use both global variables and local variables, \n",
    "how can we tell which is which?  If we assign a value to a variable\n",
    "(bind it) _anywhere_ in a function, Python will create a\n",
    "variable with that name in the local scope of the function. \n",
    "If we use the variable but do not bind it within the function,\n",
    "Python will not create a local variable, so it will find a global \n",
    "variable instead.  In other words, the local variables of a function \n",
    "are the variables that are bound within the function."
   ]
  },
  {
   "cell_type": "code",
   "execution_count": 3,
   "id": "687af2f7",
   "metadata": {},
   "outputs": [
    {
     "name": "stdout",
     "output_type": "stream",
     "text": [
      "x is '<<global x>>', y is '<<global y>>' before calling f()\n",
      "========  Calling f  ========\n",
      "The value of x is '<<global x>>' while executing f\n",
      "The value of y is 'Something new' while executing f\n",
      "========  After call to f ====\n",
      "x is '<<global x>>', y is '<<global y>>' after calling f\n"
     ]
    }
   ],
   "source": [
    "x = \"<<global x>>\"\n",
    "y = \"<<global y>>\"\n",
    "\n",
    "def f():\n",
    "    \"\"\"Access both local and global variables\"\"\"\n",
    "    y = \"Something new\"       # y is bound here! \n",
    "    print(f\"The value of x is '{x}' while executing f\")\n",
    "    print(f\"The value of y is '{y}' while executing f\")\n",
    "\n",
    "print(f\"x is '{x}', y is '{y}' before calling f()\")\n",
    "print(\"========  Calling f  ========\")\n",
    "f()\n",
    "print(\"========  After call to f ====\")\n",
    "print(f\"x is '{x}', y is '{y}' after calling f\")"
   ]
  },
  {
   "cell_type": "markdown",
   "id": "859963f3",
   "metadata": {},
   "source": [
    "![Binding makes a variable local](img/binding-makes-local.png)\n",
    "\n",
    "\n",
    "Binding `y` within `f` makes `y` a local variable \n",
    "_throughout_ f, even before the assignment that binds it.  Notice \n",
    "what happens if we move the assignment after the print statements:"
   ]
  },
  {
   "cell_type": "code",
   "execution_count": 4,
   "id": "0c193ba4",
   "metadata": {
    "tags": [
     "raises-exception"
    ]
   },
   "outputs": [
    {
     "name": "stdout",
     "output_type": "stream",
     "text": [
      "x is '<<global x>>', y is '<<global y>>' before calling f()\n",
      "========  Calling f  ========\n",
      "The value of x is '<<global x>>' while executing f\n"
     ]
    },
    {
     "ename": "UnboundLocalError",
     "evalue": "cannot access local variable 'y' where it is not associated with a value",
     "output_type": "error",
     "traceback": [
      "\u001b[31m---------------------------------------------------------------------------\u001b[39m",
      "\u001b[31mUnboundLocalError\u001b[39m                         Traceback (most recent call last)",
      "\u001b[36mCell\u001b[39m\u001b[36m \u001b[39m\u001b[32mIn[4]\u001b[39m\u001b[32m, line 13\u001b[39m\n\u001b[32m     11\u001b[39m \u001b[38;5;28mprint\u001b[39m(\u001b[33mf\u001b[39m\u001b[33m\"\u001b[39m\u001b[33mx is \u001b[39m\u001b[33m'\u001b[39m\u001b[38;5;132;01m{\u001b[39;00mx\u001b[38;5;132;01m}\u001b[39;00m\u001b[33m'\u001b[39m\u001b[33m, y is \u001b[39m\u001b[33m'\u001b[39m\u001b[38;5;132;01m{\u001b[39;00my\u001b[38;5;132;01m}\u001b[39;00m\u001b[33m'\u001b[39m\u001b[33m before calling f()\u001b[39m\u001b[33m\"\u001b[39m)\n\u001b[32m     12\u001b[39m \u001b[38;5;28mprint\u001b[39m(\u001b[33m\"\u001b[39m\u001b[33m========  Calling f  ========\u001b[39m\u001b[33m\"\u001b[39m)\n\u001b[32m---> \u001b[39m\u001b[32m13\u001b[39m \u001b[43mf\u001b[49m\u001b[43m(\u001b[49m\u001b[43m)\u001b[49m\n\u001b[32m     14\u001b[39m \u001b[38;5;28mprint\u001b[39m(\u001b[33m\"\u001b[39m\u001b[33m========  After call to f ====\u001b[39m\u001b[33m\"\u001b[39m)\n\u001b[32m     15\u001b[39m \u001b[38;5;28mprint\u001b[39m(\u001b[33mf\u001b[39m\u001b[33m\"\u001b[39m\u001b[33mx is \u001b[39m\u001b[33m'\u001b[39m\u001b[38;5;132;01m{\u001b[39;00mx\u001b[38;5;132;01m}\u001b[39;00m\u001b[33m'\u001b[39m\u001b[33m, y is \u001b[39m\u001b[33m'\u001b[39m\u001b[38;5;132;01m{\u001b[39;00my\u001b[38;5;132;01m}\u001b[39;00m\u001b[33m'\u001b[39m\u001b[33m after calling f\u001b[39m\u001b[33m\"\u001b[39m)\n",
      "\u001b[36mCell\u001b[39m\u001b[36m \u001b[39m\u001b[32mIn[4]\u001b[39m\u001b[32m, line 8\u001b[39m, in \u001b[36mf\u001b[39m\u001b[34m()\u001b[39m\n\u001b[32m      6\u001b[39m \u001b[38;5;66;03m# assignment to y has not been made yet\u001b[39;00m\n\u001b[32m      7\u001b[39m \u001b[38;5;28mprint\u001b[39m(\u001b[33mf\u001b[39m\u001b[33m\"\u001b[39m\u001b[33mThe value of x is \u001b[39m\u001b[33m'\u001b[39m\u001b[38;5;132;01m{\u001b[39;00mx\u001b[38;5;132;01m}\u001b[39;00m\u001b[33m'\u001b[39m\u001b[33m while executing f\u001b[39m\u001b[33m\"\u001b[39m)\n\u001b[32m----> \u001b[39m\u001b[32m8\u001b[39m \u001b[38;5;28mprint\u001b[39m(\u001b[33mf\u001b[39m\u001b[33m\"\u001b[39m\u001b[33mThe value of y is \u001b[39m\u001b[33m'\u001b[39m\u001b[38;5;132;01m{\u001b[39;00m\u001b[43my\u001b[49m\u001b[38;5;132;01m}\u001b[39;00m\u001b[33m'\u001b[39m\u001b[33m while executing f\u001b[39m\u001b[33m\"\u001b[39m)\n\u001b[32m      9\u001b[39m y = \u001b[33m\"\u001b[39m\u001b[33mSomething new\u001b[39m\u001b[33m\"\u001b[39m\n",
      "\u001b[31mUnboundLocalError\u001b[39m: cannot access local variable 'y' where it is not associated with a value"
     ]
    }
   ],
   "source": [
    "x = \"<<global x>>\"\n",
    "y = \"<<global y>>\"\n",
    "\n",
    "def f():\n",
    "    \"\"\"Access both local and global variables\"\"\"\n",
    "    # assignment to y has not been made yet\n",
    "    print(f\"The value of x is '{x}' while executing f\")\n",
    "    print(f\"The value of y is '{y}' while executing f\")\n",
    "    y = \"Something new\"       # y is bound here! \n",
    "\n",
    "print(f\"x is '{x}', y is '{y}' before calling f()\")\n",
    "print(\"========  Calling f  ========\")\n",
    "f()\n",
    "print(\"========  After call to f ====\")\n",
    "print(f\"x is '{x}', y is '{y}' after calling f\")"
   ]
  },
  {
   "cell_type": "markdown",
   "id": "324d103e",
   "metadata": {},
   "source": [
    "## Formal arguments are local variables\n",
    "\n",
    "When we call a function `f`, we bind the values of _actual \n",
    "arguments_ to the _formal arguments_ of f.  These bindings create \n",
    "local variables, just as if we had written an assignment statement \n",
    "for each formal argument."
   ]
  },
  {
   "cell_type": "code",
   "execution_count": 5,
   "id": "44fc5de4",
   "metadata": {},
   "outputs": [
    {
     "name": "stdout",
     "output_type": "stream",
     "text": [
      "x is <<global x>>, y is <<global y>> before calling g(y)\n",
      "========  Calling g ========\n",
      "The value of x is '<<global y>>' while g is executing\n",
      "The value of y is '<<global y>>' while g is executing\n",
      "========  After call to g ====\n",
      "x is '<<global x>>', y is '<<global y>>' after calling g(y)\n"
     ]
    }
   ],
   "source": [
    "x = \"<<global x>>\"\n",
    "y = \"<<global y>>\"\n",
    "\n",
    "def g(x: str):\n",
    "    \"\"\"x will be bound by a call, and y by assignment, \n",
    "    so both x and y will be local variables.\n",
    "    \"\"\"\n",
    "    y = x \n",
    "    print(f\"The value of x is '{x}' while g is executing\")\n",
    "    print(f\"The value of y is '{y}' while g is executing\")\n",
    "\n",
    "print(f\"x is {x}, y is {y} before calling g(y)\")\n",
    "print(\"========  Calling g ========\")\n",
    "g(y)\n",
    "print(\"========  After call to g ====\")\n",
    "print(f\"x is '{x}', y is '{y}' after calling g(y)\")    "
   ]
  },
  {
   "cell_type": "markdown",
   "id": "d3e6d3b4",
   "metadata": {},
   "source": [
    "Here `x` is made local by binding of the actual argument to a local \n",
    "argument, and `y` is made local by binding in an assignment.  \n",
    "Although both `x` and `y` are local, they are both aliases of the \n",
    "global `y`. \n",
    "\n",
    "![Local variables are made local by any kind of binding](\n",
    "img/arg-binding-makes-local.png\n",
    ")\n",
    "\n",
    "## Modifying an element does not bind the collection\n",
    "\n",
    "It may seem that setting an element of a list or other collection is \n",
    "an \"assignment to\" a variable, but it does not make a new binding to \n",
    "the variable itself."
   ]
  },
  {
   "cell_type": "code",
   "execution_count": 6,
   "id": "84711928",
   "metadata": {},
   "outputs": [
    {
     "name": "stdout",
     "output_type": "stream",
     "text": [
      "Before g() the value of m is [1, 2, 3, 4]\n",
      "Within g the value of m is now [1, 2, 37, 4]\n",
      "After g() the value of m is [1, 2, 37, 4]\n"
     ]
    }
   ],
   "source": [
    "m = [1, 2, 3, 4]\n",
    "\n",
    "def g(): \n",
    "    \"\"\"This function does NOT bind m; \n",
    "    it only modifies an element of m.\n",
    "    \"\"\"\n",
    "    m[2] = 37\n",
    "    print(f\"Within g the value of m is now {m}\")\n",
    "    \n",
    "print(f\"Before g() the value of m is {m}\")\n",
    "g()\n",
    "print(f\"After g() the value of m is {m}\")"
   ]
  },
  {
   "cell_type": "markdown",
   "id": "040975db",
   "metadata": {},
   "source": [
    "This can be confusing, but it makes sense if you think about the way \n",
    "Python executes `m[2] = 37`.  First it finds `m`, then it finds \n",
    "element `2` of `m` and changes that.  `m` is still associated with \n",
    "the same reference to the same list, unchanged.  The value of `m` \n",
    "has been modified, but the binding of `m` has not changed.\n",
    "\n",
    "![Assigning to one element of a collection doesn't make the \n",
    "collection local](img/mutate-element.png)\n",
    "\n",
    "If we did not want to modify the global `m` within `g`, we could \n",
    "avoid it by making a copy.  Most collection types (`list`, `dict`, \n",
    "and some others) have a `copy` method."
   ]
  },
  {
   "cell_type": "code",
   "execution_count": 7,
   "id": "81f95a06",
   "metadata": {},
   "outputs": [
    {
     "name": "stdout",
     "output_type": "stream",
     "text": [
      "Before g() the value of m is [1, 2, 3, 4]\n",
      "Within g the value of v is now [1, 2, 37, 4]\n",
      "Within g the value of m is still [1, 2, 3, 4]\n",
      "After g() the value of m is [1, 2, 3, 4]\n"
     ]
    }
   ],
   "source": [
    "m = [1, 2, 3, 4]\n",
    "\n",
    "def g(): \n",
    "    \"\"\"This function binds v\n",
    "    to a copy of the global m.\n",
    "    \"\"\"\n",
    "    v = m.copy()\n",
    "    v[2] = 37\n",
    "    print(f\"Within g the value of v is now {v}\")\n",
    "    print(f\"Within g the value of m is still {m}\")\n",
    "    \n",
    "print(f\"Before g() the value of m is {m}\")\n",
    "g()\n",
    "print(f\"After g() the value of m is {m}\")"
   ]
  },
  {
   "cell_type": "markdown",
   "id": "1b8421e9",
   "metadata": {},
   "source": [
    "![Making a copy before mutating a collection](img/mutate-local-copy.png)\n",
    "\n",
    "What would happen if we tried to make a copy with `m = m.copy()` \n",
    "instead of introducing a new variable `v`?   It will not work! \n",
    "Recall that binding a variable _anywhere_ in a function makes it a \n",
    "local variable _everywhere_ in the function."
   ]
  },
  {
   "cell_type": "code",
   "execution_count": 8,
   "id": "1f4238d3",
   "metadata": {
    "tags": [
     "raises-exception"
    ]
   },
   "outputs": [
    {
     "ename": "UnboundLocalError",
     "evalue": "cannot access local variable 'm' where it is not associated with a value",
     "output_type": "error",
     "traceback": [
      "\u001b[31m---------------------------------------------------------------------------\u001b[39m",
      "\u001b[31mUnboundLocalError\u001b[39m                         Traceback (most recent call last)",
      "\u001b[36mCell\u001b[39m\u001b[36m \u001b[39m\u001b[32mIn[8]\u001b[39m\u001b[32m, line 12\u001b[39m\n\u001b[32m      9\u001b[39m     m[\u001b[32m2\u001b[39m] = \u001b[32m37\u001b[39m\n\u001b[32m     10\u001b[39m     \u001b[38;5;28mprint\u001b[39m(\u001b[33mf\u001b[39m\u001b[33m\"\u001b[39m\u001b[33mWithin g the value of m is now \u001b[39m\u001b[38;5;132;01m{\u001b[39;00mm\u001b[38;5;132;01m}\u001b[39;00m\u001b[33m\"\u001b[39m)\n\u001b[32m---> \u001b[39m\u001b[32m12\u001b[39m \u001b[43mg\u001b[49m\u001b[43m(\u001b[49m\u001b[43m)\u001b[49m\n",
      "\u001b[36mCell\u001b[39m\u001b[36m \u001b[39m\u001b[32mIn[8]\u001b[39m\u001b[32m, line 8\u001b[39m, in \u001b[36mg\u001b[39m\u001b[34m()\u001b[39m\n\u001b[32m      3\u001b[39m \u001b[38;5;28;01mdef\u001b[39;00m\u001b[38;5;250m \u001b[39m\u001b[34mg\u001b[39m(): \n\u001b[32m      4\u001b[39m \u001b[38;5;250m    \u001b[39m\u001b[33;03m\"\"\"This function binds attempts to bind\u001b[39;00m\n\u001b[32m      5\u001b[39m \u001b[33;03m    local m to a copy of global m, but it fails\u001b[39;00m\n\u001b[32m      6\u001b[39m \u001b[33;03m    because every reference to m is to the local m. \u001b[39;00m\n\u001b[32m      7\u001b[39m \u001b[33;03m    \"\"\"\u001b[39;00m\n\u001b[32m----> \u001b[39m\u001b[32m8\u001b[39m     m = \u001b[43mm\u001b[49m.copy()\n\u001b[32m      9\u001b[39m     m[\u001b[32m2\u001b[39m] = \u001b[32m37\u001b[39m\n\u001b[32m     10\u001b[39m     \u001b[38;5;28mprint\u001b[39m(\u001b[33mf\u001b[39m\u001b[33m\"\u001b[39m\u001b[33mWithin g the value of m is now \u001b[39m\u001b[38;5;132;01m{\u001b[39;00mm\u001b[38;5;132;01m}\u001b[39;00m\u001b[33m\"\u001b[39m)\n",
      "\u001b[31mUnboundLocalError\u001b[39m: cannot access local variable 'm' where it is not associated with a value"
     ]
    }
   ],
   "source": [
    "m = [1, 2, 3, 4]\n",
    "\n",
    "def g(): \n",
    "    \"\"\"This function binds attempts to bind\n",
    "    local m to a copy of global m, but it fails\n",
    "    because every reference to m is to the local m. \n",
    "    \"\"\"\n",
    "    m = m.copy()\n",
    "    m[2] = 37\n",
    "    print(f\"Within g the value of m is now {m}\")\n",
    "    \n",
    "g()"
   ]
  },
  {
   "cell_type": "markdown",
   "id": "9341f2e1",
   "metadata": {},
   "source": [
    "The local\n",
    "`m` shadows the global `m`.  Thus `m = m.copy()`\n",
    "tries to make a copy of the local variable, which will fail because \n",
    "the local variable hasn't been given a value yet.  \n",
    "\n",
    "![Can't reuse name for copy into local variable](\n",
    "img/copy-recycled-name.png)\n",
    "\n",
    "## Default Arguments: A Binding _Gotcha_\n",
    "\n",
    "Occasionally we have to think carefully about scope and about the \n",
    "_time_ of binding to avoid unintended effects.  Some infamous\n",
    "[Python \"gotchas\"](https://docs.python-guide.org/writing/gotchas/) \n",
    "result from unintended effects through shared bindings. \n",
    "\n",
    "A Python function can have keyword arguments as well as positional \n",
    "arguments, and those keyword arguments can have default values.  The \n",
    "keyword argument is bound to its default value just once, when the \n",
    "function is defined.   This seems fine ..."
   ]
  },
  {
   "cell_type": "code",
   "execution_count": 9,
   "id": "a22d8042",
   "metadata": {},
   "outputs": [
    {
     "name": "stdout",
     "output_type": "stream",
     "text": [
      "['*', '*', '*']\n"
     ]
    }
   ],
   "source": [
    "def stars(n: int, initial=[]) -> list[str]:\n",
    "    \"\"\"Should return list of n stars.  Oops.\"\"\"\n",
    "    if n == 0:\n",
    "        return initial\n",
    "    initial.append(\"*\")\n",
    "    return stars(n-1, initial)\n",
    "\n",
    "print(stars(3))"
   ]
  },
  {
   "cell_type": "markdown",
   "id": "a039e812",
   "metadata": {},
   "source": [
    " Handy!  But watch out ..."
   ]
  },
  {
   "cell_type": "code",
   "execution_count": 10,
   "id": "e9f3a290",
   "metadata": {},
   "outputs": [
    {
     "name": "stdout",
     "output_type": "stream",
     "text": [
      "['*', '*', '*', '*', '*']\n"
     ]
    }
   ],
   "source": [
    "print(stars(2))"
   ]
  },
  {
   "cell_type": "markdown",
   "id": "c33aae53",
   "metadata": {},
   "source": [
    "Although the formal argument `initial` is local to function `stars`, \n",
    "the default value is bound to a mutable value whose scope is the \n",
    "module in which the function appears.  It is just as if we had written:"
   ]
  },
  {
   "cell_type": "code",
   "execution_count": 11,
   "id": "5105dba5",
   "metadata": {},
   "outputs": [
    {
     "name": "stdout",
     "output_type": "stream",
     "text": [
      "['*', '*', '*']\n",
      "['*', '*', '*', '*', '*']\n"
     ]
    }
   ],
   "source": [
    "sneaky = []\n",
    "def stars(n: int, initial=sneaky) -> list[str]:\n",
    "    \"\"\"Should return list of n stars.  Oops.\"\"\"\n",
    "    if n == 0:\n",
    "        return initial\n",
    "    initial.append(\"*\")\n",
    "    return stars(n-1, initial)\n",
    "\n",
    "print(stars(3))\n",
    "print(stars(2))"
   ]
  },
  {
   "cell_type": "markdown",
   "id": "56c37252",
   "metadata": {},
   "source": [
    "Variable `sneaky` is bound to an empty list just once, and then\n",
    "that binding is copied to `initial` each \n",
    "time we call `stars` without providing an explicit value for \n",
    "`initial`.  Many an hour of \n",
    "debugging has been spent diagnosing unexpected effects of such \n",
    "shared bindings.   \n",
    "\n",
    "## Recap\n",
    "\n",
    "The scope rules in Python are simple, but their consequences can be \n",
    "confusing.  There are just two rules to remember: \n",
    "\n",
    "- Python searches for names in _LEGB_ order, *L*ocal, *E*nclosing, \n",
    "  *G*lobal,  *B*uilt-in.  (So far we have seen just _LGM_, but\n",
    "  \"LEG-B\" is easier to pronounce and thus easier to remember.)\n",
    "- The *L*ocal variables of a function are those that have been \n",
    "  _bound_ through an explicit assignment or through argument passing.\n",
    "\n",
    "Everything else follows from these two rules."
   ]
  }
 ],
 "metadata": {
  "jupytext": {
   "formats": "md:myst",
   "text_representation": {
    "extension": ".myst",
    "format_name": "myst",
    "format_version": 1.1,
    "jupytext_version": "1.10.3"
   }
  },
  "kernelspec": {
   "display_name": "Python 3",
   "language": "python",
   "name": "python3"
  },
  "language_info": {
   "codemirror_mode": {
    "name": "ipython",
    "version": 3
   },
   "file_extension": ".py",
   "mimetype": "text/x-python",
   "name": "python",
   "nbconvert_exporter": "python",
   "pygments_lexer": "ipython3",
   "version": "3.13.1"
  },
  "source_map": [
   13,
   51,
   61,
   76,
   89,
   108,
   123,
   132,
   150,
   159,
   176,
   193,
   206,
   221,
   236,
   245,
   260,
   281,
   290,
   293,
   295,
   301,
   312
  ]
 },
 "nbformat": 4,
 "nbformat_minor": 5
}