{
 "cells": [
  {
   "cell_type": "markdown",
   "id": "cb23e801",
   "metadata": {},
   "source": [
    "# Recursive Data Structures\n",
    "\n",
    "Just as a function can call itself, a _collection_ data structure \n",
    "like a dictionary, list, or tuple can contain other collections of \n",
    "the same kind.  We refer to these as _nested_ structures. \n",
    "\n",
    "We have already seen nested lists to represent matrices,the grid of \n",
    "letters in our Boggle project.  Those nested structures\n",
    "had a fixed dimension, e.g., our Boggle boards used a single\n",
    "level of nesting to represent two-dimensional grids. We never had to \n",
    "determine whether one of the lists contained individual tiles or \n",
    "another level of nested list.  Now we will consider structures in \n",
    "which the level of nesting may vary. \n",
    "\n",
    "A computer file system is a familiar nested collection.  Directories \n",
    "(also called \"folders\") are collections that may contain other \n",
    "directories, individual files, or both.  The operating system of \n",
    "your computer can display parts of this nested structure through \n",
    "some kind of \"Finder\" or \"Explorer\" application: \n",
    "\n",
    "![Finder display of directory structure](\n",
    "img/directory-tree-vertical.png)\n",
    "\n",
    "\n",
    "Like recursive algorithms, recursive data structures have one or \n",
    "more _base_ cases and one or more _recursive_ cases.  We process \n",
    "recursive data structures with recursive functions.  A base case in \n",
    "the data structure will be handled by a base case in a function, and \n",
    "a recursive case in the data structure will be handled by a \n",
    "recursive function call. \n",
    "\n",
    "We will need a way to distinguish the base cases from recursive \n",
    "cases.  For a directory structure, Python provides\n",
    "functions `os.isfile` and `os.isdir` to identify the base case (a \n",
    "regular file) and the recursive case (a directory), respectively, \n",
    "as well as functions to combine and extract parts of paths\n",
    "and to find the current working directory. \n",
    "A function to recursively print the _directory tree_ would use these \n",
    "to choose between the base and recursive cases of the algorithm."
   ]
  },
  {
   "cell_type": "code",
   "execution_count": 1,
   "id": "3d7c9262",
   "metadata": {},
   "outputs": [
    {
     "name": "stdout",
     "output_type": "stream",
     "text": [
      "09-Recursive-Data\n",
      "|–– 09-05-Exercises.md\n",
      "|–– 09-03-Treemap-Project.md\n",
      "|–– img\n",
      "|   |–– directory-tree-vertical.png\n",
      "|   |–– major-codes.png\n",
      "|   |–– coffee-tree.svg\n",
      "|   |–– coffee-tree.graffle\n",
      "|   |–– chap08.svg\n",
      "|   |–– directory-tree-horizontal.png\n",
      "|   |–– roster.jpg\n",
      "|–– Samples\n",
      "|   |–– dir_tree_printer.py\n",
      "|   |–– dir_tree.py\n",
      "|–– 09-01-Recursive-Data-Structures.md\n",
      "|–– 09-04-Shape-of-Data.md\n",
      "|–– 09-02-Nested-Dicts.md\n"
     ]
    }
   ],
   "source": [
    "import os\n",
    "\n",
    "def print_directory_tree(path: str, level: int):\n",
    "    \"\"\"Represent nesting by indentation\"\"\"\n",
    "    name = os.path.basename(path)  # Just the last part of the path\n",
    "    if os.path.isfile(path):\n",
    "        # The base case ...\n",
    "        # no recursive call\n",
    "        print(f\"{leader(level)}{name}\")\n",
    "    elif os.path.isdir(path):\n",
    "        # The recursive case ...\n",
    "        # a directory that may contain other files and directories\n",
    "        print(f\"{leader(level)}{name}\")\n",
    "        for content in os.listdir(path):\n",
    "            print_directory_tree(os.path.join(path, content), level + 1)\n",
    "    else:\n",
    "        # \"Hidden\" files may be identified as neither files nor directories\n",
    "        print(f\"{leader(level)}[Hidden: {name}]\")\n",
    "\n",
    "def leader(level: int) -> str:\n",
    "    \"\"\"A leader in typography is a series of characters\n",
    "    that are used as a visual aid to connect items on a page.\n",
    "    [per Wikipedia]\n",
    "    \"\"\"\n",
    "    if level == 0:\n",
    "        return \"\"\n",
    "    return \"|   \" * (level - 1) + \"|–– \"\n",
    "\n",
    "# Print directory (folder) tree from current working directory\n",
    "print_directory_tree(os.getcwd(), level=0)"
   ]
  },
  {
   "cell_type": "markdown",
   "id": "d146f39b",
   "metadata": {},
   "source": [
    ":::{note}\n",
    "You needn't remember the functions for manipulating file paths.  \n",
    "The point of the example is to see how containment of\n",
    "a file or directory \n",
    "within another directory is exactly mirrored by recursive calls to \n",
    "the `print_directory_tree` function.  This exact mirroring between \n",
    "the structure of _data_ and recursion in _computation_ will be same \n",
    "when our recursive data structures are lists, dictionaries, tuples, \n",
    "or any other kind of nested collection. \n",
    ":::\n",
    "\n",
    "## Using `isinstance` to distinguish types\n",
    "\n",
    "Suppose we wanted to sum all the integers in a nested\n",
    "list like `[[1, 2], 3, [4, [5, 6]]]`.  We'll call that a\n",
    "_deep sum_, because it sums even integers that are deeply nested in \n",
    "the list.  Our recursive algorithm should be something like this: \n",
    "\n",
    "- (Base case)  The deep sum of a single integer is that\n",
    "  integer itself. \n",
    "- (Recursive case)  The deep sum of a nested list of integers\n",
    "  is the sum of the deep sums of each element of the list.\n",
    "\n",
    "To distinguish the base case from the recursive case, we need to \n",
    "determine whether a value is a list or an integer.  The Python \n",
    "function `isinstance` can tell us that."
   ]
  },
  {
   "cell_type": "code",
   "execution_count": 2,
   "id": "2b489c69",
   "metadata": {},
   "outputs": [
    {
     "name": "stdout",
     "output_type": "stream",
     "text": [
      "[1, 2, 3] is a list\n",
      "[[1, 2], 3, [4, [5, 6]]] is a list\n",
      "42 is an int\n",
      "[] is a list\n"
     ]
    }
   ],
   "source": [
    "def what_is_it(value):\n",
    "    \"\"\"Distinguish possibly nested list from integer\"\"\"\n",
    "    if isinstance(value, int):\n",
    "        print(f\"{value} is an int\")\n",
    "    elif isinstance(value, list):\n",
    "        print(f\"{value} is a list\")\n",
    "    else:\n",
    "        print(f\"{value} is neither int nor list\")\n",
    "\n",
    "what_is_it([1, 2, 3])\n",
    "what_is_it([[1, 2], 3, [4, [5, 6]]])\n",
    "what_is_it(42)\n",
    "what_is_it([])"
   ]
  },
  {
   "cell_type": "markdown",
   "id": "31ede702",
   "metadata": {},
   "source": [
    "Using `isinstance`, we can write a `deep_sum` function with the base \n",
    "case and recursive case as outlined above:"
   ]
  },
  {
   "cell_type": "code",
   "execution_count": 3,
   "id": "ce70f533",
   "metadata": {},
   "outputs": [
    {
     "name": "stdout",
     "output_type": "stream",
     "text": [
      "Deep sum of [1, 2, 3] is 6\n",
      "Deep sum of [[1, 2], 3, [4, [5, 6]]] is 21\n",
      "Deep sum of 42 is 42\n",
      "Deep sum of [] is 0\n"
     ]
    }
   ],
   "source": [
    "def deep_sum(nest) -> int:\n",
    "    \"\"\"Return a sum of all integers in a nested list of int\"\"\"\n",
    "    if isinstance(nest, int):\n",
    "        return nest\n",
    "    elif isinstance(nest, list):\n",
    "        total = 0\n",
    "        for el in nest:\n",
    "            total += deep_sum(el)\n",
    "        return total\n",
    "    else:\n",
    "        assert False, f\"Wait, what is this thing? {nest}\"\n",
    "\n",
    "print(f\"Deep sum of [1, 2, 3] is {deep_sum([1, 2, 3])}\")\n",
    "print(f\"Deep sum of [[1, 2], 3, [4, [5, 6]]] is {deep_sum([[1, 2], 3, [4, [5, 6]]])}\")\n",
    "print(f\"Deep sum of 42 is {deep_sum(42)}\")\n",
    "print(f\"Deep sum of [] is {deep_sum([])}\")"
   ]
  },
  {
   "cell_type": "markdown",
   "id": "15502b82",
   "metadata": {},
   "source": [
    "### Type declarations for recursive collection types\n",
    "\n",
    "As you may have noticed, I did not annotate the formal argument \n",
    "`value` with a type.  If I annotated it as `value: int`, it would be \n",
    "wrong when `value` was a list.  If I annotated as `value: list`, it \n",
    "would be wrong when `value` was an int.   How can I give a clear, \n",
    "concise, and correct type declaration for a recursive collection, \n",
    "such as a nested list?\n",
    "\n",
    "We will use two features of Python type annotations to solve this \n",
    "conundrum.  First, Python allows us to give names to data types.\n",
    "For example, suppose I were using `list[list[int]]` in many places \n",
    "to represent a grid of integers.  I could introduce a new type name \n",
    "`Grid` as a more readable and descriptive substitute:"
   ]
  },
  {
   "cell_type": "code",
   "execution_count": 4,
   "id": "043444b1",
   "metadata": {},
   "outputs": [],
   "source": [
    "Grid = list[list[int]]"
   ]
  },
  {
   "cell_type": "markdown",
   "id": "fc10dc72",
   "metadata": {},
   "source": [
    "I could then use the name `Grid` as a type annotation, e.g.,"
   ]
  },
  {
   "cell_type": "code",
   "execution_count": 5,
   "id": "1f9e50d6",
   "metadata": {},
   "outputs": [
    {
     "name": "stdout",
     "output_type": "stream",
     "text": [
      "grid_sum of g is 21\n"
     ]
    }
   ],
   "source": [
    "def grid_sum(grid: Grid) -> int: \n",
    "    \"\"\"Total of all cells in the grid\"\"\"\n",
    "    total = 0\n",
    "    for row_num in range(len(grid)):\n",
    "        for col_num in range(len(grid[row_num])):\n",
    "            total += grid[row_num][col_num]\n",
    "    return total\n",
    "     \n",
    "g = [[1, 2, 3], [4, 5, 6]]\n",
    "print(f\"grid_sum of g is {grid_sum(g)}\")"
   ]
  },
  {
   "cell_type": "markdown",
   "id": "85fe61f6",
   "metadata": {},
   "source": [
    "The second new feature we will use is to indicate that a value can \n",
    "be of one type or another.  In Python we use the\n",
    "vertical bar symbol `|`, \n",
    "pronounced \"or\", to indicate that a variable could hold either of \n",
    "two or more different types of value.  For example, if we wanted to \n",
    "indicate that `x` is either an `int` or a `str`, we could write\n",
    "`int | str`.  If an argument to a function could be either an \n",
    "integer or a list of integers, we could annotate it as\n",
    "`int | list[int]`.\n",
    "\n",
    "Putting these together, we can create a description of a recursive \n",
    "data type:"
   ]
  },
  {
   "cell_type": "code",
   "execution_count": 6,
   "id": "85ba3b74",
   "metadata": {},
   "outputs": [],
   "source": [
    "Nest = int | list['Nest']"
   ]
  },
  {
   "cell_type": "markdown",
   "id": "1b28e60f",
   "metadata": {},
   "source": [
    "Annoyingly, we had to put `Nest` in quotes in `list['Nest']`,\n",
    "because the type `Nest` technically does not exist \n",
    "until the whole statement is processed. In return for this small \n",
    "aggravation, though, we now have a powerful way of annotating \n",
    "recursive data structures.  Our `deep_sum` function could use  be\n",
    "written like this:"
   ]
  },
  {
   "cell_type": "code",
   "execution_count": 7,
   "id": "36c1a275",
   "metadata": {},
   "outputs": [
    {
     "name": "stdout",
     "output_type": "stream",
     "text": [
      "Deep sum of [1, 2, 3] is 6\n",
      "Deep sum of [[1, 2], 3, [4, [5, 6]]] is 21\n",
      "Deep sum of 42 is 42\n",
      "Deep sum of [] is 0\n"
     ]
    }
   ],
   "source": [
    "def deep_sum(nest: Nest) -> int:\n",
    "    \"\"\"Return a sum of all integers in a nested list of int\"\"\"\n",
    "    if isinstance(nest, int):\n",
    "        return nest\n",
    "    elif isinstance(nest, list):\n",
    "        total = 0\n",
    "        for el in nest:\n",
    "            total += deep_sum(el)\n",
    "        return total\n",
    "    else:\n",
    "        assert False, f\"Wait, what is this thing? {nest}\"\n",
    "\n",
    "print(f\"Deep sum of [1, 2, 3] is {deep_sum([1, 2, 3])}\")\n",
    "print(f\"Deep sum of [[1, 2], 3, [4, [5, 6]]] is {deep_sum([[1, 2], 3, [4, [5, 6]]])}\")\n",
    "print(f\"Deep sum of 42 is {deep_sum(42)}\")\n",
    "print(f\"Deep sum of [] is {deep_sum([])}\")"
   ]
  },
  {
   "cell_type": "markdown",
   "id": "82a86736",
   "metadata": {},
   "source": [
    "### Features and terms\n",
    "\n",
    "We've used several features of Python for the first time, \n",
    "and introduced some new terminology. Let's \n",
    "review them quickly before moving on to more nested structures. \n",
    "\n",
    "- When the elements of one collection contain elements of the same \n",
    "  or a different kind of collection, we say the collections are \n",
    "  _nested_.  We could have tuples nested in lists, for example, but \n",
    "  the most important kind of _nested collection_ is a _recursive \n",
    "  data structure_, when a collection can contain elements of the \n",
    "  same kind of collection. \n",
    "- When we process a nested collection, the computation is a mirror \n",
    "  image of the data structure:  Base cases are elements that are not \n",
    "  collections (at least not nested collections), and recursive cases \n",
    "  are collections in which further collections may be nested.\n",
    "- We can check whether a value is of a certain type using the Python \n",
    "  `isinstance` function, e.g., `isinstance(v, list)`. \n",
    "- We can describe a nested collection using a _named, recursive \n",
    "  type_, using the `|` symbol (pronounced \"or\") to separate cases.  \n",
    "  For example, a nested list of strings might be described by defining\n",
    "  `StringNest = str | list['StringNest']`. \n",
    "\n",
    "The next two sections provide additional examples of nested data \n",
    "structures."
   ]
  }
 ],
 "metadata": {
  "jupytext": {
   "formats": "md:myst",
   "text_representation": {
    "extension": ".myst",
    "format_name": "myst",
    "format_version": 1.1,
    "jupytext_version": "1.10.3"
   }
  },
  "kernelspec": {
   "display_name": "Python 3",
   "language": "python",
   "name": "python3"
  },
  "language_info": {
   "codemirror_mode": {
    "name": "ipython",
    "version": 3
   },
   "file_extension": ".py",
   "mimetype": "text/x-python",
   "name": "python",
   "nbconvert_exporter": "python",
   "pygments_lexer": "ipython3",
   "version": "3.11.3"
  },
  "source_map": [
   13,
   55,
   86,
   115,
   129,
   134,
   151,
   168,
   170,
   174,
   185,
   200,
   202,
   210,
   227
  ]
 },
 "nbformat": 4,
 "nbformat_minor": 5
}