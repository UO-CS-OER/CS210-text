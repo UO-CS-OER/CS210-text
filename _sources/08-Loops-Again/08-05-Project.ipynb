{
 "cells": [
  {
   "cell_type": "markdown",
   "id": "0f610740",
   "metadata": {},
   "source": [
    "# Project\n",
    "\n",
    "![A map of a bicycle ride](img/SmithLoop-550x350.png)\n",
    "\n",
    "Ramer-Douglas-Peucker (also known as Douglas-Peucker and as Duda-Hart\n",
    "split-and-merge) is an important geometry algorithm for reducing the\n",
    "number of points in a path to produce a good approximation. For example,\n",
    "the route shown in the illustration above started as 14,392 readings\n",
    "from a GPS device. The program developed in this project reduced it to\n",
    "the 353 points that are plotted on the basemap.\n",
    "Ramer-Douglas-Peucker is widely used in cartography and robotics, and\n",
    "has other applications.\n",
    "\n",
    "This project provides more practice in recursion, list indexing, and \n",
    "loop design. \n",
    "\n",
    "- [Path simplifier](https://github.com/UO-CS210/08-Path-Simplifier)"
   ]
  }
 ],
 "metadata": {
  "jupytext": {
   "formats": "md:myst",
   "text_representation": {
    "extension": ".myst",
    "format_name": "myst",
    "format_version": 1.1,
    "jupytext_version": "1.10.3"
   }
  },
  "kernelspec": {
   "display_name": "Python 3",
   "language": "python",
   "name": "python3"
  },
  "language_info": {
   "codemirror_mode": {
    "name": "ipython",
    "version": 3
   },
   "file_extension": ".py",
   "mimetype": "text/x-python",
   "name": "python",
   "nbconvert_exporter": "python",
   "pygments_lexer": "ipython3",
   "version": "3.13.1"
  },
  "source_map": [
   13
  ]
 },
 "nbformat": 4,
 "nbformat_minor": 5
}