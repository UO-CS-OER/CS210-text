{
 "cells": [
  {
   "cell_type": "markdown",
   "id": "5acfd49f",
   "metadata": {},
   "source": [
    "# Exercises\n",
    "\n",
    "1.  Function `lookup` in the following snippet is incorrect.  \n",
    "    Explain the error and fix it.  \n",
    "\n",
    "```python\n",
    "def lookup(code: str, abbrevs: list[str], full: list[str]) -> str: \n",
    "    \"\"\"Return the full name corresponding to abbreviated code.\n",
    "    abbrevs and full are a table in the form of parallel arrays. \n",
    "    Returns \"NA\" if there is no abbrev[i] == code.\n",
    "    \"\"\"\n",
    "    for abbrev in abbrevs: \n",
    "        if abbrevs[abbrev] == code: \n",
    "            return full[abbrev]\n",
    "    return \"NA\"\n",
    "\n",
    "state_codes = [\"OR\", \"ID\", \"WA\", \"CA\"]\n",
    "state_names = [\"Oregon\", \"Idaho\", \"Washington\", \"California\"]\n",
    "print(lookup(\"ID\", state_codes, state_names))  # Expect \"Idaho\"\n",
    "print(lookup(\"GA\", state_codes, state_names))  # Expect \"NA\"\n",
    "```\n",
    "\n",
    "2.  Function `column_sums` is incorrect.  Explain the error and fix it. \n",
    "\n",
    "```python\n",
    "def col_sums(grid: list[list[int]]) -> list[int]:\n",
    "    \"\"\"Return the sum of each column in grid.\n",
    "    grid must be a non-empty rectangular matrix of integers.\n",
    "    \"\"\"\n",
    "    sums = []\n",
    "    for col_i in range(len(grid[0])):\n",
    "        col_sum = 0\n",
    "        for row_i in range(len(grid)):\n",
    "            col_sum += grid[col_i][row_i]\n",
    "        sums.append(col_sum)\n",
    "    return sums\n",
    "            \n",
    "my_grid = [[4, 3, 7],\n",
    "           [6, 7, 3]]\n",
    "print(col_sums(my_grid))  # Expect [10, 10, 10]\n",
    "```\n",
    "\n",
    "3. Function `find_major` is incorrect.  Explain the error and fix it. \n",
    "\n",
    "```python\n",
    "MAJORS = [(\"CS\", \"Computer Science\"), (\"DSCI\", \"Data Science\"),\n",
    "          (\"MACS\", \"Mathematics and Computer Science\"),\n",
    "          (\"ARDF\", \"Digital Arts\"), (\"ATCH\", \"Art and Technology\"),\n",
    "          (\"CH\", \"Chemistry\"), (\"CHN\", \"Chinese\"),\n",
    "          (\"CYBR\", \"Cybersecurity\"), (\"DANC\", \"Dance\"),\n",
    "          (\"FLR\", \"Folklore\"), (\"FR\", \"French\")\n",
    "          ]\n",
    "\n",
    "def find_major(code: str) -> str: \n",
    "    \"\"\"Returns full major name corresponding to code. \n",
    "    Returns \"NONE\" if (code, name) is not in MAJORS).\n",
    "    \"\"\"\n",
    "    for el in range(len(MAJORS)):\n",
    "        major_code, major_name = MAJORS[el]\n",
    "        if code == major_code: \n",
    "            return el\n",
    "    return \"NONE\"\n",
    "\n",
    "print(find_major(\"CHN\"))   # Expect \"Chinese\"\n",
    "print(find_major(\"DSCI\"))  # Expect \"Data Science\"\n",
    "print(find_major(\"PHY\"))   # Expect \"NONE\"\n",
    "```\n",
    "\n",
    "4.  Which of the functions above (`lookup`, `column_sums`, and \n",
    "    `find_major`) _must_ loop through indexes, and which could loop \n",
    "    through elements instead?  Why?  Would your answer change if \n",
    "    `find_major` uses binary search instead of sequential search?\n",
    "\n",
    "5.  Function `expand_text` is potentially very inefficient for long \n",
    "    inputs. Why?  Fix it to require time at most directly \n",
    "    proportional (\"linear time\") in the length of the expanded\n",
    "    text. \n",
    "\n",
    "```python\n",
    "ABBRV = {\"btw\": \"by the way\", \"lmk\": \"let me know\",\n",
    "         \"ttyl\": \"Talk to you later\", \"brb\": \"Be right back\",\n",
    "         \"4\": \"for\", \"ftw\": \"for the win\", \"tbh\": \"To be honest\",\n",
    "         \"lol\": \"laugh out loud\", \"idk\": \"I don't know\", \n",
    "         \"tmi\": \"too much information\"\n",
    "         }\n",
    "\n",
    "def expand_text(msg: str) -> str: \n",
    "    \"\"\"Replace abbreviations by full words\"\"\"\n",
    "    words = msg.split() \n",
    "    expansion = \"\"\n",
    "    for word in words: \n",
    "        if word in ABBRV: \n",
    "            expansion += ABBRV[word] + \" \"\n",
    "        else: \n",
    "            expansion += word + \" \"\n",
    "    return expansion\n",
    "\n",
    "msg = \"\"\"btw its tmi 4 sure . ttyl . \"\"\"\n",
    "print(expand_text(msg))  \n",
    "# Expect: \"By the way its too much information for sure . \n",
    "#          Talk to you later .\n",
    "```\n",
    "\n",
    "## Solutions\n",
    "\n",
    "1.  The `lookup` function contains a \"mix-n-match\" loop, a mismatch \n",
    "    between \n",
    "    the form of the `for` loop and accesses to lists within the loop.\n",
    "    The `for` loop is iterating through _elements_ of abbrevs, but \n",
    "    using those elements as if they were _indexes_.  We can fix it \n",
    "    by changing to a loop over indexes."
   ]
  },
  {
   "cell_type": "code",
   "execution_count": 1,
   "id": "6ebd909f",
   "metadata": {},
   "outputs": [
    {
     "name": "stdout",
     "output_type": "stream",
     "text": [
      "Idaho\n",
      "NA\n"
     ]
    }
   ],
   "source": [
    "def lookup(code: str, abbrevs: list[str], full: list[str]) -> str: \n",
    "    \"\"\"Return the full name corresponding to abbreviated code.\n",
    "    abbrevs and full are a table in the form of parallel arrays. \n",
    "    Returns \"NA\" if there is no abbrev[i] == code.\n",
    "    \"\"\"\n",
    "    for abbrev_i in range(len(abbrevs)): \n",
    "        if abbrevs[abbrev_i] == code: \n",
    "            return full[abbrev_i]\n",
    "    return \"NA\"\n",
    "\n",
    "state_codes = [\"OR\", \"ID\", \"WA\", \"CA\"]\n",
    "state_names = [\"Oregon\", \"Idaho\", \"Washington\", \"California\"]\n",
    "print(lookup(\"ID\", state_codes, state_names))  # Expect \"Idaho\"\n",
    "print(lookup(\"GA\", state_codes, state_names))  # Expect \"NA\""
   ]
  },
  {
   "cell_type": "markdown",
   "id": "47f57172",
   "metadata": {},
   "source": [
    "2. Function `col_sums` correctly iterates columns in the outer loop, \n",
    "   rows in the inner loop, but then it indexes the grid using the \n",
    "   column number as the first index (the row index) and row number \n",
    "   as the second index (the column index).  In `a[m][n]`, `m` always \n",
    "   indexes the outer list (usually \"rows\" when we are thinking of \n",
    "   `a` as a matrix) and `n` always indexes the inner lists (usually \n",
    "   \"columns\" when `a` is a matrix).  \n",
    "\n",
    "    We can fix it just by swapping indexes."
   ]
  },
  {
   "cell_type": "code",
   "execution_count": 2,
   "id": "2118a388",
   "metadata": {},
   "outputs": [
    {
     "name": "stdout",
     "output_type": "stream",
     "text": [
      "[10, 10, 10]\n"
     ]
    }
   ],
   "source": [
    "def col_sums(grid: list[list[int]]) -> list[int]:\n",
    "    \"\"\"Return the sum of each column in grid.\n",
    "    grid must be a non-empty rectangular matrix of integers.\n",
    "    \"\"\"\n",
    "    sums = []\n",
    "    for col_i in range(len(grid[0])):\n",
    "        col_sum = 0\n",
    "        for row_i in range(len(grid)):\n",
    "            col_sum += grid[row_i][col_i]\n",
    "        sums.append(col_sum)\n",
    "    return sums\n",
    "            \n",
    "my_grid = [[4, 3, 7],\n",
    "           [6, 7, 3]]\n",
    "print(col_sums(my_grid))  # Expect [10, 10, 10]"
   ]
  },
  {
   "cell_type": "markdown",
   "id": "e5271f66",
   "metadata": {},
   "source": [
    "3. `find_major` contains another \"mix-n-match\" loop, with confusion \n",
    "   between looping through indexes and looping through elements. The \n",
    "   `for` loop iterates through indexes, and returns an index, but \n",
    "   the function docstring promises to return a string from the \n",
    "   MAJORS table.   We could fix it by changing the `return` \n",
    "   statement to `return major_name`.  Better yet, since this \n",
    "   function doesn't _need_ indexes, we can just loop through \n",
    "   elements like this:"
   ]
  },
  {
   "cell_type": "code",
   "execution_count": 3,
   "id": "76bf79cb",
   "metadata": {},
   "outputs": [
    {
     "name": "stdout",
     "output_type": "stream",
     "text": [
      "Chinese\n",
      "Data Science\n",
      "NONE\n"
     ]
    }
   ],
   "source": [
    "MAJORS = [(\"CS\", \"Computer Science\"), (\"DSCI\", \"Data Science\"),\n",
    "          (\"MACS\", \"Mathematics and Computer Science\"),\n",
    "          (\"ARDF\", \"Digital Arts\"), (\"ATCH\", \"Art and Technology\"),\n",
    "          (\"CH\", \"Chemistry\"), (\"CHN\", \"Chinese\"),\n",
    "          (\"CYBR\", \"Cybersecurity\"), (\"DANC\", \"Dance\"),\n",
    "          (\"FLR\", \"Folklore\"), (\"FR\", \"French\")\n",
    "          ]\n",
    "\n",
    "def find_major(code: str) -> str: \n",
    "    \"\"\"Returns full major name corresponding to code. \n",
    "    Returns \"NONE\" if (code, name) is not in MAJORS).\n",
    "    \"\"\"\n",
    "    for major_code, major_name in MAJORS:\n",
    "        if code == major_code: \n",
    "            return major_name\n",
    "    return \"NONE\"\n",
    "    \n",
    "print(find_major(\"CHN\"))   # Expect \"Chinese\"\n",
    "print(find_major(\"DSCI\"))  # Expect \"Data Science\"\n",
    "print(find_major(\"PHY\"))   # Expect \"NONE\""
   ]
  },
  {
   "cell_type": "markdown",
   "id": "ad77ba31",
   "metadata": {},
   "source": [
    "4.  Function `lookup` _must_ loop through indexes because it \n",
    "    accesses parallel arrays.  It needs the index in one list\n",
    "    to access the corresponding element in the other list.  \n",
    "    `column_sums` _must_ loop through column indexes, because rows \n",
    "    in the grid are like parallel arrays. \n",
    "    `find_major` could loop through elements for sequential search, \n",
    "    but binary search requires using indexes (with a `while` \n",
    "    loop, not a `for` loop).  \n",
    "\n",
    "5. Function `expand_text` is potentially very inefficient for long \n",
    "    inputs because it concatenates strings in the loop.  Each \n",
    "   concatenation takes time proportional to the length of \n",
    "   `expansion`, which can add up to time proportional to the square \n",
    "   of the length of the result.  (More precisely, it will be \n",
    "   proportional to the length of the result multiplied by the number \n",
    "   of words.)  The standard repair is to build a list instead (as \n",
    "   the cost of `append` is constant) and then use the `join` method \n",
    "   just once after the loop."
   ]
  },
  {
   "cell_type": "code",
   "execution_count": 4,
   "id": "4d12a273",
   "metadata": {},
   "outputs": [
    {
     "name": "stdout",
     "output_type": "stream",
     "text": [
      "by the way its too much information for sure . Talk to you later .\n"
     ]
    }
   ],
   "source": [
    "ABBRV = {\"btw\": \"by the way\", \"lmk\": \"let me know\",\n",
    "         \"ttyl\": \"Talk to you later\", \"brb\": \"Be right back\",\n",
    "         \"4\": \"for\", \"ftw\": \"for the win\", \"tbh\": \"To be honest\",\n",
    "         \"lol\": \"laugh out loud\", \"idk\": \"I don't know\", \n",
    "         \"tmi\": \"too much information\"\n",
    "         }\n",
    "\n",
    "def expand_text(msg: str) -> str: \n",
    "    \"\"\"Replace abbreviations by full words\"\"\"\n",
    "    words = msg.split() \n",
    "    expansion = []\n",
    "    for word in words: \n",
    "        if word in ABBRV: \n",
    "            expansion.append(ABBRV[word])\n",
    "        else: \n",
    "            expansion.append(word)\n",
    "    return \" \".join(expansion)\n",
    "\n",
    "msg = \"\"\"btw its tmi 4 sure . ttyl . \"\"\"\n",
    "print(expand_text(msg))  \n",
    "# Expect: \"By the way its too much information for sure . \n",
    "#          Talk to you later ."
   ]
  }
 ],
 "metadata": {
  "jupytext": {
   "formats": "md:myst",
   "text_representation": {
    "extension": ".myst",
    "format_name": "myst",
    "format_version": 1.1,
    "jupytext_version": "1.10.3"
   }
  },
  "kernelspec": {
   "display_name": "Python 3",
   "language": "python",
   "name": "python3"
  },
  "language_info": {
   "codemirror_mode": {
    "name": "ipython",
    "version": 3
   },
   "file_extension": ".py",
   "mimetype": "text/x-python",
   "name": "python",
   "nbconvert_exporter": "python",
   "pygments_lexer": "ipython3",
   "version": "3.13.1"
  },
  "source_map": [
   13,
   126,
   141,
   153,
   169,
   180,
   201,
   222
  ]
 },
 "nbformat": 4,
 "nbformat_minor": 5
}