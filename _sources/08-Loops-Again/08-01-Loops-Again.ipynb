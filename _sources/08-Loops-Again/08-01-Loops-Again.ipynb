{
 "cells": [
  {
   "cell_type": "markdown",
   "id": "b2ad6729",
   "metadata": {},
   "source": [
    "# Loops Again\n",
    "\n",
    "Yet again?  Yes, and again and again, because loops are such a \n",
    "fundamental algorithmic tool, and because it takes some time to \n",
    "fully internalize loop patterns.  And isn't it appropriate that we \n",
    "should have some repetition in studying loops? \n",
    "\n",
    "## Python `for` loops\n",
    "\n",
    "Python's `for` loops are convenient, flexible, and expressive.  The \n",
    "cost of this flexibility is that students often get confused by \n",
    "their choices.  The [What For](08-02-WhatFor.md) section was \n",
    "contributed by CS 211 learning assistant\n",
    "[Audra McNamee](https://audmcname.com/) (also a talented\n",
    "[comics artist](https://audmcname.com/cat/comics/)).  It especially \n",
    "reviews the difference between iterating over _elements_ of a \n",
    "list (`for el in li:`) and iterating over the _indexes_ of a list \n",
    "(`for i in range(len(li)):`).  Mixing them up is one of the _very \n",
    "most common_ errors on CS 210 exams. \n",
    "\n",
    "- [What For](08-02-WhatFor.md)\n",
    "\n",
    "## The Python `list` type\n",
    "\n",
    "We've already used lists a lot, but a peek inside the Python `list` \n",
    "type will help us understand why some list operations require just \n",
    "constant time and other operations require time proportional to the \n",
    "length of the list.  We'll also take a quick look at the cost of \n",
    "string (`str`) operations, and at dictionaries (`dict`). \n",
    "\n",
    "- [Lists Again](08-03-Lists-Again.md)\n",
    "\n",
    "\n",
    "## Exercises\n",
    "\n",
    "- [Loop and list exercises](08-04-Exercises.md)\n",
    "\n",
    "## Project\n",
    "\n",
    "The [path simplification project](\n",
    "https://github.com/UO-CS210/08-Path-Simplifier)\n",
    "introduces an algorithm that is almost certainly used in every map \n",
    "application you've used, including Google maps, but also in \n",
    "production of paper maps.  It provides practice with recursion, list \n",
    "indexing, and loops that access and build lists."
   ]
  }
 ],
 "metadata": {
  "jupytext": {
   "formats": "md:myst",
   "text_representation": {
    "extension": ".myst",
    "format_name": "myst",
    "format_version": 1.1,
    "jupytext_version": "1.10.3"
   }
  },
  "kernelspec": {
   "display_name": "Python 3",
   "language": "python",
   "name": "python3"
  },
  "language_info": {
   "codemirror_mode": {
    "name": "ipython",
    "version": 3
   },
   "file_extension": ".py",
   "mimetype": "text/x-python",
   "name": "python",
   "nbconvert_exporter": "python",
   "pygments_lexer": "ipython3",
   "version": "3.13.1"
  },
  "source_map": [
   13
  ]
 },
 "nbformat": 4,
 "nbformat_minor": 5
}