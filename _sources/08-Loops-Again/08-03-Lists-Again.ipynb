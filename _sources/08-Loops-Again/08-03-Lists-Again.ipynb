{
 "cells": [
  {
   "cell_type": "markdown",
   "id": "32098e81",
   "metadata": {},
   "source": [
    "# More on Lists, Indexes, and Slices\n",
    "\n",
    "You don't need to understand in detail how Python implements lists.\n",
    "That's a main purpose of a higher level language:  You can use handy \n",
    "data structures provided by the language without thinking (much) \n",
    "about how they work internally.  On the other hand, understanding a \n",
    "little bit about how lists are implemented can help you make sense \n",
    "of the costs of list operations.  In this section we'll cover _just \n",
    "enough_ of the implementation of Python lists to distinguish between \n",
    "operations that take constant time and operations that are actually \n",
    "loops.  \n",
    "\n",
    "## Python lists are flexible arrays\n",
    "\n",
    "The `list` data structure in Python is like the _array_ data \n",
    "structure in some other languages including Java and C, or the \n",
    "`vector` class in C++.  It is implemented as a sequence of \n",
    "cells in a contiguous area of memory.  Why should you care that a \n",
    "`list` occupies a contiguous area of computer memory?  That is the \n",
    "key to accessing `ar[i]` in a constant number of operations, rather \n",
    "than looping through 0..i cells to find `ar[i]`. \n",
    "\n",
    "![Python finds ar[i] by adding the width of i cells to the \n",
    "location of ar](img/list-index.svg)\n",
    "\n",
    "To find `ar[i]`, Python can add the width of `i` cells to the \n",
    "location of the beginning of `ar`.  Finding `ar[999]` takes no \n",
    "longer than finding `ar[2]`.   If `ar` is a list of lists, finding \n",
    "`ar[i][k]` just requires the same indexing operation twice: \n",
    "\n",
    "![Python finds ar[i][k] by indexing twice](img/list-index-twice.svg)\n",
    "\n",
    "What matters to us when writing loops is that we can treat a \n",
    "reference to `ar[i]` or `ar[i][k]` as a single step, \n",
    "i.e., a _constant time_ operation.  \n",
    "\n",
    "Several other operations on a list `ar` are _constant time_: \n",
    "\n",
    "- `len(ar)` obtains the current length of `ar`, which is kept as \n",
    "  part of `ar` so that it can be checked and updated without \n",
    "  counting elements.\n",
    "- `ar.pop()` obtains the last element of `ar` and removes it.  \n",
    "  \"Removing\" it actually means updating the stored length of the \n",
    "  array and marking the removed cell as empty. \n",
    "- `ar.append(x)` adds an element to the end of `ar`.  It is not \n",
    "  obvious how this can be done in constant time!  The trick is that \n",
    "  `ar` actually includes some empty cells at the end, not included \n",
    "  in `len(ar)`, so _usually_ `ar.append(x)` can use a cell that is \n",
    "  already in the memory of `ar`.  Occasionally Python must make a copy \n",
    "  of `ar` into a larger area of memory, requiring time to copy \n",
    "  each element, but it manages these areas \n",
    "  in a way that makes `append` take constant time _on average_. \n",
    "\n",
    "We have already noted that `x in ar` is _not_ a constant time \n",
    "operation.  Python implements `in` by performing a linear search of \n",
    "`ar`, checking each element just as you would if you wrote the \n",
    "linear search loop in Python.   We can ignore it only if we can be \n",
    "very sure that `ar` will always be small.  Usually we can write code \n",
    "that is clean, readable, maintainable, and _also_ efficient.  We \n",
    "should prioritize clean code over efficiency in _most_ cases where \n",
    "we cannot have both.  Very occasionally, in as little code as \n",
    "possible, we are forced to choose efficiency. \n",
    "\n",
    "Some other list operations that require _linear_ time: \n",
    "\n",
    "- `a + b`: List concatenation creates a new list with length\n",
    "`len(a) + len(b)`, requiring time proportional to the length of the \n",
    "  new list.\n",
    "- `v = ar[i:k]`: A list slice creates a new list with a copy of \n",
    "  elements in the slice.  Its cost is proportional to the length of \n",
    "  the slice.\n",
    "- `ar[i:k] = x[m:n]`.  In addition to copying elements `m` through \n",
    "  `n-1` of `x`, Python may need to copy all the elements that appear \n",
    "  in cells 'k' through 'len(ar) - 1'.  For example, if `ar` is\n",
    "  `['alpha', 'beta', 'gamma', 'delta']` and we assign\n",
    "  `ar[1:3] = ['yi', 'er', 'san']`.  After the assignment, `ar` is\n",
    "  `['alpha', 'yi', 'er', 'san', 'delta']`.  Notice that in addition \n",
    "  to inserting the values `['yi', 'er', 'san']`, Python had to copy \n",
    "  `delta` to a new position after the inserted elements. \n",
    "- `min(ar)`, `max(ar)`, `sum(ar)`, `ar.count(x)`, `ar.index(x)`:  \n",
    "  These are all sequential loops that take time proportional to the \n",
    "  length of `ar`.  \n",
    "\n",
    "The cost of sorting a list is _log linear_ in the length of the list,\n",
    "a little more than linear.  Sorting can often be used to simplify an \n",
    "algorithm, and may be appropriate even when it is not the absolute \n",
    "fastest way to obtain the needed result, but we should be aware of \n",
    "the cost. \n",
    "\n",
    "We have not used the `zip` function in this text, but you may have \n",
    "encountered it on your own."
   ]
  },
  {
   "cell_type": "code",
   "execution_count": 1,
   "id": "1b3c688a",
   "metadata": {},
   "outputs": [
    {
     "name": "stdout",
     "output_type": "stream",
     "text": [
      "1 -> w\n",
      "2 -> x\n",
      "3 -> y\n"
     ]
    }
   ],
   "source": [
    "a = [1, 2, 3, 4]\n",
    "b = ['w', 'x', 'y']\n",
    "for x,y in zip(a,b):\n",
    "   print(f\"{x} -> {y}\")"
   ]
  },
  {
   "cell_type": "markdown",
   "id": "dd4a3ab9",
   "metadata": {},
   "source": [
    "`zip` is surprisingly cheap.  You might \n",
    "expect the cost of `zip(a,b)` for lists `a` and `b` to be \n",
    "proportional at least to the length of the shorter of the two lists. \n",
    "Instead, `zip` is a constant time operation.  It does not construct \n",
    "a new list of pairs, but rather constructs each pair _lazily_, on \n",
    "demand.  This can be very handy when we want to iterate through two \n",
    "lists together.  However, because it does _not_ construct a new list \n",
    "in memory, we cannot index the object constructed by `zip`."
   ]
  },
  {
   "cell_type": "code",
   "execution_count": 2,
   "id": "6cdeeb9b",
   "metadata": {
    "tags": [
     "raises-exception"
    ]
   },
   "outputs": [
    {
     "ename": "TypeError",
     "evalue": "'zip' object is not subscriptable",
     "output_type": "error",
     "traceback": [
      "\u001b[0;31m---------------------------------------------------------------------------\u001b[0m",
      "\u001b[0;31mTypeError\u001b[0m                                 Traceback (most recent call last)",
      "Input \u001b[0;32mIn [2]\u001b[0m, in \u001b[0;36m<cell line: 0>\u001b[0;34m()\u001b[0m\n\u001b[1;32m      1\u001b[0m z \u001b[38;5;241m=\u001b[39m \u001b[38;5;28mzip\u001b[39m(a,b)\n\u001b[0;32m----> 2\u001b[0m \u001b[38;5;28mprint\u001b[39m(z[\u001b[38;5;241m0\u001b[39m])\n",
      "\u001b[0;31mTypeError\u001b[0m: 'zip' object is not subscriptable"
     ]
    }
   ],
   "source": [
    "z = zip(a,b)\n",
    "print(z[0])"
   ]
  },
  {
   "cell_type": "markdown",
   "id": "4485f8da",
   "metadata": {},
   "source": [
    "```{note}\n",
    "`zip` is an example of the way Python can support a more \n",
    "_functional_ style of programming.  The _functional_ style involves \n",
    "more than defining and using functions.  It involves treating \n",
    "functions as objects that can be combined and applied in various \n",
    "ways, including functions that act on other functions, \n",
    "often in preference to changing other kinds of values.\n",
    "Later, if you \n",
    "continue using and building expertise in Python and wish to\n",
    "explore the functional style, you may wish to \n",
    "familiarize yourself with\n",
    "[the `functools` module](\n",
    "https://docs.python.org/3/library/functools.html).  If you continue \n",
    "to pursue computer science and learn a variety of programming \n",
    "languages, you are likely to encounter some\n",
    "([Haskell](https://www.haskell.org/), for example) that are \n",
    "particularly designed for the functional style.  You may also \n",
    "encounter frameworks in other languages, like\n",
    "[React](https://react.dev/) for JavaScript, based on functional \n",
    "programming principles. \n",
    "```\n",
    "\n",
    "## The string type\n",
    "\n",
    "A string (type `str`) is not the same as a list, but it is \n",
    "implemented in a similar way (the characters of the string occupy a \n",
    "contiguous region of memory) and has similar performance \n",
    "characteristics.  In particular: \n",
    "\n",
    "- `len(s)` and `s[i]` are constant time operations\n",
    "- `s + t` is a _linear time_ operation, i.e., its cost is \n",
    "  proportional to the sum of `len(s)` and `len(t)`, because it \n",
    "  copies both `s` and `t` into a new region of memory to create a \n",
    "  new string.   This is important when you want to build a string in \n",
    "  a loop. Often it will be faster to build a list and then convert \n",
    "  it to a string all at once with the `join` method.\n",
    "- The cost of using `s[i:k]` is proportional to `k - i`.\n",
    "- `t in s` is a sequential search with cost proportional to `len(s)`\n",
    "  (even when `t` has multiple characters, thanks to a very cool \n",
    "  algorithm that you may encounter later in an algorithms course).\n",
    "- Most of the other operations specific to strings (e.g., `strip`, \n",
    "  `lower`, etc)  work just about how you imagine they do, and \n",
    "  require time proportional to the length of the string they are \n",
    "  applied to. \n",
    "\n",
    "A particularly important Python idiom is using the `join` method to \n",
    "construct a string from a list built within a loop.  For example, \n",
    "don't do this:"
   ]
  },
  {
   "cell_type": "code",
   "execution_count": 3,
   "id": "0a3add42",
   "metadata": {},
   "outputs": [
    {
     "name": "stdout",
     "output_type": "stream",
     "text": [
      "This string is way spacy\n"
     ]
    }
   ],
   "source": [
    "def ungap(s: str) -> str: \n",
    "    \"\"\"Returns a copy of s with sequences of spaces collapsed.\n",
    "    WRONG WAY TO DO THIS.\n",
    "    \"\"\"\n",
    "    result = \"\"\n",
    "    prior_space = True\n",
    "    for ch in s: \n",
    "        if ch == \" \":\n",
    "            if not prior_space: \n",
    "               result += ch\n",
    "            prior_space = True\n",
    "        else: \n",
    "            prior_space = False\n",
    "            result += ch\n",
    "    return result\n",
    "    \n",
    "    \n",
    "was = \"This     string       is       way      spacy\"\n",
    "print(ungap(was))"
   ]
  },
  {
   "cell_type": "markdown",
   "id": "fc560b12",
   "metadata": {},
   "source": [
    "The cost of the `join` method is linear in the length of the string \n",
    "it constructs.  We can place it _outside_ the loop in the code above \n",
    "to improve the overall cost of `ungap` from _quadratic_ in the \n",
    "length of `s` to _linear_ in the length of `s`:"
   ]
  },
  {
   "cell_type": "code",
   "execution_count": 4,
   "id": "9eb22dc2",
   "metadata": {},
   "outputs": [
    {
     "name": "stdout",
     "output_type": "stream",
     "text": [
      "This string is way spacy\n"
     ]
    }
   ],
   "source": [
    "def ungap(s: str) -> str: \n",
    "    \"\"\"Returns a copy of s with sequences of spaces collapsed.\n",
    "    Linear time version. \n",
    "    \"\"\"\n",
    "    result = []\n",
    "    prior_space = True\n",
    "    for ch in s: \n",
    "        if ch == \" \":\n",
    "            if not prior_space: \n",
    "               result.append(ch)\n",
    "            prior_space = True\n",
    "        else: \n",
    "            prior_space = False\n",
    "            result.append(ch)\n",
    "    return \"\".join(result)\n",
    "    \n",
    "was = \"This     string       is       way      spacy\"\n",
    "print(ungap(was))"
   ]
  }
 ],
 "metadata": {
  "jupytext": {
   "formats": "md:myst",
   "text_representation": {
    "extension": ".myst",
    "format_name": "myst",
    "format_version": 1.1,
    "jupytext_version": "1.10.3"
   }
  },
  "kernelspec": {
   "display_name": "Python 3",
   "language": "python",
   "name": "python3"
  },
  "language_info": {
   "codemirror_mode": {
    "name": "ipython",
    "version": 3
   },
   "file_extension": ".py",
   "mimetype": "text/x-python",
   "name": "python",
   "nbconvert_exporter": "python",
   "pygments_lexer": "ipython3",
   "version": "3.11.3"
  },
  "source_map": [
   13,
   107,
   112,
   123,
   127,
   178,
   198,
   205
  ]
 },
 "nbformat": 4,
 "nbformat_minor": 5
}