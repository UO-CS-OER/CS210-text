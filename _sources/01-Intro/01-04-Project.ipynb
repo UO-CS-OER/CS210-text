{
 "cells": [
  {
   "cell_type": "markdown",
   "id": "672292ac",
   "metadata": {},
   "source": [
    "# Project\n",
    "\n",
    "The \"getting started\" project associated with this chapter is a \n",
    "solver of \"Jumble\" style anagram puzzles.  It emphasizes systematic, \n",
    "incremental problem solving.  Think, code a little, test a little, \n",
    "over and over as you build up a solution. \n",
    "\n",
    "[Jumble solver project](https://github.com/UO-CS210/jumbler)\n",
    "\n",
    "The Jumble solver also introduces a couple of common computing idioms: \n",
    "\n",
    "- Scanning a collection.  We often solve a problem by checking each \n",
    "  item in a collection, one by one.  \n",
    "- Canonical forms.  We often compare items while ignoring \n",
    "  inessential details by putting each item into a unique _canonical_ \n",
    "  form. \n",
    "\n",
    "<a title=\"Lord Belbury, scientist cartoon by BAUSCHRON, desk cartoon by RICARDO PISANO, CC BY-SA 4.0 &lt;https://creativecommons.org/licenses/by-sa/4.0&gt;, via Wikimedia Commons\" href=\"https://commons.wikimedia.org/wiki/File:Jumble_puzzle.png\"><img width=\"256\" alt=\"Jumble puzzle\" src=\"https://upload.wikimedia.org/wikipedia/commons/thumb/6/6b/Jumble_puzzle.png/256px-Jumble_puzzle.png?20220817091904\"></a>"
   ]
  }
 ],
 "metadata": {
  "jupytext": {
   "formats": "md:myst",
   "text_representation": {
    "extension": ".myst",
    "format_name": "myst",
    "format_version": 1.1,
    "jupytext_version": "1.10.3"
   }
  },
  "kernelspec": {
   "display_name": "Python 3",
   "language": "python",
   "name": "python3"
  },
  "language_info": {
   "codemirror_mode": {
    "name": "ipython",
    "version": 3
   },
   "file_extension": ".py",
   "mimetype": "text/x-python",
   "name": "python",
   "nbconvert_exporter": "python",
   "pygments_lexer": "ipython3",
   "version": "3.13.1"
  },
  "source_map": [
   13
  ]
 },
 "nbformat": 4,
 "nbformat_minor": 5
}