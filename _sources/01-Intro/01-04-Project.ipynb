{
 "cells": [
  {
   "cell_type": "markdown",
   "id": "3869f26a",
   "metadata": {},
   "source": [
    "# Project\n",
    "\n",
    "The \"getting started\" project associated with this chapter is a \n",
    "solver of \"Jumble\" style anagram puzzles.  It emphasizes systematic, \n",
    "incremental problem solving.  Think, code a little, test a little, \n",
    "over and over as you build up a solution. \n",
    "\n",
    "The Jumble solver also introduces a couple of common computing idioms: \n",
    "\n",
    "- Scanning a collection.  We often solve a problem by checking each \n",
    "  item in a collection, one by one.  \n",
    "- Canonical forms.  We often compare items while ignoring \n",
    "  inessential details by putting each item into a unique _canonical_ \n",
    "  form. \n",
    "\n",
    "[Jumble solver project](https://github.com/UO-CS210/jumbler)"
   ]
  }
 ],
 "metadata": {
  "jupytext": {
   "formats": "md:myst",
   "text_representation": {
    "extension": ".myst",
    "format_name": "myst",
    "format_version": 1.1,
    "jupytext_version": "1.10.3"
   }
  },
  "kernelspec": {
   "display_name": "Python 3",
   "language": "python",
   "name": "python3"
  },
  "language_info": {
   "codemirror_mode": {
    "name": "ipython",
    "version": 3
   },
   "file_extension": ".py",
   "mimetype": "text/x-python",
   "name": "python",
   "nbconvert_exporter": "python",
   "pygments_lexer": "ipython3",
   "version": "3.11.3"
  },
  "source_map": [
   13
  ]
 },
 "nbformat": 4,
 "nbformat_minor": 5
}