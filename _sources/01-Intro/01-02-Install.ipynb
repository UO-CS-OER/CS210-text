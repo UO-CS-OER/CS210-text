{
 "cells": [
  {
   "cell_type": "markdown",
   "id": "7be88ef8",
   "metadata": {},
   "source": [
    "# Installing Python and IDLE\n",
    "\n",
    "This is a project-oriented course.  It is important that you have \n",
    "Python version 3.10 or later installed on the computer you will most \n",
    "often use for your class projects.   For most students that will be \n",
    "a laptop computer or desktop computer.\n",
    "\n",
    "## Install Python 3 on Your Computer\n",
    "\n",
    "Python 3 runs well on a wide variety of computers.  You will \n",
    "need a laptop or desktop computer; tablets and phones will not be a \n",
    "good environment for learning to program in Python.  The precise \n",
    "steps for installing Python 3, as well as the precise commands for \n",
    "starting Python programming tools, necessarily varies depending on \n",
    "whether you are using Linux, MacOS, or Windows.   We will cover \n",
    "the basics first in a generic manner, then provide some detailed \n",
    "notes for the most common platforms. \n",
    "\n",
    "### Download and Install\n",
    "\n",
    "Start by visiting `python.org` with your web browser.\n",
    "\n",
    "![Visit Python.org](img/python-org.png)\n",
    "\n",
    "Select `Downloads` and choose the installer or archive for your\n",
    "computer.  Typically you will want the download labeled as \"Latest \n",
    "Python 3 Release\" for MacOS or Windows.  If you are a Linux user, \n",
    "select \"Source code\".  Then follow directions for your particular \n",
    "platform. \n",
    "\n",
    "### MacOS Install\n",
    "\n",
    "The MacOS installer will work like other MacOS application \n",
    "installers. You should not have to do anything extra. \n",
    "\n",
    "### Windows 10 Install\n",
    "\n",
    "Press the \"Download Python 3.x\" (currently 3.10.7) button. \n",
    "If the [download page](https://www.python.org/downloads/) offers\n",
    "you \"Latest Python 3 Release\" or \"Latest Python 2 Release\",  Choose \n",
    "the Python 3 release.  This will download an installer.  \n",
    "Run the installer and follow its directions. \n",
    "\n",
    "### Linux Install\n",
    "\n",
    "You _may_ find it easier to install using `apt-get` or a similar \n",
    "package installer for the version of Linux that you use.  You can \n",
    "find example instructions in \n",
    "[The Hitchhikers Guide to Linux](https://docs.python-guide.org/starting/install3/linux/).   \n",
    "Alternatively, you can download a \"tarball\" archive of the sources from\n",
    "Python.org.   As a Linux user, you are probably familiar with these \n",
    "steps, which are similar to installation of many other tools in Linux. \n",
    "\n",
    "## Execute Python statements and programs\n",
    "\n",
    "### Executing Python commands\n",
    "\n",
    "Python commands (_statements_) may be executed immediately in a \n",
    "_console_, or stored in a program file (often called a _script_) for \n",
    "execution later.  In this course we will use _IDLE_ both to execute\n",
    "statements directly and to edit and execute program files. (Later we \n",
    "will explore additional ways to edit and execute Python programs.)\n",
    "\n",
    "Once you have \n",
    "[installed Python 3 on your computer](./01-0-Ready.md), you \n",
    "should be able to start _IDLE_ from the command line.  It should look \n",
    "something like this: \n",
    "\n",
    "![IDLE shell at start-up](img/IDLE.png)\n",
    "\n",
    "The `>>>` symbol is a _prompt_ indicating that\n",
    "the Python shell, or console, is ready to\n",
    "receive a statement and execute it. \n",
    "\n",
    "Try this by typing `print(\"Hello!\")` on the\n",
    "line with the prompt."
   ]
  },
  {
   "cell_type": "code",
   "execution_count": 1,
   "id": "17eb8304",
   "metadata": {},
   "outputs": [
    {
     "name": "stdout",
     "output_type": "stream",
     "text": [
      "Hello\n"
     ]
    }
   ],
   "source": [
    "print(\"Hello\")"
   ]
  },
  {
   "cell_type": "markdown",
   "id": "68d0f366",
   "metadata": {},
   "source": [
    "If you have trouble with these steps, we can probably help you in \n",
    "class help hours, or a classmate may be able to help. \n",
    "\n",
    "If you have gotten this far successfully, it is time to dive into \n",
    "Python programming, or review Python programming if you have done it \n",
    "before. \n",
    "\n",
    "* [Python Programming Kickstart](01-03-Kickstart.md)"
   ]
  }
 ],
 "metadata": {
  "jupytext": {
   "formats": "md:myst",
   "text_representation": {
    "extension": ".myst",
    "format_name": "myst",
    "format_version": 1.1,
    "jupytext_version": "1.10.3"
   }
  },
  "kernelspec": {
   "display_name": "Python 3",
   "language": "python",
   "name": "python3"
  },
  "language_info": {
   "codemirror_mode": {
    "name": "ipython",
    "version": 3
   },
   "file_extension": ".py",
   "mimetype": "text/x-python",
   "name": "python",
   "nbconvert_exporter": "python",
   "pygments_lexer": "ipython3",
   "version": "3.11.3"
  },
  "source_map": [
   13,
   92,
   94
  ]
 },
 "nbformat": 4,
 "nbformat_minor": 5
}