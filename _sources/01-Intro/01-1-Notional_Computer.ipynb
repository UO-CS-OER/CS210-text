{
 "cells": [
  {
   "cell_type": "markdown",
   "id": "3dbb39e6",
   "metadata": {},
   "source": [
    "# A Notional Computer\n",
    "\n",
    "As you learn to construct useful programs in Python, you will need a\n",
    "clear mental model of how your Python programs work.  At first this\n",
    "may seem trivial, and hardly any improvement over remembering the\n",
    "observable effects of particular sequences of commands.  As you tackle\n",
    "larger problems, a clear and accurate mental model will become more \n",
    "and more helpful.  It will be the difference between a huge and \n",
    "disordered set of particulars, beyond the capacity of human memory, \n",
    "and a much smaller, systematic set of basic understandings into \n",
    "which it is easier to fit one more piece.\n",
    "\n",
    "Depending on your background in computing, much of this chapter may \n",
    "be review for you.  If you have learned to program in a different \n",
    "programming \n",
    "language, such as C or Java or Javascript, you may note some \n",
    "differences between concepts you are familiar with and our notional \n",
    "Python computer.  But even if you have programmed before in Python, \n",
    "and feel that you have a good grasp of basic concepts such as \n",
    "variables and types, you should read this chapter with some care to \n",
    "ensure that your mental model is consistent with the model that we \n",
    "will rely upon as we dive deeper into computational problem solving \n",
    "through Python programming. \n",
    "\n",
    "## Languages present notional computers \n",
    "\n",
    "A programming language presents us an abstraction of a physical \n",
    "computer.  By _abstraction_ I mean that it hides (\"abstracts \n",
    "away\") certain details,\n",
    "such as whether you are using a computer with a central processing \n",
    "unit (CPU) based in the Intel x86 series, a computer with a CPU\n",
    "based on the Arm architecture, or perhaps some other processor that\n",
    "hasn't even been invented yet.  \n",
    "\n",
    "Each programming language presents us a _notional_ computer that can \n",
    "be implemented on several different kinds of computer hardware. \n",
    "Because we can program in a language, and not for a particular \n",
    "collection of circuits, it is possible to _learn to program_, and \n",
    "not only _learn to program this particular machine_.  \n",
    "\n",
    "The notional computers presented by different programming languages, \n",
    "such as Python, Javascript, Java, and C++, may differ in some \n",
    "important ways, and yet have many things in common.  As your \n",
    "knowledge grows, you will likely use several languages, sometimes \n",
    "even on the same project.  A clear understanding of what those \n",
    "notional computers have in common will help you transfer your \n",
    "understanding of programming in one language to others.  A clear \n",
    "understanding of their differences will help you keep them straight, \n",
    "choose well, and use them together. \n",
    "\n",
    "For now it is best to focus on a single programming language and the \n",
    "notional computer it presents us.  We have chosen Python as an \n",
    "excellent first language, because it presents an exceptionally \n",
    "simple and uniform notional computer.  In particular we will use\n",
    "version 3.10 or greater of Python. \n",
    "\n",
    "## The Python Notional Computer\n",
    "\n",
    "A notional computer is like a building toy, perhaps wooden\n",
    "blocks, Legos, Tinker Toys, or something similar. The kit comes with a\n",
    "handful of basic\n",
    "parts that can be combined to build an unlimited\n",
    "set of more complex structures. A particular kit provides us both\n",
    "some basic parts and some ways of putting them together.  Likewise a \n",
    "programming language provides us some basic elements like objects of \n",
    "particular types, and ways of building up larger structures from them. \n",
    "A _program_ is like a set of directions for constructing and \n",
    "manipulating a structure, the _execution state_ of the running program. \n",
    "\n",
    "The Python notional computer presents us with a program execution state\n",
    "consisting of a set of _name spaces_.   A name space is an \n",
    "association of _names_ with _value_.  A _value_ is a reference to an \n",
    "_object_.  The type of the object determines what we can do with it \n",
    "(like the shape of a block). \n",
    "\n",
    "We can _bind_ value to a name with _assignment_, which we write `=`."
   ]
  },
  {
   "cell_type": "code",
   "execution_count": 1,
   "id": "39f5abba",
   "metadata": {},
   "outputs": [],
   "source": [
    "x = 23"
   ]
  },
  {
   "cell_type": "markdown",
   "id": "1c976bd4",
   "metadata": {},
   "source": [
    "```{figure} img/bind_x_23.*\n",
    "\n",
    "The name _x_ is bound to a value, which is a reference to\n",
    "an object containing the integer 23.  \n",
    "```\n",
    "\n",
    "It is tempting to pronounce this \"x equals 23\", because it looks \n",
    "like a mathematical equation.  We suggest pronouncing it \"x gets \n",
    "23\", because it is really a command that binds \n",
    "a reference to an object representing the integer \n",
    "to the name \"x\".  \n",
    "\n",
    "One way to see how different this is from the \n",
    "\"equals\" we know from math is to try turning it around --- what \n",
    "happens if you write `23 = x` instead of `x = 23`?   Try it in IDLE or,\n",
    "if you are reading this in a executable format, try modifying the code\n",
    "cell above. \n",
    "\n",
    "Bindings can appear in different _scopes_, also known as _name \n",
    "spaces_.  We will say more about that after introducing a few of \n",
    "Python's data types. \n",
    "\n",
    "\n",
    "### Some Python data types\n",
    "\n",
    "Python supports the following basic types (as well as some others).\n",
    "\n",
    "|  Python type |  Meaning  | Example |\n",
    "|--------------|-----------|---------|\n",
    "| int | Integer; represented precisely. | 42 |Python integers can be arbitrarily large |\n",
    "| float | Floating point, an approximation of a real number. | 3.1415 |\n",
    "| str | String, which is what we call text. Strings may contain many kinds of characters, including Ελληνικά and 漢子.| \"Hello world\" | \n",
    "| bool | Boolean (truth value) | False |\n",
    "\n",
    "Every value in Python has a type.  For example, `0` has type `int`, \n",
    "but `\"0\"` has type `str`.   The meaning of an operation like \n",
    "addition depends on the types of values.  To see this clearly, \n",
    "consider addition."
   ]
  },
  {
   "cell_type": "code",
   "execution_count": 2,
   "id": "cf260e19",
   "metadata": {},
   "outputs": [
    {
     "data": {
      "text/plain": [
       "'111222'"
      ]
     },
     "execution_count": 2,
     "metadata": {},
     "output_type": "execute_result"
    }
   ],
   "source": [
    "\"111\" + \"222\""
   ]
  },
  {
   "cell_type": "markdown",
   "id": "3c1187b3",
   "metadata": {},
   "source": [
    "For strings (type `str`), addition means concatenation.  What \n",
    "happens if you remove the quotes, so that the code cell above is \n",
    "addition of `int` values instead of `str` values?  What if you make \n",
    "one of the values an integer, but not the other?   (Try it in IDLE \n",
    "or in the code cell above). \n",
    "\n",
    "Sometimes an operation on one values of one type can produce a value \n",
    "of another type.  For example, the values `5` and `2` are both \n",
    "integers (type `int`).  What is the value of `5 / 2`?"
   ]
  },
  {
   "cell_type": "code",
   "execution_count": 3,
   "id": "22e44d86",
   "metadata": {},
   "outputs": [
    {
     "data": {
      "text/plain": [
       "2.5"
      ]
     },
     "execution_count": 3,
     "metadata": {},
     "output_type": "execute_result"
    }
   ],
   "source": [
    "5 / 2"
   ]
  },
  {
   "cell_type": "markdown",
   "id": "2a153c42",
   "metadata": {},
   "source": [
    "Besides common arithmetic operations like `+` and `-`, the basic \n",
    "types have many built-in _functions_ like `max` and \n",
    "`round`.   For example, `max(5, 7)` and `max(7, 5)` both produce the \n",
    "value `7`.   We say call `5` and `7` the _arguments_ of the `max` \n",
    "function in this example, and say that it _returns_ 7.   There is \n",
    "no difference between _arguments_ of a function like \"max\" and \n",
    "_operands_ of an operator like `+` except in how we write them.\n",
    "\n",
    "### Lists \n",
    "\n",
    "Python also gives us ways of combining values into composite \n",
    "objects.\n",
    "The combination we will use most are _lists_, which are sequences of \n",
    "other values.  For example, `[1, 2, \"buckle my shoe\"]` is a list of\n",
    "three elements, two `int` objects and a `str` object.  The elements of\n",
    "a list may also be lists (we call this _nesting_, like matryoshka \n",
    "dolls).\n",
    "\n",
    "```{figure} img/800px-Matryoshka_transparent.png\n",
    ":height: 150px\n",
    ":name: Matryoshka\n",
    "\n",
    "Lists within lists are \"nested\", like nested dolls.  (Image by user \n",
    "Fanghong in Mediawiki commons, used under CC by SA license.) \n",
    "```\n",
    "\n",
    "We can \"nest\" lists as deeply as we want, e.g., \n",
    "`[[\"corvids\", [\"crow\", \"raven\"]], [\"primates\", [\"lemur\", \"human\"]]]`\n",
    "denotes a list with two elements.  The first element of that list is a \n",
    "list with two elements, and the first element of _that_ list is a \n",
    "string (\"corvids\").   \n",
    "\n",
    "```{figure} img/nested-list.png\n",
    ":height: 300px\n",
    ":name: nested\n",
    "\n",
    "List elements can be references to other lists, as well as other\n",
    "kinds of object, as illustrated by this representation of \n",
    "`[[\"corvids\", [\"crow\", \"raven\"]], [\"primates\", [\"lemur\", \"human\"]]]`\n",
    "```\n",
    "\n",
    "\n",
    "### Dictionaries\n",
    "\n",
    "A _dictionary_  (type `dict`) is like a table with a column with two \n",
    "columns. We could construct a `dict` like the kind of dictionary in \n",
    "which we look up word definitions:"
   ]
  },
  {
   "cell_type": "code",
   "execution_count": 4,
   "id": "056db390",
   "metadata": {},
   "outputs": [
    {
     "name": "stdout",
     "output_type": "stream",
     "text": [
      "{'mouse': 'A small rodent', 'rat': 'A somewhat larger rodent', 'bat': 'A flying rodent', 42: 'The answer to life, the universe, and everything'}\n"
     ]
    }
   ],
   "source": [
    "d = { \n",
    "  \"mouse\" : \"A small rodent\", \n",
    "  \"rat\" : \"A somewhat larger rodent\", \n",
    "  \"bat\" : \"A flying rodent\",\n",
    "  42 : \"The answer to life, the universe, and everything\"\n",
    "  }\n",
    "print(d)"
   ]
  },
  {
   "cell_type": "markdown",
   "id": "5c7b4208",
   "metadata": {},
   "source": [
    "What happens if you modify the code above to add another \n",
    "definition for \"mouse\", perhaps \"A computer input device\", without \n",
    "removing the first definition?  What does this tell you about the \n",
    "`dict` type in Python? \n",
    "\n",
    "## Scopes\n",
    "\n",
    "Binding of a value to a name takes place in a _scope_.  The same \n",
    "name might have different bindings in different scopes.  In \n",
    "particular, execution of a function creates a scope for variables \n",
    "that are bound within the function.  \n",
    "\n",
    "You can think of scopes as being stacked one atop another.  When we \n",
    "begin executing a function, a new scope is stacked atop the others.  \n",
    "When it finishes, that scope is removed from the stack, uncovering\n",
    "the scope that was previously on top."
   ]
  },
  {
   "cell_type": "code",
   "execution_count": 5,
   "id": "90539405",
   "metadata": {},
   "outputs": [
    {
     "name": "stdout",
     "output_type": "stream",
     "text": [
      "x is bound to 23 within example\n",
      "y is bound to 77 within example\n",
      "m is bound to 23 within example\n",
      "After example, x is bound to 23\n",
      "After example, y is bound to 42\n",
      "After example, m is bound to 19\n"
     ]
    }
   ],
   "source": [
    "# Global scope\n",
    "x = 23\n",
    "y = 42\n",
    "m = 19\n",
    "\n",
    "def example(m: int):\n",
    "    y = 77\n",
    "    print(f\"x is bound to {x} within example\")\n",
    "    print(f\"y is bound to {y} within example\")\n",
    "    print(f\"m is bound to {m} within example\")\n",
    "\n",
    "# Executing \"example\" creates the new scope\n",
    "example(x)\n",
    "# When \"example\" finishes, the new scope is deleted\n",
    "\n",
    "print(f\"After example, x is bound to {x}\")\n",
    "print(f\"After example, y is bound to {y}\")\n",
    "print(f\"After example, m is bound to {m}\")"
   ]
  },
  {
   "cell_type": "markdown",
   "id": "d7037721",
   "metadata": {},
   "source": [
    "During execution of `example(x)`, the scopes created by the example \n",
    "above look like this: \n",
    "\n",
    "![Scopes during execution of `example(x)`](img/bind_stack.png)\n",
    "\n",
    "There are several things to notice: \n",
    "\n",
    "- Although there are two name spaces (scopes) in the example, there \n",
    "  is only one object space.  \n",
    "- When we call `example(x)`, the value \n",
    "  bound to `x` in the global scope is bound to `m` in the scope of \n",
    "  `example(x)`.  We say that the \"actual argument\" `x` is bound to \n",
    "  the \"formal argument\" `m` in `example(m: int)`.  This is always \n",
    "  how values are passed to functions in Python. \n",
    "- The same value, an `int` object containing the integer 23, is \n",
    "  bound to more than one name.  This is called _aliasing_.\n",
    "\n",
    "\n",
    "Aliasing of the same int object to the name `m` in the \n",
    "execution of `example`, and to `x` in the global namespace, is \n",
    "hardly noticeable.  We might compute some new value by adding the \n",
    "values of 23 and 42, but that would be an entirely new `int` object. \n",
    "We would not be changing the int object `23` mean something else \n",
    "(thank goodness).  We call `int` objects _immutable_ because they \n",
    "can never change value. \n",
    "\n",
    "You can watch the example in action with\n",
    "[Python Tutor](https://pythontutor.com/render.html#code=%23%20Global%20scope%0Ax%20%3D%2023%0Ay%20%3D%2042%0Am%20%3D%2019%0A%0Adef%20example%28m%3A%20int%29%3A%0A%20%20%20%20y%20%3D%2077%0A%20%20%20%20print%28f%22x%20is%20bound%20to%20%7Bx%7D%20within%20example%22%29%0A%20%20%20%20print%28f%22y%20is%20bound%20to%20%7By%7D%20within%20example%22%29%0A%20%20%20%20print%28f%22m%20is%20bound%20to%20%7Bm%7D%20within%20example%22%29%0A%0A%23%20Executing%20%22example%22%20creates%20the%20new%20scope%0Aexample%28x%29%0A%23%20When%20%22example%22%20finishes,%20the%20new%20scope%20is%20deleted%0A%0Aprint%28f%22After%20example,%20x%20is%20bound%20to%20%7Bx%7D%22%29%0Aprint%28f%22After%20example,%20y%20is%20bound%20to%20%7By%7D%22%29%0Aprint%28f%22After%20example,%20m%20is%20bound%20to%20%7Bm%7D%22%29&cumulative=false&curInstr=7&heapPrimitives=nevernest&mode=display&origin=opt-frontend.js&py=3&rawInputLstJSON=%5B%5D&textReferences=false).\n",
    "It should look very similar to our illustration above, except Python \n",
    "Tutor will not draw the `int` objects in the object space.  They \n",
    "really are objects, but Python Tutor draws the integer values \n",
    "without the objects that hold them to reduce clutter."
   ]
  }
 ],
 "metadata": {
  "jupytext": {
   "formats": "md:myst",
   "text_representation": {
    "extension": ".myst",
    "format_name": "myst",
    "format_version": 1.1,
    "jupytext_version": "1.10.3"
   }
  },
  "kernelspec": {
   "display_name": "Python 3",
   "language": "python",
   "name": "python3"
  },
  "language_info": {
   "codemirror_mode": {
    "name": "ipython",
    "version": 3
   },
   "file_extension": ".py",
   "mimetype": "text/x-python",
   "name": "python",
   "nbconvert_exporter": "python",
   "pygments_lexer": "ipython3",
   "version": "3.10.0"
  },
  "source_map": [
   13,
   92,
   94,
   135,
   137,
   149,
   151,
   201,
   209,
   228,
   247
  ]
 },
 "nbformat": 4,
 "nbformat_minor": 5
}