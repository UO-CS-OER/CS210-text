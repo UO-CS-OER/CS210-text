{
 "cells": [
  {
   "cell_type": "markdown",
   "id": "a442e0ae",
   "metadata": {},
   "source": [
    "# A Notional Computer\n",
    "\n",
    "As you learn to construct useful programs in Python, you will need a\n",
    "clear mental model of how your Python programs work.  At first this\n",
    "may seem trivial, and hardly any improvement over remembering the\n",
    "observable effects of particular sequences of commands.  As you tackle\n",
    "larger problems, a clear and accurate mental model will become more \n",
    "and more helpful.  It will be the difference between a huge and \n",
    "disordered set of particulars, beyond the capacity of human memory, \n",
    "and a much smaller, systematic set of basic understandings into \n",
    "which it is easier to fit one more piece.\n",
    "\n",
    "## Languages present notional computers \n",
    "\n",
    "A programming language presents us an abstraction of a physical \n",
    "computer.  By _abstraction_ I mean that it hides (\"abstracts \n",
    "away\") certain details,\n",
    "such as whether you are using a computer with a central processing \n",
    "unit (CPU) based in the Intel x86 series, a computer with a CPU\n",
    "based on the Arm architecture, or perhaps some other processor that\n",
    "hasn't even been invented yet.  \n",
    "\n",
    "Each programming language presents us a _notional_ computer that can \n",
    "be implemented on several different kinds of computer hardware. \n",
    "Because we can program in a language, and not for a particular \n",
    "collection of circuits, it is possible to _learn to program_, and \n",
    "not only _learn to program this particular machine_.  \n",
    "\n",
    "The notional computers presented by different programming languages, \n",
    "such as Python, Javascript, Java, and C++, may differ in some \n",
    "important ways, and yet have many things in common.  As your \n",
    "knowledge grows, you will likely use several languages, sometimes \n",
    "even on the same project.  A clear understanding of what those \n",
    "notional computers have in common will help you transfer your \n",
    "understanding of programming in one language to others.  A clear \n",
    "understanding of their differences will help you keep them straight, \n",
    "choose well, and use them together. \n",
    "\n",
    "For now it is best to focus on a single programming language and the \n",
    "notional computer it presents us.  We have chosen Python as an \n",
    "excellent first language, because it presents an exceptionally \n",
    "simple and uniform notional computer.  In particular we will use\n",
    "version 3.10 or greater of Python. \n",
    "\n",
    "## The Python Notional Computer\n",
    "\n",
    "A notional computer is like a building toy, perhaps wooden\n",
    "blocks, Legos, Tinker Toys, or something similar. The kit comes with a\n",
    "handful of basic\n",
    "parts that can be combined to build an unlimited\n",
    "set of more complex structures. A particular kit provides us both\n",
    "some basic parts and some ways of putting them together.  Likewise a \n",
    "programming language provides us some basic elements like objects of \n",
    "particular types, and ways of building up larger structures from them. \n",
    "A _program_ is like a set of directions for constructing and \n",
    "manipulating a structure, the _execution state_ of the running program. \n",
    "\n",
    "The Python notional computer presents us with a program execution state\n",
    "consisting of a set of _name spaces_.   A name space is an \n",
    "association of _names_ with _value_.  A _value_ is a reference to an \n",
    "_object_.  The type of the object determines what we can do with it \n",
    "(like the shape of a block). \n",
    "\n",
    "We can _bind_ value to a name with _assignment_, which we write `=`."
   ]
  },
  {
   "cell_type": "code",
   "execution_count": 1,
   "id": "4e16cd6c",
   "metadata": {},
   "outputs": [],
   "source": [
    "x = 23"
   ]
  },
  {
   "cell_type": "markdown",
   "id": "fb35226f",
   "metadata": {},
   "source": [
    "```{figure} img/bind_x_23.*\n",
    "\n",
    "The name _x_ is bound to a value, which is a reference to\n",
    "an object containing the integer 23.  \n",
    "```\n",
    "\n",
    "It is tempting to pronounce this \"x equals 23\", because it looks \n",
    "like a mathematical equation.  We suggest pronouncing it \"x gets \n",
    "23\", because it is really a _statement_ or command that binds the \n",
    "a reference to an object representing the integer \n",
    "to the name \"x\".  \n",
    "\n",
    "One way to see how different this is from the \n",
    "\"equals\" we know from math is to try turning it around --- what \n",
    "happens if \n",
    "you write `23 = x` instead of `x = 23`?   Try it in IDLE or, if you \n",
    "are reading this in a executable format, try modifying the code cell \n",
    "above. \n",
    "\n",
    "\n",
    "### Some Python object types\n",
    "\n",
    "Python supports the following basic types (as well as some others).\n",
    "\n",
    "|  Python type |  Meaning  | Example |\n",
    "|--------------|-----------|---------|\n",
    "| int | Integer; represented precisely. | 42 |Python integers can be arbitrarily large |\n",
    "| float | Floating point, an approximation of a real number. | 3.1415 |\n",
    "| str | String, which is what we call text. Strings may contain many kinds of characters, including Ελληνικά and 漢子.| \"Hello world\" | \n",
    "| bool | Boolean (truth value) | False |\n",
    "\n",
    "\n",
    "\n",
    "### Lists \n",
    "\n",
    "Python also gives us ways of combining values into composite objects.\n",
    "The combination we will use most are _lists_, which are sequences of \n",
    "other values.  For example, `[1, 2, \"buckle my shoe\"]` is a list of\n",
    "three elements, two `int` objects and a `str` object.  The elements of\n",
    "a list may also be lists (we call this _nesting_, like matryoshka \n",
    "dolls).\n",
    "\n",
    "```{figure} img/800px-Matryoshka_transparent.png\n",
    ":height: 150px\n",
    ":name: Matryoshka\n",
    "\n",
    "Lists within lists are \"nested\", like nested dolls.  (Image by user \n",
    "Fanghong in Mediawiki commons, used under CC by SA license.) \n",
    "```\n",
    "\n",
    "We can \"nest\" lists as deeply as we want, e.g., \n",
    "`[[\"corvids\", [\"crow\", \"raven\"]], [\"primates\", [\"lemur\", \"human\"]]]`\n",
    "is a list with two elements.  The first element of that list is a \n",
    "list with two elements, and the first element of _that_ list is a \n",
    "string (\"corvids\").   \n",
    "\n",
    "\n",
    "\n",
    "### Dictionaries\n",
    "\n",
    "A _dictionary_  (type `dict`) is like a table with a column with two \n",
    "columns. We could construct a `dict` like the kind of dictionary in \n",
    "which we look up word definitions:"
   ]
  },
  {
   "cell_type": "code",
   "execution_count": 2,
   "id": "1e972c22",
   "metadata": {},
   "outputs": [
    {
     "name": "stdout",
     "output_type": "stream",
     "text": [
      "{'mouse': 'A small rodent', 'rat': 'A somewhat larger rodent', 'bat': 'A flying rodent', 42: 'The answer to life, the universe, and everything'}\n"
     ]
    }
   ],
   "source": [
    "d = { \n",
    "  \"mouse\" : \"A small rodent\", \n",
    "  \"rat\" : \"A somewhat larger rodent\", \n",
    "  \"bat\" : \"A flying rodent\",\n",
    "  42 : \"The answer to life, the universe, and everything\"\n",
    "  }\n",
    "print(d)"
   ]
  },
  {
   "cell_type": "markdown",
   "id": "5ff998ad",
   "metadata": {},
   "source": [
    "What happens if you modify the code above to add an additional \n",
    "definition for \"mouse\", perhaps \"A computer input device\", without \n",
    "removing the first definition?  What does this tell you about the \n",
    "`dict` type in Python?"
   ]
  }
 ],
 "metadata": {
  "jupytext": {
   "formats": "md:myst",
   "text_representation": {
    "extension": ".myst",
    "format_name": "myst",
    "format_version": 1.1,
    "jupytext_version": "1.10.3"
   }
  },
  "kernelspec": {
   "display_name": "Python 3",
   "language": "python",
   "name": "python3"
  },
  "language_info": {
   "codemirror_mode": {
    "name": "ipython",
    "version": 3
   },
   "file_extension": ".py",
   "mimetype": "text/x-python",
   "name": "python",
   "nbconvert_exporter": "python",
   "pygments_lexer": "ipython3",
   "version": "3.10.0"
  },
  "source_map": [
   13,
   80,
   82,
   148,
   156
  ]
 },
 "nbformat": 4,
 "nbformat_minor": 5
}