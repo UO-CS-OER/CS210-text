{
 "cells": [
  {
   "cell_type": "markdown",
   "id": "eeef8b4e",
   "metadata": {},
   "source": [
    "# Python Programming Kickstart\n",
    "\n",
    "[Install Python](01-02-Install.md) before working through this \n",
    "section, which will review some basics of Python if you have \n",
    "programmed in Python before, or introduce them if you are not \n",
    "already familiar with Python.  \n",
    "\n",
    "We will revisit many of the concepts in this kickstart later, in \n",
    "more depth.  For now we want to get _just enough_ Python programming \n",
    "to initiate your first projects. \n",
    "\n",
    "## Executing Python commands in IDLE\n",
    "\n",
    "Python commands (_statements_) may be executed immediately in a \n",
    "_console_, or stored in a program file (often called a _script_) for \n",
    "execution later.  In this course we will use _IDLE_ both to execute\n",
    "statements directly and to edit and execute program files. (Later we \n",
    "will explore additional ways to edit and execute Python programs.)\n",
    "\n",
    "Once you have \n",
    "[installed Python 3 on your computer](./01-02-Install.md), you \n",
    "should be able to start _IDLE_ from the command line.  It should look \n",
    "something like this: \n",
    "\n",
    "![IDLE shell at start-up](img/IDLE.png)\n",
    "\n",
    "The `>>>` symbol is a _prompt_ indicating that\n",
    "the Python shell, or console, is ready to\n",
    "receive a statement and execute it. \n",
    "\n",
    "Try this by typing `print(\"Hello!\")` on the\n",
    "line with the prompt."
   ]
  },
  {
   "cell_type": "code",
   "execution_count": 1,
   "id": "98f42436",
   "metadata": {},
   "outputs": [
    {
     "name": "stdout",
     "output_type": "stream",
     "text": [
      "Hello\n"
     ]
    }
   ],
   "source": [
    "print(\"Hello\")"
   ]
  },
  {
   "cell_type": "markdown",
   "id": "5550f609",
   "metadata": {},
   "source": [
    "What happens if you change \"print\" to \"Print\" or \"PRINT\"?  Does \n",
    "this tell you something about the rules of the Python language? \n",
    "\n",
    "Whenever you are curious about some rule or characteristic of the \n",
    "Python programming language, you should design and carry out \n",
    "micro-experiments to build understanding.  As in a full-blown \n",
    "scientific experiment, you will get the most from a micro-experiment \n",
    "if you have a specific prediction based on a hypothesis about the \n",
    "language.  \n",
    "\n",
    "For example, your hypothesis might be \"Python is \n",
    "case-insensitive; 'Print' and 'print' should do the same thing.\"  \n",
    "Your prediction would then be that `Print(\"Hello\")` causes \"Hello\" \n",
    "to be printed.  Your experiment would _disconfirm_ this prediction, \n",
    "telling you that the hypothesis was incorrect:  Python is case \n",
    "sensitive.  Performing little experiments as you work is much faster \n",
    "than correcting a lot of code that was built on wrong assumptions! \n",
    "\n",
    "Of course there are other ways you can learn details of Python \n",
    "language rules. You should already have bookmarked the \n",
    "[Python library documentation](https://docs.python.org/3/library/index.html)\n",
    "in your browser.  (If you haven't, do it now!)  Don't attempt to \n",
    "read the whole library documentation from start to end.  Instead, \n",
    "refer to it whenever you need to familiarize or re-familiarize\n",
    "yourself with some part of Python.  You needn't try to memorize \n",
    "anything beyond the absolute basics of Python syntax.  Instead, look \n",
    "up what you need, as you need it.  Memorization of the parts you use \n",
    "most will follow automatically. \n",
    "\n",
    "## Variables and Assignments\n",
    "\n",
    "A _variable_ in Python is a named storage location.  For example, \n",
    "`x` could be a variable, and so could `this_long_variable_name`.\n",
    "When we _assign_ a value to a variable, we are storing a value in it.\n",
    "If we write an _assignment statement_ like `x = 2 + 3`, we are not \n",
    "saying that `x` will always be equal to the value `2 + 3`;  rather \n",
    "we are telling Python to _evaluate_ `2 + 3` (producing the value `5`)\n",
    "and then store that value in the location called `x`.  Some \n",
    "programmers pronounce \"`=`\" as \"gets\" rather than \"equals\" to \n",
    "emphasize that meaning and avoid confusion.\n",
    "\n",
    "Sequences of assignment statements and other Python commands are \n",
    "executed one-by-one."
   ]
  },
  {
   "cell_type": "code",
   "execution_count": 2,
   "id": "641f2352",
   "metadata": {},
   "outputs": [
    {
     "name": "stdout",
     "output_type": "stream",
     "text": [
      "18\n"
     ]
    }
   ],
   "source": [
    "y = 5\n",
    "x = y + 5\n",
    "y = 25\n",
    "x = x + 8\n",
    "print(x)"
   ]
  },
  {
   "cell_type": "markdown",
   "id": "4f146c25",
   "metadata": {},
   "source": [
    "Note in the little program above, storing the value `25` in `y` has \n",
    "no effect on `x`, because we have already stored a value computed \n",
    "from the prior value `5` that was in `y` when we executed \n",
    "`x = y + 5`.  If `x = y + 5` was an algebra equation, we would have \n",
    "created some permanent relationship between the values of `x` and \n",
    "`y`.  But it is not an equation.  It just evaluates the then-current \n",
    "value of the expression `y + 5` and stores that value in `x`. \n",
    "\n",
    "We can even use the current value of a variable to evaluate a new\n",
    "value to be stored in the same variable, as we have in the assignment\n",
    "statement `x = x + 8`. \n",
    "\n",
    "If you find this even a little bit confusing, it may help to watch \n",
    "these assignment statements execute one by one in the \n",
    "excellent \n",
    "[Python Tutor](https://pythontutor.com/render.html#code=y%20%3D%205%0Ax%20%3D%20y%20%2B%205%0Ay%20%3D%2025%0Ax%20%3D%20x%20%2B%208%0Aprint%28x%29&cumulative=false&curInstr=0&heapPrimitives=nevernest&mode=display&origin=opt-frontend.js&py=3&rawInputLstJSON=%5B%5D&textReferences=false)\n",
    "web application.\n",
    "\n",
    "## Basic types: int and str\n",
    "\n",
    "In our example, Python executed `x = y + 5` by \"evaluating\" `y + 5` \n",
    "before assigning the result to `x`.  It is always the \n",
    "right-hand side of the assignment (like `y + 5`) that is evaluated, \n",
    "and only then is the result stored to the variable on the left-hand \n",
    "side.  We can't write `y + 5 = x`, because `y + 5` is not a variable.\n",
    "(Try it to be sure ... it won't break your computer, but \n",
    "the Python interpreter will print an error message.)\n",
    "\n",
    "How does Python know how to \"evaluate\" the expression?  How does it \n",
    "know what \"+\" means?  The meaning of \"+\" actually depends on the \n",
    "kinds of value we are trying to add.  Consider this:"
   ]
  },
  {
   "cell_type": "code",
   "execution_count": 3,
   "id": "8db91890",
   "metadata": {},
   "outputs": [
    {
     "name": "stdout",
     "output_type": "stream",
     "text": [
      "The meaning of life, the universe, and everything\n"
     ]
    }
   ],
   "source": [
    "pref = \"The meaning of \"\n",
    "suff = \"life, the universe, and everything\"\n",
    "phrase = pref + suff\n",
    "print(phrase)"
   ]
  },
  {
   "cell_type": "markdown",
   "id": "ee794ea7",
   "metadata": {},
   "source": [
    "While a value like `5` represents an integer, quoted text like\n",
    "`\"The meaning of\"` is a string of characters.  These are different \n",
    "_data types_, that may be evaluated in different ways.  In \n",
    "Python, integers\n",
    "are represented by the values of type `int`, and text is represented\n",
    "by values of type `str`.  Python has additional data types including\n",
    "`float` (short for \"floating point\") to represent real numbers and\n",
    "`bool` (short for \"Boolean\") to represent truth values, either \n",
    "`True` or `False`.  \n",
    "\n",
    "Consider this little bit of code that looks \n",
    "almost like our previous example, but has a very different result:"
   ]
  },
  {
   "cell_type": "code",
   "execution_count": 4,
   "id": "563afb3d",
   "metadata": {},
   "outputs": [
    {
     "name": "stdout",
     "output_type": "stream",
     "text": [
      "558\n"
     ]
    }
   ],
   "source": [
    "y = \"5\"\n",
    "x = y + \"5\"\n",
    "y = 25\n",
    "x = x + \"8\"\n",
    "print(x)"
   ]
  },
  {
   "cell_type": "markdown",
   "id": "9b33d668",
   "metadata": {},
   "source": [
    "Can you see the difference?  When we put quotes around `\"5\"`, we are \n",
    "giving a value that is not an integer, but rather a string of \n",
    "characters (in this case just one).  While the meaning of \"+\" for \n",
    "`int` values is integer addition, the meaning of \"+\" for `str` \n",
    "values (strings of characters, representing text) is concatenation \n",
    "(like gluing the strings together). \n",
    "\n",
    "What happens if you try to mix them, like `\"x\" + 5`?   (Don't worry, \n",
    "although nobody loves error messages, it won't harm your computer to \n",
    "try.)\n",
    "\n",
    "## Functions and Methods\n",
    "\n",
    "In addition to expressions with operations like \"+\" for addition, \n",
    "operations are sometimes given as function calls like `len(\"something\")` \n",
    "for the length of a `str` value or `max(5, 7)` to choose the larger\n",
    "of two `int` values.   Some types also have _methods_, which are \n",
    "similar but written a little differently, e.g.,"
   ]
  },
  {
   "cell_type": "code",
   "execution_count": 5,
   "id": "ba5d6237",
   "metadata": {},
   "outputs": [
    {
     "name": "stdout",
     "output_type": "stream",
     "text": [
      "                island                 \n",
      "39\n",
      "island\n",
      "6\n"
     ]
    }
   ],
   "source": [
    "s = \"                island                 \"\n",
    "print(s)\n",
    "print(len(s))      # calls function len on string s to find its length\n",
    "t = s.strip()      # s.strip() calls method strip to remove whitespace\n",
    "print(t)           \n",
    "print(len(t))"
   ]
  },
  {
   "cell_type": "markdown",
   "id": "820a76e3",
   "metadata": {},
   "source": [
    "It's annoying that you have to remember when to use the\n",
    "style of a function call like `len(s)` and when to use the style\n",
    "of a method call like `s.strip()`.  You'll probably mix them up\n",
    "sometimes (I still do, after years of Python programming), but\n",
    "it's an easy bug to fix when Python complains.\n",
    "\n",
    "\n",
    "## Lists \n",
    "\n",
    "Python also provides some types for collections of different values. \n",
    "We will explore and use several of them.  \n",
    "\n",
    "The collections we will use most are _lists_, which are sequences of \n",
    "other values.  For example, `[1, 2, \"buckle my shoe\"]` is a list of\n",
    "three elements.  The first two elements are `int` (integer) objects and \n",
    "the third is a `str` (string) object.  The elements of\n",
    "a list may also be lists (we call this _nesting_, like matryoshka \n",
    "dolls).\n",
    "\n",
    "```{figure} img/800px-Matryoshka_transparent.png\n",
    ":height: 150px\n",
    ":name: Matryoshka\n",
    "\n",
    "Lists within lists are \"nested\", like nested dolls.  (Image by user \n",
    "Fanghong in Mediawiki commons, used under CC by SA license.) \n",
    "```\n",
    "\n",
    "We can _nest_ lists as deeply as we like. \n",
    "`[[\"corvids\", [\"crow\", \"raven\"]], [\"primates\", [\"lemur\", \"human\"]]]`\n",
    "denotes a list with two elements.  The first element of that list is a \n",
    "list with two elements, and the first element of _that_ list is a \n",
    "string (\"corvids\").   \n",
    "\n",
    "```{figure} img/nested-list.png\n",
    ":height: 300px\n",
    ":name: nested\n",
    "\n",
    "List elements can be references to other lists, as well as other\n",
    "kinds of object, as illustrated by this representation of \n",
    "`[[\"corvids\", [\"crow\", \"raven\"]], [\"primates\", [\"lemur\", \"human\"]]]`\n",
    "```\n",
    "\n",
    "In addition to actual lists, we will use some other kinds of value\n",
    "that are very similar.  For example, several of our projects will treat\n",
    "text files almost as if they were lists of strings, except that we \n",
    "have to \"open\" them before accessing each line of text as a string. \n",
    "\n",
    "### Decisions: The \"if\" statement\n",
    "\n",
    "Python provides an `if` \n",
    "construct for choosing between possible actions.  We'll illustrate \n",
    "it with a very simple example:"
   ]
  },
  {
   "cell_type": "code",
   "execution_count": 6,
   "id": "b84ed065",
   "metadata": {},
   "outputs": [
    {
     "name": "stdout",
     "output_type": "stream",
     "text": [
      "30\n"
     ]
    }
   ],
   "source": [
    "x = 17\n",
    "y = 30\n",
    "if x > y: \n",
    "    x_y_max = x\n",
    "else: \n",
    "    x_y_max = y\n",
    "print(x_y_max)"
   ]
  },
  {
   "cell_type": "markdown",
   "id": "8daa88ed",
   "metadata": {},
   "source": [
    "We can _nest_ `if` statements within other `if` statements:"
   ]
  },
  {
   "cell_type": "code",
   "execution_count": 7,
   "id": "68b77a47",
   "metadata": {},
   "outputs": [
    {
     "name": "stdout",
     "output_type": "stream",
     "text": [
      "30\n"
     ]
    }
   ],
   "source": [
    "x = 17\n",
    "y = 30\n",
    "z = 15\n",
    "if x > y: \n",
    "    if x > z:\n",
    "      biggest = x\n",
    "    else:\n",
    "      biggest = z\n",
    "else:\n",
    "    if y > z:\n",
    "      biggest = y\n",
    "    else: \n",
    "      biggest = z\n",
    "print(biggest)"
   ]
  },
  {
   "cell_type": "markdown",
   "id": "a62fff30",
   "metadata": {},
   "source": [
    "Sometimes we can write simpler, clearer code by using `elif` instead of \n",
    "nesting `if` statements.  Combining comparisons with `and` and `or` \n",
    "can also help."
   ]
  },
  {
   "cell_type": "code",
   "execution_count": 8,
   "id": "d1884b70",
   "metadata": {},
   "outputs": [
    {
     "name": "stdout",
     "output_type": "stream",
     "text": [
      "30\n"
     ]
    }
   ],
   "source": [
    "x = 17\n",
    "y = 30\n",
    "z = 15\n",
    "if x > y and x > z:\n",
    "  biggest = x\n",
    "elif y > x and y > z:\n",
    "  biggest = y\n",
    "else:\n",
    "  biggest = z\n",
    "print(biggest)"
   ]
  },
  {
   "cell_type": "markdown",
   "id": "55f0d701",
   "metadata": {},
   "source": [
    "```{note}\n",
    "We have chosen an over-simplified example to illustrate `if` and \n",
    "`elif`.  An even better way to find the largest of three values \n",
    "would be to use Python's built-in `max` function.\n",
    "```\n",
    "\n",
    "Recall that the symbol `=` is used for assignment.  So how can we make\n",
    "an `if` statement that checks whether two values are equal?  In \n",
    "Python we use `==` to check equality.  Some other comparisons\n",
    "use pairs of characters:  `>=` for \"at least\" or \"greater or equal to\"\n",
    "and `<=` for \"at most\" or \"less than or equal to\".  For example:"
   ]
  },
  {
   "cell_type": "code",
   "execution_count": 9,
   "id": "739dfed2",
   "metadata": {},
   "outputs": [
    {
     "name": "stdout",
     "output_type": "stream",
     "text": [
      "y must be larger\n"
     ]
    }
   ],
   "source": [
    "if x == y: \n",
    "    print(\"They are the same\")\n",
    "elif x >= y: \n",
    "    print(\"x must be larger, since they're not equal\")\n",
    "else: \n",
    "    print(\"y must be larger\")"
   ]
  },
  {
   "cell_type": "markdown",
   "id": "8310a8bd",
   "metadata": {},
   "source": [
    "Using `=` when you meant to use `==` for a comparison is a\n",
    "common typo.  Fortunately Python usually catches it and produces\n",
    "an error message:"
   ]
  },
  {
   "cell_type": "code",
   "execution_count": 10,
   "id": "59db80b0",
   "metadata": {
    "tags": [
     "raises-exception"
    ]
   },
   "outputs": [
    {
     "ename": "SyntaxError",
     "evalue": "invalid syntax. Maybe you meant '==' or ':=' instead of '='? (2303418095.py, line 1)",
     "output_type": "error",
     "traceback": [
      "\u001b[0;36m  Input \u001b[0;32mIn [10]\u001b[0;36m\u001b[0m\n\u001b[0;31m    if x = y:       # OOPS!\u001b[0m\n\u001b[0m       ^\u001b[0m\n\u001b[0;31mSyntaxError\u001b[0m\u001b[0;31m:\u001b[0m invalid syntax. Maybe you meant '==' or ':=' instead of '='?\n"
     ]
    }
   ],
   "source": [
    "if x = y:       # OOPS! \n",
    "    print(\"This will never happen.  Huh uh.\")"
   ]
  },
  {
   "cell_type": "markdown",
   "id": "193e9664",
   "metadata": {},
   "source": [
    "### Repetition (looping): `for` \n",
    "\n",
    "Often we need to repeat the same action with different values.  Most \n",
    "commonly we will want to perform an action with each element of a \n",
    "collection (e.g., a `list`  object).  Python lets us do \n",
    "this with a _for loop_, like this:"
   ]
  },
  {
   "cell_type": "code",
   "execution_count": 11,
   "id": "238cdeca",
   "metadata": {},
   "outputs": [
    {
     "name": "stdout",
     "output_type": "stream",
     "text": [
      "elephant\n",
      "tapir\n",
      "manatee\n"
     ]
    }
   ],
   "source": [
    "animals = [\"elephant\", \"tapir\", \"manatee\"]\n",
    "for pet in animals:\n",
    "    print(pet)"
   ]
  },
  {
   "cell_type": "markdown",
   "id": "52b525a0",
   "metadata": {},
   "source": [
    "Typically, when we _loop through_ a collection of objects, we \n",
    "accumulate some information about the collection as a whole. Suppose,\n",
    "for example, we wanted to determine the number of characters \n",
    "(letters) in all the animal names together.  We would _initialize_ a \n",
    "total just before the loop, then _accumulate_ values within the loop."
   ]
  },
  {
   "cell_type": "code",
   "execution_count": 12,
   "id": "644b2aba",
   "metadata": {},
   "outputs": [
    {
     "name": "stdout",
     "output_type": "stream",
     "text": [
      "20\n"
     ]
    }
   ],
   "source": [
    "animals = [\"elephant\", \"tapir\", \"manatee\"]\n",
    "total_length = 0\n",
    "for pet in animals:\n",
    "    total_length = total_length + len(pet)\n",
    "print(total_length)"
   ]
  },
  {
   "cell_type": "markdown",
   "id": "d1c0d587",
   "metadata": {},
   "source": [
    "This is such a common _pattern_ that it has a name, the _accumulator \n",
    "pattern_.  \n",
    "\n",
    "We will see many variations on `for` loops and on the accumulator \n",
    "pattern in projects.  There are other kinds of loops in Python (e.g.,\n",
    "a `while` loop repeats as long as some condition is true), but `for` \n",
    "loops are most common. \n",
    "\n",
    "## User-defined functions\n",
    "\n",
    "Above we looked at calling _built-in_ functions like `len` and \n",
    "`print`. You are not limited to using the built-in functions \n",
    "provided with Python --- you can also write your own.   We will \n",
    "spend a lot of time designing, writing, testing, and debugging \n",
    "functions in this course, starting with our very first project.\n",
    "\n",
    "You may define a new function once and call it several times in \n",
    "different parts of your code.\n",
    "In that way a function can make your code shorter.  More fundamentally,\n",
    "a well-designed and well-written function can make your code\n",
    "easier to read, understand, and maintain, by organizing complex\n",
    "logic into [brain-size chunks](\n",
    "https://www.zora.uzh.ch/id/eprint/151291/1/Thalmann.et.al.Chunking.final.pdf).  \n",
    "\n",
    "You create a new function with the keyword `def`, short for \"define\".\n",
    "Give it a concise, meaningful name, and then describe the\n",
    "_arguments_ that the function will use (the input of the function)\n",
    "and the type of _result_, if any, that it will return.  For example,\n",
    "if Python did not already have a `max` function for integers, we might\n",
    "create one like this: \n",
    "\n",
    "```{code-block} python3\n",
    "def my_max(x: int, y: int) -> int: \n",
    "    \"\"\"Returns x or y, whichever is larger\"\"\"\n",
    "    if x >= y: \n",
    "        return x\n",
    "    else: \n",
    "        return y\n",
    "```\n",
    "\n",
    "Note that we indicate the expected type of each of\n",
    "the arguments `x` and `y` (both `int` in this case),\n",
    "as well as the type of\n",
    "value that `my_max` will return (also `int`).  The first line\n",
    "or lines in the indented _body_ of the function is a\n",
    "_docstring comment_ explaining the purpose of the function\n",
    "(but not how it works).  In our first project we will also\n",
    "see how to add automated tests to a longer docstring comment. \n",
    "\n",
    "`x` and `y` in \"`def my_max(x: int, y: int)`\" are called _formal \n",
    "arguments_.\n",
    "You can think of the variables `x` and `y`\n",
    "as placeholders for values that we will \"pass in\"\n",
    "when we call `my_max`, like this: \n",
    "\n",
    "```{code-block} python3\n",
    "a = 17\n",
    "b = 32\n",
    "ab_max = my_max(a, b)\n",
    "print(ab_max)\n",
    "```\n",
    "\n",
    "In this example, `a` and `b` are called the _actual arguments_,\n",
    "corresponding to the _formal arguments_ `x` and `y`.  The \n",
    "When `my_max` is called with `my_max(a, b)`, we _pass_ the\n",
    "values of `a` and `b`, setting the `x` value in `my_max` to\n",
    "the value of `a` and setting the `y` value in `my_max` to\n",
    "the value of `b`.  \n",
    "\n",
    "There is much more to be said about functions, about passing\n",
    "actual values and binding them to formal arguments, and\n",
    "especially about designing functions that help us think\n",
    "clearly about our programs.  We will build on these\n",
    "basics in the next few projects and beyond.\n",
    "\n",
    "## Start building! \n",
    "\n",
    "The little bits above are only a small fraction of the Python \n",
    "programming language.  We could go on much longer, but it is easier \n",
    "to remember information that you have actually used. We\n",
    "will therefore jump straight into building a \n",
    "project.  After establishing that concrete anchor to your knowledge of \n",
    "programming in Python, we can return to fill in additional details \n",
    "and take a deeper look at variables, types, control structures \n",
    "(sequencing, decisions, and loops), and the problem-solving \n",
    "processes we use in programming. \n",
    "\n",
    "## Keep reading 𝄇\n",
    "\n",
    "If some of this chapter is a little confusing, read it again.\n",
    "If it doesn't seem confusing yet, start on the project,\n",
    "then come back when the project confuses you to re-read\n",
    "relevant parts, and/or\n",
    "give it one more read-through when you finish the project.\n",
    "Really.  These\n",
    "chapters are short _so that you can read them again and again_,\n",
    "and especially so that you can move back and forth between\n",
    "project and text.  Don't expect to remember everything in a\n",
    "chapter and then recall it as you build the project.  Rather, a first\n",
    "reading will get you far enough to get started on the project,\n",
    "then the project will help you get more from a second reading\n",
    "of each chapter.\n",
    "\n",
    "## Project 1\n",
    "\n",
    "Our first project is \n",
    "[an anagram solver](https://github.com/UO-CS210/jumbler).\n",
    "You will find it on github.  \n",
    "\n",
    "```{figure} img/github-download-zip.png\n",
    "\n",
    "Download the project as a zip archive from github.  \n",
    "```\n",
    "\n",
    "Decompress the project archive into a directory (\"folder\") and move \n",
    "the whole thing to a directory in which you keep all the projects \n",
    "for this class.   Inside the directory for this project, you will \n",
    "find a directory called \"docs\", and inside that you will find\n",
    "\"HOWTO.md\" with instructions on completing the assignment.  Those \n",
    "instructions are in a form called \"markdown\".  If you are familiar \n",
    "with the markdown format and already have a markdown reader tool \n",
    "installed, you can read the instructions that way.  Otherwise you \n",
    "may prefer to read on github by clicking \n",
    "through on `docs` and then `HOWTO.md` to reach\n",
    "[the formatted version](https://github.com/UO-CS210/jumbler/blob/main/docs/HOWTO.md)."
   ]
  }
 ],
 "metadata": {
  "jupytext": {
   "formats": "md:myst",
   "text_representation": {
    "extension": ".myst",
    "format_name": "myst",
    "format_version": 1.1,
    "jupytext_version": "1.10.3"
   }
  },
  "kernelspec": {
   "display_name": "Python 3",
   "language": "python",
   "name": "python3"
  },
  "language_info": {
   "codemirror_mode": {
    "name": "ipython",
    "version": 3
   },
   "file_extension": ".py",
   "mimetype": "text/x-python",
   "name": "python",
   "nbconvert_exporter": "python",
   "pygments_lexer": "ipython3",
   "version": "3.11.3"
  },
  "source_map": [
   13,
   48,
   50,
   96,
   102,
   136,
   141,
   156,
   162,
   183,
   190,
   245,
   253,
   257,
   272,
   278,
   289,
   303,
   310,
   316,
   321,
   330,
   334,
   342,
   348
  ]
 },
 "nbformat": 4,
 "nbformat_minor": 5
}