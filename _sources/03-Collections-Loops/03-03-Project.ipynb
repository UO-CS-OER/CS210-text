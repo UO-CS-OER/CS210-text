{
 "cells": [
  {
   "cell_type": "markdown",
   "id": "6311ceca",
   "metadata": {},
   "source": [
    "# Project\n",
    "\n",
    "The [enrollment analysis project](\n",
    "https://github.com/UO-CS210/enrollmentLinks)\n",
    "asks you to loop over a collection of elements representing\n",
    "individual student enrollments in a class, selecting and separating\n",
    "values to produce a summary of enrollments by major.\n",
    "\n",
    "The primary objective of the enrollment analysis project is to\n",
    "practice a fundamental loop\n",
    "idiom, the _accumulator pattern_, together with some ways of\n",
    "representing tabular data. You will use both lists and dictionaries\n",
    "as representations of tabular data. You will use dictionaries (type\n",
    "`dict`) in a version of the accumulator pattern, to keep counts of\n",
    "elements in a list. You will also use a dictionary to expand abbreviated\n",
    "codes from a list of student majors."
   ]
  }
 ],
 "metadata": {
  "jupytext": {
   "formats": "md:myst",
   "text_representation": {
    "extension": ".myst",
    "format_name": "myst",
    "format_version": 1.1,
    "jupytext_version": "1.10.3"
   }
  },
  "kernelspec": {
   "display_name": "Python 3",
   "language": "python",
   "name": "python3"
  },
  "language_info": {
   "codemirror_mode": {
    "name": "ipython",
    "version": 3
   },
   "file_extension": ".py",
   "mimetype": "text/x-python",
   "name": "python",
   "nbconvert_exporter": "python",
   "pygments_lexer": "ipython3",
   "version": "3.13.1"
  },
  "source_map": [
   13
  ]
 },
 "nbformat": 4,
 "nbformat_minor": 5
}