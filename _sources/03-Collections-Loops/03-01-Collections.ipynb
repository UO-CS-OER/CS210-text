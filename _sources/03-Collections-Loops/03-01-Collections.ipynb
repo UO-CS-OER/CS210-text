{
 "cells": [
  {
   "cell_type": "markdown",
   "id": "64cb1a15",
   "metadata": {},
   "source": [
    "# Collections and Loops\n",
    "\n",
    "We have already introduced lists and basic loops, including loops \n",
    "that read each line in a file.  In this chapter we will revisit \n",
    "those basics and dig a little deeper.  We will look at \n",
    "collections including lists, tuples, and dictionaries. \n",
    "We will introduce some additional \n",
    "operations, and especially we will examine ways of looping through \n",
    "collections. \n",
    "\n",
    "## Collection basics\n",
    "\n",
    "A _collection type_ (or _collection class_) is a kind of data that \n",
    "can contain other data as elements.  For example, `[\"alpha\", \"beta\", \n",
    "\"gamma\"]` is a list of strings (`str`), while `[1, 2, 3]` is a list of \n",
    "integers (`int`).  \n",
    "\n",
    "In general a collection type will have:\n",
    "- A syntax for _literals_, i.e., a way to write down a value and \n",
    "  indicate that we intend a collection of a certain kind.  For \n",
    "  example, if we write `[1, 2, 3]`, Python will interpret it as a \n",
    "  list of integers, while if we write `(1, 2, 3)` Python will \n",
    "  interpret it as a tuple of integers.\n",
    "- Operations for building or extending values.  For example, if we \n",
    "  have a list `m = [1, 2, 3]`, then `m.append(17)` will make the new \n",
    "  value of `m` be `[1, 2, 3, 17]`. \n",
    "- Operations for accessing individual elements.  For example, we can\n",
    "  _index_ a list.  If `m` is `[1, 2, 3, 17]`, then `m[0]` is 1 and\n",
    "  `m[2]` is 3.  \n",
    "- A way of _iterating_ (looping) through the elements of the \n",
    "  collection. \n",
    "\n",
    "For a complete list and detailed description of these features for \n",
    "all the standard collection types in Python, refer to the\n",
    "[Python library documentation](https://docs.python.org/3/library/stdtypes.html).\n",
    "In this chapter we will cover just some basics. \n",
    "\n",
    "## Lists\n",
    "\n",
    "A list (type `list`) holds a sequence of elements.  The elements can \n",
    "be any other kind of value, including integers and strings but also \n",
    "other collections including lists.\n",
    "\n",
    "To write a literal list value, we use square brackets, e.g.,\n",
    "`[\"a\", \"b\", \"c\"]`.  \n",
    "\n",
    "We can add an element to the end of a list with the `append` method. \n",
    "Here's another way to create the value `[\"a\", \"b\", \"c\"]`:"
   ]
  },
  {
   "cell_type": "code",
   "execution_count": 1,
   "id": "8b80ca2e",
   "metadata": {},
   "outputs": [
    {
     "data": {
      "text/plain": [
       "['a', 'b', 'c']"
      ]
     },
     "execution_count": 1,
     "metadata": {},
     "output_type": "execute_result"
    }
   ],
   "source": [
    "m = []\n",
    "m.append(\"a\")\n",
    "m.append(\"b\")\n",
    "m.append(\"c\")\n",
    "m"
   ]
  },
  {
   "cell_type": "markdown",
   "id": "2b9efb06",
   "metadata": {},
   "source": [
    "The elements of a list have _indexes_, or positions, starting with \n",
    "zero."
   ]
  },
  {
   "cell_type": "code",
   "execution_count": 2,
   "id": "b2c75c57",
   "metadata": {},
   "outputs": [
    {
     "name": "stdout",
     "output_type": "stream",
     "text": [
      "a\n",
      "c\n"
     ]
    }
   ],
   "source": [
    "m = [\"a\", \"b\", \"c\"]\n",
    "print(m[0])\n",
    "print(m[2])"
   ]
  },
  {
   "cell_type": "markdown",
   "id": "8f3197c1",
   "metadata": {},
   "source": [
    "Suppose instead we have `m = [[\"a\", \"b\"], [\"c\", \"d\"]]`.  Now `m` is \n",
    "a list of lists of strings.  Now `m[1]` is `[\"c\", \"d\"]`.  If we \n",
    "wanted to access the first element of the second sublist, we can \n",
    "write `m[1][0]` to first index `m` to get `[\"c\", \"d\"]` and then \n",
    "index `[\"c\", \"d\"]` to get `\"c\"`."
   ]
  },
  {
   "cell_type": "code",
   "execution_count": 3,
   "id": "243c06a9",
   "metadata": {},
   "outputs": [
    {
     "name": "stdout",
     "output_type": "stream",
     "text": [
      "c\n"
     ]
    }
   ],
   "source": [
    "m = [[\"a\", \"b\"], [\"c\", \"d\"]]\n",
    "print(m[1][0])"
   ]
  },
  {
   "cell_type": "markdown",
   "id": "30082844",
   "metadata": {},
   "source": [
    "We can determine how many elements are in `m` with `len(m)`.  Note \n",
    "that even if a list contains other lists, `len` counts each element \n",
    "just once (not elements of the sublists)."
   ]
  },
  {
   "cell_type": "code",
   "execution_count": 4,
   "id": "654f17cc",
   "metadata": {},
   "outputs": [
    {
     "name": "stdout",
     "output_type": "stream",
     "text": [
      "5\n",
      "2\n"
     ]
    }
   ],
   "source": [
    "m = [\"a\", \"b\", \"c\", \"d\", \"e\"]\n",
    "print(len(m))\n",
    "r = [[\"a\", \"b\", \"c\"], [\"d\", \"e\", \"f\"]]\n",
    "print(len(r))"
   ]
  },
  {
   "cell_type": "markdown",
   "id": "d6e31adf",
   "metadata": {},
   "source": [
    "There are two main ways to iterate (loop) through the values of a \n",
    "list.  The simplest is the way we will use most often:  We can ask a \n",
    "`for` loop to iterate through the elements of the list, like this:"
   ]
  },
  {
   "cell_type": "code",
   "execution_count": 5,
   "id": "f68b0225",
   "metadata": {},
   "outputs": [
    {
     "name": "stdout",
     "output_type": "stream",
     "text": [
      "one\n",
      "two\n",
      "three\n"
     ]
    }
   ],
   "source": [
    "m = [\"one\", \"two\", \"three\"]\n",
    "for s in m: \n",
    "    print(s)\n",
    "    # or do anything else with s in the body of the loop"
   ]
  },
  {
   "cell_type": "markdown",
   "id": "5a33253b",
   "metadata": {},
   "source": [
    "Later we will use other approaches, usually because we need to know \n",
    "the position (index) of each element in addition to its value.  In \n",
    "that case we might write something like"
   ]
  },
  {
   "cell_type": "code",
   "execution_count": 6,
   "id": "ea5e73ab",
   "metadata": {},
   "outputs": [
    {
     "name": "stdout",
     "output_type": "stream",
     "text": [
      "0 one\n",
      "1 two\n",
      "2 three\n"
     ]
    }
   ],
   "source": [
    "for s_i in range(len(m)):\n",
    "    s = m[s_i]\n",
    "    print(s_i, s)"
   ]
  },
  {
   "cell_type": "markdown",
   "id": "286f899d",
   "metadata": {},
   "source": [
    "In the code snippet above, we have used an arbitrary variable name \n",
    "`s` for elements of `m`.  In an application, we would try to use a \n",
    "more meaningful name.  We are also free to choose the name of the \n",
    "index variable.  Python does not require that they be related at all.\n",
    "I have chosen `s_i` to suggest that it is the _index for `s`_.  You \n",
    "are not required to use such a convention, but in general it is a \n",
    "good idea to help a reader of your code see the meanings and \n",
    "relationships among your variables.\n",
    "\n",
    "What if we have _nested lists_, i.e., lists within lists?  They \n",
    "often call for _nested loops_, loops within loops.  Suppose for \n",
    "example we have `m = [[\"a\", \"b\"], [\"c\", \"d\"]]`.  We often think of \n",
    "such nested lists as a grid or matrix in which each sublist is a row:\n",
    "\n",
    "|     |     | \n",
    "|-----|-----|\n",
    "| \"a\" | \"b\" |\n",
    "| \"c\" | \"d\" |\n",
    "\n",
    "If we wanted to \n",
    "print all the strings in the sub-lists of `m`, we might write \n",
    "something like"
   ]
  },
  {
   "cell_type": "code",
   "execution_count": 7,
   "id": "7c7bfce6",
   "metadata": {},
   "outputs": [
    {
     "name": "stdout",
     "output_type": "stream",
     "text": [
      "a\n",
      "b\n",
      "c\n",
      "d\n"
     ]
    }
   ],
   "source": [
    "m = [[\"a\", \"b\"], [\"c\", \"d\"]]\n",
    "for row in m:\n",
    "    for s in row:\n",
    "        print(s)"
   ]
  },
  {
   "cell_type": "markdown",
   "id": "cb959224",
   "metadata": {},
   "source": [
    "This order of access is called _row-major order_. \n",
    "We might wonder whether we \n",
    "can iterate through `m` in _column-major order_, i.e., down the \n",
    " first column and then down the second column.  We can, but \n",
    "it's a little more complex:"
   ]
  },
  {
   "cell_type": "code",
   "execution_count": 8,
   "id": "0752ff6e",
   "metadata": {},
   "outputs": [
    {
     "name": "stdout",
     "output_type": "stream",
     "text": [
      "0 0 a\n",
      "1 0 c\n",
      "0 1 b\n",
      "1 1 d\n"
     ]
    }
   ],
   "source": [
    "for col_index in range(len(m[0])):\n",
    "    for row_index in range(len(m)):\n",
    "        print(row_index, col_index, m[row_index][col_index])"
   ]
  },
  {
   "cell_type": "markdown",
   "id": "7f11e5c1",
   "metadata": {},
   "source": [
    "Of course, this approach to looping in column major order works only \n",
    "if the matrix is _rectangular_, i.e., if every row (sub-list) has \n",
    "the same length.  It will also not work for a matrix with zero rows. \n",
    "\n",
    "## Tuples\n",
    "\n",
    "The term \"tuple\" comes from generalizing doubles (pairs), \n",
    "triples, quadruples, quintuples, etc., i.e., sequences of some fixed \n",
    "size.  Tuples are very similar to lists, but they\n",
    "are _immutable_.  We can \n",
    "create new tuples based on the contents of other tuples, but we \n",
    "cannot change the value or length of a tuple.\n",
    "\n",
    "To write a literal list value, we separate them by commas, usually \n",
    "in parentheses: \n",
    "\n",
    "`(\"a\", \"b\", \"c\")`.  \n",
    "\n",
    "We _cannot_ add elements to the end of a tuple, or anywhere else.  \n",
    "They are _immutable_.  \n",
    "\n",
    "While the elements of a tuple have _indexes_ like the elements of a \n",
    "list, and can be accessed in the same manner, we more typically access \n",
    "tuple elements by _destructuring_:"
   ]
  },
  {
   "cell_type": "code",
   "execution_count": 9,
   "id": "41865c81",
   "metadata": {},
   "outputs": [
    {
     "name": "stdout",
     "output_type": "stream",
     "text": [
      "Wesley\n",
      "Dread pirate Roberts\n",
      "As you wish\n"
     ]
    }
   ],
   "source": [
    "character = (\"Wesley\", \"Dread pirate Roberts\", \"As you wish\")\n",
    "name, alias, phrase = character\n",
    "print(name)\n",
    "print(alias)\n",
    "print(phrase)"
   ]
  },
  {
   "cell_type": "markdown",
   "id": "51632b4c",
   "metadata": {},
   "source": [
    "In principle we could loop through tuples in all the ways we loop \n",
    "through lists.  In practice that is rare.  Because tuples can never \n",
    "change after they have been created, destructuring is usually more \n",
    "appropriate, even for nested tuples:"
   ]
  },
  {
   "cell_type": "code",
   "execution_count": 10,
   "id": "5fba4275",
   "metadata": {},
   "outputs": [
    {
     "name": "stdout",
     "output_type": "stream",
     "text": [
      "Portland International\n",
      "45.589\n",
      "-122.596\n"
     ]
    }
   ],
   "source": [
    "pdx = (\"Portland International\", (45.589,-122.596))\n",
    "name, (lat, lon) = pdx\n",
    "print(name)\n",
    "print(lat)\n",
    "print(lon)"
   ]
  },
  {
   "cell_type": "markdown",
   "id": "db87ed8f",
   "metadata": {},
   "source": [
    "## Dictionaries\n",
    "\n",
    "While lists and tuples represent sequences, dictionaries (type `dict`)\n",
    "represent _associations_ between a set of _keys_ and a set of \n",
    "_values_.   We can think of them as \"lookup tables\".  For example, \n",
    "we might have a `dict` that associates postal abbreviations with the \n",
    "names of U.S. states: \n",
    "\n",
    "| | |\n",
    "| ----- | --------- |\n",
    "| WA | Washington |\n",
    "| OR | Oregon |\n",
    "| CA | California |\n",
    "| AK | Alaska |\n",
    "\n",
    "We can write a `dict` literal using curly braces and associating \n",
    "each key to a value with `:`.  We can then \"look up\" an association \n",
    "by treating the key as an index."
   ]
  },
  {
   "cell_type": "code",
   "execution_count": 11,
   "id": "1ac327b8",
   "metadata": {},
   "outputs": [
    {
     "name": "stdout",
     "output_type": "stream",
     "text": [
      "Oregon\n"
     ]
    }
   ],
   "source": [
    "state_abbrevs = {\n",
    "    \"WA\": \"Washington\",\n",
    "    \"OR\": \"Oregon\", \n",
    "    \"CA\": \"California\", \n",
    "    \"AK\": \"Arkansas\"\n",
    "    }\n",
    "    \n",
    "or_state = state_abbrevs[\"OR\"]\n",
    "print(or_state)"
   ]
  },
  {
   "cell_type": "markdown",
   "id": "2338b479",
   "metadata": {},
   "source": [
    "We can add a new (key, value) pair to a `dict` using the key as an \n",
    "index."
   ]
  },
  {
   "cell_type": "code",
   "execution_count": 12,
   "id": "8d8b1e55",
   "metadata": {},
   "outputs": [],
   "source": [
    "state_abbrevs[\"NV\"] = \"Nevada\""
   ]
  },
  {
   "cell_type": "markdown",
   "id": "aafbc03e",
   "metadata": {},
   "source": [
    "The keys in a `dict` are unique.  If we associate a new value with \n",
    "key, the old (key, value) association is replaced."
   ]
  },
  {
   "cell_type": "code",
   "execution_count": 13,
   "id": "d6d68a47",
   "metadata": {},
   "outputs": [
    {
     "name": "stdout",
     "output_type": "stream",
     "text": [
      "{'WA': 'Washington', 'OR': 'Oregon', 'CA': 'California', 'AK': 'Alaska', 'NV': 'Nevada'}\n",
      "Alaska\n"
     ]
    }
   ],
   "source": [
    "state_abbrevs[\"AK\"] = \"Alaska\"\n",
    "print(state_abbrevs)\n",
    "print(state_abbrevs[\"AK\"])"
   ]
  },
  {
   "cell_type": "markdown",
   "id": "30f1b61b",
   "metadata": {},
   "source": [
    "The values in a `dict` can be any data type, but the keys must be \n",
    "_hashable_, which in practice means that you should use _immutable_ \n",
    "values as dictionary keys.  While we most often use strings as \n",
    "dictionary keys, integers and tuples are also acceptable.  Lists \n",
    "cannot be dictionary keys."
   ]
  },
  {
   "cell_type": "code",
   "execution_count": 14,
   "id": "157de30e",
   "metadata": {},
   "outputs": [
    {
     "name": "stdout",
     "output_type": "stream",
     "text": [
      "B\n"
     ]
    }
   ],
   "source": [
    "good_dict = { (1, \"Alpha\"): \"A\", (2, \"Beta\"): \"B\" }\n",
    "print(good_dict[(2, \"Beta\")])"
   ]
  },
  {
   "cell_type": "code",
   "execution_count": 15,
   "id": "1c2e1e7b",
   "metadata": {
    "tags": [
     "raises-exception"
    ]
   },
   "outputs": [
    {
     "ename": "TypeError",
     "evalue": "unhashable type: 'list'",
     "output_type": "error",
     "traceback": [
      "\u001b[0;31m---------------------------------------------------------------------------\u001b[0m",
      "\u001b[0;31mTypeError\u001b[0m                                 Traceback (most recent call last)",
      "Input \u001b[0;32mIn [15]\u001b[0m, in \u001b[0;36m<cell line: 1>\u001b[0;34m()\u001b[0m\n\u001b[0;32m----> 1\u001b[0m bad_dict \u001b[38;5;241m=\u001b[39m { [\u001b[38;5;241m1\u001b[39m, \u001b[38;5;124m\"\u001b[39m\u001b[38;5;124mAlpha\u001b[39m\u001b[38;5;124m\"\u001b[39m]: \u001b[38;5;124m\"\u001b[39m\u001b[38;5;124mA\u001b[39m\u001b[38;5;124m\"\u001b[39m, [\u001b[38;5;241m2\u001b[39m, \u001b[38;5;124m\"\u001b[39m\u001b[38;5;124mBeta\u001b[39m\u001b[38;5;124m\"\u001b[39m]: \u001b[38;5;124m\"\u001b[39m\u001b[38;5;124mB\u001b[39m\u001b[38;5;124m\"\u001b[39m }\n\u001b[1;32m      2\u001b[0m \u001b[38;5;28mprint\u001b[39m(bad_dict[[\u001b[38;5;241m2\u001b[39m, \u001b[38;5;124m\"\u001b[39m\u001b[38;5;124mBeta\u001b[39m\u001b[38;5;124m\"\u001b[39m]])\n",
      "\u001b[0;31mTypeError\u001b[0m: unhashable type: 'list'"
     ]
    }
   ],
   "source": [
    "bad_dict = { [1, \"Alpha\"]: \"A\", [2, \"Beta\"]: \"B\" }\n",
    "print(bad_dict[[2, \"Beta\"]])"
   ]
  },
  {
   "cell_type": "markdown",
   "id": "95595d0a",
   "metadata": {},
   "source": [
    "The `in` operation tests whether a `dict` contains a key:"
   ]
  },
  {
   "cell_type": "code",
   "execution_count": 16,
   "id": "472eb71c",
   "metadata": {},
   "outputs": [
    {
     "name": "stdout",
     "output_type": "stream",
     "text": [
      "TX expansion not found\n"
     ]
    }
   ],
   "source": [
    "if \"TX\" in state_abbrevs:\n",
    "    print(state_abbrevs[\"TX\"])\n",
    "else: \n",
    "    print(\"TX expansion not found\")"
   ]
  },
  {
   "cell_type": "markdown",
   "id": "62f39a7e",
   "metadata": {},
   "source": [
    "We cannot directly iterate a `dict`, but we can obtain a list of key \n",
    "values with the `keys` method or a list of (key, value) pairs \n",
    "(tuples) with the `items` method of type `dict`."
   ]
  },
  {
   "cell_type": "code",
   "execution_count": 17,
   "id": "b2379d85",
   "metadata": {},
   "outputs": [
    {
     "name": "stdout",
     "output_type": "stream",
     "text": [
      "WA\n",
      "OR\n",
      "CA\n",
      "AK\n",
      "NV\n"
     ]
    }
   ],
   "source": [
    "for abbrev in state_abbrevs.keys():\n",
    "    print(abbrev)"
   ]
  },
  {
   "cell_type": "markdown",
   "id": "e8a51367",
   "metadata": {},
   "source": [
    "Since the elements in the list returned by the `items` method are \n",
    "tuples, it is common to _destructure_ them into separate variables \n",
    "for each key and value:"
   ]
  },
  {
   "cell_type": "code",
   "execution_count": 18,
   "id": "3b283820",
   "metadata": {},
   "outputs": [
    {
     "name": "stdout",
     "output_type": "stream",
     "text": [
      "WA Washington\n",
      "OR Oregon\n",
      "CA California\n",
      "AK Alaska\n",
      "NV Nevada\n"
     ]
    }
   ],
   "source": [
    "for kv_pair in state_abbrevs.items(): \n",
    "    abbrev, name = kv_pair\n",
    "    print(abbrev, name)"
   ]
  },
  {
   "cell_type": "markdown",
   "id": "98652eb7",
   "metadata": {},
   "source": [
    "The destructuring can be done right in the `for` statement, like this:"
   ]
  },
  {
   "cell_type": "code",
   "execution_count": 19,
   "id": "fdd4b9e9",
   "metadata": {},
   "outputs": [
    {
     "name": "stdout",
     "output_type": "stream",
     "text": [
      "WA Washington\n",
      "OR Oregon\n",
      "CA California\n",
      "AK Alaska\n",
      "NV Nevada\n"
     ]
    }
   ],
   "source": [
    "for abbrev, name in state_abbrevs.items():\n",
    "    print(abbrev, name)"
   ]
  },
  {
   "cell_type": "markdown",
   "id": "544fbf91",
   "metadata": {},
   "source": [
    "## Loops\n",
    "\n",
    "### Counting\n",
    "\n",
    "A very common programming task is to count elements in a collection. \n",
    "If we just need to know the size of the collection, in Python we can \n",
    "use the `len` method, e.g.,"
   ]
  },
  {
   "cell_type": "code",
   "execution_count": 20,
   "id": "e3d21297",
   "metadata": {},
   "outputs": [
    {
     "name": "stdout",
     "output_type": "stream",
     "text": [
      "5\n"
     ]
    }
   ],
   "source": [
    "print(len(state_abbrevs))"
   ]
  },
  {
   "cell_type": "markdown",
   "id": "6d145ef2",
   "metadata": {},
   "source": [
    "Often we want to count only elements that satisfy some \n",
    "condition.  For example, suppose for some reason we wanted to \n",
    "determine how many elements of a list of strings are state \n",
    "abbreviations:"
   ]
  },
  {
   "cell_type": "code",
   "execution_count": 21,
   "id": "823e6526",
   "metadata": {},
   "outputs": [
    {
     "name": "stdout",
     "output_type": "stream",
     "text": [
      "2\n"
     ]
    }
   ],
   "source": [
    "abbrevs = [\"CO\", \"OR\", \"WA\", \"MD\"]\n",
    "states_count = 0\n",
    "for ab in abbrevs:\n",
    "    if ab in state_abbrevs:\n",
    "        states_count = states_count + 1\n",
    "print(states_count) "
   ]
  },
  {
   "cell_type": "markdown",
   "id": "13ddbdb2",
   "metadata": {},
   "source": [
    "Note the pattern:  We initialize the count _before_ the loop, \n",
    "add to it _within_ the loop, and do something with the result \n",
    "_after_ the whole loop is complete.  \n",
    "\n",
    "### Counting multiple values\n",
    "\n",
    "The counting pattern we have considered so far keeps a count of one \n",
    "thing in a variable.  What if we wanted to keep a count of several \n",
    "different values?   For example, what if we wanted to know that\n",
    "`['dog', 'dog', 'cat', 'dog', 'cat']` is three dogs and two cats? \n",
    "We might not even know that the list will contain only dogs and cats \n",
    "... someone might have snuck in a squirrel or a marmoset or some \n",
    "other random animal.  Since we don't know what values we will \n",
    "encounter, we can't create a count variable for each one.  What we \n",
    "can do, however, is use a `dict` to keep a collection of count \n",
    "variables."
   ]
  },
  {
   "cell_type": "code",
   "execution_count": 22,
   "id": "42c954b3",
   "metadata": {},
   "outputs": [
    {
     "name": "stdout",
     "output_type": "stream",
     "text": [
      "{'dog': 3, 'cat': 2, 'orca': 1}\n"
     ]
    }
   ],
   "source": [
    "animals = ['dog', 'dog', 'cat', 'orca', 'dog', 'cat']\n",
    "counts = { }\n",
    "for animal in animals: \n",
    "    if animal in counts:\n",
    "        counts[animal] += 1\n",
    "    else:\n",
    "        # First time we've encountered this one! \n",
    "        counts[animal] = 1\n",
    "print(counts)"
   ]
  },
  {
   "cell_type": "markdown",
   "id": "3f8cdb2a",
   "metadata": {},
   "source": [
    "### Summing \n",
    "\n",
    "To count items, we always add 1 to the count for each item that \n",
    "satisfies the condition (e.g., items that appear as keys in \n",
    "`state_abbrevs`).    Summing values is almost the same, except \n",
    "instead of adding 1 for each item, we add the relevant value."
   ]
  },
  {
   "cell_type": "code",
   "execution_count": 23,
   "id": "14d1a577",
   "metadata": {},
   "outputs": [
    {
     "name": "stdout",
     "output_type": "stream",
     "text": [
      "576144\n"
     ]
    }
   ],
   "source": [
    "populations = {\n",
    "    \"Portland\":   641_162,\n",
    "    \"Salem\":      177_723,\n",
    "    \"Eugene\":\t  175_096,\n",
    "    \"Gresham\":\t  113_103,\n",
    "    \"Hillsboro\":  106_633,\n",
    "    \"Bend\":       102_059,\n",
    "    \"Beaverton\":   98_216,\n",
    "    \"Medford\":\t   86_367,\n",
    "    \"Springfield\": 62_256,\n",
    "    \"Corvallis\":   59_864,\n",
    "    \"Albany\":\t   56_828,\n",
    "    \"Tigard\":\t   55_767,\n",
    "    \"Aloha\":\t   53_724\n",
    "}\n",
    "itinerary = [\"Eugene\", \"Corvallis\", \"Albany\", \"Salem\", \"Hillsboro\"]\n",
    "\n",
    "pop_sum = 0\n",
    "for town in itinerary:\n",
    "    pop_sum += populations[town]\n",
    "print(pop_sum)"
   ]
  },
  {
   "cell_type": "markdown",
   "id": "06b49d2d",
   "metadata": {},
   "source": [
    "For either counting or summing, it is idiomatic to use the `+=` \n",
    "operation to clearly communicate that the purpose of the \n",
    "incrementing statement.\n",
    "\n",
    "### Scanning\n",
    "\n",
    "Another common task is to determine whether _some_ or _all_ elements \n",
    "of a collection satisfy some condition. For example, if we wanted \n",
    "to determine whether all the towns on an itinerary were included in \n",
    "a table, we might write:"
   ]
  },
  {
   "cell_type": "code",
   "execution_count": 24,
   "id": "b23877e8",
   "metadata": {},
   "outputs": [
    {
     "name": "stdout",
     "output_type": "stream",
     "text": [
      "True\n"
     ]
    }
   ],
   "source": [
    "all_present = True\n",
    "for town in itinerary: \n",
    "    if town not in populations: \n",
    "        all_present = False\n",
    "        break\n",
    "print(all_present)"
   ]
  },
  {
   "cell_type": "markdown",
   "id": "e01fe62e",
   "metadata": {},
   "source": [
    "The code above illustrates the general pattern to determine a _for \n",
    "all_ property: \n",
    "\n",
    "- Initially we assume the condition is true\n",
    "- If any element does _not_ satisfy the condition, we conclude the \n",
    "  property is false.  We do not need to look further (so we can \n",
    "  `break` from the loop).\n",
    "- The final answer is known _after_ the loop body.\n",
    "\n",
    "If we write a _for all_ scan as a function, the logic is similar, \n",
    "but we don't need an explicit `bool` variable:"
   ]
  },
  {
   "cell_type": "code",
   "execution_count": 25,
   "id": "da0893ee",
   "metadata": {},
   "outputs": [
    {
     "name": "stdout",
     "output_type": "stream",
     "text": [
      "True\n"
     ]
    }
   ],
   "source": [
    "def all_in_table(li: list, table: dict) -> bool: \n",
    "    \"\"\"True if all elements of li are keys in table\"\"\"\n",
    "    for elem in li:\n",
    "        if elem not in table: \n",
    "            return False\n",
    "    return True\n",
    "    \n",
    "print(all_in_table(itinerary, populations))"
   ]
  },
  {
   "cell_type": "markdown",
   "id": "9cfb5228",
   "metadata": {},
   "source": [
    "In this version of the _for all_ scan, an early `return` takes the \n",
    "place of the `break` from the loop, and the final `return True` \n",
    "takes the place of initializing a `bool` variable to `True`. \n",
    "\n",
    "We can also scan to determine whether _any_ elements in a \n",
    "collection satisfy a condition.  In terms of mathematical logic,\n",
    "we would call this a _there exists_ scan. \n",
    "Suppose we want to know whether at \n",
    "least one \n",
    "of the towns on our itinerary are among the most populous cities in \n",
    "Oregon, which are listed in our population table."
   ]
  },
  {
   "cell_type": "code",
   "execution_count": 26,
   "id": "cfaac854",
   "metadata": {},
   "outputs": [
    {
     "name": "stdout",
     "output_type": "stream",
     "text": [
      "True\n"
     ]
    }
   ],
   "source": [
    "reach_big_city = False\n",
    "for town in itinerary: \n",
    "    if town in populations: \n",
    "        reach_big_city = True\n",
    "        break\n",
    "print(reach_big_city)"
   ]
  },
  {
   "cell_type": "markdown",
   "id": "5f53a45e",
   "metadata": {},
   "source": [
    "In a _there exists_ scan, we can break from the loop as soon as we \n",
    "find any element that satisfies the criterion, but we must finish \n",
    "the whole loop to conclude that there are no satisfying elements. \n",
    "\n",
    "Like the _for all_ scan, a _there exists_ scan may be implemented as \n",
    "a function:"
   ]
  },
  {
   "cell_type": "code",
   "execution_count": 27,
   "id": "e5f0b500",
   "metadata": {},
   "outputs": [
    {
     "name": "stdout",
     "output_type": "stream",
     "text": [
      "True\n"
     ]
    }
   ],
   "source": [
    "def exists_in_table(li: list, table: dict) -> bool: \n",
    "    \"\"\"True if any elements of li are keys in table\"\"\"\n",
    "    for elem in li:\n",
    "        if elem in table: \n",
    "            return True\n",
    "    return False\n",
    "   \n",
    "print(exists_in_table(itinerary, populations))"
   ]
  },
  {
   "cell_type": "markdown",
   "id": "9f6a71db",
   "metadata": {},
   "source": [
    "Once again, initialization of the boolean variable and the break \n",
    "from the loop are replaced with `return` statements in appropriate \n",
    "places. \n",
    "\n",
    "## Other iterables\n",
    "\n",
    "We have already seen at least one other type of Python data type \n",
    "with behavior similar to lists:  After opening a file, we can \n",
    "iterate (loop) through it line by line.  You can also loop through \n",
    "the characters in a string:"
   ]
  },
  {
   "cell_type": "code",
   "execution_count": 28,
   "id": "7022666d",
   "metadata": {},
   "outputs": [
    {
     "name": "stdout",
     "output_type": "stream",
     "text": [
      "W\n",
      "h\n",
      "a\n",
      "t\n",
      "?\n"
     ]
    }
   ],
   "source": [
    "s = \"What?\"\n",
    "for ch in s:\n",
    "    print(ch)"
   ]
  },
  {
   "cell_type": "markdown",
   "id": "e6ca4419",
   "metadata": {},
   "source": [
    "There are more.  In Python, \"things you can loop through\" are called \n",
    "_iterables_.  When we loop through indexes for a list `l` using `range\n",
    "(len(l))`, we are actually iterating through elements of a `range` \n",
    "object:"
   ]
  },
  {
   "cell_type": "code",
   "execution_count": 29,
   "id": "48119f79",
   "metadata": {},
   "outputs": [
    {
     "name": "stdout",
     "output_type": "stream",
     "text": [
      "0\n",
      "1\n",
      "2\n"
     ]
    }
   ],
   "source": [
    "for e in range(3):\n",
    "    print(e)"
   ]
  },
  {
   "cell_type": "markdown",
   "id": "a3635ade",
   "metadata": {},
   "source": [
    "It is even possible to create new kinds of collection \n",
    "that you can loop through, but we won't do that in this course. \n",
    "\n",
    "## Project\n",
    "\n",
    "The [project for this week](https://github.com/UO-CS210/enrollment) \n",
    "asks you to produce a summary report from a class roster. It uses \n",
    "lists, dictionaries, and tuples, as well"
   ]
  }
 ],
 "metadata": {
  "jupytext": {
   "formats": "md:myst",
   "text_representation": {
    "extension": ".myst",
    "format_name": "myst",
    "format_version": 1.1,
    "jupytext_version": "1.10.3"
   }
  },
  "kernelspec": {
   "display_name": "Python 3",
   "language": "python",
   "name": "python3"
  },
  "language_info": {
   "codemirror_mode": {
    "name": "ipython",
    "version": 3
   },
   "file_extension": ".py",
   "mimetype": "text/x-python",
   "name": "python",
   "nbconvert_exporter": "python",
   "pygments_lexer": "ipython3",
   "version": "3.10.2"
  },
  "source_map": [
   13,
   64,
   70,
   75,
   79,
   87,
   90,
   96,
   101,
   107,
   112,
   118,
   122,
   147,
   152,
   160,
   164,
   191,
   197,
   204,
   210,
   231,
   241,
   246,
   248,
   253,
   257,
   265,
   269,
   274,
   278,
   283,
   289,
   292,
   298,
   302,
   306,
   309,
   319,
   321,
   328,
   335,
   354,
   364,
   373,
   395,
   408,
   415,
   429,
   438,
   452,
   459,
   468,
   477,
   490,
   494,
   501,
   504
  ]
 },
 "nbformat": 4,
 "nbformat_minor": 5
}