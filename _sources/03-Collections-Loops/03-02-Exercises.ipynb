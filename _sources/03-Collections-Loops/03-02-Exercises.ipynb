{
 "cells": [
  {
   "cell_type": "markdown",
   "id": "d326120b",
   "metadata": {},
   "source": [
    "# Exercises\n",
    "\n",
    "Check your understanding. These exercises are taken from old exams, \n",
    "which implies that you \n",
    "should be able to complete them pretty quickly. \n",
    "\n",
    "1. Finish function `count_ge` \n",
    "\n",
    "```python\n",
    "def count_ge(nums: list[int], at_least: int) -> int:\n",
    "    \"\"\"Returns a count of elements in nums whose value is\n",
    "    at least (>=)  at_least.\n",
    "    \"\"\"\n",
    "    return 0  # FIXME\n",
    "\n",
    "print(count_ge([1, 2, 3, 4, 5], 3))  # Expecting 3\n",
    "print(count_ge([-10, 17, -3, 5], 0)) # Expecting 2\n",
    "print(count_ge([], 0))  # Expecting 0\n",
    "print(count_ge([7, 12, 17], 99))  # Expecting 0\n",
    "```\n",
    "\n",
    "2. Complete function `longest_word`.\n",
    "Recall that `len(s)` returns the length of string `s`. \n",
    "\n",
    "```python\n",
    "def longest_word(words: list[str]) -> str:\n",
    "    \"\"\"Return the longest element of words, which must be a\n",
    "    non-empty list of strings.  In case of a tie, return the\n",
    "    first of the longest elements.\n",
    "    \"\"\"\n",
    "    return \"NOT IMPLEMENTED YET\"  # FIXME\n",
    "    \n",
    "\n",
    "print(longest_word(['we', 'know', 'how', 'to', 'select', 'extremes']))\n",
    "# Expect 'extremes'\n",
    "\n",
    "print(longest_word(['we', 'already', 'know', 'how']))\n",
    "# Expect 'already'\n",
    "\n",
    "print(longest_word(['really?']))\n",
    "# Expect 'really?'\n",
    "```\n",
    "\n",
    "3. We classify some letters as vowels, others as consonants.\n",
    "Some characters (such as \"-\") are neither vowels nor consonants.\n",
    "In this problem, you are given a function `is_vowel`, which you\n",
    "must use.  \n",
    "\n",
    "You will write function vowel_ratio, which returns\n",
    "the ratio of vowels to string length as a floating point number.\n",
    "For example, \"bash\" has one vowel and three characters that are not\n",
    "vowels, so its vowel_ratio is 1/4 or 0.25.  \n",
    "\n",
    "All strings passed to vowel_ratio will have at least one character.\n",
    "\n",
    "```python\n",
    "def is_vowel(s: str) -> bool:\n",
    "    \"\"\"Returns true if and only if s is a vowel\"\"\"\n",
    "    return (s.lower() in \"aeiou\")\n",
    "\n",
    "def vowel_ratio(s: str) -> float:\n",
    "    \"\"\"Returns the fraction between 0.0 and 1.0 of characters\n",
    "    ch in s, a non-empty string,  for which is_vowel(ch) is true.\n",
    "    \"\"\"\n",
    "    return 0  # FIXME\n",
    "\n",
    "print(vowel_ratio(\"bear\"))   # Expect 0.5\n",
    "print(vowel_ratio(\"honey\"))  # Expect 0.4\n",
    "print(vowel_ratio(\"xXx\"))    # Expect 0.0\n",
    "print(vowel_ratio(\"aAa\"))    # Expect 1.0\n",
    "```\n",
    "\n",
    "4. Complete function `count_one_value`. \n",
    "\n",
    "```python\n",
    "def count_one_value(k: str, li: list[str]) -> int:\n",
    "    \"\"\"How many occurrences of k are in li?\"\"\"\n",
    "    return 0  # FIXME\n",
    "\n",
    "\n",
    "print(count_one_value(\"duck\", [\"duck\", \"goose\", \"duck\", \"duck\"]))\n",
    "# Expect 3\n",
    "print(count_one_value(\"t-rex\", [\"duck\", \"goose\", \"duck\", \"duck\"]))\n",
    "# Expect 0\n",
    "```\n",
    "\n",
    "5. Complete function `count_all_values`. \n",
    "\n",
    "```python\n",
    "def count_all_values(li: list[str]) -> dict[str, int]:\n",
    "    \"\"\"Returns dict with counts of strings in li.\n",
    "    \"\"\"\n",
    "    return {}  # FIXME\n",
    "\n",
    "print(count_all_values([\"carrot\", \"chocolate\", \"carrot\", \"strawberry\"]))\n",
    "# Expect {'carrot': 2, 'chocolate': 1, 'strawberry': 1}\n",
    "\n",
    "print(count_all_values([]))\n",
    "# Expect {}\n",
    "```\n",
    "\n",
    "6. Complete function `select_by_value`. \n",
    "\n",
    "```python\n",
    "def select_by_value(min_val: int, li: list[str], values: dict[str, int]) -> list[str]:\n",
    "    \"\"\"Returns list of elements of li associated with a value at least min_val in values.\n",
    "    (Assume all elements in li are keys in values)\n",
    "    \"\"\"\n",
    "    return []  # FIXME\n",
    "\n",
    "\n",
    "print(select_by_value(5, [\"dog\", \"cat\", \"rabbit\"], {\"cat\": 7, \"rabbit\": 3, \"dog\": 9}))\n",
    "# Expect ['dog', 'cat']\n",
    "\n",
    "print(select_by_value(17, [\"dog\", \"cat\", \"rabbit\"], {\"cat\": 12, \"rabbit\": 4, \"dog\": 9}))\n",
    "# Expect []\n",
    "```\n",
    "\n",
    "## Answers to Exercises\n",
    "\n",
    "1. Here is one possible way to finish `count_ge`"
   ]
  },
  {
   "cell_type": "code",
   "execution_count": 1,
   "id": "fec1e469",
   "metadata": {},
   "outputs": [
    {
     "name": "stdout",
     "output_type": "stream",
     "text": [
      "3\n",
      "2\n",
      "0\n",
      "0\n"
     ]
    }
   ],
   "source": [
    "def count_ge(nums: list[int], at_least: int) -> int:\n",
    "    \"\"\"Returns a count of elements in nums whose value is\n",
    "    at least (>=)  at_least.\n",
    "    \"\"\"\n",
    "    count = 0\n",
    "    for n in nums: \n",
    "        if n >= at_least:\n",
    "            count += 1\n",
    "    return count\n",
    "\n",
    "print(count_ge([1, 2, 3, 4, 5], 3))  # Expecting 3\n",
    "print(count_ge([-10, 17, -3, 5], 0)) # Expecting 2\n",
    "print(count_ge([], 0))  # Expecting 0\n",
    "print(count_ge([7, 12, 17], 99))  # Expecting 0"
   ]
  },
  {
   "cell_type": "markdown",
   "id": "98d788d5",
   "metadata": {},
   "source": [
    "2. Here is a possible completion of  `longest_word`."
   ]
  },
  {
   "cell_type": "code",
   "execution_count": 2,
   "id": "0bc5deec",
   "metadata": {},
   "outputs": [
    {
     "name": "stdout",
     "output_type": "stream",
     "text": [
      "extremes\n",
      "already\n",
      "really?\n"
     ]
    }
   ],
   "source": [
    "def longest_word(words: list[str]) -> str:\n",
    "    \"\"\"Return the longest element of words, which must be a\n",
    "    non-empty list of strings.  In case of a tie, return the\n",
    "    first of the longest elements.\n",
    "    \"\"\"\n",
    "    longest = words[0]\n",
    "    for word in words:\n",
    "        if len(word) > len(longest):\n",
    "            longest = word\n",
    "    return longest\n",
    "    \n",
    "\n",
    "print(longest_word(['we', 'know', 'how', 'to', 'select', 'extremes']))\n",
    "# Expect 'extremes'\n",
    "\n",
    "print(longest_word(['we', 'already', 'know', 'how']))\n",
    "# Expect 'already'\n",
    "\n",
    "print(longest_word(['really?']))\n",
    "# Expect 'really?'"
   ]
  },
  {
   "cell_type": "markdown",
   "id": "22ca0698",
   "metadata": {},
   "source": [
    "3. Here is a function vowel_ratio, which returns\n",
    "the ratio of vowels to string length as a floating point number,\n",
    "using function `is_vowel`."
   ]
  },
  {
   "cell_type": "code",
   "execution_count": 3,
   "id": "676c867b",
   "metadata": {},
   "outputs": [
    {
     "name": "stdout",
     "output_type": "stream",
     "text": [
      "0.5\n",
      "0.4\n",
      "0.0\n",
      "1.0\n"
     ]
    }
   ],
   "source": [
    "def is_vowel(s: str) -> bool:\n",
    "    \"\"\"Returns true if and only if s is a vowel\"\"\"\n",
    "    return (s.lower() in \"aeiou\")\n",
    "\n",
    "def vowel_ratio(s: str) -> float:\n",
    "    \"\"\"Returns the fraction between 0.0 and 1.0 of characters\n",
    "    ch in s, a non-empty string,  for which is_vowel(ch) is true.\n",
    "    \"\"\"\n",
    "    vowel_count = 0\n",
    "    total_count = 0\n",
    "    for ch in s:\n",
    "        total_count += 1\n",
    "        if is_vowel(ch):\n",
    "            vowel_count += 1\n",
    "    return vowel_count / total_count\n",
    "\n",
    "\n",
    "print(vowel_ratio(\"bear\"))   # Expect 0.5\n",
    "print(vowel_ratio(\"honey\"))  # Expect 0.4\n",
    "print(vowel_ratio(\"xXx\"))    # Expect 0.0\n",
    "print(vowel_ratio(\"aAa\"))    # Expect 1.0"
   ]
  },
  {
   "cell_type": "markdown",
   "id": "845caa50",
   "metadata": {},
   "source": [
    "4.  Function `count_one_value`\n",
    "is an example of the _accumulator pattern_."
   ]
  },
  {
   "cell_type": "code",
   "execution_count": 4,
   "id": "4763a858",
   "metadata": {},
   "outputs": [
    {
     "name": "stdout",
     "output_type": "stream",
     "text": [
      "3\n",
      "0\n"
     ]
    }
   ],
   "source": [
    "def count_one_value(k: str, li: list[str]) -> int:\n",
    "    \"\"\"How many occurrences of k are in li?\"\"\"\n",
    "    count = 0\n",
    "    for el in li:\n",
    "        if el == k:\n",
    "            count += 1\n",
    "    return count  \n",
    "\n",
    "\n",
    "print(count_one_value(\"duck\", [\"duck\", \"goose\", \"duck\", \"duck\"]))\n",
    "# Expect 3\n",
    "print(count_one_value(\"t-rex\", [\"duck\", \"goose\", \"duck\", \"duck\"]))\n",
    "# Expect 0"
   ]
  },
  {
   "cell_type": "markdown",
   "id": "2431c46f",
   "metadata": {},
   "source": [
    "5.  `count_all_values` is a variation on our project for analyzing \n",
    "    class enrollments (just the counting part).  We can consider it \n",
    "    a variation on the accumulator pattern, but we are accumiulating \n",
    "    a count for each distinct string, using a `dict`."
   ]
  },
  {
   "cell_type": "code",
   "execution_count": 5,
   "id": "2102c6d9",
   "metadata": {},
   "outputs": [
    {
     "name": "stdout",
     "output_type": "stream",
     "text": [
      "{'carrot': 2, 'chocolate': 1, 'strawberry': 1}\n",
      "{}\n"
     ]
    }
   ],
   "source": [
    "def count_all_values(li: list[str]) -> dict[str, int]:\n",
    "    \"\"\"Returns dict with counts of strings in li.\n",
    "    \"\"\"\n",
    "    counts = {}\n",
    "    for el in li:\n",
    "        if el in counts:\n",
    "            counts[el] += 1\n",
    "        else:\n",
    "            counts[el] = 1\n",
    "    return counts\n",
    "\n",
    "print(count_all_values([\"carrot\", \"chocolate\", \"carrot\", \"strawberry\"]))\n",
    "# Expect {'carrot': 2, 'chocolate': 1, 'strawberry': 1}\n",
    "\n",
    "print(count_all_values([]))\n",
    "# Expect {}"
   ]
  },
  {
   "cell_type": "markdown",
   "id": "a47ac351",
   "metadata": {},
   "source": [
    "6. The pattern of `select_by_value` is sometimes called a _filter_.  \n",
    "   Be sure to solve it by building a new list with just the selected \n",
    "   items, and _not_ by removing elements from `li`. \n",
    "You need to put together a couple patterns you know\n",
    "(filtering a collection, using a `dict`) to solve a new problem.\n",
    "Computational problem solving often involves combining and customizing\n",
    "familiar patterns into novel forms."
   ]
  },
  {
   "cell_type": "code",
   "execution_count": 6,
   "id": "c826534d",
   "metadata": {},
   "outputs": [
    {
     "name": "stdout",
     "output_type": "stream",
     "text": [
      "['dog', 'cat']\n",
      "[]\n"
     ]
    }
   ],
   "source": [
    "def select_by_value(min_val: int, li: list[str], values: dict[str, int]) -> list[str]:\n",
    "    \"\"\"Returns list of elements of li associated with a value at least min_val in values.\n",
    "    (Assume all elements in li are keys in values)\n",
    "    \"\"\"\n",
    "    result = []\n",
    "    for el in li:\n",
    "        if values[el] >= min_val:\n",
    "            result.append(el)\n",
    "    return result\n",
    "\n",
    "\n",
    "print(select_by_value(5, [\"dog\", \"cat\", \"rabbit\"], {\"cat\": 7, \"rabbit\": 3, \"dog\": 9}))\n",
    "# Expect ['dog', 'cat']\n",
    "\n",
    "print(select_by_value(17, [\"dog\", \"cat\", \"rabbit\"], {\"cat\": 12, \"rabbit\": 4, \"dog\": 9}))\n",
    "# Expect []"
   ]
  },
  {
   "cell_type": "markdown",
   "id": "d5016151",
   "metadata": {},
   "source": [
    "A common mistake is making a sequential search of `values` for each\n",
    "element of `li`.   We use the\n",
    "`dict` data structure to avoid linear searches when we can. If we\n",
    "had 1000 elements in `li` and 1000 (key, value) pairs in\n",
    "`values`, the nested loops for sequentially searching\n",
    "`values` would require 1,000,000 comparisons, while looking up\n",
    "values with dictionary access `if values[item] >= min_value:`\n",
    "would require only 1000 dictionary lookups.  Any time you see a \n",
    "`dict`, you should expect that it is there so that we can access \n",
    "items directly by key rather than making a linear search of the \n",
    "structure."
   ]
  }
 ],
 "metadata": {
  "jupytext": {
   "formats": "md:myst",
   "text_representation": {
    "extension": ".myst",
    "format_name": "myst",
    "format_version": 1.1,
    "jupytext_version": "1.10.3"
   }
  },
  "kernelspec": {
   "display_name": "Python 3",
   "language": "python",
   "name": "python3"
  },
  "language_info": {
   "codemirror_mode": {
    "name": "ipython",
    "version": 3
   },
   "file_extension": ".py",
   "mimetype": "text/x-python",
   "name": "python",
   "nbconvert_exporter": "python",
   "pygments_lexer": "ipython3",
   "version": "3.13.1"
  },
  "source_map": [
   13,
   136,
   151,
   155,
   176,
   182,
   204,
   209,
   223,
   230,
   247,
   258,
   275
  ]
 },
 "nbformat": 4,
 "nbformat_minor": 5
}