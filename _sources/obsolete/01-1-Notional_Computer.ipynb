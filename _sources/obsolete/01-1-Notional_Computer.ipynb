{
 "cells": [
  {
   "cell_type": "markdown",
   "id": "639cad7c",
   "metadata": {},
   "source": [
    "# A Notional Computer\n",
    "\n",
    "As you learn to construct useful programs in Python, you will need a\n",
    "clear mental model of how your Python programs work.  At first this\n",
    "may seem trivial, and hardly any improvement over remembering the\n",
    "observable effects of particular sequences of commands.  As you tackle\n",
    "larger problems, a clear and accurate mental model will become more \n",
    "and more helpful.  It will be the difference between a huge and \n",
    "disordered set of particulars, beyond the capacity of human memory, \n",
    "and a much smaller, systematic set of basic understandings into \n",
    "which it is easier to fit one more piece.\n",
    "\n",
    "Depending on your background in computing, much of this chapter may \n",
    "be review for you.  If you have learned to program in a different \n",
    "programming \n",
    "language, such as C or Java or Javascript, you may note some \n",
    "differences between concepts you are familiar with and our notional \n",
    "Python computer.  But even if you have programmed before in Python, \n",
    "and feel that you have a good grasp of basic concepts such as \n",
    "variables and types, you should read this chapter with some care to \n",
    "ensure that your mental model is consistent with the model that we \n",
    "will rely upon as we dive deeper into computational problem solving \n",
    "through Python programming. \n",
    "\n",
    "\n",
    "## Languages present notional computers \n",
    "\n",
    "A programming language presents us an abstraction of a physical \n",
    "computer.  By _abstraction_ I mean that it hides (\"abstracts \n",
    "away\") certain details,\n",
    "such as whether you are using a computer with a central processing \n",
    "unit (CPU) based in the Intel x86 series, a computer with a CPU\n",
    "based on the Arm architecture, or perhaps some other processor that\n",
    "hasn't even been invented yet.  \n",
    "\n",
    "Each programming language presents us a _notional_ computer that can \n",
    "be implemented on several different kinds of computer hardware. \n",
    "Because we can program in a language, and not for a particular \n",
    "collection of circuits, it is possible to _learn to program_, and \n",
    "not only _learn to program this particular machine_.  \n",
    "\n",
    "The notional computers presented by different programming languages, \n",
    "such as Python, Javascript, Java, and C++, differ in some \n",
    "important ways, yet have many things in common.  As your \n",
    "knowledge grows, you will likely use several languages, sometimes \n",
    "even on the same project.  A clear understanding of what those \n",
    "notional computers have in common will help you transfer your \n",
    "understanding of programming in one language to others.  A clear \n",
    "understanding of their differences will help you keep them straight, \n",
    "choose well, and use them together.  \n",
    "\n",
    "For now it is best to focus on a single programming language and the \n",
    "notional computer it presents us.  We have chosen Python as a first \n",
    "language because it presents an exceptionally \n",
    "simple and uniform notional computer.  In particular we will use\n",
    "version 3.10 or greater of Python. We will occasionally note ways \n",
    "in which the Python notional computer resembles that of other \n",
    "languages, and ways in which it differs from languages that you may \n",
    "already be familiar with or that you are likely to use in the future. \n",
    "\n",
    "## The Python Notional Computer\n",
    "\n",
    "A notional computer is like a building toy, perhaps wooden\n",
    "blocks, Legos, or Tinker Toys. The kit comes \n",
    "with a handful of basic\n",
    "parts that can be combined to build an unlimited\n",
    "set of more complex structures. A particular kit provides us both\n",
    "some basic parts and some ways of putting them together.  Likewise a \n",
    "programming language provides us some basic elements like objects of \n",
    "particular types, and ways of building up larger structures from them. \n",
    "A _program_ is like a set of directions for constructing and \n",
    "manipulating a structure, the _execution state_ of the running program.\n",
    "\n",
    "### Basic Python data types\n",
    "\n",
    "Python supports the following basic types (as well as some others).\n",
    "\n",
    "|  Python type |  Meaning  | Example |\n",
    "|--------------|-----------|---------|\n",
    "| int | Integer; represented precisely. | 42 |Python integers can be arbitrarily large |\n",
    "| float | Floating point, an approximation of a real number. | 3.1415 |\n",
    "| str | String, which is what we call text. Strings may contain many kinds of characters, including Ελληνικά and 漢子.| \"Hello world\" | \n",
    "| bool | Boolean (truth value) | False |\n",
    "\n",
    "Every value in Python has a type.  For example, `0` has type `int`, \n",
    "but `\"0\"` has type `str`.   The meaning of an operation like \n",
    "addition depends on the types of values.  To see this clearly, \n",
    "consider addition."
   ]
  },
  {
   "cell_type": "code",
   "execution_count": 1,
   "id": "b36829c5",
   "metadata": {},
   "outputs": [
    {
     "data": {
      "text/plain": [
       "'111222'"
      ]
     },
     "execution_count": 1,
     "metadata": {},
     "output_type": "execute_result"
    }
   ],
   "source": [
    "\"111\" + \"222\""
   ]
  },
  {
   "cell_type": "markdown",
   "id": "5859d51d",
   "metadata": {},
   "source": [
    "For strings (type `str`), addition means concatenation.  What \n",
    "happens if you remove the quotes, so that the code cell above is \n",
    "addition of `int` values instead of `str` values?  What if you make \n",
    "one of the values an integer, but not the other?   (Try it in IDLE \n",
    "or in the code cell above). \n",
    "\n",
    "Sometimes an operation on values of one type can produce a value \n",
    "of another type.  For example, the values `5` and `2` are both \n",
    "integers (type `int`).  What is the value of `5 / 2`?"
   ]
  },
  {
   "cell_type": "code",
   "execution_count": 2,
   "id": "3e18c43e",
   "metadata": {},
   "outputs": [
    {
     "data": {
      "text/plain": [
       "2.5"
      ]
     },
     "execution_count": 2,
     "metadata": {},
     "output_type": "execute_result"
    }
   ],
   "source": [
    "5 / 2"
   ]
  },
  {
   "cell_type": "markdown",
   "id": "51379a1a",
   "metadata": {},
   "source": [
    "Besides common arithmetic operations like `+` and `-`, the basic \n",
    "types have many built-in _functions_ like `max` and \n",
    "`round`.   For example, `max(5, 7)` and `max(7, 5)` both produce the \n",
    "value `7`.   We say call `5` and `7` the _arguments_ of the `max` \n",
    "function in this example, and we say it _returns_ 7.  \n",
    "\n",
    "Just as we can build complex expressions like `(5 + 3) / 2` by \n",
    "combining operations like `+` and `/`, we can use the result of one \n",
    "function as an argument to another, like `max(min(2, 3), 7)`.  We \n",
    "can also freely mix function calls and operations, like\n",
    "`max(3 + 7, 8)` or `min(3, 7) + len(\"Some text\")`. \n",
    "\n",
    "There is \n",
    "no difference between _arguments_ of a function like \"max\" and \n",
    "_operands_ of an operator like `+` except in how we write them."
   ]
  },
  {
   "cell_type": "code",
   "execution_count": 3,
   "id": "12169989",
   "metadata": {},
   "outputs": [
    {
     "data": {
      "text/plain": [
       "12"
      ]
     },
     "execution_count": 3,
     "metadata": {},
     "output_type": "execute_result"
    }
   ],
   "source": [
    "min(3, 7) + len(\"Some text\")"
   ]
  },
  {
   "cell_type": "markdown",
   "id": "fd478f5d",
   "metadata": {},
   "source": [
    "### Collections \n",
    "\n",
    "Python also gives us ways of combining values in composite \n",
    "objects, called _collections_.  \n",
    "\n",
    "### Lists \n",
    "\n",
    "The collections we will use most are _lists_, which are sequences of \n",
    "other values.  For example, `[1, 2, \"buckle my shoe\"]` is a list of\n",
    "three elements.  The first two elements are `int` (integer) objects and \n",
    "the \n",
    "third is a \n",
    "`str` (string) object.  The elements of\n",
    "a list may also be lists (we call this _nesting_, like matryoshka \n",
    "dolls).\n",
    "\n",
    "```{figure} img/800px-Matryoshka_transparent.png\n",
    ":height: 150px\n",
    ":name: Matryoshka\n",
    "\n",
    "Lists within lists are \"nested\", like nested dolls.  (Image by user \n",
    "Fanghong in Mediawiki commons, used under CC by SA license.) \n",
    "```\n",
    "\n",
    "We can _nest_ lists as deeply as we like. \n",
    "`[[\"corvids\", [\"crow\", \"raven\"]], [\"primates\", [\"lemur\", \"human\"]]]`\n",
    "denotes a list with two elements.  The first element of that list is a \n",
    "list with two elements, and the first element of _that_ list is a \n",
    "string (\"corvids\").   \n",
    "\n",
    "```{figure} img/nested-list.png\n",
    ":height: 300px\n",
    ":name: nested\n",
    "\n",
    "List elements can be references to other lists, as well as other\n",
    "kinds of object, as illustrated by this representation of \n",
    "`[[\"corvids\", [\"crow\", \"raven\"]], [\"primates\", [\"lemur\", \"human\"]]]`\n",
    "```\n",
    "\n",
    "\n",
    "### Dictionaries\n",
    "\n",
    "A _dictionary_ collection (type `dict`) is like a table with a column \n",
    "with two \n",
    "columns. We could construct a `dict` like the kind of dictionary in \n",
    "which we look up word definitions:"
   ]
  },
  {
   "cell_type": "code",
   "execution_count": 4,
   "id": "b3e70492",
   "metadata": {},
   "outputs": [
    {
     "name": "stdout",
     "output_type": "stream",
     "text": [
      "{'mouse': 'A small rodent', 'rat': 'A somewhat larger rodent', 'bat': 'A flying rodent', 42: 'The answer to life, the universe, and everything'}\n"
     ]
    }
   ],
   "source": [
    "d = { \n",
    "  \"mouse\" : \"A small rodent\", \n",
    "  \"rat\" : \"A somewhat larger rodent\", \n",
    "  \"bat\" : \"A flying rodent\",\n",
    "  42 : \"The answer to life, the universe, and everything\"\n",
    "  }\n",
    "print(d)"
   ]
  },
  {
   "cell_type": "markdown",
   "id": "b6860295",
   "metadata": {},
   "source": [
    "What happens if you modify the code above to add another \n",
    "definition for \"mouse\", perhaps \"A computer input device\", without \n",
    "removing the first definition?  What does this tell you about the \n",
    "`dict` type in Python?   (Try it in IDLE or by editing the code cell \n",
    "above.)\n",
    "\n",
    "## Binding\n",
    "\n",
    "As a Python program runs, the _execution state_ is modified. \n",
    "An important component of the execution state is a set of _bindings_,\n",
    "which are associations of names with objects that contain values. \n",
    "We can _bind_ a name with _assignment_, which we write `=`."
   ]
  },
  {
   "cell_type": "code",
   "execution_count": 5,
   "id": "e377db53",
   "metadata": {},
   "outputs": [],
   "source": [
    "x = 23"
   ]
  },
  {
   "cell_type": "markdown",
   "id": "fa8326d4",
   "metadata": {},
   "source": [
    "```{figure} img/bind_x_23.*\n",
    "\n",
    "The name _x_ is bound to a value, which is a reference to\n",
    "an object containing the integer 23.  \n",
    "```\n",
    "\n",
    "It is tempting to pronounce this \"x equals 23\", because it looks \n",
    "like a mathematical equation.  We suggest pronouncing it \"x gets \n",
    "23\", because it is really a command that binds \n",
    "a reference to an object representing the integer \n",
    "to the name \"x\".  \n",
    "\n",
    "One way to see how different this is from the \n",
    "\"equals\" we know from math is to try turning it around --- what \n",
    "happens if you write `23 = x` instead of `x = 23`?   Try it in IDLE or,\n",
    "if you are reading this in a executable format, try modifying the code\n",
    "cell above. \n",
    "\n",
    "We call `x` a _variable_ because it can be bound to different values \n",
    "at different times as the program executes.  If we have an \n",
    "assignment like `x = y + 2`, the right-hand side of the assignment \n",
    "(`y + 2`) is evaluated first, using the current binding of `y`, and \n",
    "then the result is bound to `x`.  We can even use a current binding of \n",
    "a variable to compute a new binding for the same variable:"
   ]
  },
  {
   "cell_type": "code",
   "execution_count": 6,
   "id": "a5631a14",
   "metadata": {},
   "outputs": [
    {
     "name": "stdout",
     "output_type": "stream",
     "text": [
      "7\n",
      "9\n"
     ]
    }
   ],
   "source": [
    "x = 7\n",
    "print(x)\n",
    "x = x + 2\n",
    "print(x)"
   ]
  },
  {
   "cell_type": "markdown",
   "id": "cf33f773",
   "metadata": {},
   "source": [
    "## Objects and Values\n",
    "\n",
    "When we say that a variable like `x` has a value like `9`, we really \n",
    "mean that `x` is bound to an object, and the object contains the \n",
    "`int` value `9`.  It is easier to ignore that detail and\n",
    "just say that \n",
    "`x` \"has the value\" \n",
    "`9`.  Often that is just fine.\n",
    "\n",
    "The distinction between binding to a value and binding to an object \n",
    "containing a value matters when we are dealing with composite \n",
    "_collection_ objects like lists and dictionaries.  It is possible \n",
    "for two different names to be bound to the same collection object.  \n",
    "Moreover, the value of a collection object can be modified.  For \n",
    "example, when we add an element to a list with `append`, we do not \n",
    "get a new, longer list object.  Rather, we _mutate_ (that is, change)\n",
    "the value in the existing list object.  \n",
    "\n",
    "Consider the following."
   ]
  },
  {
   "cell_type": "code",
   "execution_count": 7,
   "id": "bb619f5f",
   "metadata": {},
   "outputs": [
    {
     "name": "stdout",
     "output_type": "stream",
     "text": [
      "['one', 'two', 'three']\n",
      "['one', 'two', 'three', 'four']\n",
      "['one', 'two', 'three', 'four']\n"
     ]
    }
   ],
   "source": [
    "a = [\"one\", \"two\", \"three\"]\n",
    "b = [\"one\", \"two\", \"three\"]\n",
    "c = b\n",
    "c.append(\"four\")\n",
    "print(a)\n",
    "print(b)\n",
    "print(c)"
   ]
  },
  {
   "cell_type": "markdown",
   "id": "7ac08b1c",
   "metadata": {},
   "source": [
    "Can you explain what happens when we execute the Python code above?  \n",
    "It helps to have a mental picture of the objects bound to the \n",
    "variables `a`, `b`, and `c`: \n",
    "\n",
    "```{figure} img/bind_alias_before.png\n",
    "\n",
    "Variables _b_ and _c_ are bound to the same `list` object. \n",
    "Variable _a_ is bound to a different object, although it\n",
    "contains the same `str` elements.   We say _b_ and _c_\n",
    "are _aliases_.   \n",
    "```\n",
    "\n",
    "When we executed `c.append(\"four\")`, we change the value of the \n",
    "object that both variable `c` and variable `b` are bound to: \n",
    "\n",
    "```{figure} img/bind_alias_before.png\n",
    "\n",
    "Variables _b_ and _c_ are bound to the same `list` object. \n",
    "Variable _a_ is bound to a different object, although it\n",
    "contains the same `str` elements.   We say _b_ and _c_\n",
    "are _aliases_.   \n",
    "```\n",
    "\n",
    "You may be tempted to skip over this part of the notional computer \n",
    "state without fully understanding it.  Don't!  Although it seems \n",
    "confusing at first, it is the key to making sense of much that \n",
    "follows.  You must understand that two variables can be bound to the \n",
    "same object, so that changing (_mutating_) the value of that object \n",
    "changes the value associated with both variables.  We will see that \n",
    "this is actually a powerful tool we can use when we write new \n",
    "_functions_. \n",
    "\n",
    "## Scopes and Functions\n",
    "\n",
    "So far we have considered a single _name space_ in which the name of \n",
    "a variable can be bound to an object containing a value.  If we had \n",
    "only a single name space, it would be very difficult to write large \n",
    "and complex programs.  Such a program might have thousands of \n",
    "variables, which would force us to give them names like\n",
    "`angle_x_btwn_fuselage_and_main_fin`.  Programming would be \n",
    "unpleasant, and reading programs written by others would be even \n",
    "more unpleasant. \n",
    "\n",
    "Python makes it easier for us to use short but meaningful names by \n",
    "allowing us to have more than one set of bindings, called _scopes_. \n",
    "The same variable name can have different bindings in different scopes.\n",
    "\n",
    "In particular, execution of a function creates a scope for variables \n",
    "that are bound within the function.  In addition to the built-in \n",
    "functions like `max` and `len`, we can write our own functions.  We \n",
    "call our own functions just like we call the built-in functions."
   ]
  },
  {
   "cell_type": "code",
   "execution_count": 8,
   "id": "5df1d4fc",
   "metadata": {},
   "outputs": [
    {
     "name": "stdout",
     "output_type": "stream",
     "text": [
      "14\n"
     ]
    }
   ],
   "source": [
    "def middle(x: int, y: int) -> int: \n",
    "  \"\"\"Returns the an integer roughly midway between x and y\"\"\"\n",
    "  result = (x + y) // 2\n",
    "  return result\n",
    "  \n",
    "a = middle(12, 16)\n",
    "print(a)"
   ]
  },
  {
   "cell_type": "markdown",
   "id": "37195fa6",
   "metadata": {},
   "source": [
    "In the code cell above, integers `12` and `16` are passed as \n",
    "_arguments_ to function `middle`.  Objects containing these `int` \n",
    "values are bound to variables `x` and `y` in a _scope_ (separate \n",
    "name space) when `middle` begins execution.  This _scope_ is \n",
    "discarded when function `middle` finishes execution by returning the \n",
    "result value. \n",
    "\n",
    "Note the syntax of a Python function.  The body of the function is \n",
    "indented.  The _head_ of the function indicates the _formal \n",
    "arguments_ (`x` and `y` in this case) and their types, as well as \n",
    "the type of result the function will return.  The number and types \n",
    "of the formal arguments and the type of the result are called the \n",
    "_signature_ of the function.  You can think of them as a (part of) a \n",
    "contract between the function and code that calls the function. The \n",
    "rest of the contract is given by the _docstring comment_ immediately \n",
    "after the head.  In addition to being visible in your Python source \n",
    "code, the docstring comment is available through the `help` function:"
   ]
  },
  {
   "cell_type": "code",
   "execution_count": 9,
   "id": "b8ffac3a",
   "metadata": {},
   "outputs": [
    {
     "name": "stdout",
     "output_type": "stream",
     "text": [
      "Help on function middle in module __main__:\n",
      "\n",
      "middle(x: int, y: int) -> int\n",
      "    Returns the an integer roughly midway between x and y\n",
      "\n"
     ]
    }
   ],
   "source": [
    "help(middle)"
   ]
  },
  {
   "cell_type": "markdown",
   "id": "ef2a5f1d",
   "metadata": {},
   "source": [
    "You can think of scopes as being stacked one atop another.  When we \n",
    "begin executing a function, a new scope is stacked atop the others.\n",
    "When it finishes, that scope is removed from the stack, uncovering\n",
    "the scope that was previously on top."
   ]
  },
  {
   "cell_type": "code",
   "execution_count": 10,
   "id": "4a160de9",
   "metadata": {},
   "outputs": [
    {
     "name": "stdout",
     "output_type": "stream",
     "text": [
      "x is bound to 23 within example\n",
      "y is bound to 77 within example\n",
      "m is bound to 23 within example\n",
      "After example, x is bound to 23\n",
      "After example, y is bound to 42\n",
      "After example, m is bound to 19\n"
     ]
    }
   ],
   "source": [
    "# Global scope\n",
    "x = 23\n",
    "y = 42\n",
    "m = 19\n",
    "\n",
    "def example(m: int):\n",
    "    \"\"\"Example to illustrate scope\"\"\"\n",
    "    y = 77\n",
    "    print(f\"x is bound to {x} within example\")\n",
    "    print(f\"y is bound to {y} within example\")\n",
    "    print(f\"m is bound to {m} within example\")\n",
    "\n",
    "# Executing \"example\" creates the new scope\n",
    "example(x)\n",
    "# When \"example\" finishes, the new scope is deleted\n",
    "\n",
    "print(f\"After example, x is bound to {x}\")\n",
    "print(f\"After example, y is bound to {y}\")\n",
    "print(f\"After example, m is bound to {m}\")"
   ]
  },
  {
   "cell_type": "markdown",
   "id": "4d31b67b",
   "metadata": {},
   "source": [
    "During execution of `example(x)`, the scopes created by the example \n",
    "above look like this: \n",
    "\n",
    "![Scopes during execution of `example(x)`](../02-Functions/img/bind_stack.png)\n",
    "\n",
    "There are several things to notice: \n",
    "\n",
    "- Although there are two name spaces (scopes) in the example, there \n",
    "  is only one object space.  \n",
    "- When we call `example(x)`, the value \n",
    "  bound to `x` in the global scope is bound to `m` in the scope of \n",
    "  `example(x)`.  We say that the \"actual argument\" `x` is bound to \n",
    "  the \"formal argument\" `m` in `example(m: int)`.  This is always \n",
    "  how values are passed to functions in Python. \n",
    "- The same value, an `int` object containing the integer 23, is \n",
    "  bound to more than one name.  This is called _aliasing_.\n",
    "\n",
    "\n",
    "Aliasing of the same int object to the name `m` in the \n",
    "execution of `example`, and to `x` in the global namespace, is \n",
    "hardly noticeable.  We might compute some new value by adding the \n",
    "values of 23 and 42, but that would be an entirely new `int` object. \n",
    "We would not be changing the int object `23` mean something else \n",
    "(thank goodness).  We call `int` objects _immutable_ because they \n",
    "can never change value. \n",
    "\n",
    "You can watch the example in action with\n",
    "[Python Tutor](https://pythontutor.com/render.html#code=%23%20Global%20scope%0Ax%20%3D%2023%0Ay%20%3D%2042%0Am%20%3D%2019%0A%0Adef%20example%28m%3A%20int%29%3A%0A%20%20%20%20y%20%3D%2077%0A%20%20%20%20print%28f%22x%20is%20bound%20to%20%7Bx%7D%20within%20example%22%29%0A%20%20%20%20print%28f%22y%20is%20bound%20to%20%7By%7D%20within%20example%22%29%0A%20%20%20%20print%28f%22m%20is%20bound%20to%20%7Bm%7D%20within%20example%22%29%0A%0A%23%20Executing%20%22example%22%20creates%20the%20new%20scope%0Aexample%28x%29%0A%23%20When%20%22example%22%20finishes,%20the%20new%20scope%20is%20deleted%0A%0Aprint%28f%22After%20example,%20x%20is%20bound%20to%20%7Bx%7D%22%29%0Aprint%28f%22After%20example,%20y%20is%20bound%20to%20%7By%7D%22%29%0Aprint%28f%22After%20example,%20m%20is%20bound%20to%20%7Bm%7D%22%29&cumulative=false&curInstr=7&heapPrimitives=nevernest&mode=display&origin=opt-frontend.js&py=3&rawInputLstJSON=%5B%5D&textReferences=false).\n",
    "It should look very similar to our illustration above, except Python \n",
    "Tutor will not draw the `int` objects in the object space.  They \n",
    "really are objects, but Python Tutor draws the integer values \n",
    "without the objects that hold them to reduce clutter. \n",
    "\n",
    "## Control Flow:  Loops and Decisions\n",
    "\n",
    "The operations we have performed so far have been very simple.  We \n",
    "can build up more complex operations by writing and calling \n",
    "functions, and in fact this is a fundamental tool in composing \n",
    "programs.  We need one more kind of \"glue\" for constructing more \n",
    "complex programs from simple parts:  Control flow. \n",
    "\n",
    "We have already written sequences of commands (statements).  We did \n",
    "not say explicitly that they are executed in order, one after the \n",
    "other, but you likely inferred that even if you were not previously \n",
    "familiar with a sequential, imperative programming language like \n",
    "Python.  (There are other kinds of languages, but _imperative_ \n",
    "languages that modify an execution _state_ through a sequence of \n",
    "commands are most common.)  \n",
    "\n",
    "### Decisions: The \"if\" statement\n",
    "\n",
    "Python provides an `if` \n",
    "construct for choosing between possible actions.  We'll illustrate \n",
    "it with a very simple example:"
   ]
  },
  {
   "cell_type": "code",
   "execution_count": 11,
   "id": "17ad27ca",
   "metadata": {},
   "outputs": [
    {
     "name": "stdout",
     "output_type": "stream",
     "text": [
      "30\n"
     ]
    }
   ],
   "source": [
    "x = 17\n",
    "y = 30\n",
    "if x > y: \n",
    "    x_y_max = x\n",
    "else: \n",
    "    x_y_max = y\n",
    "print(x_y_max)"
   ]
  },
  {
   "cell_type": "markdown",
   "id": "653c6f5e",
   "metadata": {},
   "source": [
    "We can _nest_ `if` statements within other `if` statements:"
   ]
  },
  {
   "cell_type": "code",
   "execution_count": 12,
   "id": "d1f3ae22",
   "metadata": {},
   "outputs": [
    {
     "name": "stdout",
     "output_type": "stream",
     "text": [
      "30\n"
     ]
    }
   ],
   "source": [
    "x = 17\n",
    "y = 30\n",
    "z = 15\n",
    "if x > y: \n",
    "    if x > z:\n",
    "      biggest = x\n",
    "    else:\n",
    "      biggest = z\n",
    "else:\n",
    "    if y > z:\n",
    "      biggest = y\n",
    "    else: \n",
    "      biggest = z\n",
    "print(biggest)"
   ]
  },
  {
   "cell_type": "markdown",
   "id": "eef4113b",
   "metadata": {},
   "source": [
    "Sometimes we can write simpler, clearer code by using `elif` instead of \n",
    "nesting `if` statements.  Combining comparisons with `and` and `or` \n",
    "can also help."
   ]
  },
  {
   "cell_type": "code",
   "execution_count": 13,
   "id": "4ef7ad0c",
   "metadata": {},
   "outputs": [
    {
     "name": "stdout",
     "output_type": "stream",
     "text": [
      "30\n"
     ]
    }
   ],
   "source": [
    "x = 17\n",
    "y = 30\n",
    "z = 15\n",
    "if x > y and x > z:\n",
    "  biggest = x\n",
    "elif y > x and y > z:\n",
    "  biggest = y\n",
    "else:\n",
    "  biggest = z\n",
    "print(biggest)"
   ]
  },
  {
   "cell_type": "markdown",
   "id": "135acbb3",
   "metadata": {},
   "source": [
    "```{note}\n",
    "We have chosen an over-simplified example to illustrate `if` and \n",
    "`elif`.  An even better way to find the largest of three values \n",
    "would be to use Python's built-in `max` function.\n",
    "```\n",
    "\n",
    "### Repetition (looping): `for` \n",
    "\n",
    "Often we need to repeat the same action with different values.  Most \n",
    "commonly we will want to perform an action with each element of a \n",
    "collection (e.g., a `list` or `dict` object).  Python lets us do \n",
    "this with a _for loop_, like this:"
   ]
  },
  {
   "cell_type": "code",
   "execution_count": 14,
   "id": "f6356cb5",
   "metadata": {},
   "outputs": [
    {
     "name": "stdout",
     "output_type": "stream",
     "text": [
      "elephant\n",
      "tapir\n",
      "manatee\n"
     ]
    }
   ],
   "source": [
    "animals = [\"elephant\", \"tapir\", \"manatee\"]\n",
    "for pet in animals:\n",
    "    print(pet)"
   ]
  },
  {
   "cell_type": "markdown",
   "id": "fdad5c3e",
   "metadata": {},
   "source": [
    "Typically, when we _loop through_ a collection of objects, we \n",
    "accumulate some information about the collection as a whole. Suppose,\n",
    "for example, we wanted to determine the number of characters \n",
    "(letters) in all the animal names together.  We would _initialize_ a \n",
    "total just before the loop, then _accumulate_ values within the loop."
   ]
  },
  {
   "cell_type": "code",
   "execution_count": 15,
   "id": "78d8a9be",
   "metadata": {},
   "outputs": [
    {
     "name": "stdout",
     "output_type": "stream",
     "text": [
      "20\n"
     ]
    }
   ],
   "source": [
    "animals = [\"elephant\", \"tapir\", \"manatee\"]\n",
    "total_length = 0\n",
    "for pet in animals:\n",
    "    total_length = total_length + len(pet)\n",
    "print(total_length)"
   ]
  },
  {
   "cell_type": "markdown",
   "id": "7f658dca",
   "metadata": {},
   "source": [
    "This is such a common _pattern_ that it has a name, the _accumulator \n",
    "pattern_.  \n",
    "\n",
    "We will see many variations on `for` loops and on the accumulator \n",
    "pattern in projects.  There are other kinds of loops in Python (e.g.,\n",
    "a `while` loop repeats as long as some condition is true), but `for` \n",
    "loops are most common."
   ]
  }
 ],
 "metadata": {
  "jupytext": {
   "formats": "md:myst",
   "text_representation": {
    "extension": ".myst",
    "format_name": "myst",
    "format_version": 1.1,
    "jupytext_version": "1.10.3"
   }
  },
  "kernelspec": {
   "display_name": "Python 3",
   "language": "python",
   "name": "python3"
  },
  "language_info": {
   "codemirror_mode": {
    "name": "ipython",
    "version": 3
   },
   "file_extension": ".py",
   "mimetype": "text/x-python",
   "name": "python",
   "nbconvert_exporter": "python",
   "pygments_lexer": "ipython3",
   "version": "3.10.2"
  },
  "source_map": [
   13,
   104,
   106,
   118,
   120,
   138,
   140,
   190,
   198,
   213,
   215,
   242,
   247,
   269,
   277,
   331,
   339,
   359,
   361,
   369,
   389,
   446,
   454,
   458,
   473,
   479,
   490,
   505,
   509,
   517,
   523
  ]
 },
 "nbformat": 4,
 "nbformat_minor": 5
}