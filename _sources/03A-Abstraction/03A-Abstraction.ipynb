{
 "cells": [
  {
   "cell_type": "markdown",
   "id": "c0557378",
   "metadata": {},
   "source": [
    "# Interlude: Conquering Harder Problems with Abstraction\n",
    "\n",
    "by [Audra McNamee](https://audmcname.com/) with Michal Young   \n",
    "[PDF version](img/CS_abstraction_climbing.pdf)\n",
    "\n",
    "![Page 1](img/CS_abstraction_climbing_Output_001.jpg)  \n",
    "\n",
    "![Page 2](img/CS_abstraction_climbing_Output_002.jpg)"
   ]
  }
 ],
 "metadata": {
  "jupytext": {
   "formats": "md:myst",
   "text_representation": {
    "extension": ".myst",
    "format_name": "myst",
    "format_version": 1.1,
    "jupytext_version": "1.10.3"
   }
  },
  "kernelspec": {
   "display_name": "Python 3",
   "language": "python",
   "name": "python3"
  },
  "language_info": {
   "codemirror_mode": {
    "name": "ipython",
    "version": 3
   },
   "file_extension": ".py",
   "mimetype": "text/x-python",
   "name": "python",
   "nbconvert_exporter": "python",
   "pygments_lexer": "ipython3",
   "version": "3.13.1"
  },
  "source_map": [
   13
  ]
 },
 "nbformat": 4,
 "nbformat_minor": 5
}